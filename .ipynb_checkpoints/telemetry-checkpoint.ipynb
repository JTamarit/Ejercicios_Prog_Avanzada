{
 "cells": [
  {
   "cell_type": "markdown",
   "id": "bcf2a791",
   "metadata": {},
   "source": [
    "### TELEMETRY TANQUES"
   ]
  },
  {
   "cell_type": "code",
   "execution_count": 1,
   "id": "a9438658",
   "metadata": {},
   "outputs": [
    {
     "ename": "ModuleNotFoundError",
     "evalue": "No module named 'seaborn'",
     "output_type": "error",
     "traceback": [
      "\u001b[0;31m---------------------------------------------------------------------------\u001b[0m",
      "\u001b[0;31mModuleNotFoundError\u001b[0m                       Traceback (most recent call last)",
      "\u001b[0;32m/var/folders/y1/63c7ffj57lx6213h_4nj_v200000gn/T/ipykernel_23960/3156175533.py\u001b[0m in \u001b[0;36m<module>\u001b[0;34m\u001b[0m\n\u001b[1;32m      7\u001b[0m \u001b[0;32mimport\u001b[0m \u001b[0mmatplotlib\u001b[0m\u001b[0;34m.\u001b[0m\u001b[0mcolors\u001b[0m\u001b[0;34m\u001b[0m\u001b[0;34m\u001b[0m\u001b[0m\n\u001b[1;32m      8\u001b[0m \u001b[0;32mfrom\u001b[0m \u001b[0mmatplotlib\u001b[0m\u001b[0;34m.\u001b[0m\u001b[0mcolors\u001b[0m \u001b[0;32mimport\u001b[0m \u001b[0mLinearSegmentedColormap\u001b[0m\u001b[0;34m\u001b[0m\u001b[0;34m\u001b[0m\u001b[0m\n\u001b[0;32m----> 9\u001b[0;31m \u001b[0;32mimport\u001b[0m \u001b[0mseaborn\u001b[0m \u001b[0;32mas\u001b[0m \u001b[0msns\u001b[0m\u001b[0;34m\u001b[0m\u001b[0;34m\u001b[0m\u001b[0m\n\u001b[0m",
      "\u001b[0;31mModuleNotFoundError\u001b[0m: No module named 'seaborn'"
     ]
    }
   ],
   "source": [
    "import os\n",
    "import numpy as np\n",
    "import pandas as pd\n",
    "from datetime import datetime, timedelta\n",
    "import time\n",
    "import matplotlib.pyplot as plt\n",
    "import matplotlib.colors\n",
    "from matplotlib.colors import LinearSegmentedColormap\n",
    "import seaborn as sns"
   ]
  },
  {
   "cell_type": "code",
   "execution_count": 2,
   "id": "4c26b7d3",
   "metadata": {},
   "outputs": [],
   "source": [
    "# Cargamos el exel en un dataframe:\n",
    "\n",
    "df=pd.read_excel(os.path.join('Telemetry.xlsx'))"
   ]
  },
  {
   "cell_type": "code",
   "execution_count": 3,
   "id": "83490755",
   "metadata": {},
   "outputs": [],
   "source": [
    "# Obtenemos información de las etiquetas de las columnas:\n",
    "\n",
    "info_column=df.columns.str.split('_')\n",
    "\n",
    "# Obtenemos el nombre de la primera columna:\n",
    "\n",
    "column1_name=\"\".join(info_column[0])\n",
    "\n",
    "# Obtenemos el modelo del tanque, a partir de la etiqueta de la segunda columna:\n",
    "\n",
    "tank_model=info_column[1][1]\n",
    "\n",
    "#Obtenemos los digitos del tamaño:\n",
    "\n",
    "tank_size=[tank_model[data] for data in range(len(tank_model)) if tank_model[data].isdigit()]\n",
    "tank_size=\"\".join(tank_size)\n",
    "if len(tank_size) <= 2:\n",
    "    tank_size = int(tank_size*1000)\n",
    "\n",
    "#Obtenemos el tipo de gas a partir de la etiqueta de la segunda columna:\n",
    "\n",
    "gas_name=info_column[1][2]\n",
    "\n",
    "# Obtenemos número de tanque de servicios técnicos:\n",
    "\n",
    "tank_SSTT=info_column[1][3]\n",
    "num_tank_SSTT=[tank_SSTT[data] for data in range(len(tank_SSTT)) if tank_SSTT[data].isdigit()]\n",
    "num_tank_SSTT=\"\".join(num_tank_SSTT)"
   ]
  },
  {
   "cell_type": "code",
   "execution_count": 4,
   "id": "c77bfe47",
   "metadata": {},
   "outputs": [
    {
     "name": "stdout",
     "output_type": "stream",
     "text": [
      "Timestamp 19000 LN2 2826 Index([                                                                                ['Timestamp'],\n",
      "           ['[2574R', 'VRV19000E*', 'LN2', '2826] Tanque - Transmisor de Nivel - Nivel - Contenido'],\n",
      "       ['[2574R', 'VRV19000E*', 'LN2', '2826] Tanque - Transmisor de presión - Presión - Contenido']],\n",
      "      dtype='object')\n"
     ]
    }
   ],
   "source": [
    "print(column1_name,tank_size,gas_name, num_tank_SSTT, info_column)"
   ]
  },
  {
   "cell_type": "code",
   "execution_count": 5,
   "id": "3912056c",
   "metadata": {},
   "outputs": [],
   "source": [
    "# Cambiamos el nombre de las columnas:\n",
    "\n",
    "df.columns=['Timestamp','Nivel (%)','Presion (bar)']"
   ]
  },
  {
   "cell_type": "code",
   "execution_count": 6,
   "id": "f4d6d236",
   "metadata": {},
   "outputs": [],
   "source": [
    "# Separamos el timestamp en fecha y hora:\n",
    "\n",
    "df['Date'] = [d.date() for d in df['Timestamp']]\n",
    "df['Time'] = [d.time() for d in df['Timestamp']]"
   ]
  },
  {
   "cell_type": "code",
   "execution_count": 7,
   "id": "9b4656c7",
   "metadata": {},
   "outputs": [],
   "source": [
    "# Reordeamos columnas:\n",
    "df = df.reindex(columns=['Timestamp','Date','Time','Nivel (%)','Presion (bar)'])\n",
    "\n",
    "# Ordenamos los datos de forma ascendente por fecha y hora:\n",
    "df=df.sort_values(by=['Date','Time'])\n",
    "df=df.reset_index(drop=True)"
   ]
  },
  {
   "cell_type": "code",
   "execution_count": 8,
   "id": "46dd23af",
   "metadata": {},
   "outputs": [],
   "source": [
    "#Eliminamos valores NaN en la columna 'Presion':\n",
    "df = df[df['Presion (bar)'].notna()]\n"
   ]
  },
  {
   "cell_type": "code",
   "execution_count": 9,
   "id": "346d0882",
   "metadata": {},
   "outputs": [],
   "source": [
    "# Cambiamos el formato de la fecha para extraer por año, mes, dia y dia de la semana:\n",
    "df['Date'] = pd.to_datetime(df['Date'])\n",
    "\n",
    "df['Year'] = df['Date'].dt.strftime('%Y')\n",
    "df['Month'] = df['Date'].dt.strftime('%m')\n",
    "df['Day'] = df['Date'].dt.strftime('%d')\n",
    "df['Day_of_Week'] = df['Date'].dt.day_name()\n",
    "df['Month_Name'] = df['Date'].dt.month_name()\n"
   ]
  },
  {
   "cell_type": "code",
   "execution_count": 10,
   "id": "42f13a87",
   "metadata": {},
   "outputs": [],
   "source": [
    "df['Date'] = df['Date'].dt.strftime('%d-%m-%Y')"
   ]
  },
  {
   "cell_type": "code",
   "execution_count": 11,
   "id": "c563b0e4",
   "metadata": {},
   "outputs": [],
   "source": [
    "def season_selector(date):\n",
    "    # Obtenemos la estación de año a partir de la fecha.\n",
    "    season=['Winter','April','Summer','Autum']\n",
    "    date=datetime.now()\n",
    "    day=int(date.strftime(\"%d\"))\n",
    "    month=int(date.strftime(\"%m\"))\n",
    "    if (month >= 1 and month < 3) or (month == 12 and day >= 21) or (month == 3 and day < 21) :\n",
    "        return season[0]\n",
    "    if (month > 3 and month < 6) or (month == 6 and day < 21) or (month == 3 and day < 21):\n",
    "        return season[1]\n",
    "    if (month > 6 and month < 9) or (month == 6 and day >= 21) or (month == 9 and day < 21):\n",
    "        return season[2]\n",
    "    if (month > 9 and month < 12) or (month == 9 and day >= 21) or (month == 12 and day < 21):\n",
    "        return season[3]\n",
    "\n",
    "df['Season'] = df['Date'].apply(season_selector)"
   ]
  },
  {
   "cell_type": "code",
   "execution_count": 12,
   "id": "2cf98c35",
   "metadata": {},
   "outputs": [],
   "source": [
    "#Eliminamos valor 0 de la columna Nivel:\n",
    "df=df.drop(df.loc[df['Nivel (%)']== 0].index)"
   ]
  },
  {
   "cell_type": "code",
   "execution_count": 13,
   "id": "c1081937",
   "metadata": {},
   "outputs": [],
   "source": [
    "# Creamos un columna en el Dataframe llamada Estado:\n",
    "\n",
    "def inicio(nivel):\n",
    "    \n",
    "    num_valores=int(len(df['Nivel (%)']))\n",
    "    \n",
    "    if nivel == df['Nivel (%)'].iloc[0]:\n",
    "        return \"Inicio\"\n",
    "    if nivel == df['Nivel (%)'].iloc[(num_valores-1)]:\n",
    "        return \"Fin\"\n",
    "df['Estado']=df['Nivel (%)'].apply(inicio)"
   ]
  },
  {
   "cell_type": "code",
   "execution_count": 14,
   "id": "564abd55",
   "metadata": {},
   "outputs": [],
   "source": [
    "#Creamos lista con todos los niveles:\n",
    "niveles=[nivel for nivel in df['Nivel (%)']]"
   ]
  },
  {
   "cell_type": "code",
   "execution_count": 15,
   "id": "d6eb654d",
   "metadata": {},
   "outputs": [],
   "source": [
    "def descarga_consumo():\n",
    "    #Creamos una función que nos indica si el valor de nivel corresponde a un estado \n",
    "    #de consumo o llenado de la cisterna:\n",
    "\n",
    "    operacion=['inicio']\n",
    "    n=1\n",
    "    while n <(len(niveles)-1):\n",
    "        if niveles[n] > niveles[n+1] and niveles[n]< niveles[n-1]:\n",
    "            operacion.append(\"Consumo\")\n",
    "    \n",
    "        elif niveles[n] < niveles[n+1] and niveles[n]> niveles[n-1]:\n",
    "            operacion.append(\"Descarga\")\n",
    "        \n",
    "        elif niveles[n] < niveles[n+1] and niveles[n]< niveles[n-1]:\n",
    "            if (niveles[n+1]-niveles[n])>0.3 and (niveles[n-1]-niveles[n])>0.3:\n",
    "                operacion.append(\"Empieza Descarga\")\n",
    "            else:\n",
    "                operacion.append(\"Consumo\")\n",
    "                \n",
    "        \n",
    "        elif niveles[n] > niveles[n+1] and niveles[n]> niveles[n-1]:\n",
    "            if (niveles[n]-niveles[n+1])>0.3 and (niveles[n]-niveles[n-1])>0.3:\n",
    "                operacion.append(\"Termina Descarga\")\n",
    "            else:\n",
    "                operacion.append(\"Consumo\")\n",
    "        \n",
    "        elif niveles[n] == niveles[n+1]:\n",
    "        \n",
    "            operacion.append(\"Sin Consumo\")\n",
    "        \n",
    "        elif niveles[n] == niveles[n-1]:\n",
    "        \n",
    "            operacion.append(\"Sin Consumo\")\n",
    "        n+=1\n",
    "        \n",
    "    return operacion"
   ]
  },
  {
   "cell_type": "code",
   "execution_count": 16,
   "id": "f2b48d70",
   "metadata": {},
   "outputs": [],
   "source": [
    "# Clasificamos estado:\n",
    "\n",
    "estado= descarga_consumo()"
   ]
  },
  {
   "cell_type": "code",
   "execution_count": 17,
   "id": "99ef87f5",
   "metadata": {},
   "outputs": [
    {
     "name": "stderr",
     "output_type": "stream",
     "text": [
      "/Users/javiertamarit/.local/share/virtualenvs/Ejercicios_Prog_Avanzada-OvvKQvod/lib/python3.9/site-packages/pandas/core/indexing.py:1732: SettingWithCopyWarning: \n",
      "A value is trying to be set on a copy of a slice from a DataFrame\n",
      "\n",
      "See the caveats in the documentation: https://pandas.pydata.org/pandas-docs/stable/user_guide/indexing.html#returning-a-view-versus-a-copy\n",
      "  self._setitem_single_block(indexer, value, name)\n"
     ]
    }
   ],
   "source": [
    "# Hacemos una copia del Dataframe y llenamos el campo Estado con su valor:\n",
    "dff=df.copy()\n",
    "mask=dff['Estado']\n",
    "for n in range(len(estado)):\n",
    "    mask.iloc[n]=estado[n]"
   ]
  },
  {
   "cell_type": "code",
   "execution_count": 18,
   "id": "2099d3c4",
   "metadata": {},
   "outputs": [
    {
     "data": {
      "text/html": [
       "<div>\n",
       "<style scoped>\n",
       "    .dataframe tbody tr th:only-of-type {\n",
       "        vertical-align: middle;\n",
       "    }\n",
       "\n",
       "    .dataframe tbody tr th {\n",
       "        vertical-align: top;\n",
       "    }\n",
       "\n",
       "    .dataframe thead th {\n",
       "        text-align: right;\n",
       "    }\n",
       "</style>\n",
       "<table border=\"1\" class=\"dataframe\">\n",
       "  <thead>\n",
       "    <tr style=\"text-align: right;\">\n",
       "      <th></th>\n",
       "      <th>Timestamp</th>\n",
       "      <th>Date</th>\n",
       "      <th>Time</th>\n",
       "      <th>Nivel (%)</th>\n",
       "      <th>Presion (bar)</th>\n",
       "      <th>Year</th>\n",
       "      <th>Month</th>\n",
       "      <th>Day</th>\n",
       "      <th>Day_of_Week</th>\n",
       "      <th>Month_Name</th>\n",
       "      <th>Season</th>\n",
       "      <th>Estado</th>\n",
       "    </tr>\n",
       "  </thead>\n",
       "  <tbody>\n",
       "    <tr>\n",
       "      <th>0</th>\n",
       "      <td>2021-09-17 10:00:00</td>\n",
       "      <td>17-09-2021</td>\n",
       "      <td>10:00:00</td>\n",
       "      <td>39.84</td>\n",
       "      <td>29.13</td>\n",
       "      <td>2021</td>\n",
       "      <td>09</td>\n",
       "      <td>17</td>\n",
       "      <td>Friday</td>\n",
       "      <td>September</td>\n",
       "      <td>Autum</td>\n",
       "      <td>inicio</td>\n",
       "    </tr>\n",
       "    <tr>\n",
       "      <th>1</th>\n",
       "      <td>2021-09-17 11:00:00</td>\n",
       "      <td>17-09-2021</td>\n",
       "      <td>11:00:00</td>\n",
       "      <td>38.41</td>\n",
       "      <td>29.11</td>\n",
       "      <td>2021</td>\n",
       "      <td>09</td>\n",
       "      <td>17</td>\n",
       "      <td>Friday</td>\n",
       "      <td>September</td>\n",
       "      <td>Autum</td>\n",
       "      <td>Consumo</td>\n",
       "    </tr>\n",
       "    <tr>\n",
       "      <th>2</th>\n",
       "      <td>2021-09-17 12:00:00</td>\n",
       "      <td>17-09-2021</td>\n",
       "      <td>12:00:00</td>\n",
       "      <td>37.10</td>\n",
       "      <td>29.17</td>\n",
       "      <td>2021</td>\n",
       "      <td>09</td>\n",
       "      <td>17</td>\n",
       "      <td>Friday</td>\n",
       "      <td>September</td>\n",
       "      <td>Autum</td>\n",
       "      <td>Consumo</td>\n",
       "    </tr>\n",
       "    <tr>\n",
       "      <th>3</th>\n",
       "      <td>2021-09-17 13:00:00</td>\n",
       "      <td>17-09-2021</td>\n",
       "      <td>13:00:00</td>\n",
       "      <td>36.05</td>\n",
       "      <td>29.22</td>\n",
       "      <td>2021</td>\n",
       "      <td>09</td>\n",
       "      <td>17</td>\n",
       "      <td>Friday</td>\n",
       "      <td>September</td>\n",
       "      <td>Autum</td>\n",
       "      <td>Empieza Descarga</td>\n",
       "    </tr>\n",
       "    <tr>\n",
       "      <th>5</th>\n",
       "      <td>2021-09-17 14:00:00</td>\n",
       "      <td>17-09-2021</td>\n",
       "      <td>14:00:00</td>\n",
       "      <td>86.03</td>\n",
       "      <td>28.82</td>\n",
       "      <td>2021</td>\n",
       "      <td>09</td>\n",
       "      <td>17</td>\n",
       "      <td>Friday</td>\n",
       "      <td>September</td>\n",
       "      <td>Autum</td>\n",
       "      <td>Termina Descarga</td>\n",
       "    </tr>\n",
       "    <tr>\n",
       "      <th>...</th>\n",
       "      <td>...</td>\n",
       "      <td>...</td>\n",
       "      <td>...</td>\n",
       "      <td>...</td>\n",
       "      <td>...</td>\n",
       "      <td>...</td>\n",
       "      <td>...</td>\n",
       "      <td>...</td>\n",
       "      <td>...</td>\n",
       "      <td>...</td>\n",
       "      <td>...</td>\n",
       "      <td>...</td>\n",
       "    </tr>\n",
       "    <tr>\n",
       "      <th>766</th>\n",
       "      <td>2021-10-18 05:00:00</td>\n",
       "      <td>18-10-2021</td>\n",
       "      <td>05:00:00</td>\n",
       "      <td>15.89</td>\n",
       "      <td>29.25</td>\n",
       "      <td>2021</td>\n",
       "      <td>10</td>\n",
       "      <td>18</td>\n",
       "      <td>Monday</td>\n",
       "      <td>October</td>\n",
       "      <td>Autum</td>\n",
       "      <td>Consumo</td>\n",
       "    </tr>\n",
       "    <tr>\n",
       "      <th>767</th>\n",
       "      <td>2021-10-18 06:00:00</td>\n",
       "      <td>18-10-2021</td>\n",
       "      <td>06:00:00</td>\n",
       "      <td>14.65</td>\n",
       "      <td>29.21</td>\n",
       "      <td>2021</td>\n",
       "      <td>10</td>\n",
       "      <td>18</td>\n",
       "      <td>Monday</td>\n",
       "      <td>October</td>\n",
       "      <td>Autum</td>\n",
       "      <td>Empieza Descarga</td>\n",
       "    </tr>\n",
       "    <tr>\n",
       "      <th>769</th>\n",
       "      <td>2021-10-18 07:00:00</td>\n",
       "      <td>18-10-2021</td>\n",
       "      <td>07:00:00</td>\n",
       "      <td>51.08</td>\n",
       "      <td>27.56</td>\n",
       "      <td>2021</td>\n",
       "      <td>10</td>\n",
       "      <td>18</td>\n",
       "      <td>Monday</td>\n",
       "      <td>October</td>\n",
       "      <td>Autum</td>\n",
       "      <td>Descarga</td>\n",
       "    </tr>\n",
       "    <tr>\n",
       "      <th>771</th>\n",
       "      <td>2021-10-18 08:00:00</td>\n",
       "      <td>18-10-2021</td>\n",
       "      <td>08:00:00</td>\n",
       "      <td>96.69</td>\n",
       "      <td>22.99</td>\n",
       "      <td>2021</td>\n",
       "      <td>10</td>\n",
       "      <td>18</td>\n",
       "      <td>Monday</td>\n",
       "      <td>October</td>\n",
       "      <td>Autum</td>\n",
       "      <td>Termina Descarga</td>\n",
       "    </tr>\n",
       "    <tr>\n",
       "      <th>772</th>\n",
       "      <td>2021-10-18 09:00:00</td>\n",
       "      <td>18-10-2021</td>\n",
       "      <td>09:00:00</td>\n",
       "      <td>91.05</td>\n",
       "      <td>27.98</td>\n",
       "      <td>2021</td>\n",
       "      <td>10</td>\n",
       "      <td>18</td>\n",
       "      <td>Monday</td>\n",
       "      <td>October</td>\n",
       "      <td>Autum</td>\n",
       "      <td>Fin</td>\n",
       "    </tr>\n",
       "  </tbody>\n",
       "</table>\n",
       "<p>744 rows × 12 columns</p>\n",
       "</div>"
      ],
      "text/plain": [
       "              Timestamp        Date      Time  Nivel (%)  Presion (bar)  Year  \\\n",
       "0   2021-09-17 10:00:00  17-09-2021  10:00:00      39.84          29.13  2021   \n",
       "1   2021-09-17 11:00:00  17-09-2021  11:00:00      38.41          29.11  2021   \n",
       "2   2021-09-17 12:00:00  17-09-2021  12:00:00      37.10          29.17  2021   \n",
       "3   2021-09-17 13:00:00  17-09-2021  13:00:00      36.05          29.22  2021   \n",
       "5   2021-09-17 14:00:00  17-09-2021  14:00:00      86.03          28.82  2021   \n",
       "..                  ...         ...       ...        ...            ...   ...   \n",
       "766 2021-10-18 05:00:00  18-10-2021  05:00:00      15.89          29.25  2021   \n",
       "767 2021-10-18 06:00:00  18-10-2021  06:00:00      14.65          29.21  2021   \n",
       "769 2021-10-18 07:00:00  18-10-2021  07:00:00      51.08          27.56  2021   \n",
       "771 2021-10-18 08:00:00  18-10-2021  08:00:00      96.69          22.99  2021   \n",
       "772 2021-10-18 09:00:00  18-10-2021  09:00:00      91.05          27.98  2021   \n",
       "\n",
       "    Month Day Day_of_Week Month_Name Season            Estado  \n",
       "0      09  17      Friday  September  Autum            inicio  \n",
       "1      09  17      Friday  September  Autum           Consumo  \n",
       "2      09  17      Friday  September  Autum           Consumo  \n",
       "3      09  17      Friday  September  Autum  Empieza Descarga  \n",
       "5      09  17      Friday  September  Autum  Termina Descarga  \n",
       "..    ...  ..         ...        ...    ...               ...  \n",
       "766    10  18      Monday    October  Autum           Consumo  \n",
       "767    10  18      Monday    October  Autum  Empieza Descarga  \n",
       "769    10  18      Monday    October  Autum          Descarga  \n",
       "771    10  18      Monday    October  Autum  Termina Descarga  \n",
       "772    10  18      Monday    October  Autum               Fin  \n",
       "\n",
       "[744 rows x 12 columns]"
      ]
     },
     "metadata": {},
     "output_type": "display_data"
    }
   ],
   "source": [
    "display(dff)"
   ]
  },
  {
   "cell_type": "code",
   "execution_count": 19,
   "id": "6693bc59",
   "metadata": {},
   "outputs": [],
   "source": [
    "#Exportamos el dataframe a excel:\n",
    "dff.to_excel(os.path.join('output.xlsx'))"
   ]
  },
  {
   "cell_type": "code",
   "execution_count": 20,
   "id": "60e3826d",
   "metadata": {},
   "outputs": [],
   "source": [
    "# Cálculo de consumo:\n",
    "\n",
    "total_consumo=[]\n",
    "parcial_consumo=[]\n",
    "\n",
    "for i in range(len(dff)):\n",
    "    \n",
    "    if i==1 and dff.iloc[i,11]=='Consumo':\n",
    "        parcial_consumo.append(dff.iloc[0,0])\n",
    "        parcial_consumo.append(dff.iloc[0,3])\n",
    "        parcial_consumo.append(dff.iloc[0,11])\n",
    "            \n",
    "    if i > 1 and dff.iloc[i,11] == 'Consumo' and dff.iloc[(i-1),11] == 'Termina Descarga':\n",
    "        parcial_consumo.append(dff.iloc[(i-1),0])\n",
    "        parcial_consumo.append(dff.iloc[(i-1),3])\n",
    "        parcial_consumo.append(dff.iloc[(i-1),11])\n",
    "    \n",
    "    if i > 1 and dff.iloc[i,11]=='Empieza Descarga':\n",
    "        parcial_consumo.append(dff.iloc[(i),0])\n",
    "        parcial_consumo.append(dff.iloc[(i),3])\n",
    "        parcial_consumo.append(dff.iloc[(i),11])\n",
    "        total_consumo.append(parcial_consumo)\n",
    "        parcial_consumo =[]\n",
    "            "
   ]
  },
  {
   "cell_type": "code",
   "execution_count": 21,
   "id": "a8f8ab02",
   "metadata": {},
   "outputs": [
    {
     "name": "stdout",
     "output_type": "stream",
     "text": [
      "[Timestamp('2021-09-17 10:00:00'), 39.84, 'inicio', Timestamp('2021-09-17 13:00:00'), 36.05, 'Empieza Descarga']\n",
      "[Timestamp('2021-09-17 14:00:00'), 86.03, 'Termina Descarga', Timestamp('2021-09-20 10:00:00'), 55.7, 'Empieza Descarga']\n",
      "[Timestamp('2021-09-20 11:00:00'), 97.1, 'Termina Descarga', Timestamp('2021-09-22 09:00:00'), 61.59, 'Empieza Descarga']\n",
      "[Timestamp('2021-09-22 11:00:00'), 96.14, 'Termina Descarga', Timestamp('2021-09-24 19:00:00'), 53.81, 'Empieza Descarga']\n",
      "[Timestamp('2021-09-24 21:00:00'), 98.11, 'Termina Descarga', Timestamp('2021-09-28 08:00:00'), 43.53, 'Empieza Descarga']\n",
      "[Timestamp('2021-09-28 09:00:00'), 96.68, 'Termina Descarga', Timestamp('2021-09-30 11:00:00'), 55.54, 'Empieza Descarga']\n",
      "[Timestamp('2021-09-30 12:00:00'), 99.73, 'Termina Descarga', Timestamp('2021-10-02 10:00:00'), 48.45, 'Empieza Descarga']\n",
      "[Timestamp('2021-10-02 11:00:00'), 96.09, 'Termina Descarga', Timestamp('2021-10-04 12:00:00'), 36.46, 'Empieza Descarga']\n",
      "[Timestamp('2021-10-04 13:00:00'), 97.96, 'Termina Descarga', Timestamp('2021-10-06 12:00:00'), 43.83, 'Empieza Descarga']\n",
      "[Timestamp('2021-10-06 13:00:00'), 96.05, 'Termina Descarga', Timestamp('2021-10-15 05:00:00'), 23.19, 'Empieza Descarga']\n",
      "[Timestamp('2021-10-15 07:00:00'), 90.67, 'Termina Descarga', Timestamp('2021-10-18 06:00:00'), 14.65, 'Empieza Descarga']\n"
     ]
    }
   ],
   "source": [
    "for a in total_consumo:\n",
    "    print(a)"
   ]
  },
  {
   "cell_type": "code",
   "execution_count": 22,
   "id": "d7fa9c1f",
   "metadata": {},
   "outputs": [],
   "source": [
    "# Creamos el Dataframe Consumo_df para trabajar con los datos de consumo:\n",
    "consumo_df=pd.DataFrame(total_consumo)\n",
    "consumo_df.columns=['Timestamp_0','Nivel_0','Estado_0','Timestamp_f', 'Nivel_f', 'Estado_f']"
   ]
  },
  {
   "cell_type": "code",
   "execution_count": 23,
   "id": "8f23a2f8",
   "metadata": {},
   "outputs": [],
   "source": [
    "consumo_df['Delta_Time']=consumo_df['Timestamp_f']-consumo_df['Timestamp_0']\n",
    "consumo_df['Consumo m3']=(consumo_df['Nivel_0']-consumo_df['Nivel_f'])*int(tank_size)/100"
   ]
  },
  {
   "cell_type": "code",
   "execution_count": 24,
   "id": "3dcd6ed6",
   "metadata": {},
   "outputs": [
    {
     "data": {
      "text/html": [
       "<div>\n",
       "<style scoped>\n",
       "    .dataframe tbody tr th:only-of-type {\n",
       "        vertical-align: middle;\n",
       "    }\n",
       "\n",
       "    .dataframe tbody tr th {\n",
       "        vertical-align: top;\n",
       "    }\n",
       "\n",
       "    .dataframe thead th {\n",
       "        text-align: right;\n",
       "    }\n",
       "</style>\n",
       "<table border=\"1\" class=\"dataframe\">\n",
       "  <thead>\n",
       "    <tr style=\"text-align: right;\">\n",
       "      <th></th>\n",
       "      <th>Timestamp_0</th>\n",
       "      <th>Nivel_0</th>\n",
       "      <th>Estado_0</th>\n",
       "      <th>Timestamp_f</th>\n",
       "      <th>Nivel_f</th>\n",
       "      <th>Estado_f</th>\n",
       "      <th>Delta_Time</th>\n",
       "      <th>Consumo m3</th>\n",
       "    </tr>\n",
       "  </thead>\n",
       "  <tbody>\n",
       "    <tr>\n",
       "      <th>0</th>\n",
       "      <td>2021-09-17 10:00:00</td>\n",
       "      <td>39.84</td>\n",
       "      <td>inicio</td>\n",
       "      <td>2021-09-17 13:00:00</td>\n",
       "      <td>36.05</td>\n",
       "      <td>Empieza Descarga</td>\n",
       "      <td>0 days 03:00:00</td>\n",
       "      <td>720.1</td>\n",
       "    </tr>\n",
       "    <tr>\n",
       "      <th>1</th>\n",
       "      <td>2021-09-17 14:00:00</td>\n",
       "      <td>86.03</td>\n",
       "      <td>Termina Descarga</td>\n",
       "      <td>2021-09-20 10:00:00</td>\n",
       "      <td>55.70</td>\n",
       "      <td>Empieza Descarga</td>\n",
       "      <td>2 days 20:00:00</td>\n",
       "      <td>5762.7</td>\n",
       "    </tr>\n",
       "    <tr>\n",
       "      <th>2</th>\n",
       "      <td>2021-09-20 11:00:00</td>\n",
       "      <td>97.10</td>\n",
       "      <td>Termina Descarga</td>\n",
       "      <td>2021-09-22 09:00:00</td>\n",
       "      <td>61.59</td>\n",
       "      <td>Empieza Descarga</td>\n",
       "      <td>1 days 22:00:00</td>\n",
       "      <td>6746.9</td>\n",
       "    </tr>\n",
       "    <tr>\n",
       "      <th>3</th>\n",
       "      <td>2021-09-22 11:00:00</td>\n",
       "      <td>96.14</td>\n",
       "      <td>Termina Descarga</td>\n",
       "      <td>2021-09-24 19:00:00</td>\n",
       "      <td>53.81</td>\n",
       "      <td>Empieza Descarga</td>\n",
       "      <td>2 days 08:00:00</td>\n",
       "      <td>8042.7</td>\n",
       "    </tr>\n",
       "    <tr>\n",
       "      <th>4</th>\n",
       "      <td>2021-09-24 21:00:00</td>\n",
       "      <td>98.11</td>\n",
       "      <td>Termina Descarga</td>\n",
       "      <td>2021-09-28 08:00:00</td>\n",
       "      <td>43.53</td>\n",
       "      <td>Empieza Descarga</td>\n",
       "      <td>3 days 11:00:00</td>\n",
       "      <td>10370.2</td>\n",
       "    </tr>\n",
       "    <tr>\n",
       "      <th>5</th>\n",
       "      <td>2021-09-28 09:00:00</td>\n",
       "      <td>96.68</td>\n",
       "      <td>Termina Descarga</td>\n",
       "      <td>2021-09-30 11:00:00</td>\n",
       "      <td>55.54</td>\n",
       "      <td>Empieza Descarga</td>\n",
       "      <td>2 days 02:00:00</td>\n",
       "      <td>7816.6</td>\n",
       "    </tr>\n",
       "    <tr>\n",
       "      <th>6</th>\n",
       "      <td>2021-09-30 12:00:00</td>\n",
       "      <td>99.73</td>\n",
       "      <td>Termina Descarga</td>\n",
       "      <td>2021-10-02 10:00:00</td>\n",
       "      <td>48.45</td>\n",
       "      <td>Empieza Descarga</td>\n",
       "      <td>1 days 22:00:00</td>\n",
       "      <td>9743.2</td>\n",
       "    </tr>\n",
       "    <tr>\n",
       "      <th>7</th>\n",
       "      <td>2021-10-02 11:00:00</td>\n",
       "      <td>96.09</td>\n",
       "      <td>Termina Descarga</td>\n",
       "      <td>2021-10-04 12:00:00</td>\n",
       "      <td>36.46</td>\n",
       "      <td>Empieza Descarga</td>\n",
       "      <td>2 days 01:00:00</td>\n",
       "      <td>11329.7</td>\n",
       "    </tr>\n",
       "    <tr>\n",
       "      <th>8</th>\n",
       "      <td>2021-10-04 13:00:00</td>\n",
       "      <td>97.96</td>\n",
       "      <td>Termina Descarga</td>\n",
       "      <td>2021-10-06 12:00:00</td>\n",
       "      <td>43.83</td>\n",
       "      <td>Empieza Descarga</td>\n",
       "      <td>1 days 23:00:00</td>\n",
       "      <td>10284.7</td>\n",
       "    </tr>\n",
       "    <tr>\n",
       "      <th>9</th>\n",
       "      <td>2021-10-06 13:00:00</td>\n",
       "      <td>96.05</td>\n",
       "      <td>Termina Descarga</td>\n",
       "      <td>2021-10-15 05:00:00</td>\n",
       "      <td>23.19</td>\n",
       "      <td>Empieza Descarga</td>\n",
       "      <td>8 days 16:00:00</td>\n",
       "      <td>13843.4</td>\n",
       "    </tr>\n",
       "    <tr>\n",
       "      <th>10</th>\n",
       "      <td>2021-10-15 07:00:00</td>\n",
       "      <td>90.67</td>\n",
       "      <td>Termina Descarga</td>\n",
       "      <td>2021-10-18 06:00:00</td>\n",
       "      <td>14.65</td>\n",
       "      <td>Empieza Descarga</td>\n",
       "      <td>2 days 23:00:00</td>\n",
       "      <td>14443.8</td>\n",
       "    </tr>\n",
       "  </tbody>\n",
       "</table>\n",
       "</div>"
      ],
      "text/plain": [
       "           Timestamp_0  Nivel_0          Estado_0         Timestamp_f  \\\n",
       "0  2021-09-17 10:00:00    39.84            inicio 2021-09-17 13:00:00   \n",
       "1  2021-09-17 14:00:00    86.03  Termina Descarga 2021-09-20 10:00:00   \n",
       "2  2021-09-20 11:00:00    97.10  Termina Descarga 2021-09-22 09:00:00   \n",
       "3  2021-09-22 11:00:00    96.14  Termina Descarga 2021-09-24 19:00:00   \n",
       "4  2021-09-24 21:00:00    98.11  Termina Descarga 2021-09-28 08:00:00   \n",
       "5  2021-09-28 09:00:00    96.68  Termina Descarga 2021-09-30 11:00:00   \n",
       "6  2021-09-30 12:00:00    99.73  Termina Descarga 2021-10-02 10:00:00   \n",
       "7  2021-10-02 11:00:00    96.09  Termina Descarga 2021-10-04 12:00:00   \n",
       "8  2021-10-04 13:00:00    97.96  Termina Descarga 2021-10-06 12:00:00   \n",
       "9  2021-10-06 13:00:00    96.05  Termina Descarga 2021-10-15 05:00:00   \n",
       "10 2021-10-15 07:00:00    90.67  Termina Descarga 2021-10-18 06:00:00   \n",
       "\n",
       "    Nivel_f          Estado_f      Delta_Time  Consumo m3  \n",
       "0     36.05  Empieza Descarga 0 days 03:00:00       720.1  \n",
       "1     55.70  Empieza Descarga 2 days 20:00:00      5762.7  \n",
       "2     61.59  Empieza Descarga 1 days 22:00:00      6746.9  \n",
       "3     53.81  Empieza Descarga 2 days 08:00:00      8042.7  \n",
       "4     43.53  Empieza Descarga 3 days 11:00:00     10370.2  \n",
       "5     55.54  Empieza Descarga 2 days 02:00:00      7816.6  \n",
       "6     48.45  Empieza Descarga 1 days 22:00:00      9743.2  \n",
       "7     36.46  Empieza Descarga 2 days 01:00:00     11329.7  \n",
       "8     43.83  Empieza Descarga 1 days 23:00:00     10284.7  \n",
       "9     23.19  Empieza Descarga 8 days 16:00:00     13843.4  \n",
       "10    14.65  Empieza Descarga 2 days 23:00:00     14443.8  "
      ]
     },
     "metadata": {},
     "output_type": "display_data"
    }
   ],
   "source": [
    "display(consumo_df)"
   ]
  },
  {
   "cell_type": "code",
   "execution_count": 29,
   "id": "6e88c998",
   "metadata": {},
   "outputs": [],
   "source": [
    "#Crear dataframe para el calculo de la pendiente de consumo:\n",
    "gradient_df=consumo_df.drop(['Timestamp_0','Nivel_0','Estado_0','Timestamp_f','Nivel_f','Estado_f'],axis=1)"
   ]
  },
  {
   "cell_type": "code",
   "execution_count": 30,
   "id": "808a3967",
   "metadata": {},
   "outputs": [],
   "source": [
    "#Transformar Delta_Time a Segundos:\n",
    "gradient_df['Delta_T_Segundos']=gradient_df['Delta_Time'].apply(timedelta.total_seconds)"
   ]
  },
  {
   "cell_type": "code",
   "execution_count": 32,
   "id": "a3ab66b5",
   "metadata": {},
   "outputs": [
    {
     "name": "stdout",
     "output_type": "stream",
     "text": [
      "El consumo total en el periodo ha sido de: 30 days 07:00:00 m3\n"
     ]
    }
   ],
   "source": [
    "#Calculo del periodo de consumo:\n",
    "periodo_total=gradient_df['Delta_Time'].sum()\n",
    "print(f'El consumo total en el periodo ha sido de: {periodo_total} m3')"
   ]
  },
  {
   "cell_type": "code",
   "execution_count": 33,
   "id": "94cdca6f",
   "metadata": {},
   "outputs": [
    {
     "name": "stdout",
     "output_type": "stream",
     "text": [
      "El consumo total en el periodo ha sido de: 99104 m3\n"
     ]
    }
   ],
   "source": [
    "#Consumo total periodo:\n",
    "consumo_total=gradient_df['Consumo m3'].sum()\n",
    "print(f'El consumo total en el periodo ha sido de: {int(consumo_total)} m3')"
   ]
  },
  {
   "cell_type": "code",
   "execution_count": 72,
   "id": "fd6f4909",
   "metadata": {},
   "outputs": [],
   "source": [
    "#Calculo pendiente:\n",
    "\n",
    "gradient_df['Slope']=-gradient_df['Consumo m3']/gradient_df['Delta_T_Segundos']\n"
   ]
  },
  {
   "cell_type": "code",
   "execution_count": 107,
   "id": "bcbd97ed",
   "metadata": {},
   "outputs": [
    {
     "data": {
      "text/plain": [
       "[array([9009.45454545, 9743.2       , 3860.44586735]),\n",
       " array(['03 18:05:27', '03 02:00:00', '03 03:14:29'], dtype='<U11'),\n",
       " array([-0.04616625, -0.04342556,  0.01647325])]"
      ]
     },
     "execution_count": 107,
     "metadata": {},
     "output_type": "execute_result"
    }
   ],
   "source": [
    "#Calculo de estadisticos:\n",
    "\n",
    "def statistics(df):\n",
    "    results=[]\n",
    "    name_columns=list(df.columns)\n",
    "    \n",
    "    for i in range(len(name_columns)):\n",
    "        \n",
    "        if i>0 and name_columns[i]=='Delta_T_Segundos':\n",
    "            \n",
    "            mean=time.strftime('%d %H:%M:%S', time.gmtime(df[name_columns[i]].mean()))\n",
    "            median=time.strftime('%d %H:%M:%S', time.gmtime(df[name_columns[i]].median()))\n",
    "            deviation_std=time.strftime('%d %H:%M:%S', time.gmtime(df[name_columns[i]].std()))\n",
    "            results.append(np.array([mean,median,deviation_std]))\n",
    "            #print(f'{name_columns[i]} ---- mean: {mean}, median: {median}, deviation standar: {deviation_std}')\n",
    "            \n",
    "        \n",
    "        if i>0 and (name_columns[i] != 'Delta_T_Segundos'):\n",
    "            mean=df[name_columns[i]].mean()\n",
    "            median=df[name_columns[i]].median()\n",
    "            deviation_std=df[name_columns[i]].std()\n",
    "            results.append(np.array([mean,median,deviation_std]))\n",
    "            #print(f'{name_columns[i]} ---------- mean: {mean}, median: {median}, deviation standar: {deviation_std}')\n",
    "            \n",
    "    return results\n",
    "    \n",
    "statistics(gradient_df)"
   ]
  },
  {
   "cell_type": "code",
   "execution_count": 108,
   "id": "26a49b72",
   "metadata": {},
   "outputs": [],
   "source": [
    "stats=pd.DataFrame(statistics(gradient_df),index=['Consumo(m3)','Delta_t(dias)','Pendiente'],columns=['Media','Mediana','Desviacion Standar'])"
   ]
  },
  {
   "cell_type": "code",
   "execution_count": 109,
   "id": "e3ad9d5f",
   "metadata": {},
   "outputs": [
    {
     "data": {
      "text/html": [
       "<div>\n",
       "<style scoped>\n",
       "    .dataframe tbody tr th:only-of-type {\n",
       "        vertical-align: middle;\n",
       "    }\n",
       "\n",
       "    .dataframe tbody tr th {\n",
       "        vertical-align: top;\n",
       "    }\n",
       "\n",
       "    .dataframe thead th {\n",
       "        text-align: right;\n",
       "    }\n",
       "</style>\n",
       "<table border=\"1\" class=\"dataframe\">\n",
       "  <thead>\n",
       "    <tr style=\"text-align: right;\">\n",
       "      <th></th>\n",
       "      <th>Media</th>\n",
       "      <th>Mediana</th>\n",
       "      <th>Desviacion Standar</th>\n",
       "    </tr>\n",
       "  </thead>\n",
       "  <tbody>\n",
       "    <tr>\n",
       "      <th>Consumo(m3)</th>\n",
       "      <td>9009.454545</td>\n",
       "      <td>9743.2</td>\n",
       "      <td>3860.445867</td>\n",
       "    </tr>\n",
       "    <tr>\n",
       "      <th>Delta_t(dias)</th>\n",
       "      <td>03 18:05:27</td>\n",
       "      <td>03 02:00:00</td>\n",
       "      <td>03 03:14:29</td>\n",
       "    </tr>\n",
       "    <tr>\n",
       "      <th>Pendiente</th>\n",
       "      <td>-0.046166</td>\n",
       "      <td>-0.043426</td>\n",
       "      <td>0.016473</td>\n",
       "    </tr>\n",
       "  </tbody>\n",
       "</table>\n",
       "</div>"
      ],
      "text/plain": [
       "                     Media      Mediana Desviacion Standar\n",
       "Consumo(m3)    9009.454545       9743.2        3860.445867\n",
       "Delta_t(dias)  03 18:05:27  03 02:00:00        03 03:14:29\n",
       "Pendiente        -0.046166    -0.043426           0.016473"
      ]
     },
     "metadata": {},
     "output_type": "display_data"
    }
   ],
   "source": [
    "display(stats)"
   ]
  },
  {
   "cell_type": "code",
   "execution_count": 35,
   "id": "e6a30c61",
   "metadata": {},
   "outputs": [
    {
     "data": {
      "text/html": [
       "<div>\n",
       "<style scoped>\n",
       "    .dataframe tbody tr th:only-of-type {\n",
       "        vertical-align: middle;\n",
       "    }\n",
       "\n",
       "    .dataframe tbody tr th {\n",
       "        vertical-align: top;\n",
       "    }\n",
       "\n",
       "    .dataframe thead th {\n",
       "        text-align: right;\n",
       "    }\n",
       "</style>\n",
       "<table border=\"1\" class=\"dataframe\">\n",
       "  <thead>\n",
       "    <tr style=\"text-align: right;\">\n",
       "      <th></th>\n",
       "      <th>Delta_Time</th>\n",
       "      <th>Consumo m3</th>\n",
       "      <th>Delta_T_Segundos</th>\n",
       "      <th>Slope</th>\n",
       "    </tr>\n",
       "  </thead>\n",
       "  <tbody>\n",
       "    <tr>\n",
       "      <th>0</th>\n",
       "      <td>0 days 03:00:00</td>\n",
       "      <td>720.1</td>\n",
       "      <td>10800.0</td>\n",
       "      <td>-0.066676</td>\n",
       "    </tr>\n",
       "    <tr>\n",
       "      <th>1</th>\n",
       "      <td>2 days 20:00:00</td>\n",
       "      <td>5762.7</td>\n",
       "      <td>244800.0</td>\n",
       "      <td>-0.023540</td>\n",
       "    </tr>\n",
       "    <tr>\n",
       "      <th>2</th>\n",
       "      <td>1 days 22:00:00</td>\n",
       "      <td>6746.9</td>\n",
       "      <td>165600.0</td>\n",
       "      <td>-0.040742</td>\n",
       "    </tr>\n",
       "    <tr>\n",
       "      <th>3</th>\n",
       "      <td>2 days 08:00:00</td>\n",
       "      <td>8042.7</td>\n",
       "      <td>201600.0</td>\n",
       "      <td>-0.039894</td>\n",
       "    </tr>\n",
       "    <tr>\n",
       "      <th>4</th>\n",
       "      <td>3 days 11:00:00</td>\n",
       "      <td>10370.2</td>\n",
       "      <td>298800.0</td>\n",
       "      <td>-0.034706</td>\n",
       "    </tr>\n",
       "    <tr>\n",
       "      <th>5</th>\n",
       "      <td>2 days 02:00:00</td>\n",
       "      <td>7816.6</td>\n",
       "      <td>180000.0</td>\n",
       "      <td>-0.043426</td>\n",
       "    </tr>\n",
       "    <tr>\n",
       "      <th>6</th>\n",
       "      <td>1 days 22:00:00</td>\n",
       "      <td>9743.2</td>\n",
       "      <td>165600.0</td>\n",
       "      <td>-0.058836</td>\n",
       "    </tr>\n",
       "    <tr>\n",
       "      <th>7</th>\n",
       "      <td>2 days 01:00:00</td>\n",
       "      <td>11329.7</td>\n",
       "      <td>176400.0</td>\n",
       "      <td>-0.064227</td>\n",
       "    </tr>\n",
       "    <tr>\n",
       "      <th>8</th>\n",
       "      <td>1 days 23:00:00</td>\n",
       "      <td>10284.7</td>\n",
       "      <td>169200.0</td>\n",
       "      <td>-0.060784</td>\n",
       "    </tr>\n",
       "    <tr>\n",
       "      <th>9</th>\n",
       "      <td>8 days 16:00:00</td>\n",
       "      <td>13843.4</td>\n",
       "      <td>748800.0</td>\n",
       "      <td>-0.018487</td>\n",
       "    </tr>\n",
       "    <tr>\n",
       "      <th>10</th>\n",
       "      <td>2 days 23:00:00</td>\n",
       "      <td>14443.8</td>\n",
       "      <td>255600.0</td>\n",
       "      <td>-0.056509</td>\n",
       "    </tr>\n",
       "  </tbody>\n",
       "</table>\n",
       "</div>"
      ],
      "text/plain": [
       "        Delta_Time  Consumo m3  Delta_T_Segundos     Slope\n",
       "0  0 days 03:00:00       720.1           10800.0 -0.066676\n",
       "1  2 days 20:00:00      5762.7          244800.0 -0.023540\n",
       "2  1 days 22:00:00      6746.9          165600.0 -0.040742\n",
       "3  2 days 08:00:00      8042.7          201600.0 -0.039894\n",
       "4  3 days 11:00:00     10370.2          298800.0 -0.034706\n",
       "5  2 days 02:00:00      7816.6          180000.0 -0.043426\n",
       "6  1 days 22:00:00      9743.2          165600.0 -0.058836\n",
       "7  2 days 01:00:00     11329.7          176400.0 -0.064227\n",
       "8  1 days 23:00:00     10284.7          169200.0 -0.060784\n",
       "9  8 days 16:00:00     13843.4          748800.0 -0.018487\n",
       "10 2 days 23:00:00     14443.8          255600.0 -0.056509"
      ]
     },
     "metadata": {},
     "output_type": "display_data"
    }
   ],
   "source": [
    "display(gradient_df)"
   ]
  },
  {
   "cell_type": "code",
   "execution_count": 36,
   "id": "4ac1ad50",
   "metadata": {},
   "outputs": [],
   "source": [
    "#Filtra dataframe por descargas:\n",
    "descargas_df = dff[dff['Estado'] == 'Empieza Descarga']\n",
    "descargas_df =descargas_df.reset_index(drop=True)"
   ]
  },
  {
   "cell_type": "code",
   "execution_count": 37,
   "id": "a3b44cd8",
   "metadata": {},
   "outputs": [],
   "source": [
    "#Obtenemos el número de descargas:\n",
    "numero_descargas = int(len(descargas_df))"
   ]
  },
  {
   "cell_type": "code",
   "execution_count": 38,
   "id": "504856b9",
   "metadata": {},
   "outputs": [],
   "source": [
    "# Calculamos las deltas de tiempo entre descargas y lo pasamos a una lista:\n",
    "\n",
    "timestamps=[value for value in descargas_df['Timestamp']]\n",
    "\n",
    "def delta_time_descargas(timestamps):\n",
    "    \n",
    "    delta_time=[0]\n",
    "    \n",
    "    for v in range(len(timestamps)-1):\n",
    "        \n",
    "        delta= timestamps[v+1]- timestamps[v]\n",
    "        delta_time.append(delta)\n",
    "        \n",
    "    return delta_time\n",
    "\n",
    "d=delta_time_descargas(timestamps)"
   ]
  },
  {
   "cell_type": "code",
   "execution_count": 39,
   "id": "4ef3c8b4",
   "metadata": {},
   "outputs": [],
   "source": [
    "#Creamos la columna Delta Time en el Dataframe:\n",
    "\n",
    "def delta(timestamp):\n",
    "    if timestamp == descargas_df['Timestamp'].iloc[0]:\n",
    "        return 0\n",
    "descargas_df['Delta Time']=descargas_df['Timestamp'].apply(delta)"
   ]
  },
  {
   "cell_type": "code",
   "execution_count": 40,
   "id": "6f36e2dd",
   "metadata": {},
   "outputs": [
    {
     "name": "stderr",
     "output_type": "stream",
     "text": [
      "/Users/javiertamarit/.local/share/virtualenvs/Ejercicios_Prog_Avanzada-OvvKQvod/lib/python3.9/site-packages/pandas/core/indexing.py:1732: SettingWithCopyWarning: \n",
      "A value is trying to be set on a copy of a slice from a DataFrame\n",
      "\n",
      "See the caveats in the documentation: https://pandas.pydata.org/pandas-docs/stable/user_guide/indexing.html#returning-a-view-versus-a-copy\n",
      "  self._setitem_single_block(indexer, value, name)\n"
     ]
    }
   ],
   "source": [
    "# Pasamos la lista de Delta Time al Dataframe:\n",
    "\n",
    "n=1\n",
    "mask=descargas_df['Delta Time']\n",
    "while n < numero_descargas:\n",
    "    mask.iloc[n]=d[n]\n",
    "    n += 1   "
   ]
  },
  {
   "cell_type": "code",
   "execution_count": 41,
   "id": "b7cc9f64",
   "metadata": {},
   "outputs": [],
   "source": [
    "# Registo incidencia:\n",
    "\n",
    "def incident(volumen):\n",
    "    if volumen < 20.0:\n",
    "        return \"Run Out\"\n",
    "descargas_df['Incidencia']=descargas_df['Nivel (%)'].apply(incident)"
   ]
  },
  {
   "cell_type": "code",
   "execution_count": 42,
   "id": "2ba71bd2",
   "metadata": {},
   "outputs": [
    {
     "name": "stdout",
     "output_type": "stream",
     "text": [
      "Run Outs: 1\n"
     ]
    }
   ],
   "source": [
    "# Definimos RunOuts:\n",
    "\n",
    "runouts=descargas_df[descargas_df['Incidencia']==\"Run Out\"]\n",
    "num_runouts=len(runouts)\n",
    "print(f'Run Outs:',num_runouts)"
   ]
  },
  {
   "cell_type": "code",
   "execution_count": 43,
   "id": "64728d21",
   "metadata": {},
   "outputs": [],
   "source": [
    "# Descargas Nominal:\n",
    "\n",
    "def descargas_nominal():\n",
    "    counter=0\n",
    "    for element in descargas_df['Nivel (%)']:\n",
    "        if element < 40 and element >20:\n",
    "            counter += 1\n",
    "    return counter"
   ]
  },
  {
   "cell_type": "code",
   "execution_count": 44,
   "id": "63068a71",
   "metadata": {},
   "outputs": [
    {
     "name": "stdout",
     "output_type": "stream",
     "text": [
      "Descargas Nominal: 3\n"
     ]
    }
   ],
   "source": [
    "print(f'Descargas Nominal:',descargas_nominal())"
   ]
  },
  {
   "cell_type": "code",
   "execution_count": 45,
   "id": "3e8a58e0",
   "metadata": {},
   "outputs": [],
   "source": [
    "# Descargas mayores del 40%:\n",
    "\n",
    "def descargas_plus40():\n",
    "    counter=0\n",
    "    for element in descargas_df['Nivel (%)']:\n",
    "        if element > 40:\n",
    "            counter += 1\n",
    "    return counter\n",
    "    "
   ]
  },
  {
   "cell_type": "code",
   "execution_count": 46,
   "id": "ec11909a",
   "metadata": {},
   "outputs": [
    {
     "name": "stdout",
     "output_type": "stream",
     "text": [
      "Descargas > 40% : 7\n"
     ]
    }
   ],
   "source": [
    "print(f'Descargas > 40% :',descargas_plus40())"
   ]
  },
  {
   "cell_type": "code",
   "execution_count": 47,
   "id": "589ba44d",
   "metadata": {},
   "outputs": [],
   "source": [
    "#Ordenamos por nivel del tanque a la descarga de mayor a menor:\n",
    "descargas_df=descargas_df.sort_values(by=['Nivel (%)'], ascending=False)"
   ]
  },
  {
   "cell_type": "code",
   "execution_count": 48,
   "id": "837b90ab",
   "metadata": {},
   "outputs": [],
   "source": [
    "#Customizamos la paleta de colores:\n",
    "sns.set(style=\"whitegrid\", color_codes=True)\n",
    "pal=sns.color_palette(\"rainbow\", len(descargas_df))"
   ]
  },
  {
   "cell_type": "code",
   "execution_count": 49,
   "id": "75a7cdc3",
   "metadata": {
    "scrolled": false
   },
   "outputs": [
    {
     "data": {
      "image/png": "[encoded data removed]",
      "text/plain": [
       "<Figure size 800x350 with 1 Axes>"
      ]
     },
     "metadata": {},
     "output_type": "display_data"
    }
   ],
   "source": [
    "# Graficamos:\n",
    "fig = plt.figure(figsize=(8,3.5), dpi=100)\n",
    "ax = fig.gca()\n",
    "figure=sns.barplot(x='Date',y='Nivel (%)',data=descargas_df,palette=pal)\n",
    "figure.set_title(\"Nivel del Tanque en la Descarga\",fontsize=12)\n",
    "plt.xticks(fontsize=7,rotation=50)\n",
    "plt.yticks(fontsize=7)\n",
    "plt.xlabel(\"Fecha\", fontsize=10)\n",
    "plt.ylabel(\"Nivel del Tanque\", fontsize=10)\n",
    "plt.show()\n"
   ]
  }
 ],
 "metadata": {
  "interpreter": {
   "hash": "3571aaddb167a31f08e7810662d27ca883953640e04b5919c7c8de60e1cd2a2e"
  },
  "kernelspec": {
   "display_name": "Python 3 (ipykernel)",
   "language": "python",
   "name": "python3"
  },
  "language_info": {
   "codemirror_mode": {
    "name": "ipython",
    "version": 3
   },
   "file_extension": ".py",
   "mimetype": "text/x-python",
   "name": "python",
   "nbconvert_exporter": "python",
   "pygments_lexer": "ipython3",
   "version": "3.8.10"
  }
 },
 "nbformat": 4,
 "nbformat_minor": 5
}
