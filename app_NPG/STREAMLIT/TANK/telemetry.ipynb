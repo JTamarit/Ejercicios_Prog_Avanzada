{
 "cells": [
  {
   "cell_type": "markdown",
   "id": "bcf2a791",
   "metadata": {},
   "source": [
    "### TELEMETRY TANQUES"
   ]
  },
  {
   "cell_type": "code",
   "execution_count": 1,
   "id": "a9438658",
   "metadata": {},
   "outputs": [],
   "source": [
    "import numpy as np\n",
    "import pandas as pd\n",
    "from datetime import datetime"
   ]
  },
  {
   "cell_type": "code",
   "execution_count": 2,
   "id": "4c26b7d3",
   "metadata": {},
   "outputs": [],
   "source": [
    "df=pd.read_excel('Telemetry.xlsx')"
   ]
  },
  {
   "cell_type": "code",
   "execution_count": 3,
   "id": "3912056c",
   "metadata": {},
   "outputs": [],
   "source": [
    "df.columns=['Timestamp','Nivel (%)','Presion (bar)']"
   ]
  },
  {
   "cell_type": "code",
   "execution_count": 4,
   "id": "f4d6d236",
   "metadata": {},
   "outputs": [],
   "source": [
    "df['Date'] = [d.date() for d in df['Timestamp']]\n",
    "df['Time'] = [d.time() for d in df['Timestamp']]"
   ]
  },
  {
   "cell_type": "code",
   "execution_count": 5,
   "id": "9b4656c7",
   "metadata": {},
   "outputs": [],
   "source": [
    "df = df.reindex(columns=['Timestamp','Date','Time','Nivel (%)','Presion (bar)'])\n",
    "df=df.sort_values(by=['Date','Time'])\n",
    "df=df.reset_index(drop=True)"
   ]
  },
  {
   "cell_type": "code",
   "execution_count": 6,
   "id": "3ca052a7",
   "metadata": {},
   "outputs": [],
   "source": [
    "df['Date'] = pd.to_datetime(df['Date'])"
   ]
  },
  {
   "cell_type": "code",
   "execution_count": 7,
   "id": "346d0882",
   "metadata": {},
   "outputs": [],
   "source": [
    "df['Year'] = df['Date'].dt.strftime('%Y')\n",
    "df['Month'] = df['Date'].dt.strftime('%m')\n",
    "df['Day'] = df['Date'].dt.strftime('%d')\n",
    "df['Day_of_Week'] = df['Date'].dt.day_name()\n",
    "df['Month_Name'] = df['Date'].dt.month_name()"
   ]
  },
  {
   "cell_type": "code",
   "execution_count": 8,
   "id": "c563b0e4",
   "metadata": {},
   "outputs": [],
   "source": [
    "def season_selector(date):\n",
    "    season=['Winter','April','Summer','Autum']\n",
    "    date=datetime.now()\n",
    "    day=int(date.strftime(\"%d\"))\n",
    "    month=int(date.strftime(\"%m\"))\n",
    "    if (month >=1 and month <3) or (month ==12 and day >=21) or (month==3 and day < 21) :\n",
    "        return season[0]\n",
    "    if (month >3 and month < 6) or (month==6 and day<21) or (month==3 and day < 21):\n",
    "        return season[1]\n",
    "    if (month >6 and month < 9) or (month==6 and day>=21) or (month==9 and day<21):\n",
    "        return season[2]\n",
    "    if (month >9 and month < 12) or (month==9 and day >=21) or (month==12 and day<21):\n",
    "        return season[3]\n",
    "\n",
    "df['Season'] = df['Date'].apply(season_selector)"
   ]
  },
  {
   "cell_type": "code",
   "execution_count": 11,
   "id": "c1081937",
   "metadata": {},
   "outputs": [],
   "source": [
    "def inicio(nivel):\n",
    "    \n",
    "    num_valores=int(len(df['Nivel (%)']))\n",
    "    \n",
    "    if nivel == df['Nivel (%)'].iloc[0]:\n",
    "        return \"Inicio\"\n",
    "    if nivel == df['Nivel (%)'].iloc[(num_valores-1)]:\n",
    "        return \"Fin\"\n",
    "df['Estado']=df['Nivel (%)'].apply(inicio)"
   ]
  },
  {
   "cell_type": "code",
   "execution_count": 12,
   "id": "564abd55",
   "metadata": {},
   "outputs": [],
   "source": [
    "#Creamos lista con todos los niveles:\n",
    "niveles=[nivel for nivel in df['Nivel (%)']]"
   ]
  },
  {
   "cell_type": "code",
   "execution_count": 13,
   "id": "d6eb654d",
   "metadata": {},
   "outputs": [],
   "source": [
    "#Creamos una función que nos indica si el valor de nivel corresponde a un estado de consumo o llenado de la cisterna:\n",
    "\n",
    "def descarga_consumo():\n",
    "    \n",
    "    operacion=['inicio']\n",
    "    n=1\n",
    "    while n <(len(niveles)-1):\n",
    "        if niveles[n] > niveles[n+1] and niveles[n]< niveles[n-1]:\n",
    "            operacion.append(\"consumo\")\n",
    "            #print(f\"{niveles[n]} > {niveles[n+1]} y {niveles[n]} < {niveles[n-1]}\")\n",
    "    \n",
    "        elif niveles[n] < niveles[n+1] and niveles[n]> niveles[n-1]:\n",
    "            operacion.append(\"descarga\")\n",
    "            #print(f\"{niveles[n]} < {niveles[n+1]} y {niveles[n]} > {niveles[n-1]}\")\n",
    "        \n",
    "        elif niveles[n] < niveles[n+1] and niveles[n]< niveles[n-1]:\n",
    "            operacion.append(\"empieza descarga\")\n",
    "            #print(f\"{niveles[n]} < {niveles[n+1]} y {niveles[n]} < {niveles[n-1]}\")\n",
    "        \n",
    "        elif niveles[n] > niveles[n+1] and niveles[n]> niveles[n-1]:\n",
    "            operacion.append(\"termina descarga\")\n",
    "            #print(f\"{niveles[n]}> {niveles[n+1]} y {niveles[n]} > {niveles[n-1]}\")\n",
    "        \n",
    "        elif niveles[n] == niveles[n+1]:\n",
    "            #print(f\"{niveles[n]} == {niveles[n+1]}\")\n",
    "            operacion.append(\"Sin consumo\")\n",
    "        \n",
    "        elif niveles[n] == niveles[n-1]:\n",
    "            #print(f\"{niveles[n]} == {niveles[n-1]}\")\n",
    "            operacion.append(\"Sin consumo\")\n",
    "        n+=1\n",
    "    return operacion"
   ]
  },
  {
   "cell_type": "code",
   "execution_count": 14,
   "id": "f2b48d70",
   "metadata": {},
   "outputs": [],
   "source": [
    "estado= descarga_consumo()"
   ]
  },
  {
   "cell_type": "code",
   "execution_count": 15,
   "id": "99ef87f5",
   "metadata": {},
   "outputs": [
    {
     "name": "stderr",
     "output_type": "stream",
     "text": [
      "/Users/javiertamarit/.local/share/virtualenvs/Ejercicios_Prog_Avanzada-OvvKQvod/lib/python3.9/site-packages/pandas/core/indexing.py:1732: SettingWithCopyWarning: \n",
      "A value is trying to be set on a copy of a slice from a DataFrame\n",
      "\n",
      "See the caveats in the documentation: https://pandas.pydata.org/pandas-docs/stable/user_guide/indexing.html#returning-a-view-versus-a-copy\n",
      "  self._setitem_single_block(indexer, value, name)\n"
     ]
    }
   ],
   "source": [
    "dff=df.copy()\n",
    "mask=dff['Estado']\n",
    "for n in range(len(estado)):\n",
    "    mask.iloc[n]=estado[n]"
   ]
  },
  {
   "cell_type": "code",
   "execution_count": 16,
   "id": "4ac1ad50",
   "metadata": {},
   "outputs": [],
   "source": [
    "#Filtra dataframe por descargas:\n",
    "descargas_df = dff[dff['Estado'] == 'empieza descarga']\n",
    "descargas_df =descargas_df.reset_index(drop=True)"
   ]
  },
  {
   "cell_type": "code",
   "execution_count": 17,
   "id": "a3b44cd8",
   "metadata": {},
   "outputs": [
    {
     "name": "stdout",
     "output_type": "stream",
     "text": [
      "30\n"
     ]
    }
   ],
   "source": [
    "numero_descargas = len(descargas_df)\n",
    "print(numero_descargas)"
   ]
  },
  {
   "cell_type": "code",
   "execution_count": 18,
   "id": "504856b9",
   "metadata": {},
   "outputs": [],
   "source": [
    "# Calculamos las deltas de tiempo entre descargas y lo pasamos a una lista:\n",
    "\n",
    "timestamps=[value for value in descargas_df['Timestamp']]\n",
    "\n",
    "def delta_time_descargas(timestamps):\n",
    "    \n",
    "    delta_time=[0]\n",
    "    \n",
    "    for v in range(len(timestamps)-1):\n",
    "        \n",
    "        delta= timestamps[v+1]- timestamps[v]\n",
    "        delta_time.append(delta)\n",
    "        \n",
    "    return delta_time\n",
    "\n",
    "d=delta_time_descargas(timestamps)"
   ]
  },
  {
   "cell_type": "code",
   "execution_count": 19,
   "id": "4ef3c8b4",
   "metadata": {},
   "outputs": [],
   "source": [
    "def delta(timestamp):\n",
    "    if timestamp == descargas_df['Timestamp'].iloc[0]:\n",
    "        return 0\n",
    "descargas_df['Delta Time']=descargas_df['Timestamp'].apply(delta)"
   ]
  },
  {
   "cell_type": "code",
   "execution_count": null,
   "id": "6f36e2dd",
   "metadata": {},
   "outputs": [],
   "source": [
    "# Pasamos la lista de Delta Time al Dataframe:\n",
    "n=1\n",
    "mask=descargas_df['Delta Time']\n",
    "while n < numero_descargas:\n",
    "    mask.iloc[n]=d[n]\n",
    "    n += 1   "
   ]
  },
  {
   "cell_type": "code",
   "execution_count": null,
   "id": "b7cc9f64",
   "metadata": {},
   "outputs": [],
   "source": [
    "descargas_df"
   ]
  }
 ],
 "metadata": {
  "kernelspec": {
   "display_name": "Python 3.9.6 64-bit ('Ejercicios_Prog_Avanzada-OvvKQvod': pipenv)",
   "language": "python",
   "name": "python396jvsc74a57bd04091cd0683e36eeb9a7a7833deb2610b41dd2b53442656d253a7560941aa8241"
  },
  "language_info": {
   "codemirror_mode": {
    "name": "ipython",
    "version": 3
   },
   "file_extension": ".py",
   "mimetype": "text/x-python",
   "name": "python",
   "nbconvert_exporter": "python",
   "pygments_lexer": "ipython3",
   "version": "3.9.6"
  }
 },
 "nbformat": 4,
 "nbformat_minor": 5
}
