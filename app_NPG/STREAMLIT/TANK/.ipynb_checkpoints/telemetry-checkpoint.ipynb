{
 "cells": [
  {
   "cell_type": "markdown",
   "id": "bcf2a791",
   "metadata": {},
   "source": [
    "### TELEMETRY TANQUES"
   ]
  },
  {
   "cell_type": "code",
   "execution_count": 7,
   "id": "a9438658",
   "metadata": {},
   "outputs": [],
   "source": [
    "import numpy as np\n",
    "import pandas as pd\n",
    "from datetime import datetime\n",
    "import matplotlib.pyplot as plt\n",
    "import seaborn as sns"
   ]
  },
  {
   "cell_type": "code",
   "execution_count": 14,
   "id": "4c26b7d3",
   "metadata": {},
   "outputs": [],
   "source": [
    "# Cargamos el exel en un dataframe:\n",
    "\n",
    "df=pd.read_excel('Telemetry.xlsx')"
   ]
  },
  {
   "cell_type": "code",
   "execution_count": 29,
   "id": "e002cf4d",
   "metadata": {},
   "outputs": [],
   "source": [
    "info_column=df.columns.str.split('_')\n",
    "column1_name=\"\".join(info_column[0])\n",
    "tank_size=info_column[1][1]\n",
    "tank_size=[tank_size[data] for data in range(len(tank_size)) if tank_size[data].isdigit()]\n",
    "tank_size=\"\".join(tank_size)\n",
    "gas_name=info_column[1][2]"
   ]
  },
  {
   "cell_type": "code",
   "execution_count": 30,
   "id": "6e323080",
   "metadata": {},
   "outputs": [
    {
     "name": "stdout",
     "output_type": "stream",
     "text": [
      "Timestamp 19000 LN2 Index([                                                                                ['Timestamp'],\n",
      "           ['[2574R', 'VRV19000E*', 'LN2', '2826] Tanque - Transmisor de Nivel - Nivel - Contenido'],\n",
      "       ['[2574R', 'VRV19000E*', 'LN2', '2826] Tanque - Transmisor de presión - Presión - Contenido']],\n",
      "      dtype='object')\n"
     ]
    }
   ],
   "source": [
    "print(column1_name,tank_size, gas_name,info_column)"
   ]
  },
  {
   "cell_type": "code",
   "execution_count": null,
   "id": "3912056c",
   "metadata": {},
   "outputs": [],
   "source": [
    "# Cambiamos el nombre de las columnas:\n",
    "\n",
    "df.columns=['Timestamp','Nivel (%)','Presion (bar)']"
   ]
  },
  {
   "cell_type": "code",
   "execution_count": null,
   "id": "f4d6d236",
   "metadata": {},
   "outputs": [],
   "source": [
    "# Separamos el timestamp en fecha y hora:\n",
    "\n",
    "df['Date'] = [d.date() for d in df['Timestamp']]\n",
    "df['Time'] = [d.time() for d in df['Timestamp']]"
   ]
  },
  {
   "cell_type": "code",
   "execution_count": null,
   "id": "9b4656c7",
   "metadata": {},
   "outputs": [],
   "source": [
    "# Reordeamos columnas:\n",
    "df = df.reindex(columns=['Timestamp','Date','Time','Nivel (%)','Presion (bar)'])\n",
    "\n",
    "# Ordenamos los datos de forma ascendente por fecha y hora:\n",
    "df=df.sort_values(by=['Date','Time'])\n",
    "df=df.reset_index(drop=True)"
   ]
  },
  {
   "cell_type": "code",
   "execution_count": null,
   "id": "346d0882",
   "metadata": {},
   "outputs": [],
   "source": [
    "# Cambiamos el formato de la fecha para extraer por año, mes, dia y dia de la semana:\n",
    "df['Date'] = pd.to_datetime(df['Date'])\n",
    "\n",
    "df['Year'] = df['Date'].dt.strftime('%Y')\n",
    "df['Month'] = df['Date'].dt.strftime('%m')\n",
    "df['Day'] = df['Date'].dt.strftime('%d')\n",
    "df['Day_of_Week'] = df['Date'].dt.day_name()\n",
    "df['Month_Name'] = df['Date'].dt.month_name()"
   ]
  },
  {
   "cell_type": "code",
   "execution_count": null,
   "id": "c563b0e4",
   "metadata": {},
   "outputs": [],
   "source": [
    "\n",
    "def season_selector(date):\n",
    "    # Obtenemos la estación de año a partir de la fecha.\n",
    "    season=['Winter','April','Summer','Autum']\n",
    "    date=datetime.now()\n",
    "    day=int(date.strftime(\"%d\"))\n",
    "    month=int(date.strftime(\"%m\"))\n",
    "    if (month >=1 and month <3) or (month ==12 and day >=21) or (month==3 and day < 21) :\n",
    "        return season[0]\n",
    "    if (month >3 and month < 6) or (month==6 and day<21) or (month==3 and day < 21):\n",
    "        return season[1]\n",
    "    if (month >6 and month < 9) or (month==6 and day>=21) or (month==9 and day<21):\n",
    "        return season[2]\n",
    "    if (month >9 and month < 12) or (month==9 and day >=21) or (month==12 and day<21):\n",
    "        return season[3]\n",
    "\n",
    "df['Season'] = df['Date'].apply(season_selector)"
   ]
  },
  {
   "cell_type": "code",
   "execution_count": null,
   "id": "e1ee87f0",
   "metadata": {},
   "outputs": [],
   "source": [
    "#Eliminamos valor 0 de la columna Nivel:\n",
    "df=df.drop(df.loc[df['Nivel (%)']== 0].index)"
   ]
  },
  {
   "cell_type": "code",
   "execution_count": null,
   "id": "c1081937",
   "metadata": {},
   "outputs": [],
   "source": [
    "# Creamos un columna en el Dataframe llamada Estado:\n",
    "def inicio(nivel):\n",
    "    \n",
    "    num_valores=int(len(df['Nivel (%)']))\n",
    "    \n",
    "    if nivel == df['Nivel (%)'].iloc[0]:\n",
    "        return \"Inicio\"\n",
    "    if nivel == df['Nivel (%)'].iloc[(num_valores-1)]:\n",
    "        return \"Fin\"\n",
    "df['Estado']=df['Nivel (%)'].apply(inicio)"
   ]
  },
  {
   "cell_type": "code",
   "execution_count": null,
   "id": "564abd55",
   "metadata": {},
   "outputs": [],
   "source": [
    "#Creamos lista con todos los niveles:\n",
    "niveles=[nivel for nivel in df['Nivel (%)']]"
   ]
  },
  {
   "cell_type": "code",
   "execution_count": null,
   "id": "d6eb654d",
   "metadata": {},
   "outputs": [],
   "source": [
    "def descarga_consumo():\n",
    "    #Creamos una función que nos indica si el valor de nivel corresponde a un estado \n",
    "    #de consumo o llenado de la cisterna:\n",
    "\n",
    "    operacion=['inicio']\n",
    "    n=1\n",
    "    while n <(len(niveles)-1):\n",
    "        if niveles[n] > niveles[n+1] and niveles[n]< niveles[n-1]:\n",
    "            operacion.append(\"Consumo\")\n",
    "            #print(f\"{niveles[n]} > {niveles[n+1]} y {niveles[n]} < {niveles[n-1]}\")\n",
    "    \n",
    "        elif niveles[n] < niveles[n+1] and niveles[n]> niveles[n-1]:\n",
    "            operacion.append(\"Descarga\")\n",
    "            #print(f\"{niveles[n]} < {niveles[n+1]} y {niveles[n]} > {niveles[n-1]}\")\n",
    "        \n",
    "        elif niveles[n] < niveles[n+1] and niveles[n]< niveles[n-1]:\n",
    "            if (niveles[n+1]-niveles[n])>0.3 and (niveles[n-1]-niveles[n])>0.3:\n",
    "                operacion.append(\"Empieza Descarga\")\n",
    "            else:\n",
    "                operacion.append(\"Consumo\")\n",
    "                \n",
    "            #print(f\"{niveles[n]} < {niveles[n+1]} y {niveles[n]} < {niveles[n-1]}\")\n",
    "        \n",
    "        elif niveles[n] > niveles[n+1] and niveles[n]> niveles[n-1]:\n",
    "            if (niveles[n]-niveles[n+1])>0.3 and (niveles[n]-niveles[n-1])>0.3:\n",
    "                operacion.append(\"Termina Descarga\")\n",
    "            else:\n",
    "                operacion.append(\"Consumo\")\n",
    "                \n",
    "            #print(f\"{niveles[n]}> {niveles[n+1]} y {niveles[n]} > {niveles[n-1]}\")\n",
    "        \n",
    "        elif niveles[n] == niveles[n+1]:\n",
    "            #print(f\"{niveles[n]} == {niveles[n+1]}\")\n",
    "            operacion.append(\"Sin Consumo\")\n",
    "        \n",
    "        elif niveles[n] == niveles[n-1]:\n",
    "            #print(f\"{niveles[n]} == {niveles[n-1]}\")\n",
    "            operacion.append(\"Sin Consumo\")\n",
    "        n+=1\n",
    "    return operacion"
   ]
  },
  {
   "cell_type": "code",
   "execution_count": null,
   "id": "f2b48d70",
   "metadata": {},
   "outputs": [],
   "source": [
    "estado= descarga_consumo()"
   ]
  },
  {
   "cell_type": "code",
   "execution_count": null,
   "id": "030aae09",
   "metadata": {},
   "outputs": [],
   "source": []
  },
  {
   "cell_type": "code",
   "execution_count": null,
   "id": "9fa14a4f",
   "metadata": {},
   "outputs": [],
   "source": [
    "df"
   ]
  },
  {
   "cell_type": "code",
   "execution_count": null,
   "id": "99ef87f5",
   "metadata": {},
   "outputs": [],
   "source": [
    "# Hacemos una copia del Dataframe y llenamos el campo Estado con su valor:\n",
    "dff=df.copy()\n",
    "mask=dff['Estado']\n",
    "for n in range(len(estado)):\n",
    "    mask.iloc[n]=estado[n]"
   ]
  },
  {
   "cell_type": "code",
   "execution_count": null,
   "id": "c471819c",
   "metadata": {},
   "outputs": [],
   "source": [
    "dff.head(70)"
   ]
  },
  {
   "cell_type": "code",
   "execution_count": null,
   "id": "4ac1ad50",
   "metadata": {},
   "outputs": [],
   "source": [
    "#Filtra dataframe por descargas:\n",
    "descargas_df = dff[dff['Estado'] == 'Empieza Descarga']\n",
    "descargas_df =descargas_df.reset_index(drop=True)"
   ]
  },
  {
   "cell_type": "code",
   "execution_count": null,
   "id": "a3b44cd8",
   "metadata": {},
   "outputs": [],
   "source": [
    "#Obtenemos el número de descargas:\n",
    "numero_descargas = len(descargas_df)\n",
    "print(numero_descargas)"
   ]
  },
  {
   "cell_type": "code",
   "execution_count": null,
   "id": "504856b9",
   "metadata": {},
   "outputs": [],
   "source": [
    "# Calculamos las deltas de tiempo entre descargas y lo pasamos a una lista:\n",
    "\n",
    "timestamps=[value for value in descargas_df['Timestamp']]\n",
    "\n",
    "def delta_time_descargas(timestamps):\n",
    "    \n",
    "    delta_time=[0]\n",
    "    \n",
    "    for v in range(len(timestamps)-1):\n",
    "        \n",
    "        delta= timestamps[v+1]- timestamps[v]\n",
    "        delta_time.append(delta)\n",
    "        \n",
    "    return delta_time\n",
    "\n",
    "d=delta_time_descargas(timestamps)"
   ]
  },
  {
   "cell_type": "code",
   "execution_count": null,
   "id": "4ef3c8b4",
   "metadata": {},
   "outputs": [],
   "source": [
    "#Creamos la columna Delta Time en el Dataframe:\n",
    "def delta(timestamp):\n",
    "    if timestamp == descargas_df['Timestamp'].iloc[0]:\n",
    "        return 0\n",
    "descargas_df['Delta Time']=descargas_df['Timestamp'].apply(delta)"
   ]
  },
  {
   "cell_type": "code",
   "execution_count": null,
   "id": "6f36e2dd",
   "metadata": {},
   "outputs": [],
   "source": [
    "# Pasamos la lista de Delta Time al Dataframe:\n",
    "n=1\n",
    "mask=descargas_df['Delta Time']\n",
    "while n < numero_descargas:\n",
    "    mask.iloc[n]=d[n]\n",
    "    n += 1   "
   ]
  },
  {
   "cell_type": "code",
   "execution_count": null,
   "id": "b7cc9f64",
   "metadata": {},
   "outputs": [],
   "source": [
    "# Registo incidencia:\n",
    "def incident(volumen):\n",
    "    if volumen < 20.0:\n",
    "        return \"Run Out\"\n",
    "descargas_df['Incidencia']=descargas_df['Nivel (%)'].apply(incident)"
   ]
  },
  {
   "cell_type": "code",
   "execution_count": null,
   "id": "27677af4",
   "metadata": {},
   "outputs": [],
   "source": [
    "descargas_df"
   ]
  },
  {
   "cell_type": "code",
   "execution_count": null,
   "id": "2ba71bd2",
   "metadata": {},
   "outputs": [],
   "source": [
    "runouts=descargas_df[descargas_df['Incidencia']==\"Run Out\"]\n",
    "num_runouts=len(runouts)"
   ]
  },
  {
   "cell_type": "code",
   "execution_count": null,
   "id": "b63e6190",
   "metadata": {},
   "outputs": [],
   "source": [
    "print(num_runouts)"
   ]
  },
  {
   "cell_type": "code",
   "execution_count": null,
   "id": "f65c1772",
   "metadata": {},
   "outputs": [],
   "source": [
    "ax = descargas_df.plot.bar(x='Timestamp', y='Nivel (%)', rot= 45)"
   ]
  },
  {
   "cell_type": "code",
   "execution_count": null,
   "id": "75a7cdc3",
   "metadata": {},
   "outputs": [],
   "source": [
    "# Graficamos:\n",
    "fig = plt.figure(figsize=(18,10), dpi=300)\n",
    "ax = fig.gca()\n",
    "figure=sns.barplot(x='Timestamp',y='Nivel (%)',data=descargas_df,palette=\"Spectral\")\n",
    "figure.set_title(\"Nivel del Tanque en la Descarga\",fontsize=20)\n",
    "plt.xlabel(\"Fecha\", fontsize=16)\n",
    "plt.ylabel(\"Nivel del Tanque\", fontsize=16)\n",
    "plt.show()"
   ]
  },
  {
   "cell_type": "code",
   "execution_count": null,
   "id": "e7085422",
   "metadata": {},
   "outputs": [],
   "source": []
  }
 ],
 "metadata": {
  "interpreter": {
   "hash": "3571aaddb167a31f08e7810662d27ca883953640e04b5919c7c8de60e1cd2a2e"
  },
  "kernelspec": {
   "display_name": "Python 3 (ipykernel)",
   "language": "python",
   "name": "python3"
  },
  "language_info": {
   "codemirror_mode": {
    "name": "ipython",
    "version": 3
   },
   "file_extension": ".py",
   "mimetype": "text/x-python",
   "name": "python",
   "nbconvert_exporter": "python",
   "pygments_lexer": "ipython3",
   "version": "3.9.6"
  }
 },
 "nbformat": 4,
 "nbformat_minor": 5
}
