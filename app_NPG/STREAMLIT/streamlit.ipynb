{
 "cells": [
  {
   "cell_type": "markdown",
   "source": [
    "|![python_logo.png](img/python_logo.png)|\n",
    "| -- |"
   ],
   "metadata": {}
  },
  {
   "cell_type": "markdown",
   "source": [
    "### Tutorial libreria streamlit"
   ],
   "metadata": {}
  },
  {
   "cell_type": "code",
   "execution_count": 3,
   "source": [
    "import streamlit\n",
    "import numpy as np\n",
    "import pandas as pd"
   ],
   "outputs": [],
   "metadata": {}
  },
  {
   "cell_type": "markdown",
   "source": [
    "### PARA ARRANCAR EL PROGRAMA EJECUTAR: streamlit run streamlit.py"
   ],
   "metadata": {}
  }
 ],
 "metadata": {
  "kernelspec": {
   "name": "python3",
   "display_name": "Python 3.9.6 64-bit ('Ejercicios_Prog_Avanzada-OvvKQvod': pipenv)"
  },
  "language_info": {
   "codemirror_mode": {
    "name": "ipython",
    "version": 3
   },
   "file_extension": ".py",
   "mimetype": "text/x-python",
   "name": "python",
   "nbconvert_exporter": "python",
   "pygments_lexer": "ipython3",
   "version": "3.9.6"
  },
  "interpreter": {
   "hash": "4091cd0683e36eeb9a7a7833deb2610b41dd2b53442656d253a7560941aa8241"
  }
 },
 "nbformat": 4,
 "nbformat_minor": 5
}