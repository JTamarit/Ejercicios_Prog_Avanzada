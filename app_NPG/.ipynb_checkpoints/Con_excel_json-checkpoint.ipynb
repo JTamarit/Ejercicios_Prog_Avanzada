{
 "cells": [
  {
   "cell_type": "markdown",
   "id": "ca9c2d2d",
   "metadata": {},
   "source": [
    "|![python_logo.png](img/python_logo.png)|\n",
    "| -- |"
   ]
  },
  {
   "cell_type": "markdown",
   "id": "d8863830",
   "metadata": {},
   "source": [
    "### Convertir un archivo excel a json"
   ]
  },
  {
   "cell_type": "code",
   "execution_count": null,
   "id": "c788fd45",
   "metadata": {},
   "outputs": [],
   "source": []
  }
 ],
 "metadata": {
  "kernelspec": {
   "display_name": "Python 3 (ipykernel)",
   "language": "python",
   "name": "python3"
  },
  "language_info": {
   "codemirror_mode": {
    "name": "ipython",
    "version": 3
   },
   "file_extension": ".py",
   "mimetype": "text/x-python",
   "name": "python",
   "nbconvert_exporter": "python",
   "pygments_lexer": "ipython3",
   "version": "3.8.10"
  }
 },
 "nbformat": 4,
 "nbformat_minor": 5
}
