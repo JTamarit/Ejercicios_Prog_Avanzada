{
 "cells": [
  {
   "cell_type": "markdown",
   "id": "considered-allergy",
   "metadata": {},
   "source": [
    "<img src=\"img/viu_logo.png\" width=\"200\">"
   ]
  },
  {
   "cell_type": "code",
   "execution_count": null,
   "id": "cce5d4c6",
   "metadata": {},
   "outputs": [],
   "source": []
  },
  {
   "cell_type": "markdown",
   "id": "saved-pickup",
   "metadata": {},
   "source": [
    "## Curso 03EPPY Bases de Datos.   "
   ]
  },
  {
   "cell_type": "markdown",
   "id": "f7db5d29",
   "metadata": {},
   "source": [
    "<img src=\"img/logos.png\" width=\"460\">\n"
   ]
  },
  {
   "cell_type": "markdown",
   "id": "59ba41e1",
   "metadata": {},
   "source": [
    "## Profesor"
   ]
  },
  {
   "cell_type": "markdown",
   "id": "a806e7bd",
   "metadata": {},
   "source": [
    "*Liliana Gavidia Ceballos*"
   ]
  },
  {
   "cell_type": "markdown",
   "id": "6142917c",
   "metadata": {},
   "source": [
    "Career\n",
    "\n",
    "- PhD en Ingeniería Biomédica. Duke University. North Carolina, USA.\n",
    "- Ingeniero Electrónico y Biomédico. Universidad Simón Bolívar.  Caracas, Venezuela.\n",
    "\n",
    "\n",
    "- Colaboradora en la startup Alumbra Ciencia de Datos Alumbra SPA.\n",
    "  \n",
    "   - Uso de Inteligencia Artificial en imágenes de Rayos X de Tórax.\n",
    "   - Creación de una plataforma de personalización de Asistentes Virtuales de Radiología.\n",
    "       - Detección precoz de patrones patológicos asociados a enfermedades respiratorias. \n",
    "       - Evolución y seguimiento.\n",
    "   \n",
    "   \n",
    "- Prototipos y aplicaciones salud digital y monitoreo de tercera edad.\n",
    "- Proyectos de Sistemas de Información Médica para la automatización del Flujo de Trabajo de Departamentos de Radiología (RIS-PACS).\n",
    "- Proyectos de Gestión Documental para la Automatización de Procesos y Flujo de Trabajo de las Áreas de Emergencia y Cirugía Electiva de Hospitales.\n",
    "\n",
    "     \n",
    "VIU\n",
    "- Master en Ingeniería Biomédica\n",
    "   - Telemedicina y eSalud (eHealth)\n",
    "- Grado de Ingeniería Informática\n",
    "   - Bases de Datos\n",
    "- Master en Internet de las Cosas\n",
    "   - eHealth\n",
    "- Curso de Experto Programación en Python\n",
    "   - Bases de Datos\n",
    "- Master en Bioinformática\n",
    "   - Programación con Python y R\n",
    "\n",
    "Contacto\n",
    "\n",
    "\n",
    "* Email: liliana.gavidia@campusviu.es\n",
    "* Discord: https://discord.gg/9wPrwEJV4r"
   ]
  },
  {
   "cell_type": "markdown",
   "id": "invisible-enterprise",
   "metadata": {},
   "source": [
    "## Objetivos"
   ]
  },
  {
   "cell_type": "markdown",
   "id": "ultimate-maple",
   "metadata": {},
   "source": [
    "- Almacenamiento y recuperación de Datos.\n",
    "- Diseño e Implementación de Bases de Datos.\n",
    "- Manipulación de Bases de Datos desde Aplicaciones.\n",
    "- Creación de Aplicaciones interactivas.\n",
    "- Big Data. Visualización de colecciones de Datos usando Localización Geográfica"
   ]
  },
  {
   "cell_type": "markdown",
   "id": "joint-floor",
   "metadata": {},
   "source": [
    "## Temario"
   ]
  },
  {
   "cell_type": "markdown",
   "id": "73e3c4af",
   "metadata": {},
   "source": [
    "\n",
    "- Almacenamiento de Datos\n",
    "    - Persistencia\n",
    "    - Sistemas de Ficheros \n",
    "        - LFS (Local)\n",
    "        - NFS (En Red)\n",
    "        - DFS (Distribuido)\n",
    "    - Cache\n",
    "- Bases de Datos Relacionales\n",
    "    - Modelo Entidad Relación\n",
    "    - Diseño\n",
    "- SQL y Python\n",
    "    - SQLite\n",
    "    - SQL DDL\n",
    "    - SQL DML\n",
    "    - Acceso a Datos desde Python (PySQLite)\n",
    "    - Object Relational Mapping (SQLAlchemy)\n",
    "- Bases de Datos NoSQL\n",
    "    - MongoDB\n",
    "    - PyMongo\n",
    "- Bases de Datos Distribuidas\n",
    "    - Cassandra\n",
    "    - CQL\n",
    "    - Clusters\n",
    "- Modelo Vista Controlador\n",
    "    - Django\n",
    "    - Migración\n",
    "    - Conversión de Datos\n",
    "- REST API\n",
    "    - Recursos\n",
    "    - Endpoints\n",
    "    - Integración de Datos\n",
    "- Warehousing de Datos\n",
    "    - OLAP\n",
    "    - Cubos\n",
    "- Big Data\n",
    "    - Hadoop\n",
    "    - HDFS"
   ]
  },
  {
   "cell_type": "markdown",
   "id": "brown-patient",
   "metadata": {},
   "source": [
    "## Metodología"
   ]
  },
  {
   "cell_type": "markdown",
   "id": "patent-boring",
   "metadata": {},
   "source": [
    "- 6 ECTS = 150 horas = 30h Clases + 120h Trabajo Autónomo.\n",
    "- Calendario 30 jun al 21 sep.\n",
    "    - 5 clases semanales durante el mes de julio (mie)\n",
    "        - 10 clases durante el mes de septiembre.  \n",
    "            - 1ra semana:  \n",
    "                (mie, jue) \n",
    "            - 2da y3ra semana:  \n",
    "                (lun, mar, jue)   \n",
    "            - 4ta semana:  \n",
    "                (lun, mar)\n",
    "- Horario: 19:00 a 21:00 CEST.\n",
    "\n",
    "\n",
    "- Sesiones online (Grabadas): 15\\*2h = 30h\n",
    "- Trabajo Autónomo."
   ]
  },
  {
   "cell_type": "code",
   "execution_count": 1,
   "id": "44781456",
   "metadata": {},
   "outputs": [
    {
     "data": {
      "text/html": [
       "<style>\n",
       "  table {margin-left: 0 !important;}\n",
       "</style>\n"
      ],
      "text/plain": [
       "<IPython.core.display.HTML object>"
      ]
     },
     "metadata": {},
     "output_type": "display_data"
    }
   ],
   "source": [
    "%%html\n",
    "<style>\n",
    "  table {margin-left: 0 !important;}\n",
    "</style>"
   ]
  },
  {
   "cell_type": "markdown",
   "id": "agreed-baseline",
   "metadata": {},
   "source": [
    "## Sesiones Online\n",
    "Horario 19:00 a 21:00 CEST"
   ]
  },
  {
   "cell_type": "markdown",
   "id": "noticed-sailing",
   "metadata": {},
   "source": [
    "|Fecha       | VC   |\n",
    "|:-----------|:----:|\n",
    "| 30-06-2021 | TC   |\n",
    "| 07-07-2021 | VC 00|\n",
    "| 14-07-2021 | VC 01|\n",
    "| 21-07-2021 | VC 02|\n",
    "| 28-07-2021 | VC 03|\n",
    "| 01-09-2021 | VC 04|\n",
    "| 02-09-2021 | VC 05|\n",
    "| 06-09-2021 | VC 06|\n",
    "| 07-09-2021 | VC 07|\n",
    "| 09-09-2021 | VC 08|\n",
    "| 13-09-2021 | VC 09|\n",
    "| 14-09-2021 | VC 10|\n",
    "| 16-09-2021 | VC 11|\n",
    "| 20-09-2021 | VC 12|\n",
    "| 21-09-2021 | VC 13|"
   ]
  },
  {
   "cell_type": "markdown",
   "id": "29ffc4d1",
   "metadata": {},
   "source": [
    "## Recursos de la Asignatura"
   ]
  },
  {
   "cell_type": "markdown",
   "id": "51ebc42d",
   "metadata": {},
   "source": [
    "- En el Aula Virtual:\n",
    "    - Actividades (Descripción y Entregas)\n",
    "    - Videoconferencias (acceso en línea y a las sesiones grabadas)\n",
    "    - Grupos (Inscripción en grupos para la realización de las actividades)\n",
    "    \n",
    "    \n",
    "- Repositorio GitHub:\n",
    "    - https://github.com/vany-viu/EPPY_04_A_21-22\n",
    "    - Cuadernos Jupyter Notebook usados en clase.\n",
    "    \n",
    "    Enviar usuario de GitHub.\n",
    "    \n",
    "    Se recomienda a los estudiantes:\n",
    "        - efectuar un *fork* del repositorio del curso.\n",
    "        - hacer un *pull* frecuente hacia su repositorio para actualizar los cambios.\n",
    "        - desarrollar las actividades dentro de su propio repositorio.\n",
    "    "
   ]
  },
  {
   "cell_type": "markdown",
   "id": "molecular-reducing",
   "metadata": {},
   "source": [
    "## Actividades y Entregas"
   ]
  },
  {
   "cell_type": "markdown",
   "id": "amazing-egyptian",
   "metadata": {},
   "source": [
    "- Portfolio\n",
    "    - 50%\n",
    "    - 2 actividades guiadas sobre algún tema específico de la asignatura.\n",
    "    - Serán propuestas tan pronto sea presentado el tema en clase.\n",
    "    \n",
    "  \n",
    "- Actividad final\n",
    "    - 50%.\n",
    "    - Reto de mayor nivel.\n",
    "    - Varias propuestas sobre temas diferentes.  Se elige una en particular.\n",
    "    \n",
    "\n",
    "- Todas las actividades y proyectos serán entregados en grupos usando una de las siguientes opciones:\n",
    "    - Fork + tag, repositorio (privado) para alumnos:  \n",
    "        https://github.com/vany-viu/EPPY_04_A_21-22\n",
    "    - Pestaña Grupos del aula del curso en la Plataforma Blackboard.  \n",
    "        --> Actividades en Grupo --> Seleccionar enlace a la actividad a subir\n",
    "        - Subir ficheros correspondientes.  \n",
    "\n",
    "NOTA: Al indicar el enlace, se deberá indicar también los nombres de los integrantes que participaron en la realización de  la actividad.  Se deberá incluir además un cuaderno jupyter notebook que indique brevemente los pasos seguidos para el desarrollo de la actividad (en caso que esta sea un proyecto), así como los detalles de puesta en funcionamiento.\n",
    "\n",
    "\n",
    "- Dos convocatorias:\n",
    "|Fecha       |Convocat.|\n",
    "|:-----------|:-------:|\n",
    "| 24-09-2021 | 1ra Conv|\n",
    "| 05-10-2021 | 2da Conv|\n",
    "\n",
    "\n",
    "- Todas las actividades (portafolio y actividad final) deberán ser aprobadas para aprobar la asignatura."
   ]
  },
  {
   "cell_type": "markdown",
   "id": "careful-object",
   "metadata": {},
   "source": [
    "- Escala de Evaluación:\n",
    "| Nota | Evaluación |\n",
    "|:---------|:-----|\n",
    "| x < 5  | Suspendido |\n",
    "| 5 <= x < 7 | Aprobado |\n",
    "| 7 <= x < 9 | Notable |\n",
    "| 9 <= x | Sobresaliente |"
   ]
  },
  {
   "cell_type": "markdown",
   "id": "experienced-springer",
   "metadata": {},
   "source": [
    "## Instalación Local"
   ]
  },
  {
   "cell_type": "markdown",
   "id": "unexpected-lingerie",
   "metadata": {},
   "source": [
    "- Python >= 3.7\n",
    "\n",
    "- Jupyter Notebook / Jupyter Lab.\n",
    "\n",
    "- Entorno de Desarrollo y Editor de código\n",
    "    - Visual Studio Code\n",
    "    - Pycharm\n",
    "    - Sublime Text, Atom. Spyder.\n",
    "- Recomendación VSCode\n",
    "  - https://code.visualstudio.com/\n",
    "  - https://code.visualstudio.com/docs/python/python-tutorial\n",
    "  - https://code.visualstudio.com/docs/languages/python\n",
    "- Extensiones de Visual Studio Code\n",
    "     - Python\n",
    "     - Jupyter"
   ]
  },
  {
   "cell_type": "markdown",
   "id": "hired-defeat",
   "metadata": {},
   "source": [
    "### Documentación Django"
   ]
  },
  {
   "cell_type": "markdown",
   "id": "opened-group",
   "metadata": {},
   "source": [
    "https://code.visualstudio.com/docs/python/tutorial-django  \n",
    "Academind: https://www.youtube.com/watch?v=t7DrJqcUviA  \n",
    "freeCodeCamp: https://www.youtube.com/watch?v=YZvRrldjf1Y&list=RDCMUC8butISFwT-Wl7EV0hUK0BQ&start_radio=1"
   ]
  },
  {
   "cell_type": "markdown",
   "id": "placed-legislation",
   "metadata": {},
   "source": [
    "- Documentacióm Git:\n",
    "    https://www.youtube.com/watch?v=YZvRrldjf1Y&list=RDCMUC8butISFwT-Wl7EV0hUK0BQ&start_radio=1"
   ]
  },
  {
   "cell_type": "markdown",
   "id": "accepted-arcade",
   "metadata": {},
   "source": [
    "### Documentación Git\n",
    "Libro: https://git-scm.com/book/es/v2"
   ]
  },
  {
   "cell_type": "markdown",
   "id": "broken-installation",
   "metadata": {},
   "source": []
  },
  {
   "cell_type": "markdown",
   "id": "global-galaxy",
   "metadata": {},
   "source": []
  },
  {
   "cell_type": "markdown",
   "id": "progressive-qatar",
   "metadata": {},
   "source": []
  }
 ],
 "metadata": {
  "kernelspec": {
   "display_name": "Python 3",
   "language": "python",
   "name": "python3"
  },
  "language_info": {
   "codemirror_mode": {
    "name": "ipython",
    "version": 3
   },
   "file_extension": ".py",
   "mimetype": "text/x-python",
   "name": "python",
   "nbconvert_exporter": "python",
   "pygments_lexer": "ipython3",
   "version": "3.7.10"
  }
 },
 "nbformat": 4,
 "nbformat_minor": 5
}
