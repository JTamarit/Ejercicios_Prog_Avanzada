{
 "cells": [
  {
   "cell_type": "markdown",
   "id": "considered-allergy",
   "metadata": {},
   "source": [
    "<img src=\"img/viu_logo.png\" width=\"200\">"
   ]
  },
  {
   "cell_type": "code",
   "execution_count": null,
   "id": "147f4d72",
   "metadata": {},
   "outputs": [],
   "source": []
  },
  {
   "cell_type": "markdown",
   "id": "saved-pickup",
   "metadata": {},
   "source": [
    "## Curso 03EPPY Bases de Datos.   "
   ]
  },
  {
   "cell_type": "markdown",
   "id": "42294112",
   "metadata": {},
   "source": [
    "<img src=\"img/logos.png\" width=\"460\">\n"
   ]
  },
  {
   "cell_type": "markdown",
   "id": "aaa08661",
   "metadata": {},
   "source": [
    "Profesor: *Liliana Gavidia Ceballos*"
   ]
  },
  {
   "cell_type": "markdown",
   "id": "e29186e0",
   "metadata": {},
   "source": [
    "## SQL (Lenguaje Estructurado de Consulta).\n",
    "\n",
    "- **SQL** es un lenguaje sencillo, versátil y poderoso, que permite crear, consultar y manipular datos y estructuras en una base de datos. También puede definirse como un lenguaje que permite especificar consultas en una base de datos relacional."
   ]
  },
  {
   "cell_type": "markdown",
   "id": "97bfdf8a",
   "metadata": {},
   "source": [
    "## Instalar la librería ipython-SQL.\n",
    "Autor: Catherine Devlin, http://catherinedevlin.blogspot.com\n",
    "- [ipython-sql ](https://pypi.org/project/ipython-sql/ )\n",
    "    - Instalación: *pip install ipython-SQL* \n",
    "    \n",
    "- Permite usar la **misma sintaxis de comandos** del lenguaje de consulta **SQL** dentro de un cuaderno de Jupyter Notebook.\n",
    "    - Consultas SQL que ocupan una sola línea:   Anteponer símbolo **%** \n",
    "    - Consultas SQL que ocupan más de una línea: Anteponer símbolo **%%**\n",
    "\n",
    "- Esto gracias al uso del ORM **SQL Alchemy**.\n",
    "\n",
    "NOTA: Esta librería por alguna razón no funciona bien para la versión 3.9.4.  \n",
    "Se recomienda descargar desde la pagina de python el ejecutable para instalar la versión 3.9.6.  \n",
    "Al ejecutarla, seleccionar la opción \"upgrade now\" y con ello se completa la actualización.\n"
   ]
  },
  {
   "cell_type": "markdown",
   "id": "2198239c",
   "metadata": {},
   "source": [
    "## Al abrir el cuaderno Jupyter Notebook:\n",
    "\n",
    "- Cargar la extensión SQL. \n",
    "\n",
    "- Cargar base de datos en el cuaderno Jupyter Notebook.\n",
    "    - El fichero de base de datos debe estar en el mismo directorio desde el cual se ejecuta el cuaderno.\n",
    "    - Si no existe, creará una base de datos vacía.\n",
    "    "
   ]
  },
  {
   "cell_type": "code",
   "execution_count": 1,
   "id": "88816ee9",
   "metadata": {},
   "outputs": [
    {
     "data": {
      "text/plain": [
       "'Connected: @flights.db'"
      ]
     },
     "execution_count": 1,
     "metadata": {},
     "output_type": "execute_result"
    }
   ],
   "source": [
    " import os\n",
    " \n",
    " %reload_ext sql \n",
    " \n",
    " dbname = 'flights.db'\n",
    " if os.path.exists(dbname): os.unlink(dbname)\n",
    "\n",
    " %sql sqlite:///flights.db"
   ]
  },
  {
   "cell_type": "markdown",
   "id": "e8d4c222",
   "metadata": {},
   "source": [
    "## Lenguaje de Definición de Datos (DDL)"
   ]
  },
  {
   "cell_type": "markdown",
   "id": "2b0f84b0",
   "metadata": {},
   "source": [
    "Es utilizado en la definición del schema, lo que permite definir cómo se estructuran los datos en una base de datos relacional. Los comandos asociados a la definición del schema son: CREATE, ALTER y DROP."
   ]
  },
  {
   "cell_type": "markdown",
   "id": "66a831cf",
   "metadata": {},
   "source": [
    "## CREATE(DATABASE, TABLE, ROLE, VIEW)"
   ]
  },
  {
   "cell_type": "markdown",
   "id": "3712dc10",
   "metadata": {},
   "source": [
    "- `CREATE TABLE nombre_tabla (  \n",
    "     nombre_columna1 tipo_variable,  \n",
    "     nombre_columna2 tipo_variable,  \n",
    "     nombre_columna3 tipo_variable,  \n",
    "     nombre_columna4 tipo_variable  \n",
    ")`"
   ]
  },
  {
   "cell_type": "code",
   "execution_count": 2,
   "id": "43cb41cf",
   "metadata": {},
   "outputs": [
    {
     "name": "stdout",
     "output_type": "stream",
     "text": [
      " * sqlite:///flights.db\n",
      "Done.\n"
     ]
    },
    {
     "data": {
      "text/plain": [
       "[]"
      ]
     },
     "execution_count": 2,
     "metadata": {},
     "output_type": "execute_result"
    }
   ],
   "source": [
    "%%sql\n",
    "DROP TABLE IF EXISTS vuelos;"
   ]
  },
  {
   "cell_type": "code",
   "execution_count": 4,
   "id": "5d5c1aa2",
   "metadata": {},
   "outputs": [
    {
     "name": "stdout",
     "output_type": "stream",
     "text": [
      "Done.\n"
     ]
    },
    {
     "data": {
      "text/plain": [
       "[]"
      ]
     },
     "execution_count": 4,
     "metadata": {},
     "output_type": "execute_result"
    }
   ],
   "source": [
    "%%sql sqlite:// \n",
    "\n",
    "CREATE TABLE vuelos (\n",
    "    id_vuelo SERIAL AUTO INCREMENT,  \n",
    "    origen VARCHAR NOT NULL,\n",
    "    destino VARCHAR NOT NULL,\n",
    "    hora_salida TEXT,\n",
    "    hora_llegada TEXT,\n",
    "    aerolinea VARCHAR NOT NULL\n",
    ")"
   ]
  },
  {
   "cell_type": "markdown",
   "id": "ultimate-maple",
   "metadata": {},
   "source": [
    "## Visualizar estructura de tabla creada"
   ]
  },
  {
   "cell_type": "code",
   "execution_count": 5,
   "id": "b8639cd8",
   "metadata": {},
   "outputs": [
    {
     "name": "stdout",
     "output_type": "stream",
     "text": [
      " * sqlite:///flights.db\n",
      "Done.\n"
     ]
    },
    {
     "data": {
      "text/html": [
       "<table>\n",
       "    <tr>\n",
       "        <th>cid</th>\n",
       "        <th>name</th>\n",
       "        <th>type</th>\n",
       "        <th>notnull</th>\n",
       "        <th>dflt_value</th>\n",
       "        <th>pk</th>\n",
       "    </tr>\n",
       "    <tr>\n",
       "        <td>0</td>\n",
       "        <td>id_vuelo</td>\n",
       "        <td>SERIAL AUTO INCREMENT</td>\n",
       "        <td>0</td>\n",
       "        <td>None</td>\n",
       "        <td>0</td>\n",
       "    </tr>\n",
       "    <tr>\n",
       "        <td>1</td>\n",
       "        <td>origen</td>\n",
       "        <td>VARCHAR</td>\n",
       "        <td>1</td>\n",
       "        <td>None</td>\n",
       "        <td>0</td>\n",
       "    </tr>\n",
       "    <tr>\n",
       "        <td>2</td>\n",
       "        <td>destino</td>\n",
       "        <td>VARCHAR</td>\n",
       "        <td>1</td>\n",
       "        <td>None</td>\n",
       "        <td>0</td>\n",
       "    </tr>\n",
       "    <tr>\n",
       "        <td>3</td>\n",
       "        <td>hora_salida</td>\n",
       "        <td>TEXT</td>\n",
       "        <td>0</td>\n",
       "        <td>None</td>\n",
       "        <td>0</td>\n",
       "    </tr>\n",
       "    <tr>\n",
       "        <td>4</td>\n",
       "        <td>hora_llegada</td>\n",
       "        <td>TEXT</td>\n",
       "        <td>0</td>\n",
       "        <td>None</td>\n",
       "        <td>0</td>\n",
       "    </tr>\n",
       "    <tr>\n",
       "        <td>5</td>\n",
       "        <td>aerolinea</td>\n",
       "        <td>VARCHAR</td>\n",
       "        <td>1</td>\n",
       "        <td>None</td>\n",
       "        <td>0</td>\n",
       "    </tr>\n",
       "</table>"
      ],
      "text/plain": [
       "[(0, 'id_vuelo', 'SERIAL AUTO INCREMENT', 0, None, 0),\n",
       " (1, 'origen', 'VARCHAR', 1, None, 0),\n",
       " (2, 'destino', 'VARCHAR', 1, None, 0),\n",
       " (3, 'hora_salida', 'TEXT', 0, None, 0),\n",
       " (4, 'hora_llegada', 'TEXT', 0, None, 0),\n",
       " (5, 'aerolinea', 'VARCHAR', 1, None, 0)]"
      ]
     },
     "execution_count": 5,
     "metadata": {},
     "output_type": "execute_result"
    }
   ],
   "source": [
    "%sql PRAGMA table_info(vuelos)"
   ]
  },
  {
   "cell_type": "markdown",
   "id": "joint-floor",
   "metadata": {},
   "source": [
    "## Modificar la Estructura de una Tabla\n",
    "\n",
    "## Añadir Columna a una Tabla"
   ]
  },
  {
   "cell_type": "markdown",
   "id": "ba3967ed",
   "metadata": {},
   "source": [
    "- `ALTER TABLE nombre_tabla  \n",
    "     ADD COLUMN nombre_columna tipo_variable`"
   ]
  },
  {
   "cell_type": "code",
   "execution_count": 6,
   "id": "14df3863",
   "metadata": {},
   "outputs": [
    {
     "name": "stdout",
     "output_type": "stream",
     "text": [
      " * sqlite:///flights.db\n",
      "Done.\n"
     ]
    },
    {
     "data": {
      "text/plain": [
       "[]"
      ]
     },
     "execution_count": 6,
     "metadata": {},
     "output_type": "execute_result"
    }
   ],
   "source": [
    "%%sql\n",
    "ALTER TABLE vuelos\n",
    "    ADD COLUMN fecha_vuelo TIMESTAMP"
   ]
  },
  {
   "cell_type": "code",
   "execution_count": 7,
   "id": "84dc81e9",
   "metadata": {},
   "outputs": [
    {
     "name": "stdout",
     "output_type": "stream",
     "text": [
      " * sqlite:///flights.db\n",
      "Done.\n"
     ]
    },
    {
     "data": {
      "text/html": [
       "<table>\n",
       "    <tr>\n",
       "        <th>cid</th>\n",
       "        <th>name</th>\n",
       "        <th>type</th>\n",
       "        <th>notnull</th>\n",
       "        <th>dflt_value</th>\n",
       "        <th>pk</th>\n",
       "    </tr>\n",
       "    <tr>\n",
       "        <td>0</td>\n",
       "        <td>id_vuelo</td>\n",
       "        <td>SERIAL AUTO INCREMENT</td>\n",
       "        <td>0</td>\n",
       "        <td>None</td>\n",
       "        <td>0</td>\n",
       "    </tr>\n",
       "    <tr>\n",
       "        <td>1</td>\n",
       "        <td>origen</td>\n",
       "        <td>VARCHAR</td>\n",
       "        <td>1</td>\n",
       "        <td>None</td>\n",
       "        <td>0</td>\n",
       "    </tr>\n",
       "    <tr>\n",
       "        <td>2</td>\n",
       "        <td>destino</td>\n",
       "        <td>VARCHAR</td>\n",
       "        <td>1</td>\n",
       "        <td>None</td>\n",
       "        <td>0</td>\n",
       "    </tr>\n",
       "    <tr>\n",
       "        <td>3</td>\n",
       "        <td>hora_salida</td>\n",
       "        <td>TEXT</td>\n",
       "        <td>0</td>\n",
       "        <td>None</td>\n",
       "        <td>0</td>\n",
       "    </tr>\n",
       "    <tr>\n",
       "        <td>4</td>\n",
       "        <td>hora_llegada</td>\n",
       "        <td>TEXT</td>\n",
       "        <td>0</td>\n",
       "        <td>None</td>\n",
       "        <td>0</td>\n",
       "    </tr>\n",
       "    <tr>\n",
       "        <td>5</td>\n",
       "        <td>aerolinea</td>\n",
       "        <td>VARCHAR</td>\n",
       "        <td>1</td>\n",
       "        <td>None</td>\n",
       "        <td>0</td>\n",
       "    </tr>\n",
       "    <tr>\n",
       "        <td>6</td>\n",
       "        <td>fecha_vuelo</td>\n",
       "        <td>TIMESTAMP</td>\n",
       "        <td>0</td>\n",
       "        <td>None</td>\n",
       "        <td>0</td>\n",
       "    </tr>\n",
       "</table>"
      ],
      "text/plain": [
       "[(0, 'id_vuelo', 'SERIAL AUTO INCREMENT', 0, None, 0),\n",
       " (1, 'origen', 'VARCHAR', 1, None, 0),\n",
       " (2, 'destino', 'VARCHAR', 1, None, 0),\n",
       " (3, 'hora_salida', 'TEXT', 0, None, 0),\n",
       " (4, 'hora_llegada', 'TEXT', 0, None, 0),\n",
       " (5, 'aerolinea', 'VARCHAR', 1, None, 0),\n",
       " (6, 'fecha_vuelo', 'TIMESTAMP', 0, None, 0)]"
      ]
     },
     "execution_count": 7,
     "metadata": {},
     "output_type": "execute_result"
    }
   ],
   "source": [
    "%sql PRAGMA TABLE_info(vuelos)"
   ]
  },
  {
   "cell_type": "markdown",
   "id": "30d3c047",
   "metadata": {},
   "source": [
    "## Eliminar Columna de una Tabla"
   ]
  },
  {
   "cell_type": "markdown",
   "id": "a3fbebff",
   "metadata": {},
   "source": [
    "- `ALTER TABLE nombre-tabla  \n",
    "     DROP COLUMN nombre-columna`"
   ]
  },
  {
   "cell_type": "code",
   "execution_count": 8,
   "id": "2421e3a5",
   "metadata": {},
   "outputs": [
    {
     "name": "stdout",
     "output_type": "stream",
     "text": [
      " * sqlite:///flights.db\n",
      "Done.\n"
     ]
    },
    {
     "data": {
      "text/plain": [
       "[]"
      ]
     },
     "execution_count": 8,
     "metadata": {},
     "output_type": "execute_result"
    }
   ],
   "source": [
    "%%sql\n",
    "ALTER TABLE vuelos\n",
    "    DROP COLUMN fecha_vuelo"
   ]
  },
  {
   "cell_type": "code",
   "execution_count": 9,
   "id": "e5517a44",
   "metadata": {},
   "outputs": [
    {
     "name": "stdout",
     "output_type": "stream",
     "text": [
      " * sqlite:///flights.db\n",
      "Done.\n"
     ]
    },
    {
     "data": {
      "text/html": [
       "<table>\n",
       "    <tr>\n",
       "        <th>cid</th>\n",
       "        <th>name</th>\n",
       "        <th>type</th>\n",
       "        <th>notnull</th>\n",
       "        <th>dflt_value</th>\n",
       "        <th>pk</th>\n",
       "    </tr>\n",
       "    <tr>\n",
       "        <td>0</td>\n",
       "        <td>id_vuelo</td>\n",
       "        <td>SERIAL AUTO INCREMENT</td>\n",
       "        <td>0</td>\n",
       "        <td>None</td>\n",
       "        <td>0</td>\n",
       "    </tr>\n",
       "    <tr>\n",
       "        <td>1</td>\n",
       "        <td>origen</td>\n",
       "        <td>VARCHAR</td>\n",
       "        <td>1</td>\n",
       "        <td>None</td>\n",
       "        <td>0</td>\n",
       "    </tr>\n",
       "    <tr>\n",
       "        <td>2</td>\n",
       "        <td>destino</td>\n",
       "        <td>VARCHAR</td>\n",
       "        <td>1</td>\n",
       "        <td>None</td>\n",
       "        <td>0</td>\n",
       "    </tr>\n",
       "    <tr>\n",
       "        <td>3</td>\n",
       "        <td>hora_salida</td>\n",
       "        <td>TEXT</td>\n",
       "        <td>0</td>\n",
       "        <td>None</td>\n",
       "        <td>0</td>\n",
       "    </tr>\n",
       "    <tr>\n",
       "        <td>4</td>\n",
       "        <td>hora_llegada</td>\n",
       "        <td>TEXT</td>\n",
       "        <td>0</td>\n",
       "        <td>None</td>\n",
       "        <td>0</td>\n",
       "    </tr>\n",
       "    <tr>\n",
       "        <td>5</td>\n",
       "        <td>aerolinea</td>\n",
       "        <td>VARCHAR</td>\n",
       "        <td>1</td>\n",
       "        <td>None</td>\n",
       "        <td>0</td>\n",
       "    </tr>\n",
       "</table>"
      ],
      "text/plain": [
       "[(0, 'id_vuelo', 'SERIAL AUTO INCREMENT', 0, None, 0),\n",
       " (1, 'origen', 'VARCHAR', 1, None, 0),\n",
       " (2, 'destino', 'VARCHAR', 1, None, 0),\n",
       " (3, 'hora_salida', 'TEXT', 0, None, 0),\n",
       " (4, 'hora_llegada', 'TEXT', 0, None, 0),\n",
       " (5, 'aerolinea', 'VARCHAR', 1, None, 0)]"
      ]
     },
     "execution_count": 9,
     "metadata": {},
     "output_type": "execute_result"
    }
   ],
   "source": [
    "%sql PRAGMA TABLE_INFO(vuelos)"
   ]
  },
  {
   "cell_type": "markdown",
   "id": "86354e1a",
   "metadata": {},
   "source": [
    "## Eliminar una Tabla"
   ]
  },
  {
   "cell_type": "markdown",
   "id": "0b729f37",
   "metadata": {},
   "source": [
    "- `DROP TABLE nombre_tabla`"
   ]
  },
  {
   "cell_type": "markdown",
   "id": "53480565",
   "metadata": {},
   "source": [
    "- `DROP TABLE vuelos`"
   ]
  },
  {
   "cell_type": "markdown",
   "id": "8a1e227a",
   "metadata": {},
   "source": [
    "## Eliminar una Base de Datos\n"
   ]
  },
  {
   "cell_type": "markdown",
   "id": "e0a827a2",
   "metadata": {},
   "source": [
    "- `DROP DATABASE nombre_basedatos`"
   ]
  },
  {
   "cell_type": "markdown",
   "id": "1f0f8c9b",
   "metadata": {},
   "source": [
    "- `DROP DATABASE flights`"
   ]
  },
  {
   "cell_type": "markdown",
   "id": "11269939",
   "metadata": {},
   "source": [
    "\n"
   ]
  },
  {
   "cell_type": "markdown",
   "id": "a094a36f",
   "metadata": {},
   "source": [
    "## Lenguaje de Manipulación de Datos (DML)\n",
    "\n",
    "Es el usado en las consultas y modificación de los datos. Los comandos asociados a la manipulación de datos son: SELECT, INSERT, UPDATE, y DELETE."
   ]
  },
  {
   "cell_type": "markdown",
   "id": "130d66ac",
   "metadata": {},
   "source": [
    "- `SELECT  \n",
    "    nombre_columna1,  \n",
    "    nombre_columna2,  \n",
    "     ...  \n",
    "    nombre_columnaN  \n",
    "    FROM nombre_tabla`"
   ]
  },
  {
   "cell_type": "code",
   "execution_count": 10,
   "id": "d15387bf",
   "metadata": {},
   "outputs": [
    {
     "name": "stdout",
     "output_type": "stream",
     "text": [
      " * sqlite:///flights.db\n",
      "Done.\n"
     ]
    },
    {
     "data": {
      "text/html": [
       "<table>\n",
       "    <tr>\n",
       "        <th>id_vuelo</th>\n",
       "        <th>origen</th>\n",
       "        <th>destino</th>\n",
       "        <th>hora_salida</th>\n",
       "        <th>hora_llegada</th>\n",
       "        <th>aerolinea</th>\n",
       "    </tr>\n",
       "</table>"
      ],
      "text/plain": [
       "[]"
      ]
     },
     "execution_count": 10,
     "metadata": {},
     "output_type": "execute_result"
    }
   ],
   "source": [
    "%sql SELECT * FROM vuelos"
   ]
  },
  {
   "cell_type": "markdown",
   "id": "373bd7b3",
   "metadata": {},
   "source": [
    "## Lenguaje de Consulta o Manipulación de Datos (DML) : SELECT\n"
   ]
  },
  {
   "cell_type": "code",
   "execution_count": 11,
   "id": "2db31cc6",
   "metadata": {},
   "outputs": [
    {
     "name": "stdout",
     "output_type": "stream",
     "text": [
      " * sqlite:///flights.db\n",
      "Done.\n"
     ]
    },
    {
     "data": {
      "text/html": [
       "<table>\n",
       "    <tr>\n",
       "        <th>id_vuelo</th>\n",
       "        <th>aerolinea</th>\n",
       "    </tr>\n",
       "</table>"
      ],
      "text/plain": [
       "[]"
      ]
     },
     "execution_count": 11,
     "metadata": {},
     "output_type": "execute_result"
    }
   ],
   "source": [
    "%sql SELECT id_vuelo, aerolinea FROM vuelos"
   ]
  },
  {
   "cell_type": "code",
   "execution_count": 10,
   "id": "75f66895",
   "metadata": {},
   "outputs": [
    {
     "name": "stdout",
     "output_type": "stream",
     "text": [
      " * sqlite:///flights.db\n",
      "Done.\n"
     ]
    },
    {
     "data": {
      "text/html": [
       "<table>\n",
       "    <tr>\n",
       "        <th>id_vuelo</th>\n",
       "        <th>aerolinea</th>\n",
       "    </tr>\n",
       "</table>"
      ],
      "text/plain": [
       "[]"
      ]
     },
     "execution_count": 10,
     "metadata": {},
     "output_type": "execute_result"
    }
   ],
   "source": [
    "%%sql SELECT id_vuelo, aerolinea FROM vuelos\n",
    "    WHERE origen='caracas'\n",
    "    AND destino='madrid'"
   ]
  },
  {
   "cell_type": "markdown",
   "id": "brown-patient",
   "metadata": {},
   "source": [
    "## Lenguaje de Consulta o Manipulación de Datos (DML) : INSERT"
   ]
  },
  {
   "cell_type": "markdown",
   "id": "patent-boring",
   "metadata": {},
   "source": [
    "- `INSERT INTO nombre_tabla(var1, var2, ...)  \n",
    "     VALUES (data1, data2, ...)`"
   ]
  },
  {
   "cell_type": "code",
   "execution_count": 12,
   "id": "bf1897b6",
   "metadata": {
    "scrolled": true
   },
   "outputs": [
    {
     "name": "stdout",
     "output_type": "stream",
     "text": [
      " * sqlite:///flights.db\n",
      "1 rows affected.\n"
     ]
    },
    {
     "data": {
      "text/plain": [
       "[]"
      ]
     },
     "execution_count": 12,
     "metadata": {},
     "output_type": "execute_result"
    }
   ],
   "source": [
    "%%sql\n",
    "INSERT INTO vuelos (id_vuelo, origen, destino, hora_salida, hora_llegada, aerolinea)\n",
    "    VALUES ('IB6674', 'caracas', 'madrid', '16:50', '10:15', 'swiss')"
   ]
  },
  {
   "cell_type": "code",
   "execution_count": 13,
   "id": "67434d3a",
   "metadata": {},
   "outputs": [
    {
     "name": "stdout",
     "output_type": "stream",
     "text": [
      " * sqlite:///flights.db\n",
      "2 rows affected.\n"
     ]
    },
    {
     "data": {
      "text/plain": [
       "[]"
      ]
     },
     "execution_count": 13,
     "metadata": {},
     "output_type": "execute_result"
    }
   ],
   "source": [
    "%%sql\n",
    "INSERT INTO vuelos (id_vuelo, origen, destino, hora_salida, hora_llegada, aerolinea) VALUES\n",
    "    ('TK1836', 'barcelona', 'estambul', '13:15', '17:40', 'turkish airlines'),\n",
    "    ('LH0920', 'francfort', 'londres', '20:00', '20:40', 'lufthansa')"
   ]
  },
  {
   "cell_type": "code",
   "execution_count": 14,
   "id": "81d65941",
   "metadata": {
    "tags": []
   },
   "outputs": [
    {
     "name": "stdout",
     "output_type": "stream",
     "text": [
      " * sqlite:///flights.db\n",
      "Done.\n"
     ]
    },
    {
     "data": {
      "text/html": [
       "<table>\n",
       "    <tr>\n",
       "        <th>id_vuelo</th>\n",
       "        <th>origen</th>\n",
       "        <th>destino</th>\n",
       "        <th>hora_salida</th>\n",
       "        <th>hora_llegada</th>\n",
       "        <th>aerolinea</th>\n",
       "    </tr>\n",
       "    <tr>\n",
       "        <td>IB6674</td>\n",
       "        <td>caracas</td>\n",
       "        <td>madrid</td>\n",
       "        <td>16:50</td>\n",
       "        <td>10:15</td>\n",
       "        <td>swiss</td>\n",
       "    </tr>\n",
       "    <tr>\n",
       "        <td>TK1836</td>\n",
       "        <td>barcelona</td>\n",
       "        <td>estambul</td>\n",
       "        <td>13:15</td>\n",
       "        <td>17:40</td>\n",
       "        <td>turkish airlines</td>\n",
       "    </tr>\n",
       "    <tr>\n",
       "        <td>LH0920</td>\n",
       "        <td>francfort</td>\n",
       "        <td>londres</td>\n",
       "        <td>20:00</td>\n",
       "        <td>20:40</td>\n",
       "        <td>lufthansa</td>\n",
       "    </tr>\n",
       "</table>"
      ],
      "text/plain": [
       "[('IB6674', 'caracas', 'madrid', '16:50', '10:15', 'swiss'),\n",
       " ('TK1836', 'barcelona', 'estambul', '13:15', '17:40', 'turkish airlines'),\n",
       " ('LH0920', 'francfort', 'londres', '20:00', '20:40', 'lufthansa')]"
      ]
     },
     "execution_count": 14,
     "metadata": {},
     "output_type": "execute_result"
    }
   ],
   "source": [
    "%sql SELECT * FROM vuelos"
   ]
  },
  {
   "cell_type": "markdown",
   "id": "agreed-baseline",
   "metadata": {},
   "source": [
    "## Lenguaje de Consulta o Manipulación de Datos (DML) : UPDATE"
   ]
  },
  {
   "cell_type": "markdown",
   "id": "noticed-sailing",
   "metadata": {},
   "source": [
    "- `UPDATE nombre_tabla SET  \n",
    "     nombre_columna=nuevo_valor  \n",
    "     WHERE alguna_condicion`"
   ]
  },
  {
   "cell_type": "markdown",
   "id": "172ac9b0",
   "metadata": {},
   "source": [
    "- Supongamos que en el registro del vuelo en la tabla vuelos se cometió un error en los campos aerolínea y hora-salida para el vuelo IB6674.\n",
    "Si solo queremos corregir el error en la aerolínea:"
   ]
  },
  {
   "cell_type": "code",
   "execution_count": 15,
   "id": "5146fa3d",
   "metadata": {
    "scrolled": true
   },
   "outputs": [
    {
     "name": "stdout",
     "output_type": "stream",
     "text": [
      " * sqlite:///flights.db\n",
      "Done.\n"
     ]
    },
    {
     "data": {
      "text/html": [
       "<table>\n",
       "    <tr>\n",
       "        <th>id_vuelo</th>\n",
       "        <th>origen</th>\n",
       "        <th>destino</th>\n",
       "        <th>hora_salida</th>\n",
       "        <th>hora_llegada</th>\n",
       "        <th>aerolinea</th>\n",
       "    </tr>\n",
       "    <tr>\n",
       "        <td>IB6674</td>\n",
       "        <td>caracas</td>\n",
       "        <td>madrid</td>\n",
       "        <td>16:50</td>\n",
       "        <td>10:15</td>\n",
       "        <td>swiss</td>\n",
       "    </tr>\n",
       "    <tr>\n",
       "        <td>TK1836</td>\n",
       "        <td>barcelona</td>\n",
       "        <td>estambul</td>\n",
       "        <td>13:15</td>\n",
       "        <td>17:40</td>\n",
       "        <td>turkish airlines</td>\n",
       "    </tr>\n",
       "    <tr>\n",
       "        <td>LH0920</td>\n",
       "        <td>francfort</td>\n",
       "        <td>londres</td>\n",
       "        <td>20:00</td>\n",
       "        <td>20:40</td>\n",
       "        <td>lufthansa</td>\n",
       "    </tr>\n",
       "</table>"
      ],
      "text/plain": [
       "[('IB6674', 'caracas', 'madrid', '16:50', '10:15', 'swiss'),\n",
       " ('TK1836', 'barcelona', 'estambul', '13:15', '17:40', 'turkish airlines'),\n",
       " ('LH0920', 'francfort', 'londres', '20:00', '20:40', 'lufthansa')]"
      ]
     },
     "execution_count": 15,
     "metadata": {},
     "output_type": "execute_result"
    }
   ],
   "source": [
    "%sql SELECT * FROM vuelos"
   ]
  },
  {
   "cell_type": "code",
   "execution_count": 16,
   "id": "d91a41ac",
   "metadata": {},
   "outputs": [
    {
     "name": "stdout",
     "output_type": "stream",
     "text": [
      " * sqlite:///flights.db\n",
      "1 rows affected.\n"
     ]
    },
    {
     "data": {
      "text/plain": [
       "[]"
      ]
     },
     "execution_count": 16,
     "metadata": {},
     "output_type": "execute_result"
    }
   ],
   "source": [
    "%%sql\n",
    "UPDATE vuelos SET\n",
    "    aerolinea='iberia'\n",
    "    WHERE id_vuelo='IB6674'"
   ]
  },
  {
   "cell_type": "code",
   "execution_count": 17,
   "id": "0a2bb431",
   "metadata": {},
   "outputs": [
    {
     "name": "stdout",
     "output_type": "stream",
     "text": [
      " * sqlite:///flights.db\n",
      "Done.\n"
     ]
    },
    {
     "data": {
      "text/html": [
       "<table>\n",
       "    <tr>\n",
       "        <th>id_vuelo</th>\n",
       "        <th>origen</th>\n",
       "        <th>destino</th>\n",
       "        <th>hora_salida</th>\n",
       "        <th>hora_llegada</th>\n",
       "        <th>aerolinea</th>\n",
       "    </tr>\n",
       "    <tr>\n",
       "        <td>IB6674</td>\n",
       "        <td>caracas</td>\n",
       "        <td>madrid</td>\n",
       "        <td>16:50</td>\n",
       "        <td>10:15</td>\n",
       "        <td>iberia</td>\n",
       "    </tr>\n",
       "    <tr>\n",
       "        <td>TK1836</td>\n",
       "        <td>barcelona</td>\n",
       "        <td>estambul</td>\n",
       "        <td>13:15</td>\n",
       "        <td>17:40</td>\n",
       "        <td>turkish airlines</td>\n",
       "    </tr>\n",
       "    <tr>\n",
       "        <td>LH0920</td>\n",
       "        <td>francfort</td>\n",
       "        <td>londres</td>\n",
       "        <td>20:00</td>\n",
       "        <td>20:40</td>\n",
       "        <td>lufthansa</td>\n",
       "    </tr>\n",
       "</table>"
      ],
      "text/plain": [
       "[('IB6674', 'caracas', 'madrid', '16:50', '10:15', 'iberia'),\n",
       " ('TK1836', 'barcelona', 'estambul', '13:15', '17:40', 'turkish airlines'),\n",
       " ('LH0920', 'francfort', 'londres', '20:00', '20:40', 'lufthansa')]"
      ]
     },
     "execution_count": 17,
     "metadata": {},
     "output_type": "execute_result"
    }
   ],
   "source": [
    "%sql SELECT * FROM vuelos"
   ]
  },
  {
   "cell_type": "markdown",
   "id": "unexpected-lingerie",
   "metadata": {},
   "source": [
    "- Si queremos corregir ambos errores en una misma línea de comandos:"
   ]
  },
  {
   "cell_type": "code",
   "execution_count": 18,
   "id": "97900372",
   "metadata": {},
   "outputs": [
    {
     "name": "stdout",
     "output_type": "stream",
     "text": [
      " * sqlite:///flights.db\n",
      "1 rows affected.\n"
     ]
    },
    {
     "data": {
      "text/plain": [
       "[]"
      ]
     },
     "execution_count": 18,
     "metadata": {},
     "output_type": "execute_result"
    }
   ],
   "source": [
    "%%sql\n",
    "UPDATE vuelos SET\n",
    "    aerolinea='iberia',hora_salida='19:50' \n",
    "    WHERE id_vuelo='IB6674'"
   ]
  },
  {
   "cell_type": "markdown",
   "id": "50a248a7",
   "metadata": {},
   "source": [
    "- Muy importante observar el uso de la cláusula WHERE en el comando UPDATE.\n",
    "- De lo contrario, el cambio se realizaría sobre todos los registros de la tabla."
   ]
  },
  {
   "cell_type": "code",
   "execution_count": 19,
   "id": "5f496947",
   "metadata": {},
   "outputs": [
    {
     "name": "stdout",
     "output_type": "stream",
     "text": [
      " * sqlite:///flights.db\n",
      "Done.\n"
     ]
    },
    {
     "data": {
      "text/html": [
       "<table>\n",
       "    <tr>\n",
       "        <th>id_vuelo</th>\n",
       "        <th>origen</th>\n",
       "        <th>destino</th>\n",
       "        <th>hora_salida</th>\n",
       "        <th>hora_llegada</th>\n",
       "        <th>aerolinea</th>\n",
       "    </tr>\n",
       "    <tr>\n",
       "        <td>IB6674</td>\n",
       "        <td>caracas</td>\n",
       "        <td>madrid</td>\n",
       "        <td>19:50</td>\n",
       "        <td>10:15</td>\n",
       "        <td>iberia</td>\n",
       "    </tr>\n",
       "    <tr>\n",
       "        <td>TK1836</td>\n",
       "        <td>barcelona</td>\n",
       "        <td>estambul</td>\n",
       "        <td>13:15</td>\n",
       "        <td>17:40</td>\n",
       "        <td>turkish airlines</td>\n",
       "    </tr>\n",
       "    <tr>\n",
       "        <td>LH0920</td>\n",
       "        <td>francfort</td>\n",
       "        <td>londres</td>\n",
       "        <td>20:00</td>\n",
       "        <td>20:40</td>\n",
       "        <td>lufthansa</td>\n",
       "    </tr>\n",
       "</table>"
      ],
      "text/plain": [
       "[('IB6674', 'caracas', 'madrid', '19:50', '10:15', 'iberia'),\n",
       " ('TK1836', 'barcelona', 'estambul', '13:15', '17:40', 'turkish airlines'),\n",
       " ('LH0920', 'francfort', 'londres', '20:00', '20:40', 'lufthansa')]"
      ]
     },
     "execution_count": 19,
     "metadata": {},
     "output_type": "execute_result"
    }
   ],
   "source": [
    "%sql SELECT * FROM vuelos"
   ]
  },
  {
   "cell_type": "markdown",
   "id": "placed-legislation",
   "metadata": {},
   "source": [
    "## Lenguaje de Consulta o Manipulación de Datos (DML): DELETE"
   ]
  },
  {
   "cell_type": "markdown",
   "id": "accepted-arcade",
   "metadata": {},
   "source": [
    "- `DELETE FROM nombre_tabla`"
   ]
  },
  {
   "cell_type": "code",
   "execution_count": 20,
   "id": "d2d572ab",
   "metadata": {},
   "outputs": [
    {
     "name": "stdout",
     "output_type": "stream",
     "text": [
      " * sqlite:///flights.db\n",
      "3 rows affected.\n"
     ]
    },
    {
     "data": {
      "text/plain": [
       "[]"
      ]
     },
     "execution_count": 20,
     "metadata": {},
     "output_type": "execute_result"
    }
   ],
   "source": [
    "%sql DELETE FROM vuelos"
   ]
  },
  {
   "cell_type": "code",
   "execution_count": 21,
   "id": "fdaef177",
   "metadata": {},
   "outputs": [
    {
     "name": "stdout",
     "output_type": "stream",
     "text": [
      " * sqlite:///flights.db\n",
      "Done.\n"
     ]
    },
    {
     "data": {
      "text/html": [
       "<table>\n",
       "    <tr>\n",
       "        <th>id_vuelo</th>\n",
       "        <th>origen</th>\n",
       "        <th>destino</th>\n",
       "        <th>hora_salida</th>\n",
       "        <th>hora_llegada</th>\n",
       "        <th>aerolinea</th>\n",
       "    </tr>\n",
       "</table>"
      ],
      "text/plain": [
       "[]"
      ]
     },
     "execution_count": 21,
     "metadata": {},
     "output_type": "execute_result"
    }
   ],
   "source": [
    "%sql SELECT * FROM vuelos"
   ]
  },
  {
   "cell_type": "markdown",
   "id": "separate-vacuum",
   "metadata": {},
   "source": [
    "Eliminación de registros de una tabla que cumplen una determinada condición:"
   ]
  },
  {
   "cell_type": "code",
   "execution_count": null,
   "id": "074e17d8",
   "metadata": {},
   "outputs": [],
   "source": [
    "%sql DELETE FROM vuelos WHERE id_vuelo='IB6674'"
   ]
  },
  {
   "cell_type": "code",
   "execution_count": null,
   "id": "f459f659",
   "metadata": {},
   "outputs": [],
   "source": [
    "%sql select * from vuelos"
   ]
  },
  {
   "cell_type": "markdown",
   "id": "caring-reach",
   "metadata": {},
   "source": [
    "## Lenguaje de Control de Datos (DCL)"
   ]
  },
  {
   "cell_type": "markdown",
   "id": "julian-turning",
   "metadata": {},
   "source": [
    "- Lenguaje de Control de Datos (DCL): se utiliza para proveer seguridad de la base de datos en un - ambiente multiusuarios.\n",
    "- Específicamente se usa para otorgar o revocar privilegios a un usuario sobre un objeto de la base de datos. En otras palabras, es lo que permite controlar los privilegios en la Base de Datos. Los comandos asociados al control de datos son: GRANT y REVOKE :"
   ]
  },
  {
   "cell_type": "markdown",
   "id": "4a3b6697",
   "metadata": {},
   "source": [
    "## Lenguaje de Control de Datos (DCL): GRANT"
   ]
  },
  {
   "cell_type": "markdown",
   "id": "instant-chassis",
   "metadata": {},
   "source": [
    "- `GRANT CREATE TABLE TO username`"
   ]
  },
  {
   "cell_type": "markdown",
   "id": "charitable-background",
   "metadata": {},
   "source": [
    "- `GRANT DROP ANY TABLE TO username`"
   ]
  },
  {
   "cell_type": "markdown",
   "id": "thousand-administrator",
   "metadata": {},
   "source": [
    "## Lenguaje de Control de Datos (DCL): REVOKE"
   ]
  },
  {
   "cell_type": "markdown",
   "id": "fossil-uncertainty",
   "metadata": {},
   "source": [
    "- Para revocar los privilegios que tiene un usuario sobre una tabla:"
   ]
  },
  {
   "cell_type": "markdown",
   "id": "successful-astrology",
   "metadata": {},
   "source": [
    "- `REVOKE CREATE TABLE TO username`"
   ]
  },
  {
   "cell_type": "markdown",
   "id": "written-merchant",
   "metadata": {},
   "source": [
    "## Expresiones de Búsqueda selectiva: LIKE"
   ]
  },
  {
   "cell_type": "markdown",
   "id": "pursuant-freeware",
   "metadata": {},
   "source": [
    "La cláusula LIKE se usa en las consultas de SQL conjuntamente con la cláusula WHERE como parte de la condición a cumplir, comparando datos extraídos de la tabla con una expresión que contiene comodines o caracteres especiales  \n",
    "(como ‘%’ y ‘_’)."
   ]
  },
  {
   "cell_type": "markdown",
   "id": "focal-bernard",
   "metadata": {},
   "source": [
    "En ella:\n",
    "- El símbolo de porcentaje (%) representa ninguno, uno o más caracteres.\n",
    "- El símbolo de guion bajo (_) representa un solo carácter."
   ]
  },
  {
   "cell_type": "markdown",
   "id": "ecological-occupation",
   "metadata": {},
   "source": [
    "Considere los siguientes datos de la tabla pasajeros:"
   ]
  },
  {
   "cell_type": "code",
   "execution_count": 22,
   "id": "7980247a",
   "metadata": {},
   "outputs": [
    {
     "name": "stdout",
     "output_type": "stream",
     "text": [
      " * sqlite:///flights.db\n",
      "Done.\n"
     ]
    },
    {
     "data": {
      "text/plain": [
       "[]"
      ]
     },
     "execution_count": 22,
     "metadata": {},
     "output_type": "execute_result"
    }
   ],
   "source": [
    "%%sql \n",
    "DROP TABLE IF EXISTS pasajeros"
   ]
  },
  {
   "cell_type": "markdown",
   "id": "clean-illinois",
   "metadata": {},
   "source": [
    "- Crear tabla pasajeros"
   ]
  },
  {
   "cell_type": "code",
   "execution_count": 23,
   "id": "76ea980b",
   "metadata": {},
   "outputs": [
    {
     "name": "stdout",
     "output_type": "stream",
     "text": [
      "Done.\n"
     ]
    },
    {
     "data": {
      "text/plain": [
       "[]"
      ]
     },
     "execution_count": 23,
     "metadata": {},
     "output_type": "execute_result"
    }
   ],
   "source": [
    "%%sql sqlite:// \n",
    "\n",
    "CREATE TABLE pasajeros (\n",
    "    id_pasajero SERIAL AUTO INCREMENT PRIMARY KEY,  \n",
    "    pasaporte VARCHAR,\n",
    "    apellido VARCHAR,\n",
    "    nombre VARCHAR\n",
    ")"
   ]
  },
  {
   "cell_type": "markdown",
   "id": "0afda28b",
   "metadata": {},
   "source": [
    "- Poblar con datos tabla pasajeros"
   ]
  },
  {
   "cell_type": "code",
   "execution_count": 24,
   "id": "fcbab33f",
   "metadata": {},
   "outputs": [
    {
     "name": "stdout",
     "output_type": "stream",
     "text": [
      " * sqlite:///flights.db\n",
      "11 rows affected.\n"
     ]
    },
    {
     "data": {
      "text/plain": [
       "[]"
      ]
     },
     "execution_count": 24,
     "metadata": {},
     "output_type": "execute_result"
    }
   ],
   "source": [
    "%%sql\n",
    "INSERT INTO pasajeros (id_pasajero, pasaporte, apellido, nombre) VALUES\n",
    "    (1, '06678450', 'gavidia', 'liliana'),\n",
    "    (2, '32775484', 'jimenez', 'jose'),\n",
    "    (3, '02115537', 'ceballos', 'olga'),\n",
    "    (4, '15978124', 'britto', 'arantxa'),\n",
    "    (5, '21447895', 'perez', 'pedro'),\n",
    "    (6, '82139600', 'gonzalez', 'judith'),\n",
    "    (7, '12115432', 'collado', 'coral'),\n",
    "    (8, '98347021', 'farkas', 'eduardo'),\n",
    "    (9, '12115432', 'rodriguez', 'loly'),\n",
    "    (10, '49718225', 'ruiz', 'hernando'),\n",
    "    (11, '21716470', 'marquez', 'alejandro')"
   ]
  },
  {
   "cell_type": "code",
   "execution_count": 39,
   "id": "2270d2a0",
   "metadata": {},
   "outputs": [
    {
     "name": "stdout",
     "output_type": "stream",
     "text": [
      " * sqlite:///flights.db\n",
      "Done.\n"
     ]
    },
    {
     "data": {
      "text/html": [
       "<table>\n",
       "    <tr>\n",
       "        <th>id_pasajero</th>\n",
       "        <th>pasaporte</th>\n",
       "        <th>apellido</th>\n",
       "        <th>nombre</th>\n",
       "    </tr>\n",
       "    <tr>\n",
       "        <td>1</td>\n",
       "        <td>06678450</td>\n",
       "        <td>gavidia</td>\n",
       "        <td>liliana</td>\n",
       "    </tr>\n",
       "    <tr>\n",
       "        <td>2</td>\n",
       "        <td>32775484</td>\n",
       "        <td>jimenez</td>\n",
       "        <td>jose</td>\n",
       "    </tr>\n",
       "    <tr>\n",
       "        <td>3</td>\n",
       "        <td>02115537</td>\n",
       "        <td>ceballos</td>\n",
       "        <td>olga</td>\n",
       "    </tr>\n",
       "    <tr>\n",
       "        <td>4</td>\n",
       "        <td>15978124</td>\n",
       "        <td>britto</td>\n",
       "        <td>arantxa</td>\n",
       "    </tr>\n",
       "    <tr>\n",
       "        <td>5</td>\n",
       "        <td>21447895</td>\n",
       "        <td>perez</td>\n",
       "        <td>pedro</td>\n",
       "    </tr>\n",
       "    <tr>\n",
       "        <td>6</td>\n",
       "        <td>82139600</td>\n",
       "        <td>gonzalez</td>\n",
       "        <td>judith</td>\n",
       "    </tr>\n",
       "    <tr>\n",
       "        <td>7</td>\n",
       "        <td>12115432</td>\n",
       "        <td>collado</td>\n",
       "        <td>coral</td>\n",
       "    </tr>\n",
       "    <tr>\n",
       "        <td>8</td>\n",
       "        <td>98347021</td>\n",
       "        <td>farkas</td>\n",
       "        <td>eduardo</td>\n",
       "    </tr>\n",
       "    <tr>\n",
       "        <td>9</td>\n",
       "        <td>12115432</td>\n",
       "        <td>rodriguez</td>\n",
       "        <td>loly</td>\n",
       "    </tr>\n",
       "    <tr>\n",
       "        <td>10</td>\n",
       "        <td>49718225</td>\n",
       "        <td>ruiz</td>\n",
       "        <td>hernando</td>\n",
       "    </tr>\n",
       "    <tr>\n",
       "        <td>11</td>\n",
       "        <td>21716470</td>\n",
       "        <td>marquez</td>\n",
       "        <td>alejandro</td>\n",
       "    </tr>\n",
       "</table>"
      ],
      "text/plain": [
       "[(1, '06678450', 'gavidia', 'liliana'),\n",
       " (2, '32775484', 'jimenez', 'jose'),\n",
       " (3, '02115537', 'ceballos', 'olga'),\n",
       " (4, '15978124', 'britto', 'arantxa'),\n",
       " (5, '21447895', 'perez', 'pedro'),\n",
       " (6, '82139600', 'gonzalez', 'judith'),\n",
       " (7, '12115432', 'collado', 'coral'),\n",
       " (8, '98347021', 'farkas', 'eduardo'),\n",
       " (9, '12115432', 'rodriguez', 'loly'),\n",
       " (10, '49718225', 'ruiz', 'hernando'),\n",
       " (11, '21716470', 'marquez', 'alejandro')]"
      ]
     },
     "execution_count": 39,
     "metadata": {},
     "output_type": "execute_result"
    }
   ],
   "source": [
    "%sql select * from pasajeros"
   ]
  },
  {
   "cell_type": "markdown",
   "id": "certified-tract",
   "metadata": {},
   "source": [
    "## Expresiones de Búsqueda selectiva: LIKE"
   ]
  },
  {
   "cell_type": "markdown",
   "id": "comfortable-development",
   "metadata": {},
   "source": [
    "- Consulta de todos los registros cuyo nombre **comienza** por una ‘j’:"
   ]
  },
  {
   "cell_type": "code",
   "execution_count": 25,
   "id": "76b3461a",
   "metadata": {},
   "outputs": [
    {
     "name": "stdout",
     "output_type": "stream",
     "text": [
      " * sqlite:///flights.db\n",
      "Done.\n"
     ]
    },
    {
     "data": {
      "text/html": [
       "<table>\n",
       "    <tr>\n",
       "        <th>id_pasajero</th>\n",
       "        <th>pasaporte</th>\n",
       "        <th>apellido</th>\n",
       "        <th>nombre</th>\n",
       "    </tr>\n",
       "    <tr>\n",
       "        <td>2</td>\n",
       "        <td>32775484</td>\n",
       "        <td>jimenez</td>\n",
       "        <td>jose</td>\n",
       "    </tr>\n",
       "    <tr>\n",
       "        <td>6</td>\n",
       "        <td>82139600</td>\n",
       "        <td>gonzalez</td>\n",
       "        <td>judith</td>\n",
       "    </tr>\n",
       "</table>"
      ],
      "text/plain": [
       "[(2, '32775484', 'jimenez', 'jose'), (6, '82139600', 'gonzalez', 'judith')]"
      ]
     },
     "execution_count": 25,
     "metadata": {},
     "output_type": "execute_result"
    }
   ],
   "source": [
    "%%sql SELECT * FROM pasajeros\n",
    "    WHERE nombre LIKE 'j%'"
   ]
  },
  {
   "cell_type": "markdown",
   "id": "broken-installation",
   "metadata": {},
   "source": [
    "- Consulta de todos los registros cuyo nombre **finaliza** con una ‘a’:"
   ]
  },
  {
   "cell_type": "code",
   "execution_count": 26,
   "id": "d471d467",
   "metadata": {},
   "outputs": [
    {
     "name": "stdout",
     "output_type": "stream",
     "text": [
      " * sqlite:///flights.db\n",
      "Done.\n"
     ]
    },
    {
     "data": {
      "text/html": [
       "<table>\n",
       "    <tr>\n",
       "        <th>id_pasajero</th>\n",
       "        <th>pasaporte</th>\n",
       "        <th>apellido</th>\n",
       "        <th>nombre</th>\n",
       "    </tr>\n",
       "    <tr>\n",
       "        <td>1</td>\n",
       "        <td>06678450</td>\n",
       "        <td>gavidia</td>\n",
       "        <td>liliana</td>\n",
       "    </tr>\n",
       "    <tr>\n",
       "        <td>3</td>\n",
       "        <td>02115537</td>\n",
       "        <td>ceballos</td>\n",
       "        <td>olga</td>\n",
       "    </tr>\n",
       "    <tr>\n",
       "        <td>4</td>\n",
       "        <td>15978124</td>\n",
       "        <td>britto</td>\n",
       "        <td>arantxa</td>\n",
       "    </tr>\n",
       "</table>"
      ],
      "text/plain": [
       "[(1, '06678450', 'gavidia', 'liliana'),\n",
       " (3, '02115537', 'ceballos', 'olga'),\n",
       " (4, '15978124', 'britto', 'arantxa')]"
      ]
     },
     "execution_count": 26,
     "metadata": {},
     "output_type": "execute_result"
    }
   ],
   "source": [
    "%%sql SELECT * FROM pasajeros\n",
    "    WHERE nombre LIKE '%a'"
   ]
  },
  {
   "cell_type": "markdown",
   "id": "progressive-qatar",
   "metadata": {},
   "source": [
    "- Consulta de todos los registros cuyo nombre tiene una **‘o’ en la segunda posición** de los caracteres:"
   ]
  },
  {
   "cell_type": "code",
   "execution_count": 27,
   "id": "edafd930",
   "metadata": {},
   "outputs": [
    {
     "name": "stdout",
     "output_type": "stream",
     "text": [
      " * sqlite:///flights.db\n",
      "Done.\n"
     ]
    },
    {
     "data": {
      "text/html": [
       "<table>\n",
       "    <tr>\n",
       "        <th>id_pasajero</th>\n",
       "        <th>pasaporte</th>\n",
       "        <th>apellido</th>\n",
       "        <th>nombre</th>\n",
       "    </tr>\n",
       "    <tr>\n",
       "        <td>2</td>\n",
       "        <td>32775484</td>\n",
       "        <td>jimenez</td>\n",
       "        <td>jose</td>\n",
       "    </tr>\n",
       "    <tr>\n",
       "        <td>7</td>\n",
       "        <td>12115432</td>\n",
       "        <td>collado</td>\n",
       "        <td>coral</td>\n",
       "    </tr>\n",
       "    <tr>\n",
       "        <td>9</td>\n",
       "        <td>12115432</td>\n",
       "        <td>rodriguez</td>\n",
       "        <td>loly</td>\n",
       "    </tr>\n",
       "</table>"
      ],
      "text/plain": [
       "[(2, '32775484', 'jimenez', 'jose'),\n",
       " (7, '12115432', 'collado', 'coral'),\n",
       " (9, '12115432', 'rodriguez', 'loly')]"
      ]
     },
     "execution_count": 27,
     "metadata": {},
     "output_type": "execute_result"
    }
   ],
   "source": [
    "%%sql SELECT * FROM pasajeros\n",
    "    WHERE nombre LIKE '_o%'"
   ]
  },
  {
   "cell_type": "markdown",
   "id": "4807eace",
   "metadata": {},
   "source": [
    "## Funciones de agregación : SUM, MAX"
   ]
  },
  {
   "cell_type": "markdown",
   "id": "75917738",
   "metadata": {},
   "source": [
    "- La función SUM () retorna la suma total de una columna numérica."
   ]
  },
  {
   "cell_type": "markdown",
   "id": "5060107d",
   "metadata": {},
   "source": [
    " - `SELECT SUM (nombre_columna)  \n",
    "      FROM nombre_tabla  \n",
    "      WHERE  condicion`"
   ]
  },
  {
   "cell_type": "markdown",
   "id": "07793224",
   "metadata": {},
   "source": [
    "- La función MAX () devuelve el valor máximo en la columna especificada."
   ]
  },
  {
   "cell_type": "markdown",
   "id": "f214fdb6",
   "metadata": {},
   "source": [
    "- `SELECT MAX (nombre_columna)  \n",
    "     FROM nombre_tabla  \n",
    "     WHERE  condicion`"
   ]
  },
  {
   "cell_type": "markdown",
   "id": "44a09d4f",
   "metadata": {},
   "source": [
    "## Funciones de agregación : MIN, COUNT"
   ]
  },
  {
   "cell_type": "markdown",
   "id": "d0a7e92e",
   "metadata": {},
   "source": [
    "- La función MIN () devuelve el valor mínimo en la columna especificada."
   ]
  },
  {
   "cell_type": "markdown",
   "id": "119257ce",
   "metadata": {},
   "source": [
    "- `SELECT MIN (nombre_columna)  \n",
    "     FROM nombre_tabla  \n",
    "     WHERE  condicion`"
   ]
  },
  {
   "cell_type": "markdown",
   "id": "5c0331b0",
   "metadata": {},
   "source": [
    "- La función COUNT () retorna el número de filas que cumplen con la condición especificada."
   ]
  },
  {
   "cell_type": "markdown",
   "id": "3c8136b8",
   "metadata": {},
   "source": [
    "- `SELECT COUNT (nombre_columna)  \n",
    "     FROM nombre_tabla  \n",
    "     WHERE  condicion`"
   ]
  },
  {
   "cell_type": "markdown",
   "id": "7ec2f30c",
   "metadata": {},
   "source": [
    "## Funciones de agregación : AVG"
   ]
  },
  {
   "cell_type": "markdown",
   "id": "adee57ca",
   "metadata": {},
   "source": [
    "- La función AVG () retorna el valor promedio de un columna numérica."
   ]
  },
  {
   "cell_type": "markdown",
   "id": "1b3f2711",
   "metadata": {},
   "source": [
    "- `SELECT AVG (nombre_columna)  \n",
    "     FROM nombre_tabla  \n",
    "     WHERE  condicion`"
   ]
  },
  {
   "cell_type": "markdown",
   "id": "cd2281d4",
   "metadata": {},
   "source": [
    "## Funciones de agrupación : GROUP BY"
   ]
  },
  {
   "cell_type": "markdown",
   "id": "a5f3f5bc",
   "metadata": {},
   "source": [
    "- La cláusula GROUP BY permite agrupar los resultados de una consulta SELECT \n",
    "según una o más columnas. \n",
    "- Suele usarse a menudo con las funciones de agregación \n",
    "(SUM, MAX, MIN, COUNT, AVG) para agrupar el conjunto de \n",
    "resultados por una o más columnas."
   ]
  },
  {
   "cell_type": "markdown",
   "id": "51ca787d",
   "metadata": {},
   "source": [
    "- `SELECT nombre_columna funcion(nombre_columna)  \n",
    "     FROM nombre_tabla  \n",
    "     WHERE  condicion  \n",
    "     GROUP BY nombre_columna`"
   ]
  },
  {
   "cell_type": "markdown",
   "id": "5d910201",
   "metadata": {},
   "source": [
    "- Supongamos que tenemos una tabla tarjeta_embarque con los siguientes campos:"
   ]
  },
  {
   "cell_type": "code",
   "execution_count": 28,
   "id": "012a0873",
   "metadata": {},
   "outputs": [
    {
     "name": "stdout",
     "output_type": "stream",
     "text": [
      " * sqlite:///flights.db\n",
      "Done.\n"
     ]
    },
    {
     "data": {
      "text/plain": [
       "[]"
      ]
     },
     "execution_count": 28,
     "metadata": {},
     "output_type": "execute_result"
    }
   ],
   "source": [
    "%%sql\n",
    "DROP TABLE IF EXISTS tarjeta_embarque;"
   ]
  },
  {
   "cell_type": "code",
   "execution_count": 29,
   "id": "76a39b9c",
   "metadata": {},
   "outputs": [
    {
     "name": "stdout",
     "output_type": "stream",
     "text": [
      "Done.\n"
     ]
    },
    {
     "data": {
      "text/plain": [
       "[]"
      ]
     },
     "execution_count": 29,
     "metadata": {},
     "output_type": "execute_result"
    }
   ],
   "source": [
    "%%sql sqlite:// \n",
    "\n",
    "CREATE TABLE tarjeta_embarque (\n",
    "    id_tarjeta_embarque SERIAL AUTO INCREMENT,  \n",
    "    id_pasajero TEXT,\n",
    "    nro_vuelo TEXT,\n",
    "    nacionalidad_pasajero TEXT,\n",
    "    fecha_vuelo TEXT,\n",
    "    clase TEXT,\n",
    "    asiento TEXT,\n",
    "    sala_embarque TEXT\n",
    ")"
   ]
  },
  {
   "cell_type": "code",
   "execution_count": 30,
   "id": "c9232d24",
   "metadata": {},
   "outputs": [
    {
     "name": "stdout",
     "output_type": "stream",
     "text": [
      " * sqlite:///flights.db\n",
      "Done.\n"
     ]
    },
    {
     "data": {
      "text/html": [
       "<table>\n",
       "    <tr>\n",
       "        <th>id_tarjeta_embarque</th>\n",
       "        <th>id_pasajero</th>\n",
       "        <th>nro_vuelo</th>\n",
       "        <th>nacionalidad_pasajero</th>\n",
       "        <th>fecha_vuelo</th>\n",
       "        <th>clase</th>\n",
       "        <th>asiento</th>\n",
       "        <th>sala_embarque</th>\n",
       "    </tr>\n",
       "</table>"
      ],
      "text/plain": [
       "[]"
      ]
     },
     "execution_count": 30,
     "metadata": {},
     "output_type": "execute_result"
    }
   ],
   "source": [
    "%sql SELECT * FROM tarjeta_embarque"
   ]
  },
  {
   "cell_type": "code",
   "execution_count": 31,
   "id": "ae72561e",
   "metadata": {},
   "outputs": [
    {
     "name": "stdout",
     "output_type": "stream",
     "text": [
      " * sqlite:///flights.db\n",
      "10 rows affected.\n"
     ]
    },
    {
     "data": {
      "text/plain": [
       "[]"
      ]
     },
     "execution_count": 31,
     "metadata": {},
     "output_type": "execute_result"
    }
   ],
   "source": [
    "%%sql\n",
    "INSERT INTO tarjeta_embarque (id_tarjeta_embarque, id_pasajero, nro_vuelo, nacionalidad_pasajero, \n",
    "    fecha_vuelo, clase, asiento, sala_embarque) VALUES\n",
    "    (102030, '1', 'IB6674', 'venezolana', '26 oct', 'ejecutiva', '3A', '24'),\n",
    "    (102040, '2', 'IB6674', 'venezolana', '26 oct', 'ejecutiva', '4A', '24'),\n",
    "    (102050, '3', 'IB6674', 'venezolana', '26 oct', 'ejecutiva', '4B', '24'),\n",
    "    (102060, '4', 'IB6674', 'estadounidense', '26 oct', 'turista', '14A', '24'),\n",
    "    (102070, '5', 'IB6674', 'estadounidense', '26 oct', 'turista', '16A', '24'),\n",
    "    (102080, '6', 'IB6674', 'estadounidense', '26 oct', 'turista', '24A', '24'),\n",
    "    (102090, '7', 'IB6674', 'estadounidense', '26 oct', 'turista', '20A', '24'),\n",
    "    (103030, '6', 'IB6674', 'española', '26 oct', 'turista', '14C', '24'),\n",
    "    (103030, '6', 'IB6674', 'española', '26 oct', 'turista', '25B', '24'),\n",
    "    (103030, '6', 'IB6674', 'española', '26 oct', 'turista', '14D', '24')"
   ]
  },
  {
   "cell_type": "code",
   "execution_count": 30,
   "id": "739680f5",
   "metadata": {},
   "outputs": [
    {
     "name": "stdout",
     "output_type": "stream",
     "text": [
      " * sqlite:///flights.db\n",
      "Done.\n"
     ]
    },
    {
     "data": {
      "text/html": [
       "<table>\n",
       "    <tr>\n",
       "        <th>id_tarjeta_embarque</th>\n",
       "        <th>id_pasajero</th>\n",
       "        <th>nro_vuelo</th>\n",
       "        <th>nacionalidad_pasajero</th>\n",
       "        <th>fecha_vuelo</th>\n",
       "        <th>clase</th>\n",
       "        <th>asiento</th>\n",
       "        <th>sala_embarque</th>\n",
       "    </tr>\n",
       "    <tr>\n",
       "        <td>102030</td>\n",
       "        <td>1</td>\n",
       "        <td>IB6674</td>\n",
       "        <td>venezolana</td>\n",
       "        <td>26 oct</td>\n",
       "        <td>ejecutiva</td>\n",
       "        <td>3A</td>\n",
       "        <td>24</td>\n",
       "    </tr>\n",
       "    <tr>\n",
       "        <td>102040</td>\n",
       "        <td>2</td>\n",
       "        <td>IB6674</td>\n",
       "        <td>venezolana</td>\n",
       "        <td>26 oct</td>\n",
       "        <td>ejecutiva</td>\n",
       "        <td>4A</td>\n",
       "        <td>24</td>\n",
       "    </tr>\n",
       "    <tr>\n",
       "        <td>102050</td>\n",
       "        <td>3</td>\n",
       "        <td>IB6674</td>\n",
       "        <td>venezolana</td>\n",
       "        <td>26 oct</td>\n",
       "        <td>ejecutiva</td>\n",
       "        <td>4B</td>\n",
       "        <td>24</td>\n",
       "    </tr>\n",
       "    <tr>\n",
       "        <td>102060</td>\n",
       "        <td>4</td>\n",
       "        <td>IB6674</td>\n",
       "        <td>estadounidense</td>\n",
       "        <td>26 oct</td>\n",
       "        <td>turista</td>\n",
       "        <td>14A</td>\n",
       "        <td>24</td>\n",
       "    </tr>\n",
       "    <tr>\n",
       "        <td>102070</td>\n",
       "        <td>5</td>\n",
       "        <td>IB6674</td>\n",
       "        <td>estadounidense</td>\n",
       "        <td>26 oct</td>\n",
       "        <td>turista</td>\n",
       "        <td>16A</td>\n",
       "        <td>24</td>\n",
       "    </tr>\n",
       "    <tr>\n",
       "        <td>102080</td>\n",
       "        <td>6</td>\n",
       "        <td>IB6674</td>\n",
       "        <td>estadounidense</td>\n",
       "        <td>26 oct</td>\n",
       "        <td>turista</td>\n",
       "        <td>24A</td>\n",
       "        <td>24</td>\n",
       "    </tr>\n",
       "    <tr>\n",
       "        <td>102090</td>\n",
       "        <td>7</td>\n",
       "        <td>IB6674</td>\n",
       "        <td>estadounidense</td>\n",
       "        <td>26 oct</td>\n",
       "        <td>turista</td>\n",
       "        <td>20A</td>\n",
       "        <td>24</td>\n",
       "    </tr>\n",
       "    <tr>\n",
       "        <td>103030</td>\n",
       "        <td>6</td>\n",
       "        <td>IB6674</td>\n",
       "        <td>española</td>\n",
       "        <td>26 oct</td>\n",
       "        <td>turista</td>\n",
       "        <td>14C</td>\n",
       "        <td>24</td>\n",
       "    </tr>\n",
       "    <tr>\n",
       "        <td>103030</td>\n",
       "        <td>6</td>\n",
       "        <td>IB6674</td>\n",
       "        <td>española</td>\n",
       "        <td>26 oct</td>\n",
       "        <td>turista</td>\n",
       "        <td>25B</td>\n",
       "        <td>24</td>\n",
       "    </tr>\n",
       "    <tr>\n",
       "        <td>103030</td>\n",
       "        <td>6</td>\n",
       "        <td>IB6674</td>\n",
       "        <td>española</td>\n",
       "        <td>26 oct</td>\n",
       "        <td>turista</td>\n",
       "        <td>14D</td>\n",
       "        <td>24</td>\n",
       "    </tr>\n",
       "</table>"
      ],
      "text/plain": [
       "[(102030, '1', 'IB6674', 'venezolana', '26 oct', 'ejecutiva', '3A', '24'),\n",
       " (102040, '2', 'IB6674', 'venezolana', '26 oct', 'ejecutiva', '4A', '24'),\n",
       " (102050, '3', 'IB6674', 'venezolana', '26 oct', 'ejecutiva', '4B', '24'),\n",
       " (102060, '4', 'IB6674', 'estadounidense', '26 oct', 'turista', '14A', '24'),\n",
       " (102070, '5', 'IB6674', 'estadounidense', '26 oct', 'turista', '16A', '24'),\n",
       " (102080, '6', 'IB6674', 'estadounidense', '26 oct', 'turista', '24A', '24'),\n",
       " (102090, '7', 'IB6674', 'estadounidense', '26 oct', 'turista', '20A', '24'),\n",
       " (103030, '6', 'IB6674', 'española', '26 oct', 'turista', '14C', '24'),\n",
       " (103030, '6', 'IB6674', 'española', '26 oct', 'turista', '25B', '24'),\n",
       " (103030, '6', 'IB6674', 'española', '26 oct', 'turista', '14D', '24')]"
      ]
     },
     "execution_count": 30,
     "metadata": {},
     "output_type": "execute_result"
    }
   ],
   "source": [
    "%sql SELECT * FROM tarjeta_embarque"
   ]
  },
  {
   "cell_type": "markdown",
   "id": "9396a940",
   "metadata": {},
   "source": [
    "- Si queremos conocer el número de pasajeros según su nacionalidad en el vuelo IB6674:"
   ]
  },
  {
   "cell_type": "code",
   "execution_count": 44,
   "id": "71883006",
   "metadata": {},
   "outputs": [
    {
     "name": "stdout",
     "output_type": "stream",
     "text": [
      " * sqlite:///flights.db\n",
      "Done.\n"
     ]
    },
    {
     "data": {
      "text/html": [
       "<table>\n",
       "    <tr>\n",
       "        <th>COUNT(id_pasajero)</th>\n",
       "        <th>nacionalidad_pasajero</th>\n",
       "    </tr>\n",
       "    <tr>\n",
       "        <td>3</td>\n",
       "        <td>española</td>\n",
       "    </tr>\n",
       "    <tr>\n",
       "        <td>4</td>\n",
       "        <td>estadounidense</td>\n",
       "    </tr>\n",
       "    <tr>\n",
       "        <td>3</td>\n",
       "        <td>venezolana</td>\n",
       "    </tr>\n",
       "</table>"
      ],
      "text/plain": [
       "[(3, 'española'), (4, 'estadounidense'), (3, 'venezolana')]"
      ]
     },
     "execution_count": 44,
     "metadata": {},
     "output_type": "execute_result"
    }
   ],
   "source": [
    "%%sql SELECT COUNT(id_pasajero), nacionalidad_pasajero  \n",
    "    FROM tarjeta_embarque  \n",
    "    WHERE nro_vuelo LIKE'IB%'  \n",
    "    GROUP BY nacionalidad_pasajero"
   ]
  },
  {
   "cell_type": "markdown",
   "id": "a27fcdd0",
   "metadata": {},
   "source": [
    "## Funciones de ordenamiento: ORDER BY"
   ]
  },
  {
   "cell_type": "markdown",
   "id": "ba1646b4",
   "metadata": {},
   "source": [
    "- Especifica la forma de ordenar los resultados. \n",
    "- Esta cláusula se coloca de último en la instrucción SQL y contiene una lista de los campos usados para ordenar, en el mismo orden en el que se quiere aplicar los criterios para ordenar los resultados de la consulta SQL.\n",
    "- Si se desea ordenar los resultados de una consulta de vuelos disponibles cuyo origen sea caracas y cuyo destino sea Miami por aerolínea en orden ascendente, y en caso que haya varios vuelos para una misma aerolínea, se desea también ordenarlos por hora de salida del vuelo en forma ascendente, la cláusula ORDER BY a incluir al final de la instrucción sería la siguiente:"
   ]
  },
  {
   "cell_type": "code",
   "execution_count": 45,
   "id": "b1e3e2f9",
   "metadata": {},
   "outputs": [
    {
     "name": "stdout",
     "output_type": "stream",
     "text": [
      " * sqlite:///flights.db\n",
      "Done.\n"
     ]
    },
    {
     "data": {
      "text/plain": [
       "[]"
      ]
     },
     "execution_count": 45,
     "metadata": {},
     "output_type": "execute_result"
    }
   ],
   "source": [
    "%%sql\n",
    "    DROP TABLE IF EXISTS vuelos"
   ]
  },
  {
   "cell_type": "code",
   "execution_count": 46,
   "id": "cd2b0722",
   "metadata": {},
   "outputs": [
    {
     "name": "stdout",
     "output_type": "stream",
     "text": [
      "Done.\n"
     ]
    },
    {
     "data": {
      "text/plain": [
       "[]"
      ]
     },
     "execution_count": 46,
     "metadata": {},
     "output_type": "execute_result"
    }
   ],
   "source": [
    "%%sql sqlite:// \n",
    "\n",
    "CREATE TABLE vuelos (\n",
    "    id_vuelo SERIAL AUTO INCREMENT,  \n",
    "    origen VARCHAR NOT NULL,\n",
    "    destino VARCHAR NOT NULL,\n",
    "    hora_salida TEXT,\n",
    "    hora_llegada TEXT,\n",
    "    aerolinea VARCHAR NOT NULL\n",
    ")"
   ]
  },
  {
   "cell_type": "code",
   "execution_count": 47,
   "id": "14f4d5f8",
   "metadata": {},
   "outputs": [
    {
     "name": "stdout",
     "output_type": "stream",
     "text": [
      " * sqlite:///flights.db\n",
      "8 rows affected.\n"
     ]
    },
    {
     "data": {
      "text/plain": [
       "[]"
      ]
     },
     "execution_count": 47,
     "metadata": {},
     "output_type": "execute_result"
    }
   ],
   "source": [
    "%%sql\n",
    "INSERT INTO vuelos (id_vuelo, origen, destino, hora_salida, hora_llegada, aerolinea) VALUES\n",
    "    ('IB6674', 'caracas', 'madrid', '19:50', '10:15', 'iberia'),\n",
    "    ('TK1836', 'barcelona', 'estambul', '13:15', '17:40', 'turkish airlines'),\n",
    "    ('LH0920', 'francfort', 'londres', '20:00', '20:40', 'lufthansa'),\n",
    "    ('LX0633', 'paris', 'zurich', '9:50', '11:10', 'swiss'),\n",
    "    ('AA5823', 'dallas', 'beijing', '11:20', '14:15', 'american airlines'),\n",
    "    ('AA1141', 'new york', 'miami', '5:40', '9:30', 'american airlines'),\n",
    "    ('DL1301', 'new york', 'miami', '19:30', '10:45', 'delta'),\n",
    "    ('B64044', 'new york', 'miami', '18:20', '21:30', 'jet blue')"
   ]
  },
  {
   "cell_type": "code",
   "execution_count": 48,
   "id": "96717b0c",
   "metadata": {},
   "outputs": [
    {
     "name": "stdout",
     "output_type": "stream",
     "text": [
      " * sqlite:///flights.db\n",
      "Done.\n"
     ]
    },
    {
     "data": {
      "text/html": [
       "<table>\n",
       "    <tr>\n",
       "        <th>id_vuelo</th>\n",
       "        <th>origen</th>\n",
       "        <th>destino</th>\n",
       "        <th>hora_salida</th>\n",
       "        <th>hora_llegada</th>\n",
       "        <th>aerolinea</th>\n",
       "    </tr>\n",
       "    <tr>\n",
       "        <td>AA1141</td>\n",
       "        <td>new york</td>\n",
       "        <td>miami</td>\n",
       "        <td>5:40</td>\n",
       "        <td>9:30</td>\n",
       "        <td>american airlines</td>\n",
       "    </tr>\n",
       "    <tr>\n",
       "        <td>DL1301</td>\n",
       "        <td>new york</td>\n",
       "        <td>miami</td>\n",
       "        <td>19:30</td>\n",
       "        <td>10:45</td>\n",
       "        <td>delta</td>\n",
       "    </tr>\n",
       "    <tr>\n",
       "        <td>B64044</td>\n",
       "        <td>new york</td>\n",
       "        <td>miami</td>\n",
       "        <td>18:20</td>\n",
       "        <td>21:30</td>\n",
       "        <td>jet blue</td>\n",
       "    </tr>\n",
       "</table>"
      ],
      "text/plain": [
       "[('AA1141', 'new york', 'miami', '5:40', '9:30', 'american airlines'),\n",
       " ('DL1301', 'new york', 'miami', '19:30', '10:45', 'delta'),\n",
       " ('B64044', 'new york', 'miami', '18:20', '21:30', 'jet blue')]"
      ]
     },
     "execution_count": 48,
     "metadata": {},
     "output_type": "execute_result"
    }
   ],
   "source": [
    "%%sql SELECT * FROM vuelos  \n",
    "    WHERE origen='new york' AND destino='miami'\n",
    "    ORDER BY aerolinea, hora_salida"
   ]
  },
  {
   "cell_type": "markdown",
   "id": "207896a5",
   "metadata": {},
   "source": [
    "## Expresiones avanzadas: INDICES"
   ]
  },
  {
   "cell_type": "markdown",
   "id": "e0bd2cd1",
   "metadata": {},
   "source": [
    "- Un índice es una estructura de almacenamiento físico empleada para acelerar el procesamiento de las consultas y por ende el acceso a los datos.\n",
    "- Un índice acelera las búsquedas por un subconjunto de campos de interés y que no incluya la clave primaria (índice primario)."
   ]
  },
  {
   "cell_type": "markdown",
   "id": "8638106a",
   "metadata": {},
   "source": [
    "- Supongamos por ejemplo que se desea ubicar una palabra específica en un libro que no tiene índice.\n",
    "- En ese caso habría que ir página por página, y palabra por palabra para ubicar la palabra que se está consultando. \n",
    "- Si se dispone de un índice, simplemente se va al índice, se ubica la palabra que se está buscando, y simplemente se va al número de página correspondiente. \n",
    "- Adicionalmente, cabe destacar que en un índice, las palabras están guardadas en orden alfabético. \n",
    "- De esta manera, ubicar la palabra en el índice es más rápido. \n",
    "- De allí la idea de utilizar índices, para hacer las consultas de manera rápida y eficiente."
   ]
  },
  {
   "cell_type": "markdown",
   "id": "e6fa6a2d",
   "metadata": {},
   "source": [
    "## Estructura de un Disco Duro"
   ]
  },
  {
   "cell_type": "markdown",
   "id": "291a35ee",
   "metadata": {},
   "source": [
    "- El disco consta de varios platos, cada uno con un cabezal de aguja\n",
    "- Los círculos concéntricos se denominan **pistas** (*tracks*)\n",
    "- La intersección etre un **sector** y dos pistas contiguas se senomina **bloque** (área naranja)"
   ]
  },
  {
   "cell_type": "markdown",
   "id": "767aaba6",
   "metadata": {},
   "source": [
    "<img src='img/sql/spindle_hd.png' width='380' align='left'> <img src='img/sql/sector_hd_block.png' width='300'>"
   ]
  },
  {
   "cell_type": "markdown",
   "id": "04676e3f",
   "metadata": {},
   "source": [
    "- Es posible especificar cualquier posición en el disco indicando:\n",
    "    - Número de **pista** (*track*)\n",
    "    - Número de **sector**\n",
    "- *Block address* = (**track**_number, **sector**_number)\n",
    "- El bloque puede ser de cualquier tamaño (512 bytes, etc.)\n",
    "- La lectura/escritura se realiza en términos de bloques\n",
    "- Cada byte se ubica especificando el *offset*\n",
    "    - *(Block address*, *offset)*\n",
    "- Al rotar el plato se fija el **sector**\n",
    "- Con el movimiento de la aguja se fija la **pista** (*track*)\n",
    "- Los sistemas de Gestión de Bases de Datos (DBMS) permiten almacenar los datos de manera eficiente en el disco"
   ]
  },
  {
   "cell_type": "markdown",
   "id": "6be42368",
   "metadata": {},
   "source": [
    "## Ejemplo de búsqueda optmizada. Carta en una pila"
   ]
  },
  {
   "cell_type": "markdown",
   "id": "b08fdad1",
   "metadata": {},
   "source": [
    "- Búsqueda en pila aleatoria de 52 cartas.\n",
    "\n",
    "<img src= 'img/indexing/queen_hearts.png' width= '65' height= '30' align='left' style=\"vertical-align:middle;margin:0px 40px\">\n",
    "<img src= 'img/indexing/card_deck.png' width= '80' style=\"vertical-align:middle;margin:0px 195px\">\n",
    "<left width= '80' style=\"vertical-align:middle;margin:0px 250px\"> En promedio 26 lanzamientos</left>"
   ]
  },
  {
   "cell_type": "markdown",
   "id": "016ac2ac",
   "metadata": {},
   "source": [
    "- Búsqueda aleatoria en cuatro pilas con cartas agrupadas por pintas.\n",
    "    - 4 pilas: 2 lanzamientos\n",
    "    - 13 cartas: 7 lanzamientos\n",
    "\n",
    "<img src= 'img/indexing/4pile_cards.png' width= '280'>\n",
    "<center> En promedio 9 lanzamientos </center>"
   ]
  },
  {
   "cell_type": "markdown",
   "id": "9bffe2c9",
   "metadata": {},
   "source": [
    "- Búsqueda en la que cada pinta se separa adicionalmente en dos grupos: (As hasta, 6 y 7 hasta Rey)\n",
    "    - 4 pilas: 2 lanzamientos\n",
    "    - 2 pilas: 1 lanzamiento\n",
    "    - 7 cartas: 4 lanzamientos"
   ]
  },
  {
   "cell_type": "markdown",
   "id": "3866b50b",
   "metadata": {},
   "source": [
    "- Al reagrupar los datos en pilas con ciertas claves, es posible reducir drásticamente el número de búsquedas y selecciones requeridas para el acceso a los datos"
   ]
  },
  {
   "cell_type": "markdown",
   "id": "0c2ef5cb",
   "metadata": {},
   "source": [
    "## Búsqueda en Bloques"
   ]
  },
  {
   "cell_type": "markdown",
   "id": "9fdcd4b4",
   "metadata": {},
   "source": [
    "- Supongamos que tenemos 100 registros en la tabla pasajeros.\n",
    "- Cada registro ocupa 128 bytes.\n",
    "- Si se definen bloques de almacenamiento en el disco duro de 512 bytes:\n",
    "    - Es posible almacenar 4 registros por bloque.\n",
    "    - Se requieren 25 bloques para almacenar los 100 registros.\n",
    "    - Se requieren 25 accesos al disco duro para recorrer todos los registros."
   ]
  },
  {
   "cell_type": "markdown",
   "id": "71cb9f7d",
   "metadata": {},
   "source": [
    "<img src= 'img/sql/data_blocks.png' width= '540'>"
   ]
  },
  {
   "cell_type": "markdown",
   "id": "3c19bc6a",
   "metadata": {},
   "source": [
    "#### Cómo disminuimos el número de accesos al disco duro?\n",
    "- Definiendo índices.\n",
    "    - Se define un índice que apunta a cada registro de la tabla pasajeros (indicando el bloque de cada registro).\n",
    "    - Supongamos que el índice ocupa 16 bytes entre el id_pasajero y el apuntador a cada registro correspondiente.\n",
    "    - 512/16 = 32. Cada bloque puede almacenar la información de los apuntadores a 32 registros. \n",
    "    - Se requieren 4 bloques para almacenar el índice de los 100 registros.\n",
    "- Cada vez que se desea realizar una búsqueda se ubica el índice, y con este se apunta al bloque que contiene el registro en cuestión.\n",
    "    - Para ubicar el índice se requiere recorrer 4 bloques.\n",
    "    - Una vez ubicado el índice se requiere recorrer un bloque para ubicar el registro en cuestión.\n",
    "    - En total: 5 bloques (4 bloques de índice y 1 bloque de la tabla pasajeros).\n",
    "    - 5 accesos al disco duro.  "
   ]
  },
  {
   "cell_type": "markdown",
   "id": "a29d9c44",
   "metadata": {},
   "source": [
    "## Índices Multi-nivel \n",
    "(*Multi-level Index*)"
   ]
  },
  {
   "cell_type": "markdown",
   "id": "6a62183f",
   "metadata": {},
   "source": [
    "- Otro ejemplo:\n",
    "    - 1000 registros en lugar de 100.\n",
    "    - 40 bloques de índice.\n",
    "    - Se crea un índice para los bloques de índice.\n",
    "    - Un índice por bloque, es decir un índice por cada 32 entradas de índice.\n",
    "    - 2 bloques para almacenar el índice de alto nivel (1 con 32 entradas y otro con 8).\n",
    "    - 2 bloques para el índice de alto nivel. Ese apunta a 1 bloque del índice, y ese a su vez a un bloque de la tabla pasajeros.  En total: 4 accesos al disco duro.\n",
    "    - Al añadir un nivel de índice adicional se reduce drásticamente el número de accesos al disco duro."
   ]
  },
  {
   "cell_type": "markdown",
   "id": "3928e7c4",
   "metadata": {},
   "source": [
    "## Árbol Binario de Búsqueda\n",
    "(*Binary Search Tree*)"
   ]
  },
  {
   "cell_type": "markdown",
   "id": "6cc877aa",
   "metadata": {},
   "source": [
    "- Es un tipo especial de árbol binario con la siguiente propiedad:\n",
    "    - Todos los elementos almacenados en el subárbol izquierdo de cualquier nodo x son menores que el elemento almacenado en x\n",
    "    - Todos los elementos almacenados en el subárbol derecho de x son mayores que el elemento almacenado en x\n",
    "- En otras palabras:\n",
    "    - Todos los elementos en su subárbol izquierdo son menores al nodo (<)\n",
    "    - Todos los elementos en su subárbol derecho son mayores que el nodo (>)."
   ]
  },
  {
   "cell_type": "markdown",
   "id": "3a827648",
   "metadata": {},
   "source": [
    "<img src= 'img/sql/binarysearch_tree.png' width= '260'>"
   ]
  },
  {
   "cell_type": "markdown",
   "id": "4db5667a",
   "metadata": {},
   "source": [
    "## Árbol de Búsqueda de M Vias\n",
    "(M-Way Search Tree)"
   ]
  },
  {
   "cell_type": "markdown",
   "id": "e7721662",
   "metadata": {},
   "source": [
    "- Un árbol m-way es una estructura de árbol que tiene m valores y m + 1 enlaces.\n",
    "\n",
    "- Un árbol binario es un caso especial de un árbol m-way con mun valor igual a uno, lo que significa que solo hay un valor por nodo y dos enlaces (o se mueve hacia abajo al enlace izquierdo o derecho)."
   ]
  },
  {
   "cell_type": "markdown",
   "id": "4f04cff7",
   "metadata": {},
   "source": [
    "<img src= 'img/sql/mway_tree.png' width= '460'>"
   ]
  },
  {
   "cell_type": "markdown",
   "id": "e30fd1f2",
   "metadata": {},
   "source": [
    "## Expresiones avanzadas: RESTRICCIONES"
   ]
  },
  {
   "cell_type": "markdown",
   "id": "3e2b1660",
   "metadata": {},
   "source": [
    "- Las restricciones son reglas para limitar el tipo de datos que puede ingresarse en una tabla, a fin de mantener la integridad de los datos en la tabla.\n",
    "- Principales restricciones que pueden ser añadidas a la tabla:"
   ]
  },
  {
   "cell_type": "markdown",
   "id": "ee047a8a",
   "metadata": {},
   "source": [
    "- **NOT NULL**: Establece que la columna siempre debe tener un valor adecuado, que no puede ser nulo."
   ]
  },
  {
   "cell_type": "code",
   "execution_count": null,
   "id": "189d2a67",
   "metadata": {},
   "outputs": [],
   "source": [
    "%%sql\n",
    "DROP TABLE IF EXISTS prueba;"
   ]
  },
  {
   "cell_type": "code",
   "execution_count": null,
   "id": "2f780cab",
   "metadata": {},
   "outputs": [],
   "source": [
    "%%sql sqlite:// \n",
    "\n",
    "CREATE TABLE prueba (\n",
    "    id_vuelo INT,  \n",
    "    origen VARCHAR NOT NULL,\n",
    "    destino VARCHAR NOT NULL,\n",
    "    hora_salida TEXT,\n",
    "    hora_llegada TEXT,\n",
    "    aerolinea VARCHAR NOT NULL\n",
    ")"
   ]
  },
  {
   "cell_type": "code",
   "execution_count": null,
   "id": "18167f9c",
   "metadata": {},
   "outputs": [],
   "source": [
    "%sql pragma table_info(prueba)"
   ]
  },
  {
   "cell_type": "code",
   "execution_count": null,
   "id": "23f1fe40",
   "metadata": {},
   "outputs": [],
   "source": [
    "%%sql\n",
    "INSERT INTO prueba (id_vuelo, origen, destino, hora_salida, hora_llegada, aerolinea) VALUES\n",
    "    ('IB6674', 'caracas', 'madrid', '19:50', '10:15', 'iberia'),\n",
    "    ('IB6674', 'barcelona', 'estambul', '13:15', '17:40', 'turkish airlines'),\n",
    "    ('LH0920', 'francfort', 'londres', '20:00', '20:40', 'lufthansa'),\n",
    "    ('LX0633', 'paris', 'zurich', '9:50', '11:10', 'swiss'),\n",
    "    ('AA5823', 'dallas', 'beijing', '11:20', '14:15', 'american airlines'),\n",
    "    ('AA1141', 'new york', 'miami', '5:40', '9:30', 'american airlines'),\n",
    "    ('DL1301', 'new york', 'miami', '19:30', '10:45', 'delta'),\n",
    "    ('B64044', 'new york', 'miami', '18:20', '21:30', 'jet blue')"
   ]
  },
  {
   "cell_type": "markdown",
   "id": "74ce4732",
   "metadata": {},
   "source": [
    "- **UNIQUE**, la cual asegura que la columna solo tomará valores únicos y que no habrá valores repetidos."
   ]
  },
  {
   "cell_type": "code",
   "execution_count": null,
   "id": "17d927d6",
   "metadata": {},
   "outputs": [],
   "source": [
    "%%sql\n",
    "DROP TABLE IF EXISTS prueba;"
   ]
  },
  {
   "cell_type": "code",
   "execution_count": null,
   "id": "97e16e5d",
   "metadata": {},
   "outputs": [],
   "source": [
    "%%sql sqlite:// \n",
    "\n",
    "CREATE TABLE prueba (\n",
    "    id_vuelo INT UNIQUE,  \n",
    "    origen VARCHAR NOT NULL,\n",
    "    destino VARCHAR NOT NULL,\n",
    "    hora_salida TEXT,\n",
    "    hora_llegada TEXT,\n",
    "    aerolinea VARCHAR NOT NULL\n",
    ")"
   ]
  },
  {
   "cell_type": "code",
   "execution_count": null,
   "id": "c0e15e37",
   "metadata": {},
   "outputs": [],
   "source": [
    "%%sql\n",
    "INSERT INTO prueba (id_vuelo, origen, destino, hora_salida, hora_llegada, aerolinea) VALUES\n",
    "    ('IB6674', 'caracas', 'madrid', '19:50', '10:15', 'iberia'),\n",
    "    ('TK1836', 'barcelona', 'estambul', '13:15', '17:40', 'turkish airlines'),\n",
    "    ('LH0920', 'francfort', 'londres', '20:00', '20:40', 'lufthansa'),\n",
    "    ('LX0633', 'paris', 'zurich', '9:50', '11:10', 'swiss'),\n",
    "    ('AA5823', 'dallas', 'beijing', '11:20', '14:15', 'american airlines'),\n",
    "    ('AA1141', 'new york', 'miami', '5:40', '9:30', 'american airlines'),\n",
    "    ('DL1301', 'new york', 'miami', '19:30', '10:45', 'delta'),\n",
    "    ('B64044', 'new york', 'miami', '18:20', '21:30', 'jet blue')"
   ]
  },
  {
   "cell_type": "code",
   "execution_count": null,
   "id": "b1dd8ed9",
   "metadata": {},
   "outputs": [],
   "source": [
    "%sql SELECT * FROM prueba"
   ]
  },
  {
   "cell_type": "markdown",
   "id": "4794d79c",
   "metadata": {},
   "source": [
    "- **PRIMARY KEY**, la cual asegura que cada registro pueda ser identificado de manera única. La clave primaria debe tomar un valor único y no puede tomar el valor NULL."
   ]
  },
  {
   "cell_type": "code",
   "execution_count": null,
   "id": "d5c14bb1",
   "metadata": {},
   "outputs": [],
   "source": [
    "%%sql\n",
    "DROP TABLE IF EXISTS prueba;"
   ]
  },
  {
   "cell_type": "code",
   "execution_count": null,
   "id": "fcea5335",
   "metadata": {},
   "outputs": [],
   "source": [
    "%%sql sqlite:// \n",
    "\n",
    "CREATE TABLE prueba (\n",
    "    id_vuelo INT PRIMARY KEY,  \n",
    "    origen VARCHAR NOT NULL,\n",
    "    destino VARCHAR NOT NULL,\n",
    "    hora_salida TEXT,\n",
    "    hora_llegada TEXT,\n",
    "    aerolinea VARCHAR NOT NULL\n",
    ")"
   ]
  },
  {
   "cell_type": "code",
   "execution_count": null,
   "id": "d6c28fc2",
   "metadata": {},
   "outputs": [],
   "source": [
    "# Cambiar id_vuelo en la segunda fila de IB6674 a TK1836\n",
    "# Esto evita error por no cumplir con la característica UNIQUE del PRIMARY KEY"
   ]
  },
  {
   "cell_type": "code",
   "execution_count": null,
   "id": "dbbb1f44",
   "metadata": {},
   "outputs": [],
   "source": [
    "%%sql\n",
    "INSERT INTO prueba (id_vuelo, origen, destino, hora_salida, hora_llegada, aerolinea) VALUES\n",
    "    ('IB6674', 'caracas', 'madrid', '19:50', '10:15', 'iberia'),\n",
    "    ('IB6674, 'barcelona', 'estambul', '13:15', '17:40', 'turkish airlines'),\n",
    "    ('LH0920', 'francfort', 'londres', '20:00', '20:40', 'lufthansa'),\n",
    "    ('LX0633', 'paris', 'zurich', '9:50', '11:10', 'swiss'),\n",
    "    ('AA5823', 'dallas', 'beijing', '11:20', '14:15', 'american airlines'),\n",
    "    ('AA1141', 'new york', 'miami', '5:40', '9:30', 'american airlines'),\n",
    "    ('DL1301', 'new york', 'miami', '19:30', '10:45', 'delta'),\n",
    "    ('B64044', 'new york', 'miami', '18:20', '21:30', 'jet blue')"
   ]
  },
  {
   "cell_type": "code",
   "execution_count": null,
   "id": "6e0a92af",
   "metadata": {},
   "outputs": [],
   "source": [
    "%sql SELECT * FROM prueba"
   ]
  },
  {
   "cell_type": "markdown",
   "id": "b619d252",
   "metadata": {},
   "source": [
    "- **CHECK**, se usa para limitar el rango de valores posibles de una columna de la tabla. \n",
    "- Realiza comprobaciones de los valores, antes de ser guardados en la base de datos."
   ]
  },
  {
   "cell_type": "code",
   "execution_count": null,
   "id": "02701a36",
   "metadata": {},
   "outputs": [],
   "source": [
    "%%sql\n",
    "DROP TABLE IF EXISTS prueba;"
   ]
  },
  {
   "cell_type": "code",
   "execution_count": null,
   "id": "d043fd6b",
   "metadata": {},
   "outputs": [],
   "source": [
    "%%sql sqlite:// \n",
    "\n",
    "CREATE TABLE prueba (\n",
    "    id_vuelo INT PRIMARY KEY CHECK(id_vuelo>0),  \n",
    "    origen VARCHAR NOT NULL,\n",
    "    destino VARCHAR NOT NULL,\n",
    "    hora_salida TEXT,\n",
    "    hora_llegada TEXT,\n",
    "    aerolinea VARCHAR NOT NULL\n",
    ")"
   ]
  },
  {
   "cell_type": "code",
   "execution_count": null,
   "id": "3bc7eb82",
   "metadata": {},
   "outputs": [],
   "source": [
    "# Cambiar id_vuelo en la segunda fila de -1 a TK1836\n",
    "# Esto evita error por no cumplir con la característica >0 impuesta con CHECK(id_vuelo>0)"
   ]
  },
  {
   "cell_type": "code",
   "execution_count": null,
   "id": "7fe252fe",
   "metadata": {},
   "outputs": [],
   "source": [
    "%%sql\n",
    "INSERT INTO prueba (id_vuelo, origen, destino, hora_salida, hora_llegada, aerolinea) VALUES\n",
    "    ('IB6674', 'caracas', 'madrid', '19:50', '10:15', 'iberia'),\n",
    "    ('-1', 'barcelona', 'estambul', '13:15', '17:40', 'turkish airlines'),\n",
    "    ('LH0920', 'francfort', 'londres', '20:00', '20:40', 'lufthansa'),\n",
    "    ('LX0633', 'paris', 'zurich', '9:50', '11:10', 'swiss'),\n",
    "    ('AA5823', 'dallas', 'beijing', '11:20', '14:15', 'american airlines'),\n",
    "    ('AA1141', 'new york', 'miami', '5:40', '9:30', 'american airlines'),\n",
    "    ('DL1301', 'new york', 'miami', '19:30', '10:45', 'delta'),\n",
    "    ('B64044', 'new york', 'miami', '18:20', '21:30', 'jet blue')"
   ]
  },
  {
   "cell_type": "markdown",
   "id": "7debab4a",
   "metadata": {},
   "source": [
    "- **DEFAULT**, usada para asignar un valor por defecto en una columna de la tabla!"
   ]
  },
  {
   "cell_type": "code",
   "execution_count": null,
   "id": "680dc3f4",
   "metadata": {},
   "outputs": [],
   "source": [
    "%%sql\n",
    "DROP TABLE IF EXISTS prueba;"
   ]
  },
  {
   "cell_type": "code",
   "execution_count": null,
   "id": "a2221e14",
   "metadata": {},
   "outputs": [],
   "source": [
    "%%sql sqlite:// \n",
    "\n",
    "CREATE TABLE prueba (\n",
    "    id_vuelo INT PRIMARY KEY CHECK(id_vuelo>0),  \n",
    "    origen VARCHAR NOT NULL,\n",
    "    destino VARCHAR DEFAULT 'madrid',\n",
    "    hora_salida TEXT,\n",
    "    hora_llegada TEXT,\n",
    "    aerolinea VARCHAR NOT NULL\n",
    ")"
   ]
  },
  {
   "cell_type": "code",
   "execution_count": null,
   "id": "b109b2cf",
   "metadata": {},
   "outputs": [],
   "source": [
    "%sql pragma table_info(prueba)"
   ]
  },
  {
   "cell_type": "code",
   "execution_count": null,
   "id": "c7ba3c2c",
   "metadata": {},
   "outputs": [],
   "source": [
    "# TK1836"
   ]
  },
  {
   "cell_type": "code",
   "execution_count": null,
   "id": "a08c64df",
   "metadata": {},
   "outputs": [],
   "source": [
    "%%sql\n",
    "INSERT INTO prueba (id_vuelo, origen, destino, hora_salida, hora_llegada, aerolinea) VALUES\n",
    "    ('IB6674', 'caracas', '', '19:50', '10:15', 'iberia'),\n",
    "    ('TK1736', 'barcelona', 'estambul', '13:15', '17:40', 'turkish airlines'),\n",
    "    ('LH0920', 'francfort', 'londres', '20:00', '20:40', 'lufthansa'),\n",
    "    ('LX0633', 'paris', 'zurich', '9:50', '11:10', 'swiss'),\n",
    "    ('AA5823', 'dallas', 'beijing', '11:20', '14:15', 'american airlines'),\n",
    "    ('AA1141', 'new york', 'miami', '5:40', '9:30', 'american airlines'),\n",
    "    ('DL1301', 'new york', 'miami', '19:30', '10:45', 'delta'),\n",
    "    ('B64044', 'new york', 'miami', '18:20', '21:30', 'jet blue')"
   ]
  },
  {
   "cell_type": "code",
   "execution_count": null,
   "id": "a8ef93d5",
   "metadata": {},
   "outputs": [],
   "source": []
  },
  {
   "cell_type": "code",
   "execution_count": null,
   "id": "18eddaa8",
   "metadata": {},
   "outputs": [],
   "source": [
    "%sql SELECT * FROM prueba"
   ]
  },
  {
   "cell_type": "markdown",
   "id": "828ab92d",
   "metadata": {},
   "source": [
    "- **FOREIGN KEY**, la cual se usa para relacionar dos tablas.\n",
    "- Las claves foráneas son primarias en otras tablas."
   ]
  },
  {
   "cell_type": "code",
   "execution_count": null,
   "id": "01fdc03c",
   "metadata": {},
   "outputs": [],
   "source": [
    "%sql SELECT * FROM vuelos"
   ]
  },
  {
   "cell_type": "code",
   "execution_count": null,
   "id": "dc841495",
   "metadata": {},
   "outputs": [],
   "source": [
    "%sql SELECT * FROM pasajeros"
   ]
  },
  {
   "cell_type": "code",
   "execution_count": 43,
   "id": "84e5a615",
   "metadata": {},
   "outputs": [
    {
     "name": "stdout",
     "output_type": "stream",
     "text": [
      " * sqlite:///flights.db\n",
      "Done.\n"
     ]
    },
    {
     "data": {
      "text/plain": [
       "[]"
      ]
     },
     "execution_count": 43,
     "metadata": {},
     "output_type": "execute_result"
    }
   ],
   "source": [
    "%%sql\n",
    "DROP TABLE IF EXISTS t_embarque;"
   ]
  },
  {
   "cell_type": "code",
   "execution_count": 44,
   "id": "9e103ced",
   "metadata": {},
   "outputs": [
    {
     "name": "stdout",
     "output_type": "stream",
     "text": [
      "Done.\n"
     ]
    },
    {
     "data": {
      "text/plain": [
       "[]"
      ]
     },
     "execution_count": 44,
     "metadata": {},
     "output_type": "execute_result"
    }
   ],
   "source": [
    "%%sql sqlite:// \n",
    "\n",
    "CREATE TABLE t_embarque (\n",
    "    id_vuelo INT FK,  \n",
    "    id_pasajero INT FK,\n",
    "    fecha_salida TEXT\n",
    ")"
   ]
  },
  {
   "cell_type": "code",
   "execution_count": 45,
   "id": "81475746",
   "metadata": {},
   "outputs": [
    {
     "name": "stdout",
     "output_type": "stream",
     "text": [
      " * sqlite:///flights.db\n",
      "7 rows affected.\n"
     ]
    },
    {
     "data": {
      "text/plain": [
       "[]"
      ]
     },
     "execution_count": 45,
     "metadata": {},
     "output_type": "execute_result"
    }
   ],
   "source": [
    "%%sql\n",
    "INSERT INTO t_embarque (id_vuelo, id_pasajero, fecha_salida) VALUES\n",
    "    ('IB6674', '1', '06/06/2021'),\n",
    "    ('IB6674', '2', '06/06/2021'),\n",
    "    ('IB6674', '3', '06/06/2021'),\n",
    "    ('TK1836', '4', '16/06/2021'),\n",
    "    ('LH0920', '5', '12/03/2021'),\n",
    "    ('LX0633', '6', '20/04/2021'),\n",
    "    ('AA5823', '7', '26/10/2021')"
   ]
  },
  {
   "cell_type": "code",
   "execution_count": 46,
   "id": "b7273695",
   "metadata": {},
   "outputs": [
    {
     "name": "stdout",
     "output_type": "stream",
     "text": [
      " * sqlite:///flights.db\n",
      "Done.\n"
     ]
    },
    {
     "data": {
      "text/html": [
       "<table>\n",
       "    <tr>\n",
       "        <th>id_vuelo</th>\n",
       "        <th>id_pasajero</th>\n",
       "        <th>fecha_salida</th>\n",
       "    </tr>\n",
       "    <tr>\n",
       "        <td>IB6674</td>\n",
       "        <td>1</td>\n",
       "        <td>06/06/2021</td>\n",
       "    </tr>\n",
       "    <tr>\n",
       "        <td>IB6674</td>\n",
       "        <td>2</td>\n",
       "        <td>06/06/2021</td>\n",
       "    </tr>\n",
       "    <tr>\n",
       "        <td>IB6674</td>\n",
       "        <td>3</td>\n",
       "        <td>06/06/2021</td>\n",
       "    </tr>\n",
       "    <tr>\n",
       "        <td>TK1836</td>\n",
       "        <td>4</td>\n",
       "        <td>16/06/2021</td>\n",
       "    </tr>\n",
       "    <tr>\n",
       "        <td>LH0920</td>\n",
       "        <td>5</td>\n",
       "        <td>12/03/2021</td>\n",
       "    </tr>\n",
       "    <tr>\n",
       "        <td>LX0633</td>\n",
       "        <td>6</td>\n",
       "        <td>20/04/2021</td>\n",
       "    </tr>\n",
       "    <tr>\n",
       "        <td>AA5823</td>\n",
       "        <td>7</td>\n",
       "        <td>26/10/2021</td>\n",
       "    </tr>\n",
       "</table>"
      ],
      "text/plain": [
       "[('IB6674', 1, '06/06/2021'),\n",
       " ('IB6674', 2, '06/06/2021'),\n",
       " ('IB6674', 3, '06/06/2021'),\n",
       " ('TK1836', 4, '16/06/2021'),\n",
       " ('LH0920', 5, '12/03/2021'),\n",
       " ('LX0633', 6, '20/04/2021'),\n",
       " ('AA5823', 7, '26/10/2021')]"
      ]
     },
     "execution_count": 46,
     "metadata": {},
     "output_type": "execute_result"
    }
   ],
   "source": [
    "%sql SELECT * FROM t_embarque"
   ]
  },
  {
   "cell_type": "markdown",
   "id": "1d11fbf3",
   "metadata": {},
   "source": [
    "- Unión de dos tablas en una sola,a nivel horizontal, usando **JOIN**"
   ]
  },
  {
   "cell_type": "code",
   "execution_count": 47,
   "id": "0535a4b1",
   "metadata": {},
   "outputs": [
    {
     "name": "stdout",
     "output_type": "stream",
     "text": [
      " * sqlite:///flights.db\n",
      "Done.\n"
     ]
    },
    {
     "data": {
      "text/html": [
       "<table>\n",
       "    <tr>\n",
       "        <th>id_pasajero</th>\n",
       "        <th>pasaporte</th>\n",
       "        <th>apellido</th>\n",
       "        <th>nombre</th>\n",
       "        <th>id_vuelo</th>\n",
       "        <th>fecha_salida</th>\n",
       "    </tr>\n",
       "    <tr>\n",
       "        <td>1</td>\n",
       "        <td>06678450</td>\n",
       "        <td>gavidia</td>\n",
       "        <td>liliana</td>\n",
       "        <td>IB6674</td>\n",
       "        <td>06/06/2021</td>\n",
       "    </tr>\n",
       "    <tr>\n",
       "        <td>2</td>\n",
       "        <td>32775484</td>\n",
       "        <td>jimenez</td>\n",
       "        <td>jose</td>\n",
       "        <td>IB6674</td>\n",
       "        <td>06/06/2021</td>\n",
       "    </tr>\n",
       "    <tr>\n",
       "        <td>3</td>\n",
       "        <td>02115537</td>\n",
       "        <td>ceballos</td>\n",
       "        <td>olga</td>\n",
       "        <td>IB6674</td>\n",
       "        <td>06/06/2021</td>\n",
       "    </tr>\n",
       "    <tr>\n",
       "        <td>4</td>\n",
       "        <td>15978124</td>\n",
       "        <td>britto</td>\n",
       "        <td>arantxa</td>\n",
       "        <td>TK1836</td>\n",
       "        <td>16/06/2021</td>\n",
       "    </tr>\n",
       "    <tr>\n",
       "        <td>5</td>\n",
       "        <td>21447895</td>\n",
       "        <td>perez</td>\n",
       "        <td>pedro</td>\n",
       "        <td>LH0920</td>\n",
       "        <td>12/03/2021</td>\n",
       "    </tr>\n",
       "    <tr>\n",
       "        <td>6</td>\n",
       "        <td>82139600</td>\n",
       "        <td>gonzalez</td>\n",
       "        <td>judith</td>\n",
       "        <td>LX0633</td>\n",
       "        <td>20/04/2021</td>\n",
       "    </tr>\n",
       "    <tr>\n",
       "        <td>7</td>\n",
       "        <td>12115432</td>\n",
       "        <td>collado</td>\n",
       "        <td>coral</td>\n",
       "        <td>AA5823</td>\n",
       "        <td>26/10/2021</td>\n",
       "    </tr>\n",
       "</table>"
      ],
      "text/plain": [
       "[(1, '06678450', 'gavidia', 'liliana', 'IB6674', '06/06/2021'),\n",
       " (2, '32775484', 'jimenez', 'jose', 'IB6674', '06/06/2021'),\n",
       " (3, '02115537', 'ceballos', 'olga', 'IB6674', '06/06/2021'),\n",
       " (4, '15978124', 'britto', 'arantxa', 'TK1836', '16/06/2021'),\n",
       " (5, '21447895', 'perez', 'pedro', 'LH0920', '12/03/2021'),\n",
       " (6, '82139600', 'gonzalez', 'judith', 'LX0633', '20/04/2021'),\n",
       " (7, '12115432', 'collado', 'coral', 'AA5823', '26/10/2021')]"
      ]
     },
     "execution_count": 47,
     "metadata": {},
     "output_type": "execute_result"
    }
   ],
   "source": [
    "%%sql SELECT pasajeros.id_pasajero, pasajeros.pasaporte, pasajeros.apellido, pasajeros.nombre, \n",
    "    t_embarque.id_vuelo, t_embarque.fecha_salida FROM pasajeros INNER JOIN \n",
    "    t_embarque ON pasajeros.id_pasajero = t_embarque.id_pasajero"
   ]
  },
  {
   "cell_type": "markdown",
   "id": "fff33603",
   "metadata": {},
   "source": [
    "## Expresiones avanzadas: UNIONES"
   ]
  },
  {
   "cell_type": "markdown",
   "id": "79fc82e6",
   "metadata": {},
   "source": [
    "- El comando JOIN permite combinar información de dos o más tablas, que se juntan para permitir presentar la información como si fuera un solo conjunto de datos. \n",
    "- Para unirlas se usan valores comunes en ambas tablas."
   ]
  },
  {
   "cell_type": "markdown",
   "id": "79493589",
   "metadata": {
    "scrolled": true
   },
   "source": [
    "<img src=\"img/sql/sql_join.png\" width=\"560\">"
   ]
  },
  {
   "cell_type": "markdown",
   "id": "800734d3",
   "metadata": {},
   "source": [
    "## CROSS JOIN"
   ]
  },
  {
   "cell_type": "markdown",
   "id": "a0980239",
   "metadata": {},
   "source": [
    "<img src='img/sql/cross_join.png' width= '400'>"
   ]
  },
  {
   "cell_type": "markdown",
   "id": "59814072",
   "metadata": {},
   "source": [
    "- CROSS JOIN o Producto Cartesiano: Retorna el producto cartesiano de las filas de las tablas especificadas en la instrucción JOIN. \n",
    "- El resultado es una tabla que combina una a una cada fila de la primera tabla con cada fila de la segunda.\n",
    "- En la tabla tarjeta-embarque, si queremos obtener la información del pasajero, debemos combinar la información de las dos tablas, a través del atributo común id-pasajero."
   ]
  },
  {
   "cell_type": "markdown",
   "id": "a372335a",
   "metadata": {},
   "source": [
    "- ``SELECT lista_nombres_columna FROM nombre_tabla1 CROSS JOIN nombre_tabla2``"
   ]
  },
  {
   "cell_type": "code",
   "execution_count": null,
   "id": "1546b920",
   "metadata": {},
   "outputs": [],
   "source": [
    "%%sql SELECT * FROM pasajeros CROSS JOIN t_embarque"
   ]
  },
  {
   "cell_type": "markdown",
   "id": "d2b842ff",
   "metadata": {
    "scrolled": true
   },
   "source": [
    "## INNER JOIN"
   ]
  },
  {
   "cell_type": "markdown",
   "id": "412c6954",
   "metadata": {},
   "source": [
    "<img src='img/sql/inner_join.png' width= '345'>"
   ]
  },
  {
   "cell_type": "markdown",
   "id": "d37711dd",
   "metadata": {},
   "source": [
    "- INNER JOIN, que retorna como resultado una tabla que combina las fias de la primera tabla con las filas de la segunda según se cumpla la condición de igualdad especificada en la cláusula del comando."
   ]
  },
  {
   "cell_type": "markdown",
   "id": "d022f864",
   "metadata": {},
   "source": [
    "- `SELECT lista_nombres_columna FROM nombre_tabla1\n",
    "     INNER JOIN nombre_tabla2\n",
    "     WHERE nombre_tabla1.nombre_columna=nombre_tabla2`"
   ]
  },
  {
   "cell_type": "code",
   "execution_count": null,
   "id": "390dff79",
   "metadata": {},
   "outputs": [],
   "source": [
    "%%sql SELECT * FROM pasajeros INNER JOIN \n",
    "    t_embarque WHERE pasajeros.id_pasajero = t_embarque.id_pasajero"
   ]
  },
  {
   "cell_type": "markdown",
   "id": "a10e6bf8",
   "metadata": {},
   "source": [
    "## LEFT JOIN"
   ]
  },
  {
   "cell_type": "markdown",
   "id": "1b6f204a",
   "metadata": {},
   "source": [
    "<img src='img/sql/left_join.png' width= '340'>"
   ]
  },
  {
   "cell_type": "markdown",
   "id": "7e7b1b3b",
   "metadata": {},
   "source": [
    "- LEFT JOIN, que retorna como resultado una tabla que combina todas las filas de la primera y la segunda tabla que cumplan la condición especificada en la cláusula del comando, seguida del resto de filas de la primera tabla y NULL como valor del resto de filas de la segunda tabla."
   ]
  },
  {
   "cell_type": "markdown",
   "id": "a6be80ed",
   "metadata": {},
   "source": [
    "- `SELECT lista_nombres_columna FROM nombre_tabla1\n",
    "     LEFT JOIN nombre_tabla2\n",
    "     ON nombre_tabla1.nombre_columna=nombre_tabla2`"
   ]
  },
  {
   "cell_type": "code",
   "execution_count": null,
   "id": "d444e84a",
   "metadata": {},
   "outputs": [],
   "source": [
    "%%sql SELECT * FROM pasajeros LEFT JOIN \n",
    "    t_embarque ON pasajeros.id_pasajero = t_embarque.id_pasajero"
   ]
  },
  {
   "cell_type": "markdown",
   "id": "6fceb0bd",
   "metadata": {},
   "source": [
    "## RIGHT JOIN"
   ]
  },
  {
   "cell_type": "markdown",
   "id": "63b77066",
   "metadata": {},
   "source": [
    "<img src='img/sql/right_join.png' width= '340'>"
   ]
  },
  {
   "cell_type": "markdown",
   "id": "a4209224",
   "metadata": {},
   "source": [
    "- RIGHT JOIN, que retorna como resultado una tabla que combina todas las filas de la primera y la segunda tabla que cumplan la condición especificada en la cláusula del comando, seguida de NULL como valor del resto de filas de la primera tabla y el resto de filas de la segunda tabla. "
   ]
  },
  {
   "cell_type": "markdown",
   "id": "6c2ca70b",
   "metadata": {},
   "source": [
    "- `SELECT lista_nombres_columna FROM nombre_tabla1\n",
    "     RIGHT JOIN nombre_tabla2\n",
    "     ON nombre_tabla1.nombre_columna=nombre_tabla2`"
   ]
  },
  {
   "cell_type": "code",
   "execution_count": null,
   "id": "5d5b8a85",
   "metadata": {},
   "outputs": [],
   "source": [
    "%%sql SELECT * FROM pasajeros RIGHT JOIN \n",
    "    t_embarque ON pasajeros.id_pasajero = t_embarque.id_pasajero"
   ]
  },
  {
   "cell_type": "markdown",
   "id": "8d29932d",
   "metadata": {},
   "source": [
    "## FULL OUTER JOIN"
   ]
  },
  {
   "cell_type": "markdown",
   "id": "2d46291c",
   "metadata": {},
   "source": [
    "<img src='img/sql/outer_join.png' width= '340'>"
   ]
  },
  {
   "cell_type": "markdown",
   "id": "1197520e",
   "metadata": {},
   "source": [
    "- FULL OUTER JOIN, que retorna como resultado una tabla que combina todas las filas de la primera y la segunda tabla que cumplan la condición especificada en la cláusula del comando, seguida del resto de filas de la primera y la segunda tabla."
   ]
  },
  {
   "cell_type": "markdown",
   "id": "0ba5ebb8",
   "metadata": {},
   "source": [
    "- `SELECT lista_nombres_columna FROM nombre_tabla1\n",
    "     FULL OUTER JOIN nombre_tabla2\n",
    "     ON nombre_tabla1.nombre_columna=nombre_tabla2`"
   ]
  },
  {
   "cell_type": "code",
   "execution_count": null,
   "id": "83584040",
   "metadata": {},
   "outputs": [],
   "source": [
    "%%sql SELECT * FROM pasajeros FULL OUTER JOIN \n",
    "    t_embarque ON pasajeros.id_pasajero = t_embarque.id_pasajero"
   ]
  },
  {
   "cell_type": "markdown",
   "id": "c634f1fc",
   "metadata": {},
   "source": [
    "## Modelo de Datos Tienda de Mascotas Love4Pets"
   ]
  },
  {
   "cell_type": "markdown",
   "id": "2c8fb66f",
   "metadata": {},
   "source": [
    "- Para su creación, se siguieron paso a paso las recomendaciones de las formas de normalización, a fin de eliminar información redundante, y de garantizar la integridad de los datos y su escalabilidad."
   ]
  },
  {
   "cell_type": "markdown",
   "id": "cfbac599",
   "metadata": {},
   "source": [
    "<img src=\"img/sql/modelo_datos_love4pets.png\" width=\"460\">"
   ]
  },
  {
   "cell_type": "markdown",
   "id": "d7812497",
   "metadata": {},
   "source": [
    "- En él muestran las entidades, que aparecen resaltadas en color encabezando la tabla, junto con sus respectivos atributos, así como relaciones uno a uno y uno a muchos entre las tablas."
   ]
  },
  {
   "cell_type": "markdown",
   "id": "d1452a03",
   "metadata": {},
   "source": [
    "- A partir de él se crea la base de datos de la actividad (Manipulación de Datos con SQL)"
   ]
  },
  {
   "cell_type": "code",
   "execution_count": null,
   "id": "7fbcea6a",
   "metadata": {},
   "outputs": [],
   "source": [
    "import datetime"
   ]
  },
  {
   "cell_type": "code",
   "execution_count": null,
   "id": "efb2aca2",
   "metadata": {},
   "outputs": [],
   "source": [
    "datetime.datetime(2021,6,23,18,15)"
   ]
  },
  {
   "cell_type": "code",
   "execution_count": null,
   "id": "896415f2",
   "metadata": {},
   "outputs": [],
   "source": [
    "\n"
   ]
  },
  {
   "cell_type": "code",
   "execution_count": null,
   "id": "9b7b155a",
   "metadata": {},
   "outputs": [],
   "source": []
  }
 ],
 "metadata": {
  "kernelspec": {
   "display_name": "Python 3",
   "language": "python",
   "name": "python3"
  },
  "language_info": {
   "codemirror_mode": {
    "name": "ipython",
    "version": 3
   },
   "file_extension": ".py",
   "mimetype": "text/x-python",
   "name": "python",
   "nbconvert_exporter": "python",
   "pygments_lexer": "ipython3",
   "version": "3.7.10"
  }
 },
 "nbformat": 4,
 "nbformat_minor": 5
}
