{
 "cells": [
  {
   "cell_type": "markdown",
   "metadata": {},
   "source": [
    "<img src=\"img/viu_logo.png\" width=\"200\">\n",
    "\n",
    "## Curso Experto Programación en Python\n",
    "\n",
    "![logo](img/python_logo.png)\n",
    "\n",
    "*Ivan Fuertes*"
   ]
  },
  {
   "cell_type": "markdown",
   "metadata": {},
   "source": [
    "## Presentación\n",
    "\n",
    "Iván Fuertes\n",
    "- HND in VideoGames Programming\n",
    "- coordinacion.programacion@campusviu.es\n",
    "\n",
    "Career\n",
    "- Spectrum + Amiga\n",
    "- Apps 4 Management\n",
    "- MiniRacingOnline\n",
    "- Prototipos AAA\n",
    "- Juegos Educativos\n",
    "- Experiencias Virtual Reality\n",
    "- Casinos Online\n",
    "- Game Engine + Games Augmented Reality (FaceTracking + SLAM)\n",
    "- Indie Scene\n",
    "- Electronic Warfare\n",
    "- Augmented Reality Rendering Engine\n",
    "\n",
    "VIU\n",
    "- Master en Desarrollo de Videojuegos\n",
    "  - Programación Gráfica y Arquitectura de Motores de Videojuegos\n",
    "  - Programación Mulithilo, Multiplayer Online e Inteligencia Artificial para Videojuegos\n",
    "- Grado de Ingeniería Informática\n",
    "  - Programación de Videojuegos\n",
    "- Master Universitario en Inteligencia Artificial\n",
    "  - Programación en Python para Ciencia de Datos e Inteligencia Artificial\n",
    "- Coordinador del Curso de Experto Programación en Python\n",
    "  - Programación Avanzada\n",
    "  - Ciencia de Datos e Inteligencia Artificial"
   ]
  },
  {
   "cell_type": "code",
   "execution_count": null,
   "metadata": {},
   "outputs": [],
   "source": [
    "print(f\"Hello World!!!\")"
   ]
  },
  {
   "cell_type": "markdown",
   "metadata": {},
   "source": [
    "## ¿Por qué Python?\n",
    "\n",
    "* Uno de los lenguajes más usados en todo el mundo\n",
    "* Perfecto para introducción a la programación\n",
    "* Ofrece un repertorio de librerías estables y maduras\n",
    "* Código legible, facilmente mantenible, incrementa productividad\n",
    "* Fácil integración con herramientas y otros lenguajes\n",
    "* Versátil en la tipología de programación\n",
    "* Multiplataforma, portable\n",
    "* Compilable para mejorar ejecución\n",
    "* Trabajo en memoria con gran cantidad de datos\n",
    "* Comunidad muy participativa y mucha documentación\n",
    "\n",
    "[Stack Overflow Developer Survey Results 2020](https://insights.stackoverflow.com/survey/2020/)\n",
    "\n",
    "[IEEE, The Top Programming Languages 2019](https://spectrum.ieee.org/static/interactive-the-top-programming-languages-2019)\n",
    "\n",
    "[HackerRank Developer Skills Report](https://info.hackerrank.com/rs/487-WAY-049/images/HackerRank-2020-Developer-Skills-Report.pdf)\n",
    "\n",
    "[Hired 2021 State of Software Engineers](https://hired.com/state-of-software-engineers)"
   ]
  },
  {
   "cell_type": "markdown",
   "metadata": {},
   "source": [
    "## Salidas\n",
    "\n",
    "* Científico de Datos, BigData\n",
    "* Aprendizaje automático e Inteligencia Artificial\n",
    "* Programación de Bases de Datos\n",
    "* Desarollo Web\n",
    "  * FrontEnd\n",
    "  * BackEnd\n",
    "  * Internet Scripting\n",
    "* Desarrollo de Videojuegos\n",
    "* Desarrollo de Aplicaciones Desktop/Mobile\n",
    "* Creador de Interfaces Gráficas\n",
    "* Blockchain\n",
    "* Ciberseguridad\n",
    "* Forensics\n",
    "* Lingüistica Computacional\n",
    "* Técnicos de Sistemas de Información y Comunicación\n",
    "* Software Engineer\n",
    "* Investigación\n",
    "* Docencia\n",
    "* ...."
   ]
  },
  {
   "cell_type": "markdown",
   "metadata": {},
   "source": [
    "## Objetivos del Curso\n",
    "\n",
    "- Escribir Código Limpio y Escalable\n",
    "- Limpiar y Migrar Datos\n",
    "- Desarrollar Componentes\n",
    "- Automatización de Tareas\n",
    "- Probar y Depurar Programas\n",
    "- Revisar Código\n",
    "- Mejorar Programas Existentes\n",
    "- Solucionar Problemas y Errores\n",
    "- Programar Prototipos"
   ]
  },
  {
   "cell_type": "markdown",
   "metadata": {},
   "source": [
    "## Metodología\n",
    "\n",
    "- 6ECTS = 150h = 30h + 120h\n",
    "- Calendario 19/04 -> 21/09\n",
    "- Horario Regular 19.00 a 21.00 CEST\n",
    "\n",
    "* Clases Expositivas Online (Grabaciones) = 15 * 2h = 30h\n",
    "* Ejercicios Autoevaluativos\n",
    "* No Exámenes\n",
    "* Trabajo Autónomo\n",
    "* Enfoque Práctico\n",
    "* Acompañamiento Profesores\n",
    "\n",
    "- Trabajo Sobre Maquinas Locales / Google Colab\n",
    "- Instalación de Python + Librerías/Frameworks + Herramientas\n",
    "- Se Asume No Background en Programación"
   ]
  },
  {
   "cell_type": "markdown",
   "metadata": {},
   "source": [
    "## Evaluación\n",
    "\n",
    "- Actividades Portfolio Dirigidas 40%\n",
    "- Actividad Final Libre 50%\n",
    "- Foro 10%\n",
    "\n",
    "* Dos Convocatorias\n",
    "* Todas Actividades Entregadas y Aprobadas"
   ]
  },
  {
   "cell_type": "markdown",
   "metadata": {},
   "source": [
    "## Recursos\n",
    "\n",
    "- En el aula virtual\n",
    "- Actividades (Descripción y Entregas)\n",
    "- Repositorio GitHub https://github.com/vany-viu/EPPY_04_A_21-22\n",
    "- Enviar usuario de GitHub a Coordinador\n",
    "\n",
    "* Materiales de Clase / Apuntes\n",
    "* Jupyter Notebooks / Markdeep"
   ]
  },
  {
   "cell_type": "markdown",
   "metadata": {},
   "source": [
    "## Comunicación\n",
    "\n",
    "- Blackboard, Foro\n",
    "- Clases Online\n",
    "- Email\n",
    "  - coordinacion.programacion@campusviu.es\n",
    "  - mario.cervera@campusviu.es\n",
    "  - ivan.fuertes@campusviu.es\n",
    "  - liliana.gavidia@campusviu.es\n",
    "- Soporte soporte@campusviu.es\n",
    "- Discord, https://discord.gg/9wPrwEJV4r"
   ]
  },
  {
   "cell_type": "markdown",
   "metadata": {},
   "source": [
    "## 01 EPPY - Introducción a la Programación - 6ECTS\n",
    "\n",
    "Docente - Mario Cervera, Dr Software Engineering\n",
    "\n",
    "### Objetivos\n",
    "\n",
    "* Introducción a la Programación, Python\n",
    "* Fundamentos Para Desarrollar Programas\n",
    "* Estructuras de Datos Avanzadas\n",
    "* Análisis y Diseño de Algoritmos\n",
    "* Metodologías de Desarrollo de Software\n",
    "* Buenas Prácticas de Programación\n",
    "\n",
    "### Temario\n",
    "- Introducción a Python\n",
    "- Control de Versiones y Git\n",
    "- Tipos y Estructuras de Datos Básicas\n",
    "- Estructuras de Control, Comparaciones, Condicionales, Bucles\n",
    "- Funciones\n",
    "- Acceso a Ficheros\n",
    "- DocStrings\n",
    "- Virtual Environments\n",
    "- Estructuras de Datos Avanzadas, Built-In, Mapas, HashTables, Arrays, Lists, Sets, Stacks, Queues, Heaps, Trees, Graphs\n",
    "- Algoritmos, Divide & Conquer, Recursion, Backtracking, Tree Traversal, Sorting, Searching, A*, Analysis, Big O\n",
    "- Programación Orientada a Objetos, Clases, Instancias, Métodos, Herencia, Polimorfismo, Overloading, Métodos Estáticos, de Clase, Decoradores, Metaclases, Serialización\n",
    "- Ingeniería de Software, Arquitectura, Clean Code, Craftmanship, Patrones de Diseño (Creacionales, Estructurales, de Comportamiento)\n",
    "- Testing, Test Design Development, Testing Unitario, Testing Funcional, Fixtures, PyTest, Dobles\n",
    "- Gestión de Proyectos, Agile, Scrum, eXtreme Programming"
   ]
  },
  {
   "cell_type": "markdown",
   "metadata": {},
   "source": [
    "## 02 EPPY - Programación Avanzada - 6ECTS\n",
    "\n",
    "Docente - Iván Fuertes, Software Engineer\n",
    "\n",
    "### Objetivos\n",
    "\n",
    "* Aplicaciones Prácticas\n",
    "* Sistemas de Software Complejos\n",
    "* Web y Redes\n",
    "* Automatización\n",
    "\n",
    "### Temario\n",
    "- Programación Funcional, Funciones Puras, Estructuras de Datos Inmutables, Lazy Evaluation, Recursion\n",
    "- Módulos, Paquetes, Namespaces, Uso del Sistema (Paths, Shell, Variables de Entorno, Sys, Os)\n",
    "- Control de Errores y Excepciones\n",
    "- Expresiones Regulares\n",
    "- Concurrencia, Programación Asincrona, Corutinas, Hilos, Sincronización, Bloqueos, Intercomunicación, Datos Compartidos, Pools, Executors, Paralelismo de Procesos\n",
    "- Programación Distribuida, Cliente/Servidor, Multinivel, Aplicaciones Distribuidas (Celery), Objetos Remotos (Pyro4), Cloud Computing (PythonAnywhere), Serverless Computing, Heterogeneous Computing (Cuda, OpenCL)\n",
    "- Interfaces de Usuario, Widgets, Comandos, Callbacks, tkinter, Qt\n",
    "- Desarrollo de Videojuegos, PyGame\n",
    "- Redes e Internet, Sockets, Clients, Servers, HTTP, Email, FTP, WebServer, Web Scraping\n",
    "- Programación web en Backend, Django, Heroku\n",
    "- Programación web en Frontend, JavaScript, DOM+HTML+CSS, React\n",
    "- Interop con C, C++ y Java\n",
    "- Automatización de Tareas, Redimensionamiento/Conversión de Imágenes, Selenium, Automatización de GUI (PyAutoGUI)"
   ]
  },
  {
   "cell_type": "markdown",
   "metadata": {},
   "source": [
    "## 03 EPPY - Bases de Datos - 6ECTS\n",
    "\n",
    "Docente - Liliana Gavidia, PhD Ingeniería Biomédica\n",
    "\n",
    "### Objetivos\n",
    "\n",
    "* Almacenamiento de Datos\n",
    "* Recuperación de Datos\n",
    "* Diseño e Implementación de Bases de Datos\n",
    "* Big Data\n",
    "\n",
    "### Temario\n",
    "- Almacenamiento de Datos, Persistencia, Sistemas de Ficheros, Cache\n",
    "- Bases de Datos Relacionales, Modelo Entidad Relación, Diseño\n",
    "- SQL y Python, SQLite, SQL DDL, SQL DML, Acceso a Datos desde Python (PySQLite), Object Relational Mapping (SQLAlchemy)\n",
    "- Bases de Datos NoSQL, MongoDB, PyMongo\n",
    "- Bases de Datos Distribuidas, Cassandra, CQL, Clusters\n",
    "- Migración, Conversión e Integración de Datos\n",
    "- Warehousing de Datos, OLAP, Cubos\n",
    "- Big Data, Hadoop y HDFS"
   ]
  },
  {
   "cell_type": "markdown",
   "metadata": {},
   "source": [
    "## 04 EPPY - Ciencia de Datos e Inteligencia Artificial - 6ECTS\n",
    "\n",
    "Docente - Iván Fuertes, Software Engineer\n",
    "\n",
    "### Objetivos\n",
    "\n",
    "* Análisis y Explotación de Datos\n",
    "* Tratamiento de Datos\n",
    "* Aprendizaje Automático\n",
    "* Redes Neuronales\n",
    "\n",
    "### Temario\n",
    "- Análisis de Datos, Extracción, Preparación, Exploración y Visualización de Datos, Modelado Predictivo (Clasificación, Regresión, Clustering), Validación del Modelo, Análisis Cuantitativo y Cualitativo\n",
    "- NumPy, NdArray, Operaciones, Funciones Matemáticas, Estadística Descriptiva, Algebra Lineal, Filtros, Agregación, Broadcasting, Vectorización, Números Aleatorios, Ficheros\n",
    "- Pandas, Series, DataFrames, Index, Operaciones, Indexing, Slicing, Búsquedas, Ordenación, Ranking, Mapping, Estadística Descriptiva, Agregación, Pivot, Correlaciones, Covarianzas, Ficheros\n",
    "- Visualización de Datos, Matplotlib, DataFrame Graphics, Seaborn, Relaciones de Variables, Distribuciones, Correlaciones\n",
    "- Ciencia de Datos, Join, Merge, Tratamiento de Strings, Transformación de Datos, Calidad de Datos, Limpieza, Duplicados, Discretización\n",
    "- Machine Learning, Scikit Learn, Aprendizaje Supervisado/No Supervisado, Conjuntos de Entrenamiento/Tests, PCA, Clasificación, K-Nearest, SVM, Regresión Lineal, Modelos Lineales\n",
    "- Deep Learning, Redes Neuronales, Computación Paralela en la GPU, TensorFlow, Capa Simple, Capa Multiple\n",
    "- Reconocimiento, de Escritura OCR, de Texto (NLTK), de Imágenes (OpenCV)"
   ]
  }
 ],
 "metadata": {
  "kernelspec": {
   "display_name": "Python 3",
   "language": "python",
   "name": "python3"
  },
  "language_info": {
   "codemirror_mode": {
    "name": "ipython",
    "version": 3
   },
   "file_extension": ".py",
   "mimetype": "text/x-python",
   "name": "python",
   "nbconvert_exporter": "python",
   "pygments_lexer": "ipython3",
   "version": "3.9.5"
  },
  "metadata": {
   "interpreter": {
    "hash": "188e38b80dfdc122e615322173e3ec2ae3a34992db12bee69ee2d5fd5752ff4d"
   }
  }
 },
 "nbformat": 4,
 "nbformat_minor": 4
}
