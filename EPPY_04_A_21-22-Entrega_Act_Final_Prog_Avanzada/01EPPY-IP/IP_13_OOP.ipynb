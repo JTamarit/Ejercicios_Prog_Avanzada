{
 "cells": [
  {
   "cell_type": "markdown",
   "id": "gentle-dallas",
   "metadata": {},
   "source": [
    "<img src=\"img/viu_logo.png\" width=\"200\"><img src=\"img/python_logo.png\" width=\"250\"> *Mario Cervera*"
   ]
  },
  {
   "cell_type": "markdown",
   "id": "undefined-mandate",
   "metadata": {},
   "source": [
    "# Programación Orientada a Objetos (OOP)"
   ]
  },
  {
   "cell_type": "markdown",
   "id": "crazy-gambling",
   "metadata": {},
   "source": [
    "* En Python, todo son *objetos*.\n",
    "* Vamos a formalizar está noción, detallando como Python da soporte al paradigma de *Programación Orientada a Objetos*.\n",
    "\n",
    "\n",
    "* **Importante**: uso de la sentencia *class* para crear nuestros propios objetos."
   ]
  },
  {
   "cell_type": "markdown",
   "id": "possible-academy",
   "metadata": {},
   "source": [
    "## ¿Qué son las clases?"
   ]
  },
  {
   "cell_type": "markdown",
   "id": "centered-criticism",
   "metadata": {},
   "source": [
    "Imagina que en Python escribes la siguiente expresión:\n",
    "    \n",
    "```\n",
    "3 + 4 \n",
    "```\n",
    "\n",
    "* '3' y '4' son objetos de tipo *int*.\n",
    "* '+' representa una operación (suma) que se puede realizar sobre ellos.\n",
    "\n",
    "El hecho de que estos objetos sean de tipo *int* establece:\n",
    "\n",
    "* **Datos**: los objetos son bits almacenados en memoria. El número de bits, y como éstos se interpretan, viene determinado por el tipo. No es lo mismo un objeto de tipo *bool* que un objeto de tipo *int*.\n",
    "* **Comportamiento**: las operaciones soportadas por los objetos. No se pueden realizar las mismas operaciones sobre un *str* (string) que sobre un *int*.\n",
    "\n",
    "Las clases permiten definir nuevos tipos de objetos y especificar:\n",
    "\n",
    "* Qué *datos* encapsulan los objetos\n",
    "* El *comportamiento* (operaciones) que estos objetos soportan.\n",
    "\n",
    "Ejemplo:\n",
    "\n",
    "   * *Empleado* puede ser un tipo de objeto que contenga *nombre* y *edad* como datos, y cuyas operaciones soportadas sean *pagar* y *despedir*."
   ]
  },
  {
   "cell_type": "markdown",
   "id": "productive-priority",
   "metadata": {},
   "source": [
    "## Lenguajes estáticos vs lenguages dinámicos"
   ]
  },
  {
   "cell_type": "markdown",
   "id": "adult-stream",
   "metadata": {},
   "source": [
    "Diferencia importante:\n",
    "\n",
    "* Lenguajes de tipado estático (Java, C++, ...):\n",
    "   * Los datos y las operaciones de los objetos vienen determinados en tiempo de compilación.\n",
    "\n",
    "\n",
    "* Lenguajes de tipado dinámico (Python, JavaScript, ...):\n",
    "   * Las clases definen tipos y operaciones, pero estos pueden modificarse dinámicamente en ejecución."
   ]
  },
  {
   "cell_type": "code",
   "execution_count": null,
   "id": "thirty-modeling",
   "metadata": {},
   "outputs": [],
   "source": [
    "class Empleado:\n",
    "    pass\n",
    "\n",
    "empleado = Empleado()\n",
    "empleado.salario = 1000  # La clase no define nada, pero puedo añadir el dato 'salario' al empleado\n",
    "print(empleado.salario)"
   ]
  },
  {
   "cell_type": "markdown",
   "id": "athletic-academy",
   "metadata": {},
   "source": [
    "Expresión importante:\n",
    "\n",
    "```\n",
    "objeto.atributo\n",
    "```\n",
    "\n",
    "Esta es la forma de acceder a los datos y el comportamiento (operaciones) de los objetos, y también de añadir datos y comportamiento."
   ]
  },
  {
   "cell_type": "markdown",
   "id": "dental-korean",
   "metadata": {},
   "source": [
    "## Búsqueda de atributos"
   ]
  },
  {
   "cell_type": "markdown",
   "id": "funded-amendment",
   "metadata": {},
   "source": [
    "2 tipos de objetos:\n",
    "\n",
    "   * **Objetos de clase**: cuando se ejecuta una sentencia *class*, se crea un objeto de tipo clase (ejemplo: *Empleado*).\n",
    "  \n",
    "   * **Objetos instancia**: cada vez que se invoca una clase usando paréntesis, se crea una instancia de la clase (*empleados* concretos) y ésta se enlaza con la clase que lo origina.\n",
    "   \n",
    "      * En este sentido, los objetos de clase se pueden ver como *fábricas* de objetos instancia.\n",
    "\n",
    "Cada vez que escribimos una expresión de la forma:\n",
    "\n",
    "```\n",
    "objeto.atributo\n",
    "```\n",
    "\n",
    "Python inicia una búsqueda que comienza en el *objeto*, luego en la *clase* de la que se ha derivado, y luego en las *superclases* de ésta, de izquierda a derecha.\n",
    "\n",
    "Para especificar superclases:\n",
    "\n",
    "```\n",
    "class <nombre_clase> (<superclase_1>, <superclase_2>, ...):\n",
    "   <implementación de la clase>\n",
    "```\n",
    "\n",
    "Ejemplo:"
   ]
  },
  {
   "cell_type": "code",
   "execution_count": null,
   "id": "critical-episode",
   "metadata": {},
   "outputs": [],
   "source": [
    "class Animal:\n",
    "    pass\n",
    "\n",
    "class Gato (Animal):\n",
    "    pass\n",
    "\n",
    "gato = Gato()\n",
    "print(type(gato))"
   ]
  },
  {
   "cell_type": "markdown",
   "id": "grave-instruction",
   "metadata": {},
   "source": [
    "<img src=\"img/OOP/InheritanceSearch.png\" width=\"500\">*Imagen extraída de [1]*"
   ]
  },
  {
   "cell_type": "markdown",
   "id": "opened-geology",
   "metadata": {},
   "source": [
    "* *I1.name* y *I2.name* no necesitan buscar en las clases. Los datos se encuentran en los propios objetos.\n",
    "* *I1.x* y *I2.x* iniciarían una búsqueda que empieza en *I1* y *I2*, respectivamente, y que tendría éxito en *C1*. No se llegaría a explorar *C2*.\n",
    "* *I1.y* y *I2.y* iniciarían una búsqueda que empieza en *I1* y *I2*, respectivamente, y que tendría éxito en *C1*. Este atributo no se encuentra en otro lugar al fin y al cabo.\n",
    "* *I1.z* y *I2.z* tendrían éxito en *C2* porque está más a la izquierda que *C3*."
   ]
  },
  {
   "cell_type": "markdown",
   "id": "international-moral",
   "metadata": {},
   "source": [
    "## Programación de clases en Python"
   ]
  },
  {
   "cell_type": "markdown",
   "id": "suburban-picture",
   "metadata": {},
   "source": [
    "* De manera similar a las funciones, las clases no existen hasta que la sentencia *class* se ejecuta.\n",
    "* Cuando se ejecuta, se crea un objeto de tipo clase y se asigna como atributo del módulo.\n",
    "    * Las clases son atributos en módulos. Por lo tanto, se pueden importar con sentencias *import*.\n",
    "\n",
    "Ejemplo:"
   ]
  },
  {
   "cell_type": "code",
   "execution_count": null,
   "id": "portuguese-magnitude",
   "metadata": {},
   "outputs": [],
   "source": [
    "import sys # Módulo que proporciona acceso a variables mantenidas por el intérprete y a funciones que interaccionan con el intérprete.\n",
    "\n",
    "current_module = sys.modules[__name__]   # \"modules\" es un diccionario que mapea nombres con módulos que han sido cargados en memoria.\n",
    "\n",
    "class Empleado:\n",
    "    pass\n",
    "\n",
    "print(current_module.Empleado)"
   ]
  },
  {
   "cell_type": "markdown",
   "id": "civil-orlando",
   "metadata": {},
   "source": [
    "* Las asignaciones dentro de una sentencia *class* se convierten en atributos de la clase.\n",
    "* Esto se puede hacer tanto con objetos convencionales como con funciones.\n",
    "   * Los objetos establecerán **datos compartidos** por todas las instancias.\n",
    "   * Las funciones establecerán **comportamiento compartido** (también llamados **métodos**)."
   ]
  },
  {
   "cell_type": "code",
   "execution_count": null,
   "id": "addressed-party",
   "metadata": {},
   "outputs": [],
   "source": [
    "class Empleado:\n",
    "    empresa = \"Google\"\n",
    "    \n",
    "    def pagar(self):\n",
    "        print(\"Empleado pagado\")\n",
    "        \n",
    "empleado_1 = Empleado()\n",
    "empleado_2 = Empleado()\n",
    "\n",
    "print(empleado_1.empresa)\n",
    "print(empleado_2.empresa)\n",
    "print(Empleado.empresa)\n",
    "empleado_1.pagar()\n",
    "empleado_2.pagar()"
   ]
  },
  {
   "cell_type": "markdown",
   "id": "devoted-billion",
   "metadata": {},
   "source": [
    "* Invocar una clase con paréntesis crea una instancia, que es un objeto concreto.\n",
    "* Cada objeto representa su propio **espacio de nombres**, al igual que las clases.\n",
    "* Cada atributo (dato y comportamiento) que se le asigne a un objeto pertenece sólo a él.\n",
    "* Dentro de una clase, se utiliza *self* para hacer referencia al objeto actual."
   ]
  },
  {
   "cell_type": "code",
   "execution_count": null,
   "id": "adult-sending",
   "metadata": {
    "tags": []
   },
   "outputs": [],
   "source": [
    "class Empleado:\n",
    "    def asignar_nombre(self, nombre_empleado):\n",
    "        self.nombre = nombre_empleado    # atributo añadido/asignado dentro de la propia clase\n",
    "\n",
    "empleado_1 = Empleado()\n",
    "empleado_2 = Empleado()\n",
    "\n",
    "empleado_1.asignar_nombre(\"Pablo\")\n",
    "empleado_2.asignar_nombre(\"Eva\")\n",
    "print(empleado_1.nombre)\n",
    "print(empleado_2.nombre)\n",
    "\n",
    "empleado_1.edad = 30      # atributo añadido al objeto desde fuera de la clase\n",
    "print(empleado_1.edad)\n",
    "#print(empleado_2.edad)   # Error: este objeto no tiene el atributo 'edad'\n",
    "\n",
    "empleado_1.nombre = \"Pedro\"  # Los atributos existentes se pueden reasignar directamente desde fuera.\n",
    "print(empleado_1.nombre)"
   ]
  },
  {
   "cell_type": "markdown",
   "id": "proved-accountability",
   "metadata": {},
   "source": [
    "<img src=\"img/OOP/Class_Objects.png\" width=\"600\">"
   ]
  },
  {
   "cell_type": "markdown",
   "id": "adult-appendix",
   "metadata": {},
   "source": [
    "#### Herencia"
   ]
  },
  {
   "cell_type": "markdown",
   "id": "technological-villa",
   "metadata": {},
   "source": [
    "* De la misma forma que un objeto hereda los atributos de la clase a partir de la cual se crea, una clase hereda los atributos de sus superclases.\n",
    "\n",
    "* Esto permite crear jerarquías de clases.\n",
    "\n",
    "* Cuando especificamos un atributo en una subclase, sobreescribimos el más general que hay en la superclase.\n",
    "\n",
    "* Una clase se puede customizar/extender sin necesidad de ser modificada, simplemente creando otra clase que herede de ella."
   ]
  },
  {
   "cell_type": "code",
   "execution_count": null,
   "id": "oriented-litigation",
   "metadata": {},
   "outputs": [],
   "source": [
    "class Persona:\n",
    "    def asignar_nombre(self, nombre_persona):\n",
    "        self.nombre = nombre_persona\n",
    "        \n",
    "    def obtener_descripcion(self):\n",
    "        return f\"Nombre de la persona: {self.nombre}\"\n",
    "    \n",
    "class Empleado (Persona):\n",
    "    def obtener_descripcion(self):\n",
    "        return f\"Nombre del empleado: {self.nombre}\"\n",
    "    \n",
    "persona_1 = Persona()\n",
    "empleado_1 = Empleado()\n",
    "\n",
    "persona_1.asignar_nombre(\"Natalia\")\n",
    "empleado_1.asignar_nombre(\"Pedro\")  # Puedo usar asignar_nombre porque esta definido en la superclase 'Persona'\n",
    "\n",
    "print(persona_1.obtener_descripcion())   # Ejecuta la versión general definida en 'Persona'\n",
    "print(empleado_1.obtener_descripcion())  # Ejecuta la versión específica definida en 'Empleado'"
   ]
  },
  {
   "cell_type": "markdown",
   "id": "bulgarian-trouble",
   "metadata": {},
   "source": [
    "<img src=\"img/OOP/Class_Objects_2.png\" width=\"900\">"
   ]
  },
  {
   "cell_type": "markdown",
   "id": "outer-salad",
   "metadata": {},
   "source": [
    "## Sobreescritura de operadores"
   ]
  },
  {
   "cell_type": "markdown",
   "id": "naked-destination",
   "metadata": {},
   "source": [
    "- Objetos creados a partir de clases pueden participar en expresiones con operadores (+, -, *, /, &, |, % ...), de la misma forma que los objetos de tipos *built-in*.\n",
    "- Permiten a nuestros objetos integrarse mejor con código que haya sido programado para funcionar con objetos de tipo *built-in*.\n",
    "- En Python, métodos entre '__' con nombres especiales representan implementación de operadores."
   ]
  },
  {
   "cell_type": "code",
   "execution_count": null,
   "id": "vocational-pricing",
   "metadata": {},
   "outputs": [],
   "source": [
    "class A():\n",
    "    def __add__(self, otro):\n",
    "        return \"Se ha invocado el operador +\"\n",
    "\n",
    "a = A()\n",
    "b = A()\n",
    "\n",
    "print(a + b)  # 'a' sería 'self' y 'b' sería 'otro'. El resultado de la operación es un string, que se pasa a 'print'."
   ]
  },
  {
   "cell_type": "markdown",
   "id": "frequent-disposal",
   "metadata": {},
   "source": [
    "- Salvo en algunas excepciones, no hay comportamiento por defecto para los operadores que no se implementan."
   ]
  },
  {
   "cell_type": "code",
   "execution_count": null,
   "id": "approved-desperate",
   "metadata": {},
   "outputs": [],
   "source": [
    "class A():\n",
    "    pass\n",
    "\n",
    "a = A()\n",
    "b = A()\n",
    "\n",
    "print(a + b)  # Error"
   ]
  },
  {
   "cell_type": "markdown",
   "id": "large-volleyball",
   "metadata": {},
   "source": [
    "* Un ejemplo de estas excepciones es *print*."
   ]
  },
  {
   "cell_type": "code",
   "execution_count": null,
   "id": "unsigned-serial",
   "metadata": {},
   "outputs": [],
   "source": [
    "class A():\n",
    "    pass\n",
    "\n",
    "a = A()\n",
    "\n",
    "print(a)"
   ]
  },
  {
   "cell_type": "markdown",
   "id": "mediterranean-payroll",
   "metadata": {},
   "source": [
    "**Constructor**\n",
    "\n",
    "* Un ejemplo muy importante de operador que sobreescribiremos casi siempre es el construtor: *\\_\\_init\\_\\_*.\n",
    "* Se invoca al crear instancias de la clase.\n",
    "* Se suele usar para inicializar los datos de los objetos."
   ]
  },
  {
   "cell_type": "code",
   "execution_count": null,
   "id": "purple-opera",
   "metadata": {},
   "outputs": [],
   "source": [
    "class Persona():\n",
    "    def __init__(self, nombre, edad):\n",
    "        self.nombre = nombre\n",
    "        self.edad = edad\n",
    "\n",
    "persona = Persona(\"Pablo\", 28)\n",
    "\n",
    "print(persona.nombre)\n",
    "print(persona.edad)"
   ]
  },
  {
   "cell_type": "markdown",
   "id": "specified-protest",
   "metadata": {},
   "source": [
    "**Ejemplos de operadores**"
   ]
  },
  {
   "cell_type": "code",
   "execution_count": null,
   "id": "geographic-marine",
   "metadata": {},
   "outputs": [],
   "source": [
    "class A():\n",
    "    def __add__(self, otro):\n",
    "        return \"Operador +\"\n",
    "    \n",
    "    def __sub__(self, otro):\n",
    "        return \"Operador -\"\n",
    "    \n",
    "    def __mul__(self, otro):\n",
    "        return \"Operador *\"\n",
    "    \n",
    "    def __truediv__(self, otro):\n",
    "        return \"Operador /\"\n",
    "    \n",
    "    def __floordiv__(self, otro):\n",
    "        return \"Operador //\"\n",
    "    \n",
    "    def __mod__(self, otro):\n",
    "        return \"Operador %\"\n",
    "    \n",
    "    def __eq__(self, otro):\n",
    "        return \"Operador ==\"\n",
    "    \n",
    "    def __ne__(self, otro):\n",
    "        return \"Operador !=\"\n",
    "    \n",
    "    def __and__(self, otro):\n",
    "        return \"Operador &\"\n",
    "    \n",
    "    def __or__(self, otro):\n",
    "        return \"Operador |\"\n",
    "    \n",
    "    def __str__(self):\n",
    "        return \"Operador str\"\n",
    "\n",
    "a = A()\n",
    "b = A()\n",
    "\n",
    "print(a + b) \n",
    "print(a - b) \n",
    "print(a * b) \n",
    "print(a / b)\n",
    "print(a // b)\n",
    "print(a % b)\n",
    "print(a == b)\n",
    "print(a != b)\n",
    "print(a & b)\n",
    "print(a | b)\n",
    "print(a)"
   ]
  },
  {
   "cell_type": "markdown",
   "id": "worst-standard",
   "metadata": {},
   "source": [
    "**¿Cuándo sobreescribir operadores?**\n",
    "\n",
    "* Es poco habitual.\n",
    "* Se hace cuando quieres que tus objetos se comporten como objetos proporcionados por el lenguaje (*built-in*).\n",
    "* Un objeto matemático por naturaleza (por ejemplo, una matriz) tiene sentido que sobreescriba el '+'.\n",
    "* Un objeto como *Empleado* o *Persona* probablemente no lo hará."
   ]
  },
  {
   "cell_type": "markdown",
   "id": "ambient-plastic",
   "metadata": {},
   "source": [
    "## Syntaxis general"
   ]
  },
  {
   "cell_type": "markdown",
   "id": "significant-constitutional",
   "metadata": {},
   "source": [
    "#### Sentencia 'class'"
   ]
  },
  {
   "cell_type": "markdown",
   "id": "brutal-guarantee",
   "metadata": {},
   "source": [
    "```\n",
    "class name(superclass, ...):     # Nombre de la clase y superclases.\n",
    "   attr = value                  # Datos de clase: compartidos por todas las instancias.\n",
    "   def method(self, ...):        # Métodos: comportamiento compartido por todas las instancias.\n",
    "      self.attr = value          # Datos de instancia.\n",
    "```"
   ]
  },
  {
   "cell_type": "markdown",
   "id": "aging-assault",
   "metadata": {},
   "source": [
    "#### Métodos"
   ]
  },
  {
   "cell_type": "markdown",
   "id": "third-chapter",
   "metadata": {},
   "source": [
    "* No son nada más que funciones definidas dentro de clases.\n",
    "* Siempre reciben *self* como primer argumento: el sujeto de la llamada.\n",
    "\n",
    "```\n",
    "instance.method(args ...)\n",
    "```\n",
    "\n",
    "Se traduce automáticamente a:\n",
    "\n",
    "```\n",
    "class.method(instance, args ...)\n",
    "```"
   ]
  },
  {
   "cell_type": "markdown",
   "id": "located-treaty",
   "metadata": {},
   "source": [
    "## Extensión vs reemplazo"
   ]
  },
  {
   "cell_type": "markdown",
   "id": "joined-nightmare",
   "metadata": {},
   "source": [
    "* Redefinir un atributo (dato o función) en una subclase *reemplaza* el atributo definido en una superclase.\n",
    "* En el caso de funciones (métodos), este reemplazo puede convertirse en *extensión*, si la función invoca a la de la superclase."
   ]
  },
  {
   "cell_type": "markdown",
   "id": "legislative-slovenia",
   "metadata": {},
   "source": [
    "**Reemplazo**"
   ]
  },
  {
   "cell_type": "code",
   "execution_count": null,
   "id": "documentary-documentary",
   "metadata": {},
   "outputs": [],
   "source": [
    "class Persona:\n",
    "    def __init__(self, nombre):\n",
    "        self.nombre = nombre\n",
    "        \n",
    "    def obtener_descripcion(self):\n",
    "        print(f\"Nombre: {self.nombre}\")\n",
    "\n",
    "class Empleado(Persona):\n",
    "    def __init__(self, empresa):\n",
    "        self.empresa = empresa\n",
    "\n",
    "    def obtener_descripcion(self):\n",
    "        print(f\"Empresa: {self.empresa}\")\n",
    "\n",
    "empleado_1 = Empleado(\"Google\")\n",
    "empleado_1.obtener_descripcion()"
   ]
  },
  {
   "cell_type": "markdown",
   "id": "lesser-capability",
   "metadata": {},
   "source": [
    "**Extensión**"
   ]
  },
  {
   "cell_type": "code",
   "execution_count": null,
   "id": "remarkable-wisdom",
   "metadata": {},
   "outputs": [],
   "source": [
    "class Persona:\n",
    "    def __init__(self, nombre):\n",
    "        self.nombre = nombre\n",
    "        \n",
    "    def obtener_descripcion(self):\n",
    "        print(f\"Nombre: {self.nombre}\")\n",
    "\n",
    "class Empleado(Persona):\n",
    "    def __init__(self, nombre, empresa):\n",
    "        super().__init__(nombre)\n",
    "        self.empresa = empresa\n",
    "\n",
    "    def obtener_descripcion(self):\n",
    "        super().obtener_descripcion()\n",
    "        print(f\"Empresa: {self.empresa}\")\n",
    "\n",
    "empleado_1 = Empleado(\"Pablo\", \"Google\")\n",
    "empleado_1.obtener_descripcion()"
   ]
  },
  {
   "cell_type": "markdown",
   "id": "continuing-thought",
   "metadata": {},
   "source": [
    "## Delegación (clases abstractas)"
   ]
  },
  {
   "cell_type": "markdown",
   "id": "downtown-retreat",
   "metadata": {},
   "source": [
    "* Una clase puede no tener el conocimiento necesario para implementar un comportamiento, delegándolo a la subclase.\n",
    "* Delegación permite implementar **clases abstractas**: clases que esperan que las subclases implementen parte del comportamiento.\n",
    "* Si las subclases no implementan los métodos que se dejan como abstractos, ocurrirá un error."
   ]
  },
  {
   "cell_type": "code",
   "execution_count": null,
   "id": "reduced-spouse",
   "metadata": {},
   "outputs": [],
   "source": [
    "class JuegoMesa:\n",
    "    def inicializar_juego(self):\n",
    "        print('Comienza inicialización del juego de mesa')  # Esto aplica a cualquier tipo de juego de mesa.\n",
    "        self.inicializar_tablero()  # Delega a la subclase\n",
    "        self.colocar_fichas()       # Delega a la subclase\n",
    "        \n",
    "class Ajedrez(JuegoMesa):\n",
    "    def inicializar_tablero(self):\n",
    "        print('Inicializando tablero de ajedrez')\n",
    "    \n",
    "    def colocar_fichas(self):\n",
    "        print('Colando las fichas de ajedrez')\n",
    "\n",
    "class Backgammon(JuegoMesa):\n",
    "    def inicializar_tablero(self):\n",
    "        print('Inicializando tablero de backgammon')\n",
    "    \n",
    "    def colocar_fichas(self):\n",
    "        print('Colando las fichas de backgammon')\n",
    "        \n",
    "juego_1 = Ajedrez()\n",
    "juego_2 = Backgammon()\n",
    "\n",
    "juego_1.inicializar_juego()\n",
    "print('---')\n",
    "juego_2.inicializar_juego()"
   ]
  },
  {
   "cell_type": "markdown",
   "id": "unlike-puzzle",
   "metadata": {},
   "source": [
    "* La necesidad de implementación de un método abstracto se puede hacer más obvia por medio de un *assert*."
   ]
  },
  {
   "cell_type": "code",
   "execution_count": null,
   "id": "prepared-intake",
   "metadata": {},
   "outputs": [],
   "source": [
    "class JuegoMesa:\n",
    "    def inicializar_juego(self):\n",
    "        print('Comienza inicialización del juego de mesa') \n",
    "        self.inicializar_tablero()\n",
    "        \n",
    "    def inicializar_tablero(self):\n",
    "        assert False, 'inicializar_tablero debe ser implementado!'\n",
    "        \n",
    "class Ajedrez(JuegoMesa):\n",
    "    pass\n",
    "    #def inicializar_tablero(self):\n",
    "    #    print('Inicializando tablero de ajedrez')\n",
    "\n",
    "juego_1 = Ajedrez()\n",
    "\n",
    "juego_1.inicializar_juego()"
   ]
  },
  {
   "cell_type": "markdown",
   "id": "advance-cathedral",
   "metadata": {},
   "source": [
    "#### En Python 3.X"
   ]
  },
  {
   "cell_type": "markdown",
   "id": "sonic-relation",
   "metadata": {},
   "source": [
    "A partir de la versión 3.X de Python, las clases abstractas se pueden implementar con una sintaxis especial."
   ]
  },
  {
   "cell_type": "code",
   "execution_count": null,
   "id": "accurate-married",
   "metadata": {},
   "outputs": [],
   "source": [
    "from abc import ABC             # Abstract Base Class\n",
    "from abc import abstractmethod  # Abstract methods\n",
    "\n",
    "class ClaseAbstracta(ABC):\n",
    "    @abstractmethod              # Decorador\n",
    "    def metodo_abstracto(self):\n",
    "        pass\n",
    "    \n",
    "class ClaseConcreta(ClaseAbstracta):\n",
    "    def metodo_concreto(self):\n",
    "        print('metodo concreto')\n",
    "        \n",
    "    def metodo_abstracto(self):\n",
    "        print('metodo abstracto')\n",
    "        \n",
    "# a = ClaseAbstracta()  # No se puede instanciar clase abstracta\n",
    "b = ClaseConcreta()    # Fallaría si no se implementara 'metodo_abstracto'"
   ]
  },
  {
   "cell_type": "markdown",
   "id": "established-dictionary",
   "metadata": {},
   "source": [
    "#### Decoradores\n",
    "\n",
    "* En el anterior ejemplo, *abstractmethod* es un decorador.\n",
    "* Un decorador añade metadatos al objeto que acompaña.\n",
    "\n",
    "**Ejemplo: métodos class vs métodos static**\n",
    "\n",
    "* Método de clase:\n",
    "   * Recibe el objeto de clase como primer argumento.\n",
    "   * Puede manipular el estado de dicho objeto.\n",
    "\n",
    "\n",
    "* Método estático:\n",
    "   * Es una función normal, simplemente ubicada dentro de una clase por conveniencia o legibilidad."
   ]
  },
  {
   "cell_type": "code",
   "execution_count": null,
   "id": "fossil-recording",
   "metadata": {},
   "outputs": [],
   "source": [
    "class Calculator:\n",
    "\n",
    "    @staticmethod\n",
    "    def sumar_numeros(x, y):\n",
    "        return x + y\n",
    "\n",
    "print('Suma:', Calculator.sumar_numeros(20, 32))"
   ]
  },
  {
   "cell_type": "code",
   "execution_count": null,
   "id": "stylish-ensemble",
   "metadata": {},
   "outputs": [],
   "source": [
    "class Pizza:\n",
    "    def __init__(self, ingredientes):\n",
    "        self.ingredientes = ingredientes\n",
    "\n",
    "    def __str__(self):\n",
    "        return f'Pizza({self.ingredientes})'\n",
    "\n",
    "    @classmethod\n",
    "    def crear_pizza_margarita(cls):\n",
    "        return cls(['mozzarella', 'tomate'])\n",
    "    \n",
    "    @classmethod\n",
    "    def crear_pizza_diavola(cls):\n",
    "        return cls(['mozzarella', 'tomate', 'salami picante'])\n",
    "    \n",
    "print(Pizza.crear_pizza_margarita())\n",
    "print(Pizza.crear_pizza_diavola())"
   ]
  },
  {
   "cell_type": "markdown",
   "id": "sublime-tennessee",
   "metadata": {},
   "source": [
    "## Ventajas de la Programación Orientada a Objetos"
   ]
  },
  {
   "cell_type": "markdown",
   "id": "central-value",
   "metadata": {},
   "source": [
    "#### Reutilización\n",
    "\n",
    "* Las clases permiten reutilización de código de formas que no permiten otras construcciones (como funciones o módulos).\n",
    "* Por medio de herencia y el mecanismo de resolución de atributos, puedes programar adaptando código existente, sin necesidad de módificar éste.\n",
    "    * Extensión, reemplazo y delegación."
   ]
  },
  {
   "cell_type": "markdown",
   "id": "according-wheat",
   "metadata": {},
   "source": [
    "#### Polimorfismo\n",
    "\n",
    "* Polimorfismo: el significado de una operación viene determinado por los tipos de los operandos, y estos pueden adoptar diferentes formas.\n",
    "    * Por ejemplo:\n",
    "       * La operación '+' en la expresión 'a + b' tiene un comportamiento diferente según si las variables 'a' y 'b' son números o strings.\n",
    "       * En el caso de números, se realizará la suma; en el caso de strings, la concatenación.\n",
    "\n",
    "\n",
    "* OOP facilita el desarrollo de código abstracto que funciona independientemente del tipo concreto de objeto que recibe.\n",
    "* Código abstracto suele necesitar menos mantenimiento."
   ]
  },
  {
   "cell_type": "code",
   "execution_count": null,
   "id": "amazing-midwest",
   "metadata": {},
   "outputs": [],
   "source": [
    "from abc import ABC, abstractmethod\n",
    "\n",
    "def emitir_sonidos(animales):  # Esta función desconoce los tipos concretos de animales. Se abstrae de estos detalles.\n",
    "    for animal in animales:\n",
    "        animal.emitir_sonido()\n",
    "    \n",
    "class Animal(ABC):\n",
    "    @abstractmethod\n",
    "    def emitir_sonido(self):\n",
    "        pass\n",
    "\n",
    "class Perro(Animal):\n",
    "    def emitir_sonido(self):\n",
    "        print(\"Guau\")\n",
    "\n",
    "class Gato(Animal):\n",
    "    def emitir_sonido(self):\n",
    "        print(\"Miau\")\n",
    "        \n",
    "class Pato(Animal):\n",
    "    def emitir_sonido(self):\n",
    "        print(\"Quack\")\n",
    "        \n",
    "animales = [Pato(), Gato(), Pato(), Perro(), Gato(), Perro()]\n",
    "emitir_sonidos(animales)"
   ]
  },
  {
   "cell_type": "markdown",
   "id": "fifth-receipt",
   "metadata": {},
   "source": [
    "## Referencias "
   ]
  },
  {
   "cell_type": "markdown",
   "id": "hazardous-plaintiff",
   "metadata": {},
   "source": [
    "[1] Mark Lutz. *Learning Python: Powerful Object-Oriented Programming*. Fifth edition. O'Reilly (2013)"
   ]
  },
  {
   "cell_type": "markdown",
   "id": "optical-neighbor",
   "metadata": {},
   "source": [
    "## Ejercicios"
   ]
  },
  {
   "cell_type": "markdown",
   "id": "signal-freeware",
   "metadata": {},
   "source": [
    "1. Implementa una jerarquía de clases que representen figuras (rectángulos, triángulos y círculos). Posteriormente, implementa una función que muestre por pantalla, una a una, todas las áreas de una lista figuras dada.\n",
    "\n",
    "2. Implementa una clase que represente números racionales y almacene de manera explícita el numerador y el denominador. La clase debe permitir instanciar números racionales, con los cuales se podrá operar a través de los operadores convencionales: +, -, *, /. En caso de error (por ejemplo, división por cero) la clase generará un error apropiado."
   ]
  }
 ],
 "metadata": {
  "kernelspec": {
   "display_name": "Python 3",
   "language": "python",
   "name": "python3"
  },
  "language_info": {
   "codemirror_mode": {
    "name": "ipython",
    "version": 3
   },
   "file_extension": ".py",
   "mimetype": "text/x-python",
   "name": "python",
   "nbconvert_exporter": "python",
   "pygments_lexer": "ipython3",
   "version": "3.9.2"
  }
 },
 "nbformat": 4,
 "nbformat_minor": 5
}
