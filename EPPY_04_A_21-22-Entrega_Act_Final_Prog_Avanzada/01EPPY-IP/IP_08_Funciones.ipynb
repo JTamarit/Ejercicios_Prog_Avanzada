{
 "cells": [
  {
   "cell_type": "markdown",
   "id": "about-westminster",
   "metadata": {},
   "source": [
    "<img src=\"img/viu_logo.png\" width=\"200\"><img src=\"img/python_logo.png\" width=\"250\"> *Mario Cervera*"
   ]
  },
  {
   "cell_type": "markdown",
   "id": "latter-tanzania",
   "metadata": {},
   "source": [
    "# Funciones"
   ]
  },
  {
   "cell_type": "markdown",
   "id": "cutting-driving",
   "metadata": {},
   "source": [
    "## ¿Qué son?\n",
    "\n",
    "* Son un mecanismo que te ofrece el lenguaje para agrupar conjuntos de instrucciones de manera que se puedan ejecutar cuando el programador considere oportuno.\n",
    "* Las funciones van identificadas por un nombre.\n",
    "* Se debe usar este nombre para invocar (ejecutar) el código de la función.\n",
    "* Las funciones calculan un resultado (output) en base a unos parámetros de entrada (input).\n",
    "* En cada invocación de la función, los parámetros de entrada pueden variar."
   ]
  },
  {
   "cell_type": "markdown",
   "id": "attractive-lesson",
   "metadata": {},
   "source": [
    "## Ejemplo"
   ]
  },
  {
   "cell_type": "code",
   "execution_count": null,
   "id": "strategic-bulletin",
   "metadata": {},
   "outputs": [],
   "source": [
    "def add(x,y):\n",
    "    return x + y\n",
    "\n",
    "print(add(4,5))"
   ]
  },
  {
   "cell_type": "markdown",
   "id": "ambient-glance",
   "metadata": {},
   "source": [
    "## ¿Qué ventajas nos proporcionan?\n",
    "\n",
    "* Eliminación de duplicación de código.\n",
    "* Incremento de la reutilización de código.\n",
    "* Manejo de complejidad: permiten descomponer grandes sistemas en piezas más pequeñas y, por tanto, más manejables y comprensibles."
   ]
  },
  {
   "cell_type": "markdown",
   "id": "oriented-incentive",
   "metadata": {},
   "source": [
    "## Programación de funciones en Python"
   ]
  },
  {
   "cell_type": "markdown",
   "id": "intimate-software",
   "metadata": {},
   "source": [
    "Las funciones se definen por medio de la palabra clave *def*.\n",
    "\n",
    "Formato general:\n",
    "\n",
    "```\n",
    "def name(arg1, arg2, ..., argN):\n",
    "    statements\n",
    "```\n",
    "\n",
    "Muy comúnmente:\n",
    "\n",
    "```\n",
    "def name(arg1, arg2, ..., argN):\n",
    "    ...\n",
    "    return value\n",
    "```"
   ]
  },
  {
   "cell_type": "markdown",
   "id": "pending-jumping",
   "metadata": {},
   "source": [
    "* Las funciones son instrucciones convencionales, que se ejecutan cuando el flujo de control llega a ellas.\n",
    "* La definición de la función debe ejecutarse antes de poder invocarse la función."
   ]
  },
  {
   "cell_type": "code",
   "execution_count": null,
   "id": "planned-ebony",
   "metadata": {},
   "outputs": [],
   "source": [
    "# Primero, definición.\n",
    "def create_dict(keys,values):\n",
    "    return dict(zip(keys,values))\n",
    "\n",
    "# Después, invocación.\n",
    "names = ['Alfred', 'James', 'Peter', 'Harvey']\n",
    "ages = [87, 43, 19, 16]\n",
    "users = create_dict(names,ages)\n",
    "print(users)"
   ]
  },
  {
   "cell_type": "markdown",
   "id": "loved-pointer",
   "metadata": {},
   "source": [
    "* Las funciones pueden estar anidadas en sentencias condicionales o bucles. "
   ]
  },
  {
   "cell_type": "code",
   "execution_count": null,
   "id": "lyric-belfast",
   "metadata": {},
   "outputs": [],
   "source": [
    "a = 1\n",
    "#a = -1\n",
    "\n",
    "if a > 0:\n",
    "    def operacion(x, y):\n",
    "        return x + y\n",
    "else:\n",
    "    def operacion(x, y):\n",
    "        return x * y\n",
    "    \n",
    "print(operacion(3, 4))"
   ]
  },
  {
   "cell_type": "markdown",
   "id": "continuing-manor",
   "metadata": {},
   "source": [
    "* Argumentos y return son opcionales."
   ]
  },
  {
   "cell_type": "code",
   "execution_count": null,
   "id": "hundred-mirror",
   "metadata": {
    "tags": []
   },
   "outputs": [],
   "source": [
    "def print_hello_world():\n",
    "    print('Hello World')\n",
    "\n",
    "print_hello_world()"
   ]
  },
  {
   "cell_type": "markdown",
   "id": "static-pursuit",
   "metadata": {},
   "source": [
    "* Cuando una función no tiene sentencia *return*, la función devuelve el objeto *None*."
   ]
  },
  {
   "cell_type": "code",
   "execution_count": null,
   "id": "egyptian-sussex",
   "metadata": {},
   "outputs": [],
   "source": [
    "def print_hello_world():\n",
    "    print('Hello World')\n",
    "\n",
    "value = print_hello_world()\n",
    "print(value)"
   ]
  },
  {
   "cell_type": "markdown",
   "id": "known-bosnia",
   "metadata": {},
   "source": [
    "* La sentencia *return* puede aparecer en cualquier parte de la función."
   ]
  },
  {
   "cell_type": "code",
   "execution_count": null,
   "id": "level-quantity",
   "metadata": {},
   "outputs": [],
   "source": [
    "def return_something(x):\n",
    "    if x > 0:\n",
    "        return 'Hello'\n",
    "    return 'World'\n",
    "\n",
    "print(return_something(1))"
   ]
  },
  {
   "cell_type": "markdown",
   "id": "handmade-institution",
   "metadata": {},
   "source": [
    "* Puede haber más de un valor de retorno. Se devuelve una tupla."
   ]
  },
  {
   "cell_type": "code",
   "execution_count": null,
   "id": "maritime-raise",
   "metadata": {},
   "outputs": [],
   "source": [
    "def get_first_second(collection):\n",
    "    return collection[0], collection[1]\n",
    "\n",
    "t = get_first_second(['Alfred', 'James', 'Peter', 'Harvey'])\n",
    "print(t)\n",
    "print(type(t))"
   ]
  },
  {
   "cell_type": "code",
   "execution_count": null,
   "id": "through-relay",
   "metadata": {},
   "outputs": [],
   "source": [
    "first, second = get_first_second(['Alfred', 'James', 'Peter', 'Harvey'])\n",
    "print(first)\n",
    "print(second)"
   ]
  },
  {
   "cell_type": "markdown",
   "id": "moderate-thong",
   "metadata": {},
   "source": [
    "* Los argumentos pueden tener valores por defecto, siempre al final."
   ]
  },
  {
   "cell_type": "code",
   "execution_count": null,
   "id": "challenging-international",
   "metadata": {},
   "outputs": [],
   "source": [
    "def f(a = None, b = None, c = None):\n",
    "    if a is not None:\n",
    "        print('Se ha proporcionado a')\n",
    "    if b is not None:\n",
    "        print('Se ha proporcionado b')\n",
    "    if c is not None:\n",
    "        print('Se ha proporcionado c')\n",
    "        \n",
    "f(1, 'hola')"
   ]
  },
  {
   "cell_type": "markdown",
   "id": "considerable-greenhouse",
   "metadata": {},
   "source": [
    "* Los parámetros se pasan por posición, pero el orden se puede alterar si se especifica el nombre del parámetro en la llamada."
   ]
  },
  {
   "cell_type": "code",
   "execution_count": null,
   "id": "phantom-kitty",
   "metadata": {},
   "outputs": [],
   "source": [
    "def power(base, exponent):\n",
    "    return pow(base, exponent)\n",
    "\n",
    "print(power(2,4))\n",
    "print(power(exponent = 4, base = 2))"
   ]
  },
  {
   "cell_type": "markdown",
   "id": "cubic-concentration",
   "metadata": {},
   "source": [
    "* Al ejecutarse una sentencia *def*, se crea un objeto de tipo función y éste se asocia con el nombre especificado para la función.\n",
    "* Un objeto de tipo función es como cualquier otro tipo de objeto.\n",
    "* Variables pueden referenciar objetos de tipo función."
   ]
  },
  {
   "cell_type": "code",
   "execution_count": null,
   "id": "necessary-petroleum",
   "metadata": {},
   "outputs": [],
   "source": [
    "def sum(x, y):\n",
    "    return x + y\n",
    "\n",
    "f = sum\n",
    "\n",
    "print(type(f))\n",
    "print(f(5,6))"
   ]
  },
  {
   "cell_type": "markdown",
   "id": "waiting-distance",
   "metadata": {},
   "source": [
    "* Se pueden crear placeholders con la palabra clave *pass*.\n",
    "* *pass* representa una sentencia que no hace nada.\n",
    "* Útil cuando la sintaxis del lenguaje requiere alguna sentencia, pero no tienes nada que escribir."
   ]
  },
  {
   "cell_type": "code",
   "execution_count": null,
   "id": "humanitarian-distance",
   "metadata": {},
   "outputs": [],
   "source": [
    "def my_function():\n",
    "    pass\n",
    "\n",
    "my_function()"
   ]
  },
  {
   "cell_type": "markdown",
   "id": "spare-header",
   "metadata": {},
   "source": [
    "## Paso de parámetros"
   ]
  },
  {
   "cell_type": "markdown",
   "id": "advance-omaha",
   "metadata": {
    "tags": []
   },
   "source": [
    "* Tipos simples (inmutables) por **valor**: int, float, string.\n",
    "    * El efecto es como si se creara una copia dentro de la función.\n",
    "    * Los cambios dentro de la función no afectan fuera."
   ]
  },
  {
   "cell_type": "code",
   "execution_count": null,
   "id": "criminal-circumstances",
   "metadata": {},
   "outputs": [],
   "source": [
    "def pow2(x):\n",
    "    x = x * x\n",
    "    print('Dentro de la función:', x)\n",
    "    return\n",
    "\n",
    "a = 2\n",
    "pow2(a)\n",
    "print('Fuera de la función:', a)"
   ]
  },
  {
   "cell_type": "markdown",
   "id": "israeli-business",
   "metadata": {},
   "source": [
    "* Tipos complejos (mutables) por **referencia**: list, set, dictionary.\n",
    "    * Dentro de la función se maneja el mismo objeto que se ha pasado desde fuera.\n",
    "    * Los cambios dentro de la función sí afectan fuera."
   ]
  },
  {
   "cell_type": "code",
   "execution_count": null,
   "id": "relevant-consultation",
   "metadata": {},
   "outputs": [],
   "source": [
    "def add2(x):\n",
    "    x.append(2)\n",
    "    return\n",
    "    \n",
    "lista = [0, 1]\n",
    "add2(lista)\n",
    "print(lista)"
   ]
  },
  {
   "cell_type": "markdown",
   "id": "noticed-booth",
   "metadata": {},
   "source": [
    "* Si quiero modificar un objeto que es de un tipo básico, los cuales se pasan por valor, puedo simplemente devolver el resultado de la función y hacer una asignación:"
   ]
  },
  {
   "cell_type": "code",
   "execution_count": null,
   "id": "phantom-agriculture",
   "metadata": {},
   "outputs": [],
   "source": [
    "def pow3(x):\n",
    "    return x * x\n",
    "\n",
    "a = 2\n",
    "a = pow3(a)\n",
    "print(a)"
   ]
  },
  {
   "cell_type": "markdown",
   "id": "structured-priest",
   "metadata": {},
   "source": [
    "* Si quiero que no se modifique un objeto de un tipo complejo, los cuales se pasan por referencia, puedo pasar una copia a la función:"
   ]
  },
  {
   "cell_type": "code",
   "execution_count": null,
   "id": "provincial-translator",
   "metadata": {},
   "outputs": [],
   "source": [
    "def add3(x):\n",
    "    x.append(2)\n",
    "    print('Dentro de la función: ', x)\n",
    "    \n",
    "lista = [0, 1]\n",
    "add3(lista.copy())\n",
    "print('Fuera de la función: ', lista)"
   ]
  },
  {
   "cell_type": "code",
   "execution_count": null,
   "id": "synthetic-leather",
   "metadata": {},
   "outputs": [],
   "source": [
    "# Otra manera dee hacer una copia\n",
    "lista = [0, 1]\n",
    "add3(lista[:])\n",
    "print(lista)"
   ]
  },
  {
   "cell_type": "markdown",
   "id": "simple-trust",
   "metadata": {},
   "source": [
    "* Reasignar un parámetro nunca afecta al objeto de fuera:"
   ]
  },
  {
   "cell_type": "code",
   "execution_count": null,
   "id": "abroad-reunion",
   "metadata": {},
   "outputs": [],
   "source": [
    "def add4(x):\n",
    "    x = [2, 3]\n",
    "    x.append(4)\n",
    "    return\n",
    "    \n",
    "lista = [0, 1]\n",
    "add4(lista)\n",
    "print(lista)"
   ]
  },
  {
   "cell_type": "markdown",
   "id": "educated-houston",
   "metadata": {},
   "source": [
    "## Argumentos arbitrarios"
   ]
  },
  {
   "cell_type": "markdown",
   "id": "ceramic-relative",
   "metadata": {},
   "source": [
    "* No se sabe a priori cuantos elementos se reciben.\n",
    "* Se reciben como una tupla.\n",
    "* Los parámetros se especifican con el símbolo '*'."
   ]
  },
  {
   "cell_type": "code",
   "execution_count": null,
   "id": "becoming-madagascar",
   "metadata": {},
   "outputs": [],
   "source": [
    "def saludar(*names):\n",
    "    #print(type(names))\n",
    "    for name in names:\n",
    "        print(\"Hola \" + name)\n",
    "\n",
    "saludar(\"Manolo\", \"Pepe\", \"Luis\", \"Alex\") "
   ]
  },
  {
   "cell_type": "markdown",
   "id": "ahead-giant",
   "metadata": {},
   "source": [
    "## Funciones Lambda"
   ]
  },
  {
   "cell_type": "markdown",
   "id": "micro-instrumentation",
   "metadata": {},
   "source": [
    "* Es posible definir funciones anónimas (sin nombre).\n",
    "* Lambdas son expresiones; por lo tanto, puede aparecer en lugares donde una sentencia *def* no puede (por ejemplo, dentro de una lista o como parámetro de una función).\n",
    "* Útiles cuando se quiere pasar una función como argumento a otra."
   ]
  },
  {
   "cell_type": "markdown",
   "id": "expanded-karen",
   "metadata": {},
   "source": [
    "Formato general:\n",
    "\n",
    "```\n",
    "lambda <lista de argumentos> : <valor a retornar>\n",
    "```\n",
    "\n",
    "* Importante: *\\<valor a retornar\\>* no es un conjunto de instrucciones. Es simplemente una expresión *return* que omite esta palabra.\n",
    "* Las funciones definidas con *def* son más generales:\n",
    "    * Cualquier cosa que implementes en un lambda, lo puedes implementar como una función convencional con *def*, pero no viceversa."
   ]
  },
  {
   "cell_type": "code",
   "execution_count": null,
   "id": "sublime-compilation",
   "metadata": {},
   "outputs": [],
   "source": [
    "# Ejemplo: función suma.\n",
    "\n",
    "def suma(x, y, z):\n",
    "    return x + y + z\n",
    "\n",
    "print(suma(1, 2, 3))\n",
    "\n",
    "# Ejemplo: función suma como expresión lambda.\n",
    "\n",
    "suma2 = lambda x, y, z: x + y + z\n",
    "\n",
    "print(suma2(1, 2, 3))"
   ]
  },
  {
   "cell_type": "code",
   "execution_count": null,
   "id": "generic-surprise",
   "metadata": {},
   "outputs": [],
   "source": [
    "# La funcion 'sort' puede recibir una función optional como parámetro.\n",
    "# Esta function especifica el criterio de ordenación.\n",
    "# Ejemplo: ordenar strings por número de carácteres.\n",
    "\n",
    "cities = ['Valencia', 'Lugo', 'Barcelona', 'Madrid']\n",
    "cities.sort(key = lambda x : len(x))\n",
    "print(cities)"
   ]
  },
  {
   "cell_type": "code",
   "execution_count": null,
   "id": "resident-flesh",
   "metadata": {
    "tags": []
   },
   "outputs": [],
   "source": [
    "# Mismo ejemplo sin lambda\n",
    "\n",
    "cities = ['Valencia', 'Lugo', 'Barcelona', 'Madrid']\n",
    "\n",
    "def num_caracteres(x):\n",
    "    return len(x)\n",
    "\n",
    "cities.sort(key = num_caracteres)\n",
    "print(cities)"
   ]
  },
  {
   "cell_type": "markdown",
   "id": "indonesian-cambridge",
   "metadata": {},
   "source": [
    "* Nos podemos guardar una referencia para utilización repetida."
   ]
  },
  {
   "cell_type": "code",
   "execution_count": null,
   "id": "social-assault",
   "metadata": {
    "tags": []
   },
   "outputs": [],
   "source": [
    "cities = ['Valencia', 'Lugo', 'Barcelona', 'Madrid']\n",
    "\n",
    "f = lambda x : len(x)\n",
    "\n",
    "for s in cities:\n",
    "    print(f(s))"
   ]
  },
  {
   "cell_type": "markdown",
   "id": "australian-proceeding",
   "metadata": {},
   "source": [
    "* Las expresiones lambda pueden formar parte de una lista."
   ]
  },
  {
   "cell_type": "code",
   "execution_count": null,
   "id": "selective-speaking",
   "metadata": {},
   "outputs": [],
   "source": [
    "# Lista de lambdas para mostrar las potencias de 2.\n",
    "\n",
    "pows = [lambda x: x ** 0,\n",
    "        lambda x: x ** 1,\n",
    "        lambda x: x ** 2,\n",
    "        lambda x: x ** 3,\n",
    "        lambda x: x ** 4]\n",
    "\n",
    "for f in pows:\n",
    "    print(f(2))"
   ]
  },
  {
   "cell_type": "markdown",
   "id": "killing-huntington",
   "metadata": {},
   "source": [
    "## Scopes"
   ]
  },
  {
   "cell_type": "markdown",
   "id": "fancy-punishment",
   "metadata": {},
   "source": [
    "* La localización de una asignación a una variable en el código determina desde donde puedes acceder a esa variable.\n",
    "* Por ejemplo, una variable asignada dentro de una función sólo es visible dentro de esa función.\n",
    "* El alcance de la visibilidad de una variable determina su *scope*.\n",
    "* El término *scope* hace referencia a un espacio de nombres (*namespace*). Por ejemplo, una función establece su propio *namespace*."
   ]
  },
  {
   "cell_type": "code",
   "execution_count": null,
   "id": "respective-counter",
   "metadata": {},
   "outputs": [],
   "source": [
    "X = 10\n",
    "\n",
    "def func():\n",
    "    X = 20   # Local a la función. Es una variable diferente, no visible fuera de 'func'."
   ]
  },
  {
   "cell_type": "markdown",
   "id": "dietary-shade",
   "metadata": {},
   "source": [
    "#### Regla LEGB\n",
    "\n",
    "Dada una función *F*, tenemos los siguientes *scopes*:\n",
    "\n",
    "* **L**ocal: variables locales a *F*.\n",
    "* **E**nclosing: variables localizadas en funciones que contienen a (o por encima de) *F*.\n",
    "* **G**lobal: variables definidas en el módulo (fichero) que no están contenidas en ninguna función. Este scope no abarca más de un fichero.\n",
    "* **B**uilt-ins: proporcionadas por el lenguaje.\n",
    "\n",
    "La resolución de nombres ocurre de abajo a arriba."
   ]
  },
  {
   "cell_type": "markdown",
   "id": "allied-province",
   "metadata": {},
   "source": [
    "<img src=\"img/LEGB.png\" width=\"700\">"
   ]
  },
  {
   "cell_type": "code",
   "execution_count": null,
   "id": "residential-identifier",
   "metadata": {},
   "outputs": [],
   "source": [
    "# Global (X y func)\n",
    "X = 99 \n",
    "\n",
    "def func(Y):  # Local (Y y Z)\n",
    "    Z = X + Y\n",
    "    return Z\n",
    "\n",
    "print(func(1))"
   ]
  },
  {
   "cell_type": "code",
   "execution_count": null,
   "id": "adverse-quebec",
   "metadata": {
    "tags": []
   },
   "outputs": [],
   "source": [
    "X = 1\n",
    "\n",
    "def func():\n",
    "    X = 2  # X es una variable diferente\n",
    "\n",
    "func()\n",
    "print(X)"
   ]
  },
  {
   "cell_type": "markdown",
   "id": "native-soccer",
   "metadata": {},
   "source": [
    "* La sentencia *global* nos permite modificar una variable global desde dentro de una función."
   ]
  },
  {
   "cell_type": "code",
   "execution_count": null,
   "id": "chubby-princess",
   "metadata": {},
   "outputs": [],
   "source": [
    "X = 1\n",
    "\n",
    "def func():\n",
    "    global X\n",
    "    X = 2\n",
    "\n",
    "func()\n",
    "print(X)"
   ]
  },
  {
   "cell_type": "markdown",
   "id": "ready-union",
   "metadata": {},
   "source": [
    "* No hay necesidad de usar *global* para referenciar variables. Sólo es necesario para modificarlas."
   ]
  },
  {
   "cell_type": "code",
   "execution_count": null,
   "id": "dutch-beijing",
   "metadata": {},
   "outputs": [],
   "source": [
    "y, z = 1, 2\n",
    "\n",
    "def todas_globales():\n",
    "    global x\n",
    "    x = y + z   # Las tres variables son globales.\n",
    "    \n",
    "todas_globales()\n",
    "print(x)\n",
    "print(y)\n",
    "print(z)"
   ]
  },
  {
   "cell_type": "code",
   "execution_count": null,
   "id": "experienced-porter",
   "metadata": {},
   "outputs": [],
   "source": [
    "def f1():\n",
    "    X = 88       # Enclosing scope (para f2)\n",
    "    def f2():\n",
    "        print(X)\n",
    "    f2()\n",
    "    \n",
    "f1()"
   ]
  },
  {
   "cell_type": "markdown",
   "id": "powerful-whole",
   "metadata": {},
   "source": [
    "#### Closures\n",
    "\n",
    "* Las funciones pueden recordar su *enclosing scope*, independientemente de si éstos continuan existiendo o no."
   ]
  },
  {
   "cell_type": "code",
   "execution_count": null,
   "id": "stupid-terrace",
   "metadata": {},
   "outputs": [],
   "source": [
    "def f1():\n",
    "    X = 88       # Enclosing scope (para f2)\n",
    "    def f2():\n",
    "        print(X)\n",
    "    return f2    # Devuelve f2, sin invocarla\n",
    "    \n",
    "accion = f1()\n",
    "accion()"
   ]
  },
  {
   "cell_type": "markdown",
   "id": "departmental-friendly",
   "metadata": {},
   "source": [
    "* Sentencia *nonlocal* para modificar variables que no son locales, pero tampoco globales."
   ]
  },
  {
   "cell_type": "code",
   "execution_count": null,
   "id": "cultural-murray",
   "metadata": {},
   "outputs": [],
   "source": [
    "def f1():\n",
    "    contador = 10\n",
    "    def f2():\n",
    "        nonlocal contador\n",
    "        contador += 1\n",
    "        print(contador)\n",
    "    return f2\n",
    "    \n",
    "accion = f1()\n",
    "accion()\n",
    "accion()\n",
    "accion()"
   ]
  },
  {
   "cell_type": "markdown",
   "id": "massive-transparency",
   "metadata": {},
   "source": [
    "## Ejercicios"
   ]
  },
  {
   "cell_type": "markdown",
   "id": "sound-miami",
   "metadata": {},
   "source": [
    "1. Escribe una función que reciba como entrada una lista con números y devuelva como resultado una lista con los cuadrados de los números contenidos en la lista de entrada.\n",
    "\n",
    "2. Escribe una función que reciba números como entrada y devuelva la suma de los mismos. La función debe ser capaz de recibir una cantidad indeterminada de números. La función no debe recibir directamente ningún objeto complejo (lista, conjunto, etc.).\n",
    "\n",
    "3. Escribe una función que reciba un string como entrada y devuelva el string al revés. Ejemplo: si el string de entrada es 'hola', el resultado será 'aloh'.\n",
    "\n",
    "4. Escribe una función que compruebe si un número se encuentra dentro de un rango específico."
   ]
  }
 ],
 "metadata": {
  "kernelspec": {
   "display_name": "Python 3",
   "language": "python",
   "name": "python3"
  },
  "language_info": {
   "codemirror_mode": {
    "name": "ipython",
    "version": 3
   },
   "file_extension": ".py",
   "mimetype": "text/x-python",
   "name": "python",
   "nbconvert_exporter": "python",
   "pygments_lexer": "ipython3",
   "version": "3.9.2"
  }
 },
 "nbformat": 4,
 "nbformat_minor": 5
}
