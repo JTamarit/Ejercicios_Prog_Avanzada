{
 "cells": [
  {
   "cell_type": "markdown",
   "id": "concerned-anxiety",
   "metadata": {},
   "source": [
    "<img src=\"img/viu_logo.png\" width=\"200\"><img src=\"img/python_logo.png\" width=\"250\"> *Mario Cervera*"
   ]
  },
  {
   "cell_type": "markdown",
   "id": "japanese-timing",
   "metadata": {},
   "source": [
    "# Acceso a ficheros"
   ]
  },
  {
   "cell_type": "markdown",
   "id": "variable-murder",
   "metadata": {},
   "source": [
    "## Ficheros"
   ]
  },
  {
   "cell_type": "markdown",
   "id": "comparable-physiology",
   "metadata": {},
   "source": [
    "* *File* es un tipo de objeto predefinido en Python (*built-in*).\n",
    "* Permite acceder a ficheros desde programas Python.\n",
    "* Los ficheros son de un tipo especial:\n",
    "    * Son *built-in*, pero no son ni *números*, ni *secuencias*, ni *mappings*. Tampoco responden a operadores en expresiones.\n",
    "* La función *open* permite crear objetos de tipo fichero."
   ]
  },
  {
   "cell_type": "markdown",
   "id": "chicken-addition",
   "metadata": {},
   "source": [
    "## Acceso para Lectura"
   ]
  },
  {
   "cell_type": "markdown",
   "id": "ultimate-overall",
   "metadata": {},
   "source": [
    "Formato general para abrir un fichero:\n",
    "\n",
    "```\n",
    "afile = open(filename, mode)\n",
    "```\n",
    "\n",
    "* *mode* es opcional. Por defecto, los ficheros se abren en modo lectura.\n",
    "* Los datos leidos de un fichero siempre se obtienen en formato *string*. Lo mismo ocurre con escritura.\n",
    "* Los ficheros se deben cerrar invocando *close* (liberación de recursos)."
   ]
  },
  {
   "cell_type": "code",
   "execution_count": null,
   "id": "medieval-archives",
   "metadata": {},
   "outputs": [],
   "source": [
    "# Lectura desde fichero usando método 'read'. Devuelve todo el contenido del fichero.\n",
    "my_fichero = open('res/UnaLinea.txt')\n",
    "print(my_fichero.read())\n",
    "my_fichero.close()"
   ]
  },
  {
   "cell_type": "code",
   "execution_count": null,
   "id": "right-commission",
   "metadata": {},
   "outputs": [],
   "source": [
    "# Lectura linea a linea a través del bucle 'for'.\n",
    "my_fichero = open('res/VariasLineas.txt')\n",
    "for linea in my_fichero:\n",
    "    print(linea, end= '')\n",
    "my_fichero.close()"
   ]
  },
  {
   "cell_type": "code",
   "execution_count": null,
   "id": "emerging-pleasure",
   "metadata": {},
   "outputs": [],
   "source": [
    "# leer de un archivo a una lista.\n",
    "my_fichero = open('res/VariasLineas.txt')\n",
    "lineas = my_fichero.readlines()\n",
    "my_fichero.close()\n",
    "\n",
    "print(lineas)"
   ]
  },
  {
   "cell_type": "markdown",
   "id": "referenced-cleaner",
   "metadata": {},
   "source": [
    "* *close* autómatico con sentencia *with.* Esta es la forma habitual de leer de fichero en Python."
   ]
  },
  {
   "cell_type": "code",
   "execution_count": null,
   "id": "requested-curtis",
   "metadata": {},
   "outputs": [],
   "source": [
    "with open('res/VariasLineas.txt') as my_fichero:\n",
    "    for linea in my_fichero:\n",
    "        print(linea, end= '')"
   ]
  },
  {
   "cell_type": "markdown",
   "id": "manual-gross",
   "metadata": {},
   "source": [
    "* Se puede abrir varios ficheros en un mismo *with*."
   ]
  },
  {
   "cell_type": "code",
   "execution_count": null,
   "id": "tracked-impact",
   "metadata": {},
   "outputs": [],
   "source": [
    "#abrir varios ficheros en el mismo with\n",
    "ruta1 = 'res/UnaLinea.txt'\n",
    "ruta2 = 'res/VariasLineas.txt'\n",
    "with open(ruta1) as fichero1, open(ruta2) as fichero2:\n",
    "    print(fichero1.readlines())\n",
    "    print(fichero2.readlines())"
   ]
  },
  {
   "cell_type": "markdown",
   "id": "hazardous-fiction",
   "metadata": {},
   "source": [
    "## Modos de acceso"
   ]
  },
  {
   "cell_type": "markdown",
   "id": "strong-sugar",
   "metadata": {},
   "source": [
    "* Al crear un objeto de tipo *File* se puede espeficiar el modo de acceso (lectura/escritura).\n",
    "\n",
    "| Modo Acceso | Descripción |\n",
    "|:---------|:-----|\n",
    "| r | Solo Lectura |\n",
    "| w | Solo Escritura (Borra si el archivo ya existe) |\n",
    "| x | Solo Escritura (Falla si el archivo ya existe) |\n",
    "| a | Crea Fichero (Si existe lo abre y se añade al final) |\n",
    "| r+ | Lectura y Escritura |"
   ]
  },
  {
   "cell_type": "markdown",
   "id": "exciting-destination",
   "metadata": {},
   "source": [
    "## Acceso para escritura"
   ]
  },
  {
   "cell_type": "code",
   "execution_count": null,
   "id": "finnish-capacity",
   "metadata": {},
   "outputs": [],
   "source": [
    "with open('res/FicheroParaEscritura.txt', 'w') as fichero:\n",
    "    fichero.write('Cabecera\\n')\n",
    "    lista = [str(x) + '\\n' for x in range(5)] # [0, 1, 2 ,3, 4]\n",
    "    fichero.writelines(lista)"
   ]
  },
  {
   "cell_type": "markdown",
   "id": "faced-differential",
   "metadata": {},
   "source": [
    "#### Buffering"
   ]
  },
  {
   "cell_type": "markdown",
   "id": "entertaining-helicopter",
   "metadata": {},
   "source": [
    "* Por defecto, el texto que transfieres desde tu programa a un fichero no se guarda en disco inmediatamente. Se almacena en un buffer.\n",
    "* Acciones como cerrar un fichero o invocar el método **flush** fuerzan que se transfiera el contenido del buffer a disco."
   ]
  },
  {
   "cell_type": "code",
   "execution_count": null,
   "id": "recovered-christian",
   "metadata": {},
   "outputs": [],
   "source": [
    "ruta = 'res/FicheroParaEscritura.txt'\n",
    "fichero_write = open(ruta, 'w')\n",
    "fichero_write.write('foo')\n",
    "\n",
    "fichero_read = open(ruta, \"r\")\n",
    "print(fichero_read.readlines())\n",
    "\n",
    "fichero_write.flush()\n",
    "\n",
    "print(fichero_read.readlines())\n",
    "\n",
    "fichero_write.close()\n",
    "fichero_read.close()"
   ]
  },
  {
   "cell_type": "markdown",
   "id": "clean-stuff",
   "metadata": {},
   "source": [
    "## Ficheros de texto y binarios"
   ]
  },
  {
   "cell_type": "markdown",
   "id": "piano-stockholm",
   "metadata": {},
   "source": [
    "* Ficheros de **texto**.\n",
    "   * Contenido en formato *string*.\n",
    "   * Se lleva a cabo la (de)codificación Unicode automáticamente.\n",
    "\n",
    "\n",
    "* Ficheros **binarios**.\n",
    "   * Contenido en binario.\n",
    "   * Permiten a los programas acceder al contenido de los ficheros sin ningún tipo de alteración."
   ]
  },
  {
   "cell_type": "markdown",
   "id": "champion-amendment",
   "metadata": {},
   "source": [
    "* El tipo de acceso se especifica en el segundo argumento de la función *open*.\n",
    "\n",
    "| Modo Acceso | Descripción |\n",
    "|:---------|:-----|\n",
    "| t | Acceso en modo texto (por defecto) |\n",
    "| b | Acceso binario |"
   ]
  },
  {
   "cell_type": "code",
   "execution_count": null,
   "id": "threaded-constitution",
   "metadata": {},
   "outputs": [],
   "source": [
    "data = open('img/viu_logo.png', 'rb').read()\n",
    "print(data[20:30])"
   ]
  },
  {
   "cell_type": "markdown",
   "id": "dramatic-tobacco",
   "metadata": {},
   "source": [
    "## Archivos CSV"
   ]
  },
  {
   "cell_type": "markdown",
   "id": "behavioral-panama",
   "metadata": {
    "tags": []
   },
   "source": [
    "* Python permite leer datos de ficheros CSV y también escribir ficheros en este formato.\n",
    "* Popular formato en ciencia de datos."
   ]
  },
  {
   "cell_type": "code",
   "execution_count": null,
   "id": "published-learning",
   "metadata": {},
   "outputs": [],
   "source": [
    "# tabla_operaciones.csv contiene valores separados por comas\n",
    "import csv\n",
    "\n",
    "with open(\"res/tabla_operaciones.csv\") as fichero:\n",
    "    data_reader = csv.reader(fichero, delimiter=',')\n",
    "    for linea in data_reader:\n",
    "        print(linea[0] + ' -- ' + linea[1])"
   ]
  },
  {
   "cell_type": "markdown",
   "id": "selective-constitutional",
   "metadata": {},
   "source": [
    "## Archivos JSON"
   ]
  },
  {
   "cell_type": "markdown",
   "id": "moving-saudi",
   "metadata": {},
   "source": [
    "* JSON es un formato de intercambio de datos ampliamente utilizado.\n",
    "* Permite la serializacion y deserialización de objetos Python para su almacenamiento y transmisión.\n",
    "* Portable e independiente de lenguaje.\n",
    "* Soportado por una amplia variedad de sistemas."
   ]
  },
  {
   "cell_type": "markdown",
   "id": "informative-pathology",
   "metadata": {},
   "source": [
    "* Sintaxis muy cercana a diccionarios de Python, lo que facilita la traducción.\n",
    "\n",
    "Ejemplo:\n",
    "\n",
    "```\n",
    "{\n",
    "   'nombre_completo' : {\n",
    "      'nombre': 'Pablo',\n",
    "      'apellido': 'Garcia'\n",
    "   },\n",
    "   'trabajo' : ['desarrollador', 'manager'],\n",
    "   'edad' : 40\n",
    "}\n",
    "```"
   ]
  },
  {
   "cell_type": "code",
   "execution_count": null,
   "id": "governmental-governor",
   "metadata": {},
   "outputs": [],
   "source": [
    "# Conversion Python -> JSON.\n",
    "import json\n",
    "\n",
    "objeto_nombre_completo = dict(nombre='Pablo', apellido='Garcia')\n",
    "persona = dict(nombre_completo=objeto_nombre_completo, trabajo=['desarrollador', 'manager'], edad=40)\n",
    "\n",
    "objeto_json = json.dumps(persona)\n",
    "print(objeto_json)"
   ]
  },
  {
   "cell_type": "code",
   "execution_count": null,
   "id": "numeric-review",
   "metadata": {},
   "outputs": [],
   "source": [
    "# Conversion JSON -> Python.\n",
    "objeto_python = json.loads(objeto_json)\n",
    "print(objeto_python)\n",
    "#print(objeto_python['edad'])"
   ]
  },
  {
   "cell_type": "markdown",
   "id": "essential-distributor",
   "metadata": {},
   "source": [
    "## Ejercicios"
   ]
  },
  {
   "cell_type": "markdown",
   "id": "democratic-persian",
   "metadata": {},
   "source": [
    "1. Escribe una función que reciba una ruta de un fichero de texto y una cadena de caracteres a buscar y determine si la cadena aparece en el fichero.\n",
    "\n",
    "2. Escribe una función que reciba una lista, una ruta destino y un número *n*. La función debe crear un fichero en la ruta especificada. El contenido del fichero serán los primeros *n* elementos de la lista.\n",
    "\n",
    "3. Escribe una función que reciba una ruta de un fichero de texto devuelva un diccionario con la frecuencia de aparición de cada palabra. Ejemplo: un fichero que contenga la frase 'es mejor que venga que que no venga' devolverá el siguiente diccionario: {'es' : 1, 'mejor' : 1, 'que' : 3, 'venga' : 2, 'no' : 1}"
   ]
  }
 ],
 "metadata": {
  "kernelspec": {
   "display_name": "Python 3",
   "language": "python",
   "name": "python3"
  },
  "language_info": {
   "codemirror_mode": {
    "name": "ipython",
    "version": 3
   },
   "file_extension": ".py",
   "mimetype": "text/x-python",
   "name": "python",
   "nbconvert_exporter": "python",
   "pygments_lexer": "ipython3",
   "version": "3.9.2"
  }
 },
 "nbformat": 4,
 "nbformat_minor": 5
}
