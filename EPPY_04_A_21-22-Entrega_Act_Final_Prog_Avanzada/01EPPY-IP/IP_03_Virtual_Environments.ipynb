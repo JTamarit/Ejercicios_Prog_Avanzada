{
 "cells": [
  {
   "cell_type": "markdown",
   "id": "numerical-smoke",
   "metadata": {},
   "source": [
    "<img src=\"img/viu_logo.png\" width=\"200\"><img src=\"img/python_logo.png\" width=\"250\"> *Mario Cervera*"
   ]
  },
  {
   "cell_type": "markdown",
   "id": "understood-rabbit",
   "metadata": {},
   "source": [
    "# Entornos virtuales"
   ]
  },
  {
   "cell_type": "markdown",
   "id": "loved-football",
   "metadata": {},
   "source": [
    "Guías con detalles para Windows, Linux y macOS:\n",
    "\n",
    "   * https://realpython.com/python-virtual-environments-a-primer/\n",
    "   \n",
    "   * https://docs.python.org/3/tutorial/venv.html"
   ]
  },
  {
   "cell_type": "markdown",
   "id": "interim-shipping",
   "metadata": {},
   "source": [
    "Cualquier proyecto Python que se ejecute en tu sistema usará los paquetes instalados en los siguientes directorios:"
   ]
  },
  {
   "cell_type": "code",
   "execution_count": 1,
   "id": "smoking-separation",
   "metadata": {},
   "outputs": [
    {
     "data": {
      "text/plain": [
       "['c:\\\\users\\\\mario\\\\appdata\\\\local\\\\programs\\\\python\\\\python39',\n",
       " 'c:\\\\users\\\\mario\\\\appdata\\\\local\\\\programs\\\\python\\\\python39\\\\lib\\\\site-packages']"
      ]
     },
     "execution_count": 1,
     "metadata": {},
     "output_type": "execute_result"
    }
   ],
   "source": [
    "import site\n",
    "site.getsitepackages()"
   ]
  },
  {
   "cell_type": "markdown",
   "id": "modular-germany",
   "metadata": {},
   "source": [
    "### Problema\n",
    "\n",
    "Imagina:\n",
    "\n",
    "1. Los proyectos A y B tienen una dependencia con la misma librería\n",
    "2. El proyecto A necesita la version 1.3.2 de la librería.\n",
    "3. El proyecto A necesita la version 2.1.0 de la librería.\n",
    "4. Python no diferencia entre versiones en el directorio donde se almacenan los paquetes.\n",
    "5. Estamos forzados a:\n",
    "   * Que ambos proyectos usen la misma versión, o\n",
    "   * Ir instalando/desistalando versiones diferenets de la librería según el proyecto que queramos ejecutar."
   ]
  },
  {
   "cell_type": "markdown",
   "id": "fresh-worship",
   "metadata": {},
   "source": [
    "### Solución\n",
    "\n",
    "**Entornos virtuales**\n",
    "\n",
    "* Un entorno aislado para cada proyecto Python.\n",
    "* Cada proyecto puede tener sus propias dependencias.\n",
    "* Son simplemente directorios."
   ]
  },
  {
   "cell_type": "markdown",
   "id": "electrical-context",
   "metadata": {},
   "source": [
    "### Creación de entornos virtuales\n",
    "\n",
    "Por medio de la herramienta *venv* (que viene con la instalación de Python 3.X).\n",
    "\n",
    "```\n",
    "> python -m venv c:/path/to/virtual/environment\n",
    "```\n",
    "\n",
    "Esto creará el entorno virtual en el directorio especificado.\n",
    "\n",
    "Por convención, se suelen crear los entornos virtuales dentro de cada proyecto, en una carpeta *.venv*.\n",
    "\n",
    "```\n",
    "> python -m venv c:/path/to/project/.venv\n",
    "```\n",
    "\n",
    "Esto creará una carpeta *.env* con el siguiente contenido:\n",
    "\n",
    "* *bin* (o *Scripts*): carpeta que contiene una copia de los binarios de Python (python, pip, activate, etc.)\n",
    "* *Lib*: carpeta que contiene *site-packages*, donde irán las librerías de terceros.\n",
    "* *pyvenv.cfg*: fichero de configuración que almacena información acerca del entorno virtual (por ejemplo, la versión del intérprete de Python)."
   ]
  },
  {
   "cell_type": "markdown",
   "id": "mineral-mailing",
   "metadata": {},
   "source": [
    "<img src=\"img/venvTree.png\" width=\"700\">"
   ]
  },
  {
   "cell_type": "markdown",
   "id": "several-teens",
   "metadata": {},
   "source": [
    "### Activación de entornos virtuales\n",
    "\n",
    "Invocación del archivo *.bat* que se ha generado en la carpeta *Scripts*.\n",
    "\n",
    "```\n",
    "> ./Scripts/activate.bat\n",
    "```\n",
    "\n",
    "Cambiará el prompt para mostrar el entorno virtual que has activado.\n",
    "\n",
    "```\n",
    "(.venv) > \n",
    "```\n",
    "\n",
    "A partir de este momento, el shell usará por defecto el ejecutable *Python* del entorno virtual y también sus *site-packages*.\n",
    "\n",
    "La desactivación se puede llevar a cabo de manera análoga usando *deactivate.bat*."
   ]
  }
 ],
 "metadata": {
  "kernelspec": {
   "display_name": "Python 3",
   "language": "python",
   "name": "python3"
  },
  "language_info": {
   "codemirror_mode": {
    "name": "ipython",
    "version": 3
   },
   "file_extension": ".py",
   "mimetype": "text/x-python",
   "name": "python",
   "nbconvert_exporter": "python",
   "pygments_lexer": "ipython3",
   "version": "3.9.2"
  }
 },
 "nbformat": 4,
 "nbformat_minor": 5
}
