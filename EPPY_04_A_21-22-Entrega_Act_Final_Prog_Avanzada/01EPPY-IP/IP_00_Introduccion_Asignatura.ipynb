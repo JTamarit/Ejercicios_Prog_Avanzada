{
 "cells": [
  {
   "cell_type": "markdown",
   "id": "considered-allergy",
   "metadata": {},
   "source": [
    "<img src=\"img/viu_logo.png\" width=\"200\"><img src=\"img/python_logo.png\" width=\"250\"> *Mario Cervera*"
   ]
  },
  {
   "cell_type": "markdown",
   "id": "saved-pickup",
   "metadata": {},
   "source": [
    "# Introducción asignatura"
   ]
  },
  {
   "cell_type": "markdown",
   "id": "electronic-weather",
   "metadata": {},
   "source": [
    "## Presentación"
   ]
  },
  {
   "cell_type": "markdown",
   "id": "aggressive-ribbon",
   "metadata": {},
   "source": [
    "Profesor: Mario Cervera.\n",
    "\n",
    "* Doctor en informática por la UPV (2015).\n",
    "* Ingeniero Software (+10 años experiencia).\n",
    "   * Actualmente C++. También Python y Java.\n",
    "   * Desarrollo web, aplicaciones escritorio y aplicaciones real-time.\n",
    "   * Mejora de calidad a través de buenas prácticas de Ingeniería Software (diseño, testing, etc.).\n",
    "* Email: pendiente de asignación.\n",
    "* Discord: https://discord.gg/9wPrwEJV4r\n",
    "* Twitter: @macerub"
   ]
  },
  {
   "cell_type": "markdown",
   "id": "invisible-enterprise",
   "metadata": {},
   "source": [
    "## Objetivos"
   ]
  },
  {
   "cell_type": "markdown",
   "id": "ultimate-maple",
   "metadata": {},
   "source": [
    "* Introducir al estudiante en el mundo de la programación, y más concretamente en la programación en Python.\n",
    "    * No se asume ningún conocimiento previo, pero iremos rápido. Es importante no descolgarse.\n",
    "* Fundamentos teórico-prácticos para desarrollar programas en Python.\n",
    "    * Principalmente enfoque práctico.\n",
    "* Análisis y diseño de algoritmos.\n",
    "* Estructuras de datos avanzadas.\n",
    "* Buenas prácticas de programación: diseño software, testing automatizado, código limpio.\n",
    "* Metodologías de desarrollo de software: tradicional y ágil."
   ]
  },
  {
   "cell_type": "markdown",
   "id": "joint-floor",
   "metadata": {},
   "source": [
    "## Temario"
   ]
  },
  {
   "cell_type": "markdown",
   "id": "focal-general",
   "metadata": {},
   "source": [
    "1. Introducción a Python.\n",
    "2. Intérprete de Python.\n",
    "3. Entornos virtuales.\n",
    "4. Comentarios.\n",
    "5. Literales, variables y tipos básicos.\n",
    "6. Tipos de datos compuestos.\n",
    "7. Estructuras de control.\n",
    "8. Funciones.\n",
    "9. Acceso a ficheros.\n",
    "10. Docstrings.\n",
    "11. Estructuras de datos avanzadas.\n",
    "12. Algoritmos.\n",
    "13. Programación orientada a objetos.\n",
    "14. Buenas prácticas de programación \n",
    "15. Patrones de diseño.\n",
    "16. Testing automatizado.\n",
    "17. Metodologías de desarrollo software."
   ]
  },
  {
   "cell_type": "markdown",
   "id": "brown-patient",
   "metadata": {},
   "source": [
    "## Metodología"
   ]
  },
  {
   "cell_type": "markdown",
   "id": "patent-boring",
   "metadata": {},
   "source": [
    "* Clase expositiva (15 horas teoría + 15 horas práctica).\n",
    "    * Problemas en casi todas las unidades temáticas.\n",
    "* Trabajo autónomo (110 horas).\n",
    "* Tutorías online (10 horas).\n",
    "\n",
    "> Total: 150 horas."
   ]
  },
  {
   "cell_type": "markdown",
   "id": "molecular-reducing",
   "metadata": {},
   "source": [
    "## Sistema de evaluación"
   ]
  },
  {
   "cell_type": "markdown",
   "id": "amazing-egyptian",
   "metadata": {},
   "source": [
    "* No hay examen.\n",
    "\n",
    "* Ejercicios evaluables.\n",
    "\n",
    "  * Portfolio - 40%\n",
    "  * Ejercicio final - 60%\n",
    "\n",
    "> *Portfolio*: actividades dirigidas que cubren algún tema importante de la asignatura. Se pondrán a disposición del alumno tan pronto como dichos temas hayan sido impartidos. Servirán al alumno para practicar y para demostrar los conocimientos adquiridos.\n",
    "\n",
    "> *Ejercicio final*: algo más de complejidad y más abierto, para que el alumno tenga posibilidades de elegir.\n",
    "\n",
    "* Participación en foro - 10% (opcional)\n",
    "\n",
    "* Dos convocatorias:\n",
    "   * Al terminar la asignatura.\n",
    "   * Al terminar el curso (4 asignaturas).\n",
    "\n",
    "\n",
    "* Todas las actividades (tanto del portfolio como el ejercicio final) deben estar aprobadas."
   ]
  },
  {
   "cell_type": "markdown",
   "id": "careful-object",
   "metadata": {},
   "source": [
    "| Nota | Evaluación |\n",
    "|:---------|:-----|\n",
    "| x < 5  | Suspendido |\n",
    "| 5 <= x < 7 | Aprobado |\n",
    "| 7 <= x < 9 | Notable |\n",
    "| 9 <= x | Sobresaliente |"
   ]
  },
  {
   "cell_type": "markdown",
   "id": "wooden-silly",
   "metadata": {},
   "source": [
    "* Soluciones sencillas a los ejercicios servirán para aprobar.\n",
    "\n",
    "* Una nota superior a 5 requerirá un esfuerzo adicional."
   ]
  },
  {
   "cell_type": "markdown",
   "id": "inclusive-creator",
   "metadata": {},
   "source": [
    "#### Opciones de entrega\n",
    "\n",
    "* Fork + tag.\n",
    "\n",
    "   * Repositorio (privado) para alumnos: https://github.com/vany-viu/EPPY_04_A_21-22\n",
    "   \n",
    "\n",
    "      * Enviar usuarios GitHub a coordinador para que otorgue permisos.\n",
    "\n",
    "\n",
    "* Subir ficheros a la plataforma blackboard de la VIU."
   ]
  },
  {
   "cell_type": "markdown",
   "id": "similar-vector",
   "metadata": {
    "tags": []
   },
   "source": [
    "**Software a utilizar**\n",
    "\n",
    "* Uso de **Jupyter-lab** o **Jupyter-notebook**.\n",
    "   * Permite intercalar el código con las explicaciones necesarias.\n",
    "   * Markdown/HTML + codigo en vivo.\n",
    "   * Markdown = https://www.markdownguide.org/\n",
    "   * En la terminal: *jupyter notebook* o *jupyter-lab*.\n",
    "   * Archivos _.ipynb_\n",
    "   * Documentación https://jupyter.readthedocs.io/en/latest/"
   ]
  },
  {
   "cell_type": "markdown",
   "id": "agreed-baseline",
   "metadata": {},
   "source": [
    "## Sesiones"
   ]
  },
  {
   "cell_type": "markdown",
   "id": "noticed-sailing",
   "metadata": {},
   "source": [
    "### Horario 19:00 a 21:00 CEST\n",
    "\n",
    "* 19-04-2021 - Tutoria Colectiva Presentación\n",
    "* 20-04-2021 - VideoConferencia 00\n",
    "* 21-04-2021 - VideoConferencia 01\n",
    "* 22-04-2021 - VideoConferencia 02\n",
    "* 26-04-2021 - VideoConferencia 03\n",
    "* 27-04-2021 - VideoConferencia 04\n",
    "* 29-04-2021 - VideoConferencia 05\n",
    "* 03-05-2021 - VideoConferencia 06\n",
    "* 04-05-2021 - VideoConferencia 07\n",
    "* 06-05-2021 - VideoConferencia 08\n",
    "* 10-05-2021 - VideoConferencia 09\n",
    "* 11-05-2021 - VideoConferencia 10\n",
    "* 13-05-2021 - VideoConferencia 11\n",
    "* 17-05-2021 - VideoConferencia 12\n",
    "* 18-05-2021 - VideoConferencia 13\n",
    "* 20-05-2021 - VideoConferencia 14\n",
    "\n",
    "\n",
    "* 11-06-2021 - Fecha primera convocatoria\n",
    "* 04-10-2021 - Fecha segunda convocatoria"
   ]
  },
  {
   "cell_type": "markdown",
   "id": "geographic-ballot",
   "metadata": {},
   "source": [
    "Si hay algún cambio inesperado, se notificará apropiadamente."
   ]
  },
  {
   "cell_type": "markdown",
   "id": "experienced-springer",
   "metadata": {},
   "source": [
    "## Durante las clases ..."
   ]
  },
  {
   "cell_type": "markdown",
   "id": "unexpected-lingerie",
   "metadata": {},
   "source": [
    "* Las clases deben ser grabadas.\n",
    "\n",
    "   * Por favor, avisad si el profesor se olvida.\n",
    "\n",
    "\n",
    "* Uso de Jupyter notebooks.\n",
    "\n",
    "   * Se pondrán a disposición del alumno durante las horas/días previos a la clase para que puedan seguir las clases con ellos y hacer sus propias pruebas con el código.\n",
    "\n",
    "\n",
    "* Necesasaria instalación Python y Jupyter-Lab."
   ]
  },
  {
   "cell_type": "markdown",
   "id": "imported-blind",
   "metadata": {},
   "source": [
    "## Instalación Python y Jupyter-Lab\n",
    "\n",
    "* Guía de instalación (para Windows, Linux y macOS): https://realpython.com/installing-python/\n",
    "\n",
    "* [Python 3.9.x](https://www.python.org/downloads/)\n",
    "\n",
    "   * Instalación a través del fichero instalable. Sección \"How to Install From the Full Installer\" en la guía (Windows).\n",
    "\n",
    "   * No olvidéis marcar el checkbox con la opción de añadir Python a la variable de entorno PATH.\n",
    "   \n",
    "* [Jupyter-lab](https://jupyter.org/install)\n",
    "\n",
    "   * Instalación: *pip install jupyterlab*\n",
    "\n",
    "   * Abrir aplicación con navegador: *jupyter-lab*\n",
    "  "
   ]
  },
  {
   "cell_type": "markdown",
   "id": "hired-defeat",
   "metadata": {},
   "source": [
    "## Entorno de desarrollo (IDE)"
   ]
  },
  {
   "cell_type": "markdown",
   "id": "opened-group",
   "metadata": {},
   "source": [
    "* Mi recomendación:\n",
    "\n",
    "   * Visual Studio Code ([VSCode](https://code.visualstudio.com/)).\n",
    "\n",
    "\n",
    "* Podeis tanto ejecutar scripts de Python como abrir los Jupyter notebooks desde el propio IDE.\n",
    "\n",
    "* Necesario instalar extensiones:\n",
    "\n",
    "   * Python\n",
    "   \n",
    "   * Jupyter"
   ]
  },
  {
   "cell_type": "markdown",
   "id": "placed-legislation",
   "metadata": {},
   "source": [
    "# Git"
   ]
  },
  {
   "cell_type": "markdown",
   "id": "accepted-arcade",
   "metadata": {},
   "source": [
    "Libro: https://git-scm.com/book/es/v2"
   ]
  },
  {
   "cell_type": "markdown",
   "id": "interstate-abortion",
   "metadata": {},
   "source": [
    "Se pone a disposición del alumno un repositorio *Git* alojado en la plataforma *GitHub* donde se irán actualizando los contenidos vistos en clase, que servirán de base para el desarrollo de la asignatura, así como para la realización de las diferentes actividades y ejercicios propuestos durante la misma."
   ]
  },
  {
   "cell_type": "markdown",
   "id": "dedicated-standard",
   "metadata": {},
   "source": [
    "Es necesario crear una cuenta en la plataforma [GitHub](https://github.com/). Con esto ya se está en disposición de crear repositorios o trabajar con repositorios de terceros."
   ]
  },
  {
   "cell_type": "markdown",
   "id": "separate-vacuum",
   "metadata": {},
   "source": [
    "### Fork"
   ]
  },
  {
   "cell_type": "markdown",
   "id": "suited-shock",
   "metadata": {},
   "source": [
    "Es necesario hacer un *fork* del repositorio: https://github.com/vany-viu/EPPY_04_A_21-22"
   ]
  },
  {
   "cell_type": "markdown",
   "id": "swedish-whale",
   "metadata": {},
   "source": [
    "Esto permite al alumno:\n",
    "\n",
    "* Tener una copia del repositorio en su cuenta de GitHub.\n",
    "* Trabajar sobre el repositorio de manera individual, sin afectar a los cambios en el repositorio general.\n",
    "* Tener las actualizaciones del repositorio general en el repositorio local.\n",
    "\n",
    "Para hacer el fork, acceder al repositorio general a través de la URL. En la página principal del repositorio, en la parte superior derecha, hay un botón con la opción Fork."
   ]
  },
  {
   "cell_type": "markdown",
   "id": "caring-reach",
   "metadata": {},
   "source": [
    "<img src=\"img/Git/Fork.png\" width=\"500\">"
   ]
  },
  {
   "cell_type": "markdown",
   "id": "julian-turning",
   "metadata": {},
   "source": [
    "Se pulsa dicho botón para iniciar el proceso de Fork desde el repositorio general hacia uno local en la cuenta GitHub del alumno.\n",
    "\n",
    "Una vez ese proceso finaliza, se habrá copiado el repositorio a la cuenta local.\n",
    "\n",
    "El encabezado de la copia local indica que es un repositorio copiado."
   ]
  },
  {
   "cell_type": "markdown",
   "id": "instant-chassis",
   "metadata": {},
   "source": [
    "<img src=\"img/Git/ForkedRepository.png\" width=\"500\">"
   ]
  },
  {
   "cell_type": "markdown",
   "id": "charitable-background",
   "metadata": {},
   "source": [
    "### Clone"
   ]
  },
  {
   "cell_type": "markdown",
   "id": "thousand-administrator",
   "metadata": {},
   "source": [
    "El siguiente paso es clonar el repositorio copiado para poder trabajar con él en la **maquina local**; es decir, bajarse todo el contenido del mismo.\n",
    "\n",
    "Para ello se puede usar la linea de comandos y el comando git, pero se recomienda usar algún **cliente** que ofrezca alguna **interfaz visual** más cómoda.\n",
    "\n",
    "En este documento se usa [TortoiseGit](https://tortoisegit.org/) como cliente Git, aunque las instrucciones serán similares en otros clientes (Fork, SourceTree, Kraken, etc.).\n",
    "\n",
    "En la página de GitHub, en el repositorio copiado (Forked) se pulsa sobre el botón \\\"*Code*\\\" y se obtiene la ruta para poder clonar el repositorio."
   ]
  },
  {
   "cell_type": "markdown",
   "id": "fossil-uncertainty",
   "metadata": {},
   "source": [
    "<img src=\"img/Git/CloneURL.png\" width=\"500\">"
   ]
  },
  {
   "cell_type": "markdown",
   "id": "successful-astrology",
   "metadata": {},
   "source": [
    "Nos situamos en la carpeta local donde queremos que se clone el repositorio.\n",
    "\n",
    "En el cliente Git se busca la opción de menú contextual para Clonar un repositorio, y se pega la url obtenida de GitHub.\n",
    "\n",
    "Una vez clonado el repositorio tendremos en el explorador de archivos de la maquina local con todo el repositorio descargado y listo para empezar a trabajar sobre él."
   ]
  },
  {
   "cell_type": "markdown",
   "id": "written-merchant",
   "metadata": {},
   "source": [
    "<img src=\"img/Git/GitClone.png\" width=\"350\">"
   ]
  },
  {
   "cell_type": "markdown",
   "id": "pursuant-freeware",
   "metadata": {},
   "source": [
    "<img src=\"img/Git/GitClone2.png\" width=\"700\">"
   ]
  },
  {
   "cell_type": "markdown",
   "id": "focal-bernard",
   "metadata": {},
   "source": [
    "### Configurar ubicación remota"
   ]
  },
  {
   "cell_type": "markdown",
   "id": "clean-illinois",
   "metadata": {},
   "source": [
    "Es importante mantener actualizado el repositorio local para obtener los cambios y actualizaciones que se realicen en el repositorio general.\n",
    "\n",
    "Para eso hay que añadir una ubicación remota al repositorio local.\n",
    "\n",
    "TortoiseGit --> Settings\n",
    "\n",
    "En el dialogo que se abre (en Git - Remote), añadir el remote \"upstream\" (por convención) y especificar la URL del repositorio general."
   ]
  },
  {
   "cell_type": "markdown",
   "id": "ecological-occupation",
   "metadata": {},
   "source": [
    "<img src=\"img/Git/UpstreamRemote.png\" width=\"800\">"
   ]
  },
  {
   "cell_type": "markdown",
   "id": "activated-warren",
   "metadata": {},
   "source": [
    "Ahora ya se puede acceder desde el repositorio copiado (forked) a las ramas y commits del repositorio principal, y hacer *fetch*, *pull* y *merge* para incluir las actualizaciones."
   ]
  },
  {
   "cell_type": "markdown",
   "id": "technological-intro",
   "metadata": {},
   "source": [
    "Para ello el primer paso es hacer un *fetch* del repositorio principal en *upstream*, para actualizar el repositorio local con los cambios remotos."
   ]
  },
  {
   "cell_type": "markdown",
   "id": "silent-latitude",
   "metadata": {},
   "source": [
    "<img src=\"img/Git/Fetch.png\" width=\"600\">"
   ]
  },
  {
   "cell_type": "markdown",
   "id": "certified-tract",
   "metadata": {},
   "source": [
    "Esta acción nos permite ver una versión actualiza de las ramas, commits, etc. a través de la opción de menú contextual *Show Log*."
   ]
  },
  {
   "cell_type": "markdown",
   "id": "comfortable-development",
   "metadata": {},
   "source": [
    "<img src=\"img/Git/ShowLog.png\" width=\"750\">"
   ]
  },
  {
   "cell_type": "markdown",
   "id": "brilliant-opening",
   "metadata": {},
   "source": [
    "**Importante**:\n",
    "\n",
    "Para integrar los cambios dentro de nuestro repositorio copiado, hay que hacer un *pull*.\n",
    "\n",
    "Solo a través de *pull* se importan los cambios a nuestro repositorio. *Fetch* es únicamente para ver un versión actualizada de las ramas y commits."
   ]
  },
  {
   "cell_type": "markdown",
   "id": "broken-installation",
   "metadata": {},
   "source": [
    "### Git Flow"
   ]
  },
  {
   "cell_type": "markdown",
   "id": "global-galaxy",
   "metadata": {},
   "source": [
    "<img src=\"img/Git/GitFlow.png\" width=\"800\">"
   ]
  },
  {
   "cell_type": "markdown",
   "id": "progressive-qatar",
   "metadata": {},
   "source": [
    "Comandos habituales de Git:\n",
    "    \n",
    "* *Stage*: cuando un fichero se modifica en el directorio de trabajo, con este comando se registra el cambio en el repositorio local.\n",
    "    \n",
    "* *Commit*: de esta manera se confirman y guardan los cambios hechos en los ficheros del directorio de trabajo, antes de commit hay que hacer stage de los ficheros.\n",
    "\n",
    "* *Push*: se suben los cambios o commits hechos en el repositorio local al repositorio remoto.\n",
    "\n",
    "* *Clone*: se hace al inicio cuando se clona un repositorio remoto y se bajan sus contenidos al repositorio local.\n",
    "\n",
    "* *Fetch*: se actualiza el repositorio local con posibles cambios que haya habido en el repositorio remoto.\n",
    "\n",
    "* *Pull*: se actualiza el repositorio local como en fetch, pero además se incorporan esos cambios a la rama de trabajo si los hubiera en dicha rama.\n",
    "\n",
    "* Checkout: se actualizan los contenidos del directorio de trabajo a partir de una rama del repositorio local.\n",
    "\n",
    "* *Branch*: para crear ramas de trabajo.\n",
    "\n",
    "* *Merge*: para mezclar el contenido de ramas de trabajo.\n",
    "\n",
    "* *Tag*: para crear etiquetas o snapshots del repositorio."
   ]
  }
 ],
 "metadata": {
  "kernelspec": {
   "display_name": "Python 3",
   "language": "python",
   "name": "python3"
  },
  "language_info": {
   "codemirror_mode": {
    "name": "ipython",
    "version": 3
   },
   "file_extension": ".py",
   "mimetype": "text/x-python",
   "name": "python",
   "nbconvert_exporter": "python",
   "pygments_lexer": "ipython3",
   "version": "3.9.2"
  }
 },
 "nbformat": 4,
 "nbformat_minor": 5
}
