{
 "cells": [
  {
   "cell_type": "markdown",
   "id": "afraid-basics",
   "metadata": {},
   "source": [
    "<img src=\"img/viu_logo.png\" width=\"200\"><img src=\"img/python_logo.png\" width=\"250\"> *Mario Cervera*"
   ]
  },
  {
   "cell_type": "markdown",
   "id": "caroline-second",
   "metadata": {},
   "source": [
    "# Tipos de datos compuestos (colecciones)"
   ]
  },
  {
   "cell_type": "markdown",
   "id": "fantastic-microphone",
   "metadata": {},
   "source": [
    "## En la clase anterior ..."
   ]
  },
  {
   "cell_type": "markdown",
   "id": "ecological-bridge",
   "metadata": {},
   "source": [
    "* Expresiones literales.\n",
    "   * Simples.\n",
    "   * Compuestos.\n",
    "* Variables.\n",
    "* Tipos de datos básicos.\n",
    "   * Bool.\n",
    "   * Int.\n",
    "   * String.\n",
    "* Operadores.\n",
    "   * Aritméticos (+, -, *, ...).\n",
    "   * Comparación (<, >, ==, ...).\n",
    "   * Lógicos (and, or, not).\n",
    "   * Binarios (&, |, ~, ...).\n",
    "   * Asignación (=, +=, -=, ...).\n",
    "   * Identidad (is, is not).\n",
    "   * Pertenencia (in, not in)."
   ]
  },
  {
   "cell_type": "markdown",
   "id": "labeled-single",
   "metadata": {},
   "source": [
    "## Para hoy ..."
   ]
  },
  {
   "cell_type": "markdown",
   "id": "lesser-latest",
   "metadata": {},
   "source": [
    "* Listas.\n",
    "* Diccionarios.\n",
    "* Conjuntos (sets).\n",
    "* Tuplas."
   ]
  },
  {
   "cell_type": "markdown",
   "id": "closing-system",
   "metadata": {},
   "source": [
    "## Listas\n",
    "\n",
    "* Una colección de objetos.\n",
    "* Mutables.\n",
    "* Tipos arbitrarios.\n",
    "* Puede contener duplicados.\n",
    "* No tienen tamaño fijo. Pueden contener tantos elementos como quepan en memoria.\n",
    "* Los elementos van ordenados por posición.\n",
    "* Se acceden a través de **[index]**.\n",
    "* Los índices van de 0 a n-1, donde n es el número de elementos de la lista.\n",
    "* Son un tipo de *Secuencia*, al igual que los strings, por lo tanto el orden importa.\n",
    "* Soportan anidamiento.\n",
    "* Son una implementación del tipo abstracto de datos: *Array Dinámico*."
   ]
  },
  {
   "cell_type": "markdown",
   "id": "supposed-bearing",
   "metadata": {},
   "source": [
    "<img src=\"img/TiposCompuestos/list.png\" width=\"800\">"
   ]
  },
  {
   "cell_type": "markdown",
   "id": "amateur-truck",
   "metadata": {},
   "source": [
    "#### Operaciones con listas"
   ]
  },
  {
   "cell_type": "code",
   "execution_count": null,
   "id": "individual-absorption",
   "metadata": {},
   "outputs": [],
   "source": [
    "# Creación de listas\n",
    "letras = ['a', 'b', 'c', 'd']\n",
    "palabras = 'Hola mundo'.split()\n",
    "numeros = list(range(5))\n",
    "\n",
    "print(letras)\n",
    "print(palabras)\n",
    "print(numeros)\n",
    "print(type(numeros))"
   ]
  },
  {
   "cell_type": "code",
   "execution_count": null,
   "id": "corporate-reset",
   "metadata": {},
   "outputs": [],
   "source": [
    "# Pueden contener elementos arbitrarios\n",
    "mezcla = [1, 3.4, 'a', None, False]\n",
    "print(mezcla)"
   ]
  },
  {
   "cell_type": "code",
   "execution_count": null,
   "id": "alpine-edinburgh",
   "metadata": {},
   "outputs": [],
   "source": [
    "# Pueden incluso contener objetos más \"complejos\"\n",
    "lista_con_funcion = [1, 2, len]\n",
    "print(lista_con_funcion)"
   ]
  },
  {
   "cell_type": "code",
   "execution_count": null,
   "id": "measured-shelter",
   "metadata": {},
   "outputs": [],
   "source": [
    "# Pueden contener duplicados\n",
    "lista_con_duplicados = [1, 2, 3, 3, 3, 4]\n",
    "print(lista_con_duplicados)"
   ]
  },
  {
   "cell_type": "code",
   "execution_count": null,
   "id": "listed-savings",
   "metadata": {},
   "outputs": [],
   "source": [
    "# Obtención de la longitud de una lista\n",
    "letras = ['a', 'b', 'c', 'd']\n",
    "print(len(letras))"
   ]
  },
  {
   "cell_type": "code",
   "execution_count": null,
   "id": "isolated-alcohol",
   "metadata": {},
   "outputs": [],
   "source": [
    "# Acceso a un elemento de la lista\n",
    "print(letras[2])\n",
    "print(letras[-1])"
   ]
  },
  {
   "cell_type": "code",
   "execution_count": null,
   "id": "fitted-camcorder",
   "metadata": {},
   "outputs": [],
   "source": [
    "# Obtención de un fragmento de la lista (slicing)\n",
    "# Formato: lista[inicio:fin:paso]\n",
    "\n",
    "letras = ['a', 'b', 'c', 'd']\n",
    "print(letras[1:3])\n",
    "print(letras[:1])\n",
    "print(letras[:-1])\n",
    "print(letras[2:])\n",
    "print(letras[:])\n",
    "print(letras[::2])"
   ]
  },
  {
   "cell_type": "code",
   "execution_count": null,
   "id": "connected-jaguar",
   "metadata": {},
   "outputs": [],
   "source": [
    "# Añadir un elemento al final de la lista\n",
    "letras.append('e')\n",
    "print(letras)"
   ]
  },
  {
   "cell_type": "code",
   "execution_count": null,
   "id": "separate-rainbow",
   "metadata": {},
   "outputs": [],
   "source": [
    "# Insertar en posición\n",
    "letras.insert(1,'b')\n",
    "print(letras)"
   ]
  },
  {
   "cell_type": "code",
   "execution_count": null,
   "id": "handmade-tumor",
   "metadata": {},
   "outputs": [],
   "source": [
    "# Modificación de la lista (individual)\n",
    "letras[5] = 'f'\n",
    "\n",
    "# Modificación mútiple\n",
    "letras[1:3] = ['z', 'z', 'z']\n",
    "\n",
    "print(letras)"
   ]
  },
  {
   "cell_type": "code",
   "execution_count": null,
   "id": "loaded-spyware",
   "metadata": {},
   "outputs": [],
   "source": [
    "# Ojo con la diferencia entre modificación individual y múltiple. Asignación individual de lista crea anidamiento.\n",
    "numeros = [1, 2, 3]\n",
    "numeros[1] = [0, 0, 0]\n",
    "\n",
    "print(numeros)"
   ]
  },
  {
   "cell_type": "code",
   "execution_count": null,
   "id": "controlling-disorder",
   "metadata": {},
   "outputs": [],
   "source": [
    "# Eliminar un elemento\n",
    "letras.remove('f')\n",
    "letras.remove('z')\n",
    "letras.remove('z')\n",
    "print(letras)"
   ]
  },
  {
   "cell_type": "code",
   "execution_count": null,
   "id": "given-monte",
   "metadata": {},
   "outputs": [],
   "source": [
    "# Concatenar listas\n",
    "lacteos = ['queso', 'leche']\n",
    "frutas = ['naranja', 'manzana']\n",
    "print(lacteos + frutas)\n",
    "\n",
    "# Concatenación sin crear una nueva lista\n",
    "frutas.extend(['pera'])\n",
    "print(frutas)"
   ]
  },
  {
   "cell_type": "code",
   "execution_count": null,
   "id": "conceptual-valentine",
   "metadata": {},
   "outputs": [],
   "source": [
    "# Replicar una lista\n",
    "lacteos = ['queso', 'leche']\n",
    "print(lacteos * 3)"
   ]
  },
  {
   "cell_type": "code",
   "execution_count": null,
   "id": "independent-marina",
   "metadata": {},
   "outputs": [],
   "source": [
    "# Copiar una lista\n",
    "frutas2 = frutas.copy()\n",
    "print(frutas2)\n",
    "print('id frutas = ' + str(id(frutas)))\n",
    "print('id frutas2 = ' + str(id(frutas2)))"
   ]
  },
  {
   "cell_type": "code",
   "execution_count": null,
   "id": "finished-green",
   "metadata": {},
   "outputs": [],
   "source": [
    "# Ordenar una lista\n",
    "lista = [4,3,8,1]\n",
    "lista.sort()\n",
    "print(lista)\n",
    "\n",
    "lista.sort(reverse=True)\n",
    "print(lista)"
   ]
  },
  {
   "cell_type": "code",
   "execution_count": null,
   "id": "colored-hunter",
   "metadata": {},
   "outputs": [],
   "source": [
    "# Los elementos deben ser comparables para poderse ordenar\n",
    "lista = [1, 'a']\n",
    "lista.sort()"
   ]
  },
  {
   "cell_type": "code",
   "execution_count": null,
   "id": "quantitative-broadway",
   "metadata": {},
   "outputs": [],
   "source": [
    "# Pertenencia\n",
    "lista = [1, 2, 3, 4]\n",
    "print(1 in lista)\n",
    "print(5 in lista)"
   ]
  },
  {
   "cell_type": "code",
   "execution_count": null,
   "id": "promising-suggestion",
   "metadata": {},
   "outputs": [],
   "source": [
    "# Anidamiento\n",
    "letras = ['a', 'b', 'c', ['x', 'y', ['i', 'j', 'k']]]\n",
    "print(letras[0])\n",
    "print(letras[3][0])\n",
    "print(letras[3][2][0])"
   ]
  },
  {
   "cell_type": "markdown",
   "id": "documentary-heather",
   "metadata": {},
   "source": [
    "<img src=\"img/TiposCompuestos/nestedlist.png\" width=\"900\">"
   ]
  },
  {
   "cell_type": "markdown",
   "id": "smooth-participation",
   "metadata": {},
   "source": [
    "## Diccionarios\n",
    "\n",
    "* Colección de parejas clave-valor.\n",
    "* Son mutables.\n",
    "* Claves:\n",
    "   * Cualquier objeto inmutable.\n",
    "   * Sólo pueden aparecer una vez en el diccionario.\n",
    "* Valores:\n",
    "   * Sin restricciones. Cualquier objeto (enteros, strings, listas, etc.) puede hacer de valor.\n",
    "* Desde la versión 3.7 están ordenados.\n",
    "* Se pueden ver como listas indexadas por cualquier objeto inmutable, no necesariamente por números enteros.\n",
    "* A diferencia de las listas, no son *secuencias*. Son *mappings*."
   ]
  },
  {
   "cell_type": "markdown",
   "id": "wired-lesbian",
   "metadata": {},
   "source": [
    "#### Operaciones con diccionarios"
   ]
  },
  {
   "cell_type": "code",
   "execution_count": null,
   "id": "unlike-terminal",
   "metadata": {},
   "outputs": [],
   "source": [
    "# Creación de diccionarios (simple)\n",
    "persona = {'DNI' : '11111111D', 'Nombre' : 'Carlos', 'Edad' : 34}\n",
    "print(persona)"
   ]
  },
  {
   "cell_type": "code",
   "execution_count": null,
   "id": "voluntary-documentation",
   "metadata": {},
   "outputs": [],
   "source": [
    "# Creación de diccionarios (uniendo dos colecciones)\n",
    "nombres = ['Pablo', 'Manolo', 'Pepe']\n",
    "edades = [52, 14, 65]\n",
    "\n",
    "datos = dict(zip(nombres,edades))\n",
    "print(datos)"
   ]
  },
  {
   "cell_type": "code",
   "execution_count": null,
   "id": "national-baghdad",
   "metadata": {
    "tags": []
   },
   "outputs": [],
   "source": [
    "# Creación de diccionarios (pasando claves y valores a la función 'dict')\n",
    "persona2 = dict(nombre='Rosa', apellido='Garcia')\n",
    "print(persona2)"
   ]
  },
  {
   "cell_type": "code",
   "execution_count": null,
   "id": "classified-circus",
   "metadata": {},
   "outputs": [],
   "source": [
    "# Creación de diccionarios (usando una lista de tuplas de dos elementos)\n",
    "persona2 = dict([('nombre', 'Rosa'), ('apellido','Garcia')])\n",
    "print(persona2)"
   ]
  },
  {
   "cell_type": "code",
   "execution_count": null,
   "id": "southeast-movie",
   "metadata": {},
   "outputs": [],
   "source": [
    "# Creación incremental por medio de asignación (como las claves no existen, se crean nuevos items)\n",
    "\n",
    "persona = {}\n",
    "persona['DNI'] = '11111111D'\n",
    "persona['Nombre'] = 'Carlos'\n",
    "persona['Edad'] = 34\n",
    "\n",
    "print(persona)"
   ]
  },
  {
   "cell_type": "code",
   "execution_count": null,
   "id": "streaming-print",
   "metadata": {},
   "outputs": [],
   "source": [
    "# Acceso a un valor a través de la clave\n",
    "persona = {'DNI' : '11111111D', 'Nombre' : 'Carlos', 'Edad' : 34}\n",
    "print(persona['Nombre'])"
   ]
  },
  {
   "cell_type": "code",
   "execution_count": null,
   "id": "integral-sheffield",
   "metadata": {},
   "outputs": [],
   "source": [
    "# Acceso a claves inexistentes o por índice produce error\n",
    "\n",
    "#persona[1]\n",
    "persona['Trabajo']"
   ]
  },
  {
   "cell_type": "code",
   "execution_count": null,
   "id": "split-lobby",
   "metadata": {},
   "outputs": [],
   "source": [
    "# Modificación de un valor a través de la clave\n",
    "persona = {'DNI' : '11111111D', 'Nombre' : 'Carlos', 'Edad' : 34}\n",
    "persona['Nombre'] = 'Fernando'\n",
    "persona['Edad'] += 1\n",
    "print(persona)"
   ]
  },
  {
   "cell_type": "code",
   "execution_count": null,
   "id": "complete-prisoner",
   "metadata": {},
   "outputs": [],
   "source": [
    "# Añadir un valor a través de la clave\n",
    "persona = {'DNI' : '11111111D', 'Nombre' : 'Carlos', 'Edad' : 34}\n",
    "persona['Ciudad'] = 'Valencia'\n",
    "print(persona)"
   ]
  },
  {
   "cell_type": "code",
   "execution_count": null,
   "id": "divine-ukraine",
   "metadata": {},
   "outputs": [],
   "source": [
    "# Eliminción de un valor a través de la clave\n",
    "del persona['Ciudad']\n",
    "value = persona.pop('Edad')\n",
    "print(persona)\n",
    "print(value)"
   ]
  },
  {
   "cell_type": "code",
   "execution_count": null,
   "id": "dimensional-airfare",
   "metadata": {},
   "outputs": [],
   "source": [
    "# Comprobar existencia de clave\n",
    "print('Nombre' in persona)\n",
    "print('Apellido' in persona)"
   ]
  },
  {
   "cell_type": "code",
   "execution_count": null,
   "id": "japanese-house",
   "metadata": {},
   "outputs": [],
   "source": [
    "# Recuperar el valor de una clave, indicando valor por defecto en caso de ausencia\n",
    "persona = {'Nombre' : 'Carlos'}\n",
    "\n",
    "value = persona.get('Nombre')\n",
    "print(value)\n",
    "\n",
    "value = persona.get('Estatura', 180)\n",
    "print(value)\n",
    "\n",
    "value = persona['Estatura'] if 'Estatura' in persona else 185\n",
    "print(value)"
   ]
  },
  {
   "cell_type": "code",
   "execution_count": null,
   "id": "impaired-pregnancy",
   "metadata": {},
   "outputs": [],
   "source": [
    "# Anidamiento\n",
    "persona = {\n",
    "    'Trabajos' : ['desarrollador', 'gestor'],\n",
    "    'Direccion' : {'Calle' : 'Pintor Sorolla', 'Ciudad' : 'Valencia'}\n",
    "}\n",
    "\n",
    "print(persona['Direccion'])\n",
    "print(persona['Direccion']['Ciudad'])"
   ]
  },
  {
   "cell_type": "code",
   "execution_count": null,
   "id": "heated-population",
   "metadata": {},
   "outputs": [],
   "source": [
    "# Metodos items, keys, values.\n",
    "\n",
    "persona = {'DNI' : '11111111D', 'Nombre' : 'Carlos', 'Edad' : 34}\n",
    "\n",
    "print(list(persona.items()))\n",
    "print(list(persona.keys()))\n",
    "print(list(persona.values()))"
   ]
  },
  {
   "cell_type": "markdown",
   "id": "deluxe-plane",
   "metadata": {},
   "source": [
    "## Sets (Conjuntos)\n",
    "\n",
    "Al igual que las listas:\n",
    "\n",
    "* Colección de elementos.\n",
    "* Tipos arbitrarios.\n",
    "* Mutables.\n",
    "* No tienen tamaño fijo. Pueden contener tantos elementos como quepan en memoria.\n",
    "\n",
    "A diferencia de las listas:\n",
    "\n",
    "* No puede tener duplicados.\n",
    "* Se definen por medio de llaves.\n",
    "* Los elementos no van ordenados por posición. No hay orden establecido.\n",
    "* Solo pueden contener objetos inmutables.\n",
    "* No soportan anidamiento."
   ]
  },
  {
   "cell_type": "code",
   "execution_count": null,
   "id": "needed-duplicate",
   "metadata": {},
   "outputs": [],
   "source": [
    "# Creación de un conjunto\n",
    "set1 = {0, 1, 1, 2, 3, 4, 4}\n",
    "print(set1)\n",
    "  \n",
    "set2 = {'user1', 12, 2}\n",
    "print(set2)\n",
    "\n",
    "set3 = set(range(7))\n",
    "print(set3)\n",
    "\n",
    "set4 = set([0, 1, 2, 3, 4, 0, 1])\n",
    "print(set4)"
   ]
  },
  {
   "cell_type": "code",
   "execution_count": null,
   "id": "naked-shuttle",
   "metadata": {},
   "outputs": [],
   "source": [
    "# Observa la diferencia entre listas y conjuntos\n",
    "s = 'aabbc'\n",
    "print(list(s))\n",
    "print(set(s))"
   ]
  },
  {
   "cell_type": "markdown",
   "id": "beginning-daisy",
   "metadata": {},
   "source": [
    "#### Operaciones con conjuntos"
   ]
  },
  {
   "cell_type": "code",
   "execution_count": null,
   "id": "diagnostic-librarian",
   "metadata": {},
   "outputs": [],
   "source": [
    "# No se pueden indexar los elementos de la misma forma que en una secuencia.\n",
    "set1 = {0, 1, 2}\n",
    "print(set1[0])"
   ]
  },
  {
   "cell_type": "code",
   "execution_count": null,
   "id": "fifteen-mattress",
   "metadata": {},
   "outputs": [],
   "source": [
    "set1 = {0, 1, 1, 2, 3, 4, 5, 8, 13, 21}\n",
    "set2 = set([0, 1, 2, 3, 4, 42])\n",
    "\n",
    "# union\n",
    "print(set1 | set2)\n",
    "\n",
    "# intersección\n",
    "print(set1 & set2)\n",
    "\n",
    "# diferencia\n",
    "print(set1 - set2)\n",
    "print(set2 - set1)"
   ]
  },
  {
   "cell_type": "markdown",
   "id": "passing-willow",
   "metadata": {},
   "source": [
    "<img src=\"img/TiposCompuestos/SetOperations.png\" width=\"500\">"
   ]
  },
  {
   "cell_type": "code",
   "execution_count": null,
   "id": "chicken-aaron",
   "metadata": {},
   "outputs": [],
   "source": [
    "# Además de los operadores, que operan únicamente con Sets, también se pueden usar métodos que pueden operar sobre cualquier objeto iterable.\n",
    "conjunto = {0, 1, 2}\n",
    "lista = [1, 3, 3]\n",
    "\n",
    "print(conjunto.union(lista))\n",
    "print(conjunto.intersection(lista))\n",
    "print(conjunto.difference(lista))"
   ]
  },
  {
   "cell_type": "code",
   "execution_count": null,
   "id": "focal-archives",
   "metadata": {},
   "outputs": [],
   "source": [
    "# Otros métodos: comparación de conjuntos.\n",
    "set1 = {0, 1, 1, 2, 3, 4, 5, 8, 13, 21}\n",
    "set2 = set([0, 1, 2, 3, 4])\n",
    "\n",
    "print(set2.issubset(set1))\n",
    "print(set1.issuperset(set2))\n",
    "print(set1.isdisjoint(set2))"
   ]
  },
  {
   "cell_type": "code",
   "execution_count": null,
   "id": "correct-reality",
   "metadata": {},
   "outputs": [],
   "source": [
    "# Pertenencia\n",
    "words = {'calm', 'balm'}\n",
    "print('calm' in words)"
   ]
  },
  {
   "cell_type": "code",
   "execution_count": null,
   "id": "wanted-percentage",
   "metadata": {},
   "outputs": [],
   "source": [
    "# Los conjuntos no soportan anidamiento, pero como permite elementos inmutables, se pueden \"anidar\" tuplas.\n",
    "nested_set = {1, (1, 1, 1), 2, 3}\n",
    "print(nested_set)"
   ]
  },
  {
   "cell_type": "code",
   "execution_count": null,
   "id": "controlled-parker",
   "metadata": {},
   "outputs": [],
   "source": [
    "# Modificación de conjuntos.\n",
    "\n",
    "# A través de operador de asignación\n",
    "\n",
    "set1 = {'a', 'b', 'c'}\n",
    "set2 = {'a', 'd'}\n",
    "\n",
    "set1 |= set2\n",
    "#set1 &= set2\n",
    "#set1 -= set2\n",
    "\n",
    "print(set1)"
   ]
  },
  {
   "cell_type": "code",
   "execution_count": null,
   "id": "hundred-synthesis",
   "metadata": {},
   "outputs": [],
   "source": [
    "# Modificación a través de método 'update'.\n",
    "\n",
    "set1 = {'a', 'b', 'c'}\n",
    "set2 = {'a', 'd'}\n",
    "\n",
    "set1.update(set2)\n",
    "#set1.intersection_update(set2)\n",
    "#set1.difference_update(set2)\n",
    "\n",
    "print(set1)"
   ]
  },
  {
   "cell_type": "code",
   "execution_count": null,
   "id": "congressional-seeking",
   "metadata": {},
   "outputs": [],
   "source": [
    "# Modificación a través de métodos 'add' y 'remove'.\n",
    "\n",
    "set1 = {'a', 'b', 'c'}\n",
    "\n",
    "set1.add('d')\n",
    "set1.remove('a')\n",
    "\n",
    "print(set1)"
   ]
  },
  {
   "cell_type": "markdown",
   "id": "technological-negative",
   "metadata": {},
   "source": [
    "## Tuplas\n",
    "\n",
    "Al igual que las listas:\n",
    "\n",
    "* Colección de elementos.\n",
    "* Tipos arbitrarios.\n",
    "* Puede contener duplicados.\n",
    "* No tienen tamaño fijo. Pueden contener tantos elementos como quepan en memoria.\n",
    "* Los elementos van ordenados por posición.\n",
    "* Acceso a través de __[index]__\n",
    "* Índices van de 0 a n-1, donde n es el número de elementos de la tupla.\n",
    "* Son *secuencias* donde el orden de los elementos importa.\n",
    "* Soportan anidamiento.\n",
    "\n",
    "A diferencia de las listas:\n",
    "\n",
    "* Se definen por medio de paréntesis.\n",
    "* Inmutables."
   ]
  },
  {
   "cell_type": "markdown",
   "id": "incorrect-rochester",
   "metadata": {},
   "source": [
    "#### ¿Por qué tuplas?\n",
    "\n",
    "* Representación de una colección fija de elementos (por ejemplo, una fecha).\n",
    "* Pueden usarse en contextos que requieren inmutabilidad (por ejemplo, como claves de un diccionario)."
   ]
  },
  {
   "cell_type": "code",
   "execution_count": null,
   "id": "excited-affair",
   "metadata": {},
   "outputs": [],
   "source": [
    "# Creación de tuplas\n",
    "tuple1 = ('Foo', 34, 5.0, 34)\n",
    "print(tuple1)\n",
    "\n",
    "tuple2 = 1, 2, 3\n",
    "print(tuple2)\n",
    "\n",
    "tuple3 = tuple(range(10))\n",
    "print(tuple3)\n",
    "\n",
    "tuple4 = tuple([0, 1, 2, 3, 4])\n",
    "print(tuple4)"
   ]
  },
  {
   "cell_type": "markdown",
   "id": "muslim-deputy",
   "metadata": {},
   "source": [
    "#### Operaciones con tuplas"
   ]
  },
  {
   "cell_type": "code",
   "execution_count": null,
   "id": "fantastic-jamaica",
   "metadata": {},
   "outputs": [],
   "source": [
    "# Número de elementos\n",
    "print(len(tuple1))"
   ]
  },
  {
   "cell_type": "code",
   "execution_count": null,
   "id": "latin-intention",
   "metadata": {},
   "outputs": [],
   "source": [
    "tuple1 = ('Foo', 1, 2, 3)\n",
    "\n",
    "# Acceso por índice\n",
    "print(tuple1[0]) # Primer elemento\n",
    "print(tuple1[len(tuple1)-1]) # Último elemento\n",
    "\n",
    "print(tuple1[-1]) # Índices negativos comienzan desde el final\n",
    "print(tuple1[-len(tuple1)]) # primer elemento"
   ]
  },
  {
   "cell_type": "code",
   "execution_count": null,
   "id": "sensitive-expression",
   "metadata": {},
   "outputs": [],
   "source": [
    "# Ojo con las tuplas de un elemento. Los paréntesis se intepretan como indicadores de precedencia de operadores.\n",
    "singleton_number = (1)\n",
    "type(singleton_number)"
   ]
  },
  {
   "cell_type": "code",
   "execution_count": null,
   "id": "verified-dressing",
   "metadata": {},
   "outputs": [],
   "source": [
    "# Creación de tupla de un elemento\n",
    "singleton_tuple = (1,)\n",
    "type(singleton_tuple)"
   ]
  },
  {
   "cell_type": "code",
   "execution_count": null,
   "id": "continuous-wales",
   "metadata": {},
   "outputs": [],
   "source": [
    "# Asignación a tuplas falla\n",
    "tuple1[0] = 'bar'"
   ]
  },
  {
   "cell_type": "code",
   "execution_count": null,
   "id": "brutal-samuel",
   "metadata": {},
   "outputs": [],
   "source": [
    "# Contar número de ocurrencias\n",
    "tuple1 = ('Foo',34, 5.0, 34)\n",
    "print(tuple1.count(34))"
   ]
  },
  {
   "cell_type": "code",
   "execution_count": null,
   "id": "radio-democrat",
   "metadata": {},
   "outputs": [],
   "source": [
    "# Encontrar el índice de un elemento\n",
    "tuple1 = ('Foo', 34, 5.0, 34)\n",
    "indice = tuple1.index(34)\n",
    "print(indice)\n",
    "print(tuple1[indice])"
   ]
  },
  {
   "cell_type": "code",
   "execution_count": null,
   "id": "bright-cross",
   "metadata": {},
   "outputs": [],
   "source": [
    "# Si el elemento no existe, error\n",
    "tuple1 = ('Foo', 34, 5.0, 34)\n",
    "print(tuple1.index(1))"
   ]
  },
  {
   "cell_type": "code",
   "execution_count": null,
   "id": "dependent-scott",
   "metadata": {},
   "outputs": [],
   "source": [
    "# Desempaquetar una tupla\n",
    "tuple1 = (1, 2, 3, 4)\n",
    "a, b, c, d = tuple1\n",
    "print(a)\n",
    "print(b)\n",
    "print(c)\n",
    "print(d)"
   ]
  },
  {
   "cell_type": "code",
   "execution_count": null,
   "id": "departmental-newcastle",
   "metadata": {},
   "outputs": [],
   "source": [
    "a, b, *resto = tuple1\n",
    "print(a)\n",
    "print(b)\n",
    "print(resto)"
   ]
  },
  {
   "cell_type": "markdown",
   "id": "simple-hamburg",
   "metadata": {},
   "source": [
    "<img src=\"img/TiposCompuestos/tuplepacking.png\" width=\"550\">"
   ]
  },
  {
   "cell_type": "markdown",
   "id": "aggressive-spanking",
   "metadata": {},
   "source": [
    "<img src=\"img/TiposCompuestos/tupleunpacking.png\" width=\"450\">"
   ]
  },
  {
   "cell_type": "markdown",
   "id": "moderate-culture",
   "metadata": {},
   "source": [
    "## Para terminar, volvemos a enfatizar un matiz importante ...\n",
    "\n",
    "> **En Python todo son objetos**\n",
    "\n",
    "Cada objeto tiene:\n",
    "\n",
    "* Identidad: Nunca cambia una vez creado. Es como la dirección de memoria. Operador **is** compara identidad, función **id()** devuelve identidad.\n",
    "* Tipo: determina posibles valores y operaciones. Función **type()** devuelve el tipo. No cambia.\n",
    "* Valor: que pueden ser *mutables* e *inmutables*.\n",
    "\n",
    "   * Tipos mutables: list, dictionary, set y tipos definidos por el usuario.\n",
    "   * Tipos inmutables: int, float, bool, string y tuple."
   ]
  },
  {
   "cell_type": "markdown",
   "id": "cellular-province",
   "metadata": {},
   "source": [
    "#### Ejemplos para ilustrar mutabilidad vs inmutabilidad"
   ]
  },
  {
   "cell_type": "code",
   "execution_count": null,
   "id": "agricultural-marketing",
   "metadata": {},
   "outputs": [],
   "source": [
    "# Asignación\n",
    "\n",
    "list_numbers = [1, 2, 3]  # Lista (mutable)\n",
    "tuple_numbers = (1, 2, 3) # Tupla (inmutable)\n",
    "\n",
    "print(list_numbers[0])\n",
    "print(tuple_numbers[0])\n",
    "\n",
    "list_numbers[0] = 100\n",
    "#tuple_numbers[0] = 100 \n",
    "\n",
    "print(list_numbers)\n",
    "print(tuple_numbers)"
   ]
  },
  {
   "cell_type": "code",
   "execution_count": null,
   "id": "assured-pound",
   "metadata": {},
   "outputs": [],
   "source": [
    "# Identidad\n",
    "\n",
    "list_numbers = [1, 2, 3] \n",
    "tuple_numbers = (1, 2, 3)\n",
    "\n",
    "print('Id list_numbers:  ' + str(id(list_numbers)))\n",
    "print('Id tuple_numbers: ' + str(id(tuple_numbers)))\n",
    "\n",
    "list_numbers += [4, 5, 6]  # La lista original se extiende\n",
    "tuple_numbers += (4, 5, 6) # Se crea un nuevo objeto\n",
    "\n",
    "print(list_numbers)\n",
    "print(tuple_numbers)\n",
    "\n",
    "print('Id list_numbers:  ' + str(id(list_numbers)))\n",
    "print('Id tuple_numbers: ' + str(id(tuple_numbers)))"
   ]
  },
  {
   "cell_type": "code",
   "execution_count": null,
   "id": "enabling-location",
   "metadata": {},
   "outputs": [],
   "source": [
    "# Referencias\n",
    "\n",
    "list_numbers = [1, 2, 3]\n",
    "list_numbers_2 = list_numbers  # list_numbers_2 referencia a list_numbers\n",
    "\n",
    "print('Id list_numbers:  ' + str(id(list_numbers)))\n",
    "print('Id list_numbers_2:  ' + str(id(list_numbers_2)))\n",
    "\n",
    "list_numbers.append(4) # Se actualiza list_numbers2 también\n",
    "\n",
    "print(list_numbers)\n",
    "print(list_numbers_2)\n",
    "\n",
    "print('Id list_numbers:  ' + str(id(list_numbers)))\n",
    "print('Id list_numbers_2:  ' + str(id(list_numbers_2)))"
   ]
  },
  {
   "cell_type": "code",
   "execution_count": null,
   "id": "ideal-brief",
   "metadata": {},
   "outputs": [],
   "source": [
    "text = \"Hola\" # Inmutable\n",
    "text_2 = text  # Referencia\n",
    "\n",
    "print('Id text:  ' + str(id(text)))\n",
    "print('Id text_2:  ' + str(id(text_2)))\n",
    "\n",
    "text += \" Mundo\"\n",
    "\n",
    "print(text)\n",
    "print(text_2)\n",
    "\n",
    "print('Id text:  ' + str(id(text)))\n",
    "print('Id text_2:  ' + str(id(text_2)))"
   ]
  },
  {
   "cell_type": "code",
   "execution_count": null,
   "id": "seeing-naples",
   "metadata": {
    "tags": []
   },
   "outputs": [],
   "source": [
    "teams = [\"Team A\", \"Team B\", \"Team C\"] # Mutable\n",
    "player = (23, teams) # Inmutable\n",
    "\n",
    "print(type(player))\n",
    "print(player)\n",
    "print(id(player))\n",
    "\n",
    "teams[2] = \"Team J\"\n",
    "\n",
    "print(player)\n",
    "print(id(player))"
   ]
  },
  {
   "cell_type": "markdown",
   "id": "hispanic-output",
   "metadata": {},
   "source": [
    "## Ejercicios"
   ]
  },
  {
   "cell_type": "markdown",
   "id": "appreciated-device",
   "metadata": {},
   "source": [
    "1. Dada una *lista* con elementos duplicados, escribir un programa que muestre una nueva *lista* con el mismo contenido que la primera pero sin elementos duplicados.\n",
    "\n",
    "2. Escribe un programa que defina una *tupla* con elementos numéricos, reemplace el valor del último por un valor diferente y muestre la *tupla* por pantalla. Recuerda que las *tuplas* son inmutables. Tendrás que usar objetos intermedios."
   ]
  }
 ],
 "metadata": {
  "kernelspec": {
   "display_name": "Python 3",
   "language": "python",
   "name": "python3"
  },
  "language_info": {
   "codemirror_mode": {
    "name": "ipython",
    "version": 3
   },
   "file_extension": ".py",
   "mimetype": "text/x-python",
   "name": "python",
   "nbconvert_exporter": "python",
   "pygments_lexer": "ipython3",
   "version": "3.9.2"
  }
 },
 "nbformat": 4,
 "nbformat_minor": 5
}
