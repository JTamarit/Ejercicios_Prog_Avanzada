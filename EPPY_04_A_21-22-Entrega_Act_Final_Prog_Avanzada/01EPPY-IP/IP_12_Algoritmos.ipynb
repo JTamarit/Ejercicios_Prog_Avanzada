{
 "cells": [
  {
   "cell_type": "markdown",
   "id": "charming-treatment",
   "metadata": {},
   "source": [
    "<img src=\"img/viu_logo.png\" width=\"200\"><img src=\"img/python_logo.png\" width=\"250\"> *Mario Cervera*"
   ]
  },
  {
   "cell_type": "markdown",
   "id": "listed-saying",
   "metadata": {},
   "source": [
    "# Algoritmos"
   ]
  },
  {
   "cell_type": "markdown",
   "id": "lightweight-midwest",
   "metadata": {},
   "source": [
    "## ¿Qué es un algoritmo?"
   ]
  },
  {
   "cell_type": "markdown",
   "id": "western-secretary",
   "metadata": {},
   "source": [
    "* Un procedimiento bien definido que recibe un valor, o conjunto de valores, como *entrada* y produce un resultado como *salida*.\n",
    "* Un conjunto de pasos que permiten resolver un *problema* definido en términos de una relación entrada-salida deseada."
   ]
  },
  {
   "cell_type": "markdown",
   "id": "numeric-establishment",
   "metadata": {},
   "source": [
    "## Ejemplos"
   ]
  },
  {
   "cell_type": "markdown",
   "id": "cloudy-difficulty",
   "metadata": {},
   "source": [
    "#### El problema de la ordenación\n",
    "\n",
    "* Uno de los problemas más ampliamente utilizado para estudiar análisis y diseño de algoritmos.\n",
    "\n",
    "* Características:\n",
    "\n",
    "  * *Entrada*: una secuencia de *n* números <a<sub>1</sub> , a<sub>2</sub> , ... , a<sub>n</sub>>.\n",
    "        \n",
    "  * *Salida*: permutación (reordenación) <a'<sub>1</sub> , a'<sub>2</sub> , ... , a'<sub>n</sub>> tal que a'<sub>1</sub> <= a'<sub>2</sub> <= a'<sub>n</sub>\n",
    "\n",
    "  * *Algoritmos*: [Mergesort](https://es.wikipedia.org/wiki/Ordenamiento_por_mezcla), [Quicksort](https://es.wikipedia.org/wiki/Quicksort), [Heapsort](https://es.wikipedia.org/wiki/Heapsort)."
   ]
  },
  {
   "cell_type": "markdown",
   "id": "secondary-scotland",
   "metadata": {},
   "source": [
    "#### El problema de la búsqueda\n",
    "\n",
    "* Características:\n",
    "\n",
    "   * *Entrada*: una colección *A* de *n* elementos, y un elemento *q* a buscar.\n",
    "\n",
    "   * *Salida*: índice de *q* en *A*.\n",
    "\n",
    "* Soluciones:\n",
    "\n",
    "   * Búsqueda lineal (no eficiente).\n",
    "\n",
    "   * Búsqueda binaria (eficiente, pero sólo posible si la colección está ordenada)."
   ]
  },
  {
   "cell_type": "code",
   "execution_count": null,
   "id": "several-conservation",
   "metadata": {},
   "outputs": [],
   "source": [
    "# Búsqueda binaria\n",
    "\n",
    "def binary_search(A, low, high, q):\n",
    "    if high >= low:\n",
    "        mid = (high + low) // 2\n",
    "\n",
    "        if A[mid] == q:\n",
    "            return mid\n",
    "        elif A[mid] > q:\n",
    "            return binary_search(A, low, mid - 1, q)\n",
    "        else:\n",
    "            return binary_search(A, mid + 1, high, q)\n",
    " \n",
    "    else:\n",
    "        return -1\n",
    " \n",
    "A = [2, 3, 4, 7, 10, 12, 14, 21, 40, 42, 67]\n",
    "q = 4\n",
    "result = binary_search(A, 0, len(A)-1, q)\n",
    "print(result)"
   ]
  },
  {
   "cell_type": "markdown",
   "id": "going-morgan",
   "metadata": {},
   "source": [
    "## Diseño de algoritmos"
   ]
  },
  {
   "cell_type": "markdown",
   "id": "compliant-custody",
   "metadata": {},
   "source": [
    "Técnicas de diseño de algoritmos."
   ]
  },
  {
   "cell_type": "markdown",
   "id": "norman-turner",
   "metadata": {},
   "source": [
    "#### Recursión"
   ]
  },
  {
   "cell_type": "markdown",
   "id": "dominant-plant",
   "metadata": {},
   "source": [
    "* Un algoritmo es recursivo cuando se invoca a sí mismo.\n",
    "* Debe especificar un caso base para evitar la recursión infinita.\n",
    "\n",
    "Formato general:\n",
    "\n",
    "```\n",
    "funcion_recursiva(<entrada>):\n",
    "   \n",
    "   if <caso_base>:\n",
    "      return <solución_caso_base>\n",
    "   \n",
    "   return funcion_recursiva(<entrada_reducida>)\n",
    "```"
   ]
  },
  {
   "cell_type": "code",
   "execution_count": null,
   "id": "supported-detroit",
   "metadata": {},
   "outputs": [],
   "source": [
    "def factorial(n):\n",
    "    if n == 1:\n",
    "        return n\n",
    "    else:\n",
    "        return n * factorial(n-1)\n",
    "    \n",
    "print(factorial(5))"
   ]
  },
  {
   "cell_type": "markdown",
   "id": "approximate-portugal",
   "metadata": {},
   "source": [
    "#### Divide y vencerás"
   ]
  },
  {
   "cell_type": "markdown",
   "id": "engaged-beach",
   "metadata": {},
   "source": [
    "* Es una técnica recursiva.\n",
    "\n",
    "* En cada nivel de la recursión, se realizan 3 pasos:\n",
    "\n",
    "   1. **Dividir** el problem en subproblemas que son instancias más pequeñas del mismo problema.\n",
    "   \n",
    "   2. **Vencer** los problemas, resolviéndolos de manera recursiva (*caso recursivo*), salvo si son lo suficientemente pequeños como para resolverlos de manera directa (*caso base*).\n",
    "   \n",
    "   3. **Combinar** las soluciones a los subproblemas para formar una solución al problema original."
   ]
  },
  {
   "cell_type": "markdown",
   "id": "imposed-journey",
   "metadata": {},
   "source": [
    "**Ejemplo: Mergesort**"
   ]
  },
  {
   "cell_type": "code",
   "execution_count": null,
   "id": "union-brunswick",
   "metadata": {},
   "outputs": [],
   "source": [
    "def mergesort(array, left, right):\n",
    "    if left < right:\n",
    "        mid = (left + right) // 2\n",
    "        \n",
    "        mergesort(array, left, mid)\n",
    "        mergesort(array, mid + 1, right)\n",
    "        merge(array, left, mid, right)"
   ]
  },
  {
   "cell_type": "markdown",
   "id": "right-equality",
   "metadata": {},
   "source": [
    "Implementación completa de [Mergesort en Python](https://www.geeksforgeeks.org/python-program-for-merge-sort/)."
   ]
  },
  {
   "cell_type": "markdown",
   "id": "premier-argentina",
   "metadata": {},
   "source": [
    "<img src=\"img/Algoritmos/Mergesort.png\" width=\"600\">"
   ]
  },
  {
   "cell_type": "markdown",
   "id": "automatic-defensive",
   "metadata": {},
   "source": [
    "#### Algoritmos voraces (greedy)"
   ]
  },
  {
   "cell_type": "markdown",
   "id": "twenty-value",
   "metadata": {},
   "source": [
    "* Algoritmos que resuelven problemas de optimización: de muchas posibles soluciones, buscan la mejor.\n",
    "* Llevan a cabo una serie de pasos, tomando una decisión en cada paso.\n",
    "* Toman la decisión que mejor parece en el momento, de manera *local*, con la esperanza de que esta decisión permita llegar a una solución *global*.\n",
    "* Muchos problemas no tienen una solución *greedy*, pero los que sí la tienen, este tipo de algoritmos resultan muy eficientes."
   ]
  },
  {
   "cell_type": "markdown",
   "id": "solar-branch",
   "metadata": {},
   "source": [
    "**Ejemplo: Algoritmo de Prim**"
   ]
  },
  {
   "cell_type": "markdown",
   "id": "smooth-blake",
   "metadata": {},
   "source": [
    "Permite resolver el problema del Árbol de Recubrimiento Mínimo (Minimum Spanning Tree).\n",
    "\n",
    "[Descripción completa](https://es.wikipedia.org/wiki/Algoritmo_de_Prim)"
   ]
  },
  {
   "cell_type": "markdown",
   "id": "bizarre-wallpaper",
   "metadata": {},
   "source": [
    "<img src=\"img/Algoritmos/MST.png\" width=\"450\">*Imagen extraída de [1]*"
   ]
  },
  {
   "cell_type": "markdown",
   "id": "understood-contrary",
   "metadata": {},
   "source": [
    "<img src=\"img/Algoritmos/Prim.png\" width=\"900\">*Imagen extraída de [1]*"
   ]
  },
  {
   "cell_type": "markdown",
   "id": "talented-manhattan",
   "metadata": {},
   "source": [
    "## Análisis de algoritmos"
   ]
  },
  {
   "cell_type": "markdown",
   "id": "floating-istanbul",
   "metadata": {},
   "source": [
    "* Análisis de la eficiencia de los algoritmos a nivel teórico, pero que resulta una excelente herramienta a nivel práctico.\n",
    "* Eficiencia: tiempo de ejecución, aunque también memoria consumida.\n",
    "* Permite comparar algoritmos y ver cuál es mejor para un mismo problema.\n",
    "* Nos interesa la eficiencia para entradas grandes.\n",
    "    * Ordenar una lista de 10 elementos tiene un coste insignificante, incluso usando algoritmos ineficientes.\n",
    "    * Ordenar una lista de 2<sup>32</sup> elementos es muy distinto. Si el algoritmo no es eficiente, el coste puede ser prohibitivo."
   ]
  },
  {
   "cell_type": "markdown",
   "id": "aerial-tuition",
   "metadata": {},
   "source": [
    "#### Notación O (Big O)"
   ]
  },
  {
   "cell_type": "markdown",
   "id": "varying-police",
   "metadata": {},
   "source": [
    "* Análisis *asintótico* de al eficiencia de algoritmos.\n",
    "  * Análisis de como el tiempo de ejecución aumenta conforme va aumentando sin límites el tamaño de la entrada.\n",
    "* Representación del tiempo de ejecución de un algoritmo como una función del tamaño de la entrada."
   ]
  },
  {
   "cell_type": "markdown",
   "id": "advisory-decline",
   "metadata": {},
   "source": [
    "<img src=\"img/Algoritmos/O_Notation.png\" width=\"650\">*Imagen extraída de [2]*"
   ]
  },
  {
   "cell_type": "markdown",
   "id": "entire-formula",
   "metadata": {},
   "source": [
    "* La notación O define una serie de funciones, u *órdenes de crecimiento*, que ignoran las constantes y los términos menos relevantes.\n",
    "   * Ejemplo: la función *3n<sup>2</sup> + 4n - 1* sería *O(n<sup>2</sup>)* en notación O.\n",
    "* Esto es porque se realiza un análisis asintótico, y el término más alto es el que realmente impacta en el tiempo de ejecución."
   ]
  },
  {
   "cell_type": "markdown",
   "id": "expired-privilege",
   "metadata": {},
   "source": [
    "<img src=\"img/Algoritmos/OrdersOfGrowth.png\" width=\"600\">"
   ]
  },
  {
   "cell_type": "markdown",
   "id": "foreign-writing",
   "metadata": {},
   "source": [
    "* Estos órdenes de crecimiento representan límites superiores (*upper bounds*), normalmente sobre la función que representa el *peor caso*, ya que es la que más interesa.\n",
    "   * Esto se conoce como **worst-case analysis**."
   ]
  },
  {
   "cell_type": "markdown",
   "id": "imperial-greene",
   "metadata": {},
   "source": [
    "Ejemplos numéricos que ilustran los órdenes de crecimiento del tiempo de ejecución de los algoritmos:"
   ]
  },
  {
   "cell_type": "markdown",
   "id": "competent-interim",
   "metadata": {
    "tags": []
   },
   "source": [
    "<img src=\"img/Algoritmos/RunningTimes.png\" width=\"900\">*Tabla extraída de [2]*"
   ]
  },
  {
   "cell_type": "markdown",
   "id": "modular-compatibility",
   "metadata": {},
   "source": [
    "Conclusiones relevantes:\n",
    "\n",
    "* Para *n = 10* todos los algoritmos tuvieron aproximadamente el mismo coste.\n",
    "* Los algoritmos *O(n!)* (factoriales) son completamente inservibles para tamaños relativamente pequeños (n > 20).\n",
    "* Los algoritmos *O(2<sup>n</sup>)* (exponenciales) tienen un rango de operación mayor, pero también se vuelven inservibles relativamente pronto (n > 40).\n",
    "* Los algoritmos *O(n<sup>2</sup>)* (cuadráticos) mantienen su utilidad hasta tamaños de aproximadamente n < 1.000.000.\n",
    "* Los algoritmos *O(n)* (lineales) y *O(n log n)* mantienen su utilidad en el orden de billones de items.\n",
    "* Los algoritmos *O(log n)* (logarítmicos) funcionan de manera prácticamente instantánea para cualquier tamaño de entrada imaginable. "
   ]
  },
  {
   "cell_type": "markdown",
   "id": "absolute-simpson",
   "metadata": {},
   "source": [
    "Estos datos muestran que, aunque se ignoren constantes y factores de orden inferior, estas categorías nos dan una idea excelente de cómo los algoritmos funcionan en la práctica."
   ]
  },
  {
   "cell_type": "markdown",
   "id": "compressed-thickness",
   "metadata": {},
   "source": [
    "#### ¿Cómo podemos saber a qué categoría pertenece nuestro algoritmo?"
   ]
  },
  {
   "cell_type": "markdown",
   "id": "stretch-cycling",
   "metadata": {},
   "source": [
    "* De manera muy informal: contando los pasos que ejecuta el algoritmo.\n",
    "* Si asumimos que nuestra máquina puede ejecutar una cantidad concreta de pasos por segundo, este cálculo se traduce de manera natural a *tiempo de ejecución*."
   ]
  },
  {
   "cell_type": "markdown",
   "id": "suitable-address",
   "metadata": {},
   "source": [
    "**Ejemplo: detección de elementos duplicados en O(n<sup>2</sup>)**"
   ]
  },
  {
   "cell_type": "code",
   "execution_count": null,
   "id": "friendly-printer",
   "metadata": {},
   "outputs": [],
   "source": [
    "numeros = [5, 1, 27, 3, 8, 12, 2, 8]\n",
    "\n",
    "def contiene_duplicados(lista):\n",
    "    for i in range(len(lista)-1):\n",
    "        for j in range(i+1, len(lista)):\n",
    "            if lista[i] == lista[j]:\n",
    "                return True\n",
    "    return False\n",
    "\n",
    "print(contiene_duplicados(numeros))"
   ]
  },
  {
   "cell_type": "markdown",
   "id": "raising-contribution",
   "metadata": {},
   "source": [
    "<img src=\"img/Algoritmos/QuadraticRunningTime.png\" width=\"800\"><img src=\"img/Algoritmos/SerieAritmetica.png\" width=\"500\">*Imagen extraída de [1]*"
   ]
  },
  {
   "cell_type": "markdown",
   "id": "unlikely-cliff",
   "metadata": {},
   "source": [
    "**Ejemplo: búsqueda en O(log n)**"
   ]
  },
  {
   "cell_type": "code",
   "execution_count": null,
   "id": "serial-jonathan",
   "metadata": {},
   "outputs": [],
   "source": [
    "# Búsqueda binaria\n",
    "\n",
    "def binary_search(A, low, high, q):\n",
    "    if high >= low:\n",
    "        mid = (high + low) // 2\n",
    "\n",
    "        if A[mid] == q:\n",
    "            return mid\n",
    "        elif A[mid] > q:\n",
    "            return binary_search(A, low, mid - 1, q)\n",
    "        else:\n",
    "            return binary_search(A, mid + 1, high, q)\n",
    " \n",
    "    else:\n",
    "        return -1\n",
    " \n",
    "A = [2, 3, 4, 7, 10, 12, 14, 21, 40, 42, 67]\n",
    "q = 4\n",
    "result = binary_search(A, 0, len(A)-1, q)\n",
    "print(result)"
   ]
  },
  {
   "cell_type": "markdown",
   "id": "centered-chase",
   "metadata": {},
   "source": [
    "## Referencias"
   ]
  },
  {
   "cell_type": "markdown",
   "id": "classified-aquarium",
   "metadata": {},
   "source": [
    "[1] Cormen, T. H.; Leiserson, C. E.; Rivest, R. L.; Stein, C.: *Introduction to algorithms*. Third Edition. MIT press (2009)\n",
    "\n",
    "[2] Skiena, S. S.: *The algorithm design manual.* Second edition. Springer (2008)"
   ]
  },
  {
   "cell_type": "markdown",
   "id": "arctic-distributor",
   "metadata": {},
   "source": [
    "## Ejercicios"
   ]
  },
  {
   "cell_type": "markdown",
   "id": "proper-given",
   "metadata": {},
   "source": [
    "1. Completa el algoritmo de *Mergesort* implementando la función *merge*.\n",
    "\n",
    "2. Implementa el algoritmo de [Insertion Sort](https://en.wikipedia.org/wiki/Insertion_sort) en Python.\n",
    "\n",
    "3. Implementa una función recursiva que calcule el valor del *n*-ésimo número de la *Sucesión de Fibonacci*. ¿Hasta que valor de *n* puedes calcular? ¿Por qué?"
   ]
  }
 ],
 "metadata": {
  "kernelspec": {
   "display_name": "Python 3",
   "language": "python",
   "name": "python3"
  },
  "language_info": {
   "codemirror_mode": {
    "name": "ipython",
    "version": 3
   },
   "file_extension": ".py",
   "mimetype": "text/x-python",
   "name": "python",
   "nbconvert_exporter": "python",
   "pygments_lexer": "ipython3",
   "version": "3.9.2"
  }
 },
 "nbformat": 4,
 "nbformat_minor": 5
}
