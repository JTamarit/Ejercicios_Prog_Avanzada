{
 "cells": [
  {
   "cell_type": "markdown",
   "id": "excellent-tension",
   "metadata": {},
   "source": [
    "<img src=\"img/viu_logo.png\" width=\"200\"><img src=\"img/python_logo.png\" width=\"250\"> *Mario Cervera*"
   ]
  },
  {
   "cell_type": "markdown",
   "id": "limited-commerce",
   "metadata": {},
   "source": [
    "# Estructuras de control"
   ]
  },
  {
   "cell_type": "markdown",
   "id": "durable-forwarding",
   "metadata": {},
   "source": [
    "## Primero, un poco de historia ..."
   ]
  },
  {
   "cell_type": "markdown",
   "id": "filled-happiness",
   "metadata": {},
   "source": [
    "#### Lenguaje ensamblador\n",
    "\n",
    "* Lenguaje de bajo nivel de abstracción.\n",
    "* Dependiente de la arquitectura hardware.\n",
    "* Cada procesador define su propio conjunto de instrucciones."
   ]
  },
  {
   "cell_type": "markdown",
   "id": "premium-orbit",
   "metadata": {},
   "source": [
    "<img src=\"img/EstructurasControl/AssemblyLanguage.jpg\" width=\"500\">"
   ]
  },
  {
   "cell_type": "markdown",
   "id": "provincial-victory",
   "metadata": {
    "tags": []
   },
   "source": [
    "* Este tipo de código es principalmente lineal. Carece de una estructura que facilite la lectura.\n",
    "* El problema se hace especialmente importante en programas más largos."
   ]
  },
  {
   "cell_type": "markdown",
   "id": "freelance-consultation",
   "metadata": {},
   "source": [
    "<img src=\"img/EstructurasControl/AssemblyLanguage_Long.png\" width=\"400\">"
   ]
  },
  {
   "cell_type": "markdown",
   "id": "marked-farmer",
   "metadata": {},
   "source": [
    "#### Sentencia goto\n",
    "\n",
    "* Alrededor de los años 50 y 60, lenguajes de más alto nivel de abstracción comenzaron a cobrar protagonismo.\n",
    "* Estos lenguajes dependendían fuertemente de la sentencia *goto*.\n",
    "* La sentencia *goto* permitía al flujo de control saltar a posiciones arbitrarias del programa.\n",
    "\n",
    "Ejemplo: Fortran."
   ]
  },
  {
   "cell_type": "markdown",
   "id": "animated-positive",
   "metadata": {},
   "source": [
    "<img src=\"img/EstructurasControl/Goto.png\" width=\"350\">"
   ]
  },
  {
   "cell_type": "markdown",
   "id": "saved-wyoming",
   "metadata": {},
   "source": [
    "#### Programación estructurada\n",
    "\n",
    "* Fue *Edsger W. Dijkstra* quién popularizó la idea de que la sentencia *goto* era perjudicial.\n",
    "\n",
    "   * [Go To Statement Considered Harmful (1968)](https://homepages.cwi.nl/~storm/teaching/reader/Dijkstra68.pdf)\n",
    "\n",
    "\n",
    "* No permite razonar de manera formal acerca de la corrección de un programa.\n",
    "\n",
    "\n",
    "* Nacimiento de la [Programación Estructurada](https://en.wikipedia.org/wiki/Structured_programming) como alternativa al *goto*.\n",
    "\n",
    "   * *Secuencia*: ejecución de instrucciones en línea.\n",
    "   * *Selección*: posibilidad de elegir si una instrucción es ejecutada o no.\n",
    "   * *Iteración*: repetición de la ejecución de instrucciones.\n",
    "\n",
    "\n",
    "* Estas estructuras de control nos permiten alterar el flujo de ejecución del programa para que no sea puramente *secuencial* de manera más intuitiva que a través de *gotos*."
   ]
  },
  {
   "cell_type": "markdown",
   "id": "negative-bathroom",
   "metadata": {},
   "source": [
    "<img src=\"img/EstructurasControl/StructuredProgramming.png\" width=\"800\">"
   ]
  },
  {
   "cell_type": "markdown",
   "id": "polished-cattle",
   "metadata": {},
   "source": [
    "## Selección (sentencias condicionales)\n",
    "\n",
    "* Selección de una de varias alternativas en base a alguna condición.\n",
    "* Indentación para estructurar el código\n",
    "* ':' importante"
   ]
  },
  {
   "cell_type": "code",
   "execution_count": null,
   "id": "finished-trail",
   "metadata": {},
   "outputs": [],
   "source": [
    "val = 1\n",
    "if val > 0:\n",
    "    print('Valor positivo')\n",
    "else:\n",
    "    print('Valor negativo')"
   ]
  },
  {
   "cell_type": "code",
   "execution_count": null,
   "id": "sized-baking",
   "metadata": {},
   "outputs": [],
   "source": [
    "print(val > 0)"
   ]
  },
  {
   "cell_type": "code",
   "execution_count": null,
   "id": "clear-swift",
   "metadata": {},
   "outputs": [],
   "source": [
    "val = -50\n",
    "if val > 0:\n",
    "    print('Valor positivo')\n",
    "elif val == 0:\n",
    "    print('Valor nulo')\n",
    "else:\n",
    "    print('Valor negativo')"
   ]
  },
  {
   "cell_type": "code",
   "execution_count": null,
   "id": "adopted-snake",
   "metadata": {},
   "outputs": [],
   "source": [
    "if True:\n",
    "    print('True')\n",
    "else:\n",
    "    print('False')"
   ]
  },
  {
   "cell_type": "code",
   "execution_count": null,
   "id": "forced-burner",
   "metadata": {},
   "outputs": [],
   "source": [
    "# Anidamento\n",
    "val = 120\n",
    "if val > 0:\n",
    "    if val < 100:\n",
    "        print('Valor positivo')\n",
    "    else:\n",
    "      print('Valor muy positivo')\n",
    "else:\n",
    "    print('Valor negativo')"
   ]
  },
  {
   "cell_type": "markdown",
   "id": "agreed-young",
   "metadata": {},
   "source": [
    "#### Expresión ternaria\n",
    "\n",
    "* Estructura if-else condensado en una línea.\n",
    "* Se recomienda usar solo en casos sencillos."
   ]
  },
  {
   "cell_type": "code",
   "execution_count": null,
   "id": "behind-steering",
   "metadata": {},
   "outputs": [],
   "source": [
    "# Ejemplo: valor absoluto\n",
    "val = -3\n",
    "resultado = val if val >= 0 else -val\n",
    "print(resultado)"
   ]
  },
  {
   "cell_type": "markdown",
   "id": "proof-posting",
   "metadata": {},
   "source": [
    "#### Concatenación de comparaciones\n",
    "\n",
    "* Se pueden concatenar comparaciones en una misma expresión:\n",
    "    * *and*: true, si ambos son true.\n",
    "    * *or*: true, si al menos uno es true.\n",
    "    * *not*: niega una expresión (true si era false, false si era true).\n",
    "    \n",
    "Enlace a [Tablas de Verdad](https://es.wikipedia.org/wiki/Tabla_de_verdad)."
   ]
  },
  {
   "cell_type": "code",
   "execution_count": null,
   "id": "dressed-governor",
   "metadata": {},
   "outputs": [],
   "source": [
    "genre = 'Action'\n",
    "release_date = 1989\n",
    "\n",
    "if genre == 'Comedy' or genre == 'Drama':\n",
    "    print('Good movie!')\n",
    "elif release_date > 1990 and release_date < 2000:\n",
    "    print('Good decade!')\n",
    "else:\n",
    "    print('Meh')"
   ]
  },
  {
   "cell_type": "markdown",
   "id": "indie-barbados",
   "metadata": {},
   "source": [
    "#### Comparación de variables: '==' vs 'is'\n",
    "\n",
    "* '==' compara si el valor de las variables es el mismo\n",
    "* 'is' compara si los objetos en las variables son iguales (referencia)"
   ]
  },
  {
   "cell_type": "code",
   "execution_count": null,
   "id": "average-assumption",
   "metadata": {
    "tags": []
   },
   "outputs": [],
   "source": [
    "a = 1\n",
    "b = 1\n",
    "\n",
    "print(a is b)\n",
    "print(a == b)\n",
    "\n",
    "print(id(a))\n",
    "print(id(b))"
   ]
  },
  {
   "cell_type": "code",
   "execution_count": null,
   "id": "explicit-custom",
   "metadata": {},
   "outputs": [],
   "source": [
    "a = 257 # Los enteros grandes no se almacenan.\n",
    "b = 257\n",
    "\n",
    "print(a is b)\n",
    "print(a == b)\n",
    "\n",
    "print(id(a))\n",
    "print(id(b))"
   ]
  },
  {
   "cell_type": "code",
   "execution_count": null,
   "id": "emerging-aggregate",
   "metadata": {},
   "outputs": [],
   "source": [
    "a = [1, 2, 3]  # lista mutable\n",
    "b = [1, 2, 3]\n",
    "c = a\n",
    "print(a is b)\n",
    "print(a == b)\n",
    "print(a is c)\n",
    "\n",
    "print(id(a))\n",
    "print(id(b))\n",
    "print(id(c))"
   ]
  },
  {
   "cell_type": "markdown",
   "id": "emerging-exhibit",
   "metadata": {},
   "source": [
    "#### Valor booleano\n",
    "\n",
    "* Todos los objetos en Python tiene inherentemente un valor booleano: *True* o *False*.\n",
    "* Cualquier número distinto de 0 ó cualquier objeto no vacío tienen valor *True*.\n",
    "* El número 0, objetos vacíos y el objeto especial *None* tienen valor *False*."
   ]
  },
  {
   "cell_type": "code",
   "execution_count": null,
   "id": "wrapped-robinson",
   "metadata": {},
   "outputs": [],
   "source": [
    "a = -10\n",
    "b = 0\n",
    "if a:\n",
    "    print(\"a is True\")\n",
    "if not b:\n",
    "    print(\"b is False\")\n",
    "\n",
    "c = []\n",
    "if c:\n",
    "    print(\"Not empty\")\n",
    "else:\n",
    "    print(\"Empty\")"
   ]
  },
  {
   "cell_type": "markdown",
   "id": "elect-choir",
   "metadata": {},
   "source": [
    "# Iteración (bucles)\n",
    "\n",
    "* Repetición de un bloque de código.\n",
    "* La terminación del bucle depende del tipo de bucle.\n",
    "* Dos tipos: *while* y *for*."
   ]
  },
  {
   "cell_type": "markdown",
   "id": "certified-database",
   "metadata": {},
   "source": [
    "#### Bucle 'while'\n",
    "\n",
    "* Repetición de un bloque de código hasta que se deje cumplir una expresión (es decir, hasta que una condición evalue a *False*).\n",
    "* Si la condición evalua a *False* desde el principio, el bloque de código nunca se ejecuta.\n",
    "* Cuidado con los bucles infinitos.\n",
    "\n",
    "Formato general:\n",
    "\n",
    "```\n",
    "while test:       # Mientras se cumple la condición\n",
    "    statements    # Instrucciones a ejecutar\n",
    "```"
   ]
  },
  {
   "cell_type": "code",
   "execution_count": null,
   "id": "studied-trader",
   "metadata": {},
   "outputs": [],
   "source": [
    "# Mostrar los primeros 3 objetos de una lista\n",
    "index = 0\n",
    "years = [1984, 2000, 2013, 2018, 2020]\n",
    "while index < 3:\n",
    "    print(years[index])\n",
    "    index += 1"
   ]
  },
  {
   "cell_type": "code",
   "execution_count": null,
   "id": "valid-sweden",
   "metadata": {},
   "outputs": [],
   "source": [
    "# Contar y mostrar los años previos al 2000.\n",
    "counter = 0\n",
    "index = 0\n",
    "years = [1984, 2000, 2013, 2007, 1983, 1999, 2011, 2017, 1976]\n",
    "\n",
    "while index < len(years):\n",
    "    if years[index] < 2000:\n",
    "        print(years[index])\n",
    "        counter += 1\n",
    "    index += 1\n",
    "\n",
    "print('Counter:', counter)\n",
    "print('Index:', index)"
   ]
  },
  {
   "cell_type": "code",
   "execution_count": null,
   "id": "another-overall",
   "metadata": {},
   "outputs": [],
   "source": [
    "name = 'Pablo'\n",
    "while name: # while x is not empty\n",
    "    print(name)\n",
    "    name = name[1:]"
   ]
  },
  {
   "cell_type": "markdown",
   "id": "complicated-incident",
   "metadata": {},
   "source": [
    "#### Bucle 'for'\n",
    "\n",
    "* Permite recorrer los items de una *sequencia* o un objeto *iterable*.\n",
    "* Funciona en strings, listas, tuplas, etc.\n",
    "\n",
    "Formato general:\n",
    "\n",
    "```\n",
    "for item in objeto:   # Asigna los items del objeto a la variable item en cada iteración\n",
    "    statements        # Instrucciones a ejecutar\n",
    "```"
   ]
  },
  {
   "cell_type": "code",
   "execution_count": null,
   "id": "complex-thailand",
   "metadata": {},
   "outputs": [],
   "source": [
    "movies = [23, 'Avatar', 'Star Wars']\n",
    "for movie in movies:\n",
    "    print(movie)"
   ]
  },
  {
   "cell_type": "markdown",
   "id": "automatic-event",
   "metadata": {},
   "source": [
    "* También se usa para iterar un número preestablecido de veces (*counted loops*):"
   ]
  },
  {
   "cell_type": "code",
   "execution_count": null,
   "id": "integrated-compact",
   "metadata": {},
   "outputs": [],
   "source": [
    "for i in range(10):\n",
    "    print(i)"
   ]
  },
  {
   "cell_type": "markdown",
   "id": "apparent-restriction",
   "metadata": {},
   "source": [
    "* *range* es útil en combinación con *len*:"
   ]
  },
  {
   "cell_type": "code",
   "execution_count": null,
   "id": "english-snake",
   "metadata": {},
   "outputs": [],
   "source": [
    "name = 'Pablo'\n",
    "for i in range(len(name)):\n",
    "    print(name[i])"
   ]
  },
  {
   "cell_type": "markdown",
   "id": "dried-progress",
   "metadata": {},
   "source": [
    "* Iteración de tuplas:"
   ]
  },
  {
   "cell_type": "code",
   "execution_count": null,
   "id": "precious-assembly",
   "metadata": {},
   "outputs": [],
   "source": [
    "tuplas = [(1, 2), (3, 4), (5, 6)]\n",
    "for (a, b) in tuplas:\n",
    "    print(a, b)"
   ]
  },
  {
   "cell_type": "markdown",
   "id": "later-daily",
   "metadata": {},
   "source": [
    "* Iteración de diccionarios:"
   ]
  },
  {
   "cell_type": "code",
   "execution_count": null,
   "id": "consolidated-father",
   "metadata": {},
   "outputs": [],
   "source": [
    "diccionario = {'a': 1, 'b': 2, 'c': 3}\n",
    "for key in diccionario:\n",
    "    print(key, '=>', diccionario[key])"
   ]
  },
  {
   "cell_type": "code",
   "execution_count": null,
   "id": "knowing-vietnamese",
   "metadata": {},
   "outputs": [],
   "source": [
    "for (key, value) in diccionario.items():\n",
    "    print(key, '=>', value)"
   ]
  },
  {
   "cell_type": "code",
   "execution_count": null,
   "id": "increased-gallery",
   "metadata": {},
   "outputs": [],
   "source": [
    "for value in diccionario.values():\n",
    "    print(value)"
   ]
  },
  {
   "cell_type": "markdown",
   "id": "informative-furniture",
   "metadata": {},
   "source": [
    "* La variable *item* en la cabecera del *for* puede ser cualquier expresión que sea válida como parte izquierda de una asignación convencional."
   ]
  },
  {
   "cell_type": "code",
   "execution_count": null,
   "id": "developing-devil",
   "metadata": {},
   "outputs": [],
   "source": [
    "for a, b, c in [(1, 2, 3), (4, 5, 6)]:\n",
    "    print(a, b, c)"
   ]
  },
  {
   "cell_type": "markdown",
   "id": "large-cleaner",
   "metadata": {},
   "source": [
    "## Las sentencias break, continue y else"
   ]
  },
  {
   "cell_type": "markdown",
   "id": "alive-chase",
   "metadata": {},
   "source": [
    "#### Break y continue\n",
    "\n",
    "* Solo tienen sentido dentro de bucles.\n",
    "* *Break* permite terminar el bucle por completo.\n",
    "* *Continue* permite saltar a la siguiente iteración, continuando con el bucle.\n",
    "* Pueden aparecer en cualquier parte de un bucle, pero normalmente aparecen dentro de sentencias condicionales (if)."
   ]
  },
  {
   "cell_type": "code",
   "execution_count": null,
   "id": "according-syntax",
   "metadata": {},
   "outputs": [],
   "source": [
    "# Break\n",
    "rating_to_find = 4.2\n",
    "movie_ratings = [4.9, 2.5, 1.7, 4.2, 3.8, 3.3, 2.9]\n",
    "for rating in movie_ratings:\n",
    "    print(rating)\n",
    "    if rating == rating_to_find:\n",
    "        print(\"Found\")\n",
    "        break"
   ]
  },
  {
   "cell_type": "code",
   "execution_count": null,
   "id": "civic-brand",
   "metadata": {},
   "outputs": [],
   "source": [
    "for i in range(10):\n",
    "    if i % 2 == 0: continue # Si el número es par, salta a la siguiente iteración\n",
    "    print('Numero impar:', end=' ')\n",
    "    print(i)"
   ]
  },
  {
   "cell_type": "markdown",
   "id": "simple-shelter",
   "metadata": {},
   "source": [
    "* Observa como la sentencia *continue* te puede ayudar a reducir el número de niveles de anidamiento.\n",
    "* Sin *continue* el anterior ejemplo sería:"
   ]
  },
  {
   "cell_type": "code",
   "execution_count": null,
   "id": "charming-valentine",
   "metadata": {},
   "outputs": [],
   "source": [
    "for i in range(10):\n",
    "    if i % 2 != 0:\n",
    "        print('Numero impar:', end=' ')\n",
    "        print(i)"
   ]
  },
  {
   "cell_type": "markdown",
   "id": "romance-tiffany",
   "metadata": {},
   "source": [
    "#### Else\n",
    "\n",
    "* Los bucles pueden tener una sensencia *else*.\n",
    "* Resulta poco intuitiva para muchos programadores porque esta sintaxis sólo existe en Python.\n",
    "* Se ejecuta cuando el bucle termina con normalidad, no cuando termina a causa de un *break*."
   ]
  },
  {
   "cell_type": "code",
   "execution_count": null,
   "id": "reported-february",
   "metadata": {},
   "outputs": [],
   "source": [
    "name = 'Pablo'\n",
    "str_to_find = 'b'\n",
    "\n",
    "while name:\n",
    "    if name[0] == str_to_find:\n",
    "        print('Found')\n",
    "        break\n",
    "    name = name[1:]\n",
    "else:\n",
    "    print('Not found')"
   ]
  },
  {
   "cell_type": "markdown",
   "id": "nervous-highlight",
   "metadata": {},
   "source": [
    "## Excepciones"
   ]
  },
  {
   "cell_type": "markdown",
   "id": "olive-progress",
   "metadata": {},
   "source": [
    "* Las excepciones son eventos que representan situaciones excepcionales.\n",
    "* Alteran el flujo de ejecución convencional.\n",
    "* Python lanza excepciones automáticamente cuando se producen errores.\n",
    "* El programador puede lanzar excepciones de manera explícita y también capturar excepciones para actuar como se crea conveniente."
   ]
  },
  {
   "cell_type": "markdown",
   "id": "offshore-smart",
   "metadata": {},
   "source": [
    "#### Try/except\n",
    "\n",
    "* Permite capturar excepciones y actuar en consecuencia.\n",
    "\n",
    "Ejemplo: error de acceso fuera de rango."
   ]
  },
  {
   "cell_type": "code",
   "execution_count": null,
   "id": "assigned-accident",
   "metadata": {},
   "outputs": [],
   "source": [
    "lista = [6, 1, 0, 5]\n",
    "lista[4]\n",
    "print('Código tras el error')"
   ]
  },
  {
   "cell_type": "code",
   "execution_count": null,
   "id": "mobile-cause",
   "metadata": {},
   "outputs": [],
   "source": [
    "lista = [6, 1, 0, 5]\n",
    "try:\n",
    "    lista[4]\n",
    "except IndexError:\n",
    "    print('He capturado la excepción de tipo IndexError')\n",
    "    \n",
    "print('Código tras el bloque try')"
   ]
  },
  {
   "cell_type": "markdown",
   "id": "refined-start",
   "metadata": {},
   "source": [
    "* Normalmente, al capturar excepciones, querremos ser lo más específicos posible, pero también se puedes usar una sentencia *try-except* que capture cualquier error."
   ]
  },
  {
   "cell_type": "code",
   "execution_count": null,
   "id": "brown-medicare",
   "metadata": {},
   "outputs": [],
   "source": [
    "try:\n",
    "    4/0\n",
    "except:\n",
    "    print('He capturado la división por cero')"
   ]
  },
  {
   "cell_type": "markdown",
   "id": "respiratory-karma",
   "metadata": {},
   "source": [
    "#### Try/finally\n",
    "\n",
    "* A través de *finally* podemos especificar código que queremos que se ejecute siempre (independientemente de si se produce la excepción o no).\n",
    "* Se suele usar para liberar recursos."
   ]
  },
  {
   "cell_type": "code",
   "execution_count": null,
   "id": "powerful-yellow",
   "metadata": {},
   "outputs": [],
   "source": [
    "lista = [6, 1, 0, 5]\n",
    "\n",
    "try:\n",
    "    lista[2]\n",
    "    # lista[4]\n",
    "finally:\n",
    "    print('Bloque finally')\n",
    "\n",
    "print('Código tras el bloque try')"
   ]
  },
  {
   "cell_type": "markdown",
   "id": "comparative-penguin",
   "metadata": {},
   "source": [
    "#### raise\n",
    "\n",
    "* La sentencia *raise* nos permite lanzar excepciones de manera explícita."
   ]
  },
  {
   "cell_type": "code",
   "execution_count": null,
   "id": "future-canal",
   "metadata": {},
   "outputs": [],
   "source": [
    "lista = [6, 1, 0, 5]\n",
    "indice = 4\n",
    "\n",
    "#try:\n",
    "\n",
    "if indice >= len(lista):\n",
    "    raise IndexError('Índice fuera de rango')\n",
    "\n",
    "#except IndexError:\n",
    "#    print('Excepción de tipo IndexError capturada')"
   ]
  },
  {
   "cell_type": "markdown",
   "id": "improved-synthetic",
   "metadata": {},
   "source": [
    "## Ejercicios"
   ]
  },
  {
   "cell_type": "markdown",
   "id": "neither-child",
   "metadata": {},
   "source": [
    "1. Dada una lista con elementos duplicados, escribir un programa que muestre una nueva lista con el mismo contenido que la primera pero sin elementos duplicados. Para este ejercicio, no puedes hacer uso de objetos de tipo 'Set'.\n",
    "\n",
    "2. Escribe un programa que construya un diccionario que contenga un número (entre 1 y *n*) de elementos de esta forma: (x, x*x). Ejemplo: para n = 5, el diccionario resultante sería {1: 1, 2: 4, 3: 9, 4: 16, 5: 25}\n",
    "\n",
    "3. Escribe un programa que, dada una lista de palabras, compruebe si alguna empieza por 'a' y tiene más de 10 caracteres. Si dicha palabra existe, el programa deberá terminar en el momento exacto de encontrarla. El programa también debe mostrar un mensaje apropiado por pantalla que indique el éxito o el fracaso de la búsqueda. En caso de éxito, también se mostrará por pantalla la palabra encontrada."
   ]
  }
 ],
 "metadata": {
  "kernelspec": {
   "display_name": "Python 3",
   "language": "python",
   "name": "python3"
  },
  "language_info": {
   "codemirror_mode": {
    "name": "ipython",
    "version": 3
   },
   "file_extension": ".py",
   "mimetype": "text/x-python",
   "name": "python",
   "nbconvert_exporter": "python",
   "pygments_lexer": "ipython3",
   "version": "3.9.2"
  }
 },
 "nbformat": 4,
 "nbformat_minor": 5
}
