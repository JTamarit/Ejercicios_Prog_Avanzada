{
 "cells": [
  {
   "cell_type": "markdown",
   "id": "coral-above",
   "metadata": {},
   "source": [
    "<img src=\"img/viu_logo.png\" width=\"200\"><img src=\"img/python_logo.png\" width=\"250\"> *Mario Cervera*"
   ]
  },
  {
   "cell_type": "markdown",
   "id": "naked-effectiveness",
   "metadata": {},
   "source": [
    "# Introducción a la Programación - Actividad Evaluable 2"
   ]
  },
  {
   "cell_type": "markdown",
   "id": "textile-ideal",
   "metadata": {},
   "source": [
    "### 1. Estructuras de datos y Programación Orientada a Objetos - 100%"
   ]
  },
  {
   "cell_type": "markdown",
   "id": "organized-education",
   "metadata": {
    "tags": []
   },
   "source": [
    "El fichero *grafo.txt* define un grafo dirigido ponderado. Cada fila del fichero contiene tres items separados entre sí por un espacio. Estos tres items definen una arista y su peso. Por ejemplo, la fila \"a b 2\" define una arista *(a, b)*, cuyo peso es 2, y donde *a* y *b* son nodos del grafo. La arista tiene *a* como origen y *b* como destino."
   ]
  },
  {
   "cell_type": "markdown",
   "id": "seven-parcel",
   "metadata": {},
   "source": [
    "1.1. Crea una clase *Arista* que represente una arista del grafo, con su nodo origen, su nodo destino y su peso. La clase debe sobreescribir el operador que permite que las instancias de la clase puedan representarse apropiadamente en formato *string*. Añade documentación a la clase."
   ]
  },
  {
   "cell_type": "code",
   "execution_count": 1,
   "id": "incorporate-collaboration",
   "metadata": {},
   "outputs": [],
   "source": [
    "class Arista:\n",
    "    '''Representación de la clase Arista como: nodo_origen, nodo_destino, peso y la retorna como un string'''\n",
    "    \n",
    "    def __init__(self, arista_con_espacios):\n",
    "        self.arista_con_espacios = arista_con_espacios\n",
    "        self.nodo_origen= arista_con_espacios[0]\n",
    "        self.nodo_destino= arista_con_espacios[2]\n",
    "        self.peso = arista_con_espacios[4]\n",
    "    \n",
    "    def __str__(self):\n",
    "     \n",
    "        return self.nodo_origen + self.nodo_destino + str(self.peso)\n",
    "\n"
   ]
  },
  {
   "cell_type": "markdown",
   "id": "transparent-norman",
   "metadata": {},
   "source": [
    "1.2. Crea una clase abstracta *Grafo* que represente un grafo, pero sin proporcionar detalles sobre su representación en memoria. Esta clase abstracta contendrá un constructor que recibirá un parámetro: la ruta a un fichero de texto, de donde la clase *Grafo* podrá extraer la definición del grafo. La clase, al ser abstracta, no puede crear el grafo, pero sí puede procesar el fichero y usar un método abstracto *anyadir_arista*. Añadir también a la clase *Grafo* otro método abstracto *contiene_arista* que permita comprobar la presencia de una arista en el grafo. Ambos métodos recibirán una *Arista* como parámetro. Añade documentación a la clase."
   ]
  },
  {
   "cell_type": "code",
   "execution_count": 2,
   "id": "streaming-peeing",
   "metadata": {},
   "outputs": [],
   "source": [
    "from abc import ABC\n",
    "from abc import abstractmethod\n",
    "\n",
    "\n",
    "class Grafo(ABC):\n",
    "    '''Crea la case abstracta grafo, a partir del fichero indicado en la ruta'''\n",
    "    \n",
    "    def extraer_definicion_grafo(self, ruta):\n",
    "        \n",
    "        with open(self.ruta) as grafo:\n",
    "            for arista in grafo:\n",
    "                a=Arista(arista)\n",
    "                self.anyadir_arista(a)\n",
    "                \n",
    "        return self.resultado\n",
    "                  \n",
    "    @abstractmethod \n",
    "    def anyadir_arista (self, arista):\n",
    "        pass\n",
    "    @abstractmethod \n",
    "    def contiene_arista (self,arista):\n",
    "        pass"
   ]
  },
  {
   "cell_type": "markdown",
   "id": "executive-replacement",
   "metadata": {
    "tags": []
   },
   "source": [
    "1.3. Crea una subclase *GrafoListasAdyacencia*. Esta clase implementará el método *anyadir_arista* de manera que se creen las listas de adyacencia de manera apropiada. La clase deberá también implementar el método *contiene_arista*. Añade documentación a la clase.\n",
    "\n",
    "Nota: observad que en las listas de adyacencia no debéis almacenar objetos de tipo *Arista*, ya que esto crearía duplicación innecesaria de información en memoria."
   ]
  },
  {
   "cell_type": "code",
   "execution_count": 3,
   "id": "victorian-photograph",
   "metadata": {},
   "outputs": [
    {
     "data": {
      "text/plain": [
       "defaultdict(list,\n",
       "            {'a': [('b', '1'), ('c', '3')],\n",
       "             'b': [('e', '3')],\n",
       "             'c': [('a', '2'), ('d', '1')],\n",
       "             'd': [('a', '1'), ('e', '2'), ('f', '1')],\n",
       "             'e': [('c', '3'), ('f', '4')],\n",
       "             'f': [('g', '1')],\n",
       "             'g': [('b', '2')]})"
      ]
     },
     "execution_count": 3,
     "metadata": {},
     "output_type": "execute_result"
    }
   ],
   "source": [
    "from collections import defaultdict\n",
    "\n",
    "class GrafoListasAdyacencia(Grafo):\n",
    "    '''Crea una lista de adyacencia a partir de un grafo, incluyendo el peso de la aristas en una tupla'''\n",
    "    def __init__(self):\n",
    "        self.ruta=ruta\n",
    "        self.lista_adyacencia = defaultdict(list)\n",
    "        self.resultado=[]\n",
    "        \n",
    "    \n",
    "    def anyadir_arista(self,arista):\n",
    "        '''Añade la arista a la lista de adyacencia si no esta en la misma'''\n",
    "        if not self.contiene_arista(arista):\n",
    "            self.lista_adyacencia[arista.nodo_origen].append((arista.nodo_destino,arista.peso))\n",
    "            self.resultado= self.lista_adyacencia\n",
    "        return (f\"Las lista de adyacencia es:{self.resultado}\")\n",
    "    \n",
    "    def contiene_arista(self,arista):\n",
    "        '''Comprueba si la arista esta en la lista de adyacencia'''\n",
    "        if (arista.nodo_destino,arista.peso) in self.lista_adyacencia[arista.nodo_origen]:\n",
    "            return True\n",
    "        else:\n",
    "            return False\n",
    "\n",
    "ruta=\"res/grafo.txt\"\n",
    "lista_ad_grafo= GrafoListasAdyacencia()\n",
    "lista_ad_grafo.extraer_definicion_grafo(ruta)\n"
   ]
  },
  {
   "cell_type": "markdown",
   "id": "virgin-reduction",
   "metadata": {},
   "source": [
    "1.4. Crea una subclase *GrafoMatrizAdyacencia*. Esta clase implementará el método *anyadir_arista* de manera que se cree la matriz de adyacencia de manera apropiada. Una matriz de adyacencia es una matriz cuadrada que indica, para cada par de nodos, si son adyacentes o no. Más formalmente, dado un grafo con nodos *U = { u<sub>1</sub>, u<sub>2</sub>, ..., u<sub>n</sub> }*, la matriz de adyacencia es una matriz *n x n* donde un elemento *A<sub>ij</sub>* de la matriz es *X* cuando el grafo posee una arista del nodo *u<sub>i</sub>* al nodo *u<sub>j</sub>* con peso *X*, y 0 cuando no existe tal arista o tiene peso 0.\n",
    "\n",
    "Nota: para este ejercicio, podéis asumir que se sabe de antemano (es decir, antes de procesar el fichero) que el grafo tiene 7 nodos: 'a', 'b', 'c', 'd', 'e', 'f' y 'g'."
   ]
  },
  {
   "cell_type": "code",
   "execution_count": 4,
   "id": "attractive-wagon",
   "metadata": {},
   "outputs": [
    {
     "data": {
      "text/plain": [
       "[['0', '1', '3', '0', '0', '0', '0'],\n",
       " ['0', '0', '0', '0', '3', '0', '0'],\n",
       " ['2', '0', '0', '1', '0', '0', '0'],\n",
       " ['1', '0', '0', '0', '2', '1', '0'],\n",
       " ['0', '0', '3', '0', '0', '4', '0'],\n",
       " ['0', '0', '0', '0', '0', '0', '1'],\n",
       " ['0', '2', '0', '0', '0', '0', '0']]"
      ]
     },
     "execution_count": 4,
     "metadata": {},
     "output_type": "execute_result"
    }
   ],
   "source": [
    "class GrafoMatrizAdyacencia(Grafo):\n",
    "    ''' Crea la matriz adyacencia a partir de un grafo'''\n",
    "    def __init__(self):\n",
    "        \n",
    "        self.matriz_adyacencia=[]\n",
    "        self.ruta=ruta\n",
    "        \n",
    "    def convertir(self,arista):\n",
    "        '''Convierte las letras de la arista a números entre 0-6'''\n",
    "        nodos=['a', 'b', 'c', 'd', 'e', 'f', 'g']\n",
    "        indices=[0,1,2,3,4,5,6]\n",
    "        dicc={}\n",
    "        matriz_adyacencia=[]\n",
    "        for i in range(7):\n",
    "            dicc[nodos[i]]=i\n",
    "            \n",
    "        n=dicc[str(arista.nodo_origen)]\n",
    "        m=dicc[str(arista.nodo_destino)]\n",
    "        arista_num=[n,m,arista.peso]\n",
    "        return arista_num\n",
    "    \n",
    "    def crear_matriz_adyacencia_vacia(self):\n",
    "        '''Crea una matriz adyacencia cuyo todos sus valores son 0'''\n",
    "        for i in range(7):\n",
    "            self.matriz_adyacencia.append([])\n",
    "            for j in range(7):\n",
    "                self.matriz_adyacencia[i].append('0')\n",
    "        return self.matriz_adyacencia\n",
    "        \n",
    "        \n",
    "    def anyadir_arista(self, arista):\n",
    "        '''Añade la arista la matriz adyacencia si no está en la misma'''\n",
    "        if self.matriz_adyacencia==[]:\n",
    "            self.crear_matriz_adyacencia_vacia() # Crea una matriz 7 x 7 cuyos elementos son todos 0.\n",
    "            \n",
    "        if not self.contiene_arista(arista):\n",
    "            arista=self.convertir(arista)\n",
    "            self.matriz_adyacencia[arista[0]][arista[1]]= arista[2]\n",
    "            self.resultado = self.matriz_adyacencia\n",
    "        return self.resultado\n",
    "        \n",
    "    def contiene_arista(self, arista):\n",
    "        '''Comprueba si la arista esta en la matriz adyacencia'''\n",
    "        arista=self.convertir(arista)\n",
    "                                                             \n",
    "        if int(self.matriz_adyacencia[arista[0]][int(arista[1])]) == int(arista[2]):\n",
    "            return True\n",
    "        else:\n",
    "            return False \n",
    "\n",
    "ruta=\"res/grafo.txt\"    \n",
    "matriz_ad = GrafoMatrizAdyacencia()\n",
    "matriz_ad.extraer_definicion_grafo(ruta)\n"
   ]
  },
  {
   "cell_type": "markdown",
   "id": "distant-integration",
   "metadata": {},
   "source": [
    "1.5. Crea una función que, dado un grafo y una arista, compruebe si la arista existe en el grafo y muestre un mensaje apropiado por pantalla en cualquier caso. Utiliza esta función para comprobar la existencia/ausencia de varias aristas en una instancia de un grafo basado en listas de adyacencia y también en un grafo basado en matriz de adyacencia. El resultado debería ser el mismo en ambos casos, ya que la existencia o ausencia de una arista en un grafo no depende de cómo el grafo está representado internamente."
   ]
  },
  {
   "cell_type": "code",
   "execution_count": 55,
   "id": "registered-distance",
   "metadata": {},
   "outputs": [
    {
     "name": "stdout",
     "output_type": "stream",
     "text": [
      "La arista af6 NO está en el grafo y la lista de adyacencia\n",
      "\n",
      "La arista af6 NO está en el grafo y la matriz de adyacencia\n",
      "\n",
      "La arista af6 NO está en el grafo y la lista de adyacencia\n",
      "\n",
      "La arista ac3 SI está en el grafo y la lista de adyacencia\n",
      "\n",
      "La arista ab9 NO está en el grafo y la lista de adyacencia\n",
      "\n",
      "La arista ab1 SI está en el grafo y la lista de adyacencia\n",
      "\n",
      "La arista af6 NO está en el grafo y la matriz de adyacencia\n",
      "\n",
      "La arista ac3 SI está en el grafo y la matriz de adyacencia\n",
      "\n",
      "La arista ab9 NO está en el grafo y la matriz de adyacencia\n",
      "\n",
      "La arista ab1 SI está en el grafo y la matriz de adyacencia\n",
      "\n"
     ]
    }
   ],
   "source": [
    "def comprobar_aristas(*argumentos):\n",
    "    \n",
    "    lista_argumentos=[]\n",
    "    lista_aristas=[]\n",
    "    for n in argumentos:\n",
    "        lista_argumentos.append(n)\n",
    "    ruta=lista_argumentos[0]\n",
    "    lista_aristas=lista_argumentos[1:]\n",
    "    \n",
    "    diccionario_grafos ={'listas_adyacencia':'GrafoListasAdyacencia()',\n",
    "                         'matriz_adyacencia':'GrafoMatrizAdyacencia()'}\n",
    "    listas_adyacencia = GrafoListasAdyacencia()\n",
    "    listas_adyacencia.extraer_definicion_grafo(ruta)\n",
    "    for arista in lista_aristas:\n",
    "        a=Arista(arista)\n",
    "        if listas_adyacencia.contiene_arista(a):\n",
    "            print(f\"La arista {a} SI está en el grafo y la lista de adyacencia\\n\")\n",
    "        else:\n",
    "            print(f\"La arista {a} NO está en el grafo y la lista de adyacencia\\n\")\n",
    "    \n",
    "    matriz_adyacencia = GrafoMatrizAdyacencia()\n",
    "    matriz_adyacencia.extraer_definicion_grafo(ruta)\n",
    "    for arista in lista_aristas:\n",
    "        a=Arista(arista)\n",
    "        if matriz_adyacencia.contiene_arista(a):\n",
    "            print(f\"La arista {a} SI está en el grafo y la matriz de adyacencia\\n\")\n",
    "        else:\n",
    "            print(f\"La arista {a} NO está en el grafo y la matriz de adyacencia\\n\")\n",
    "\n",
    "comprobar_aristas(\"res/grafo.txt\",'a f 6')\n",
    "\n",
    "comprobar_aristas(\"res/grafo.txt\",'a f 6', 'a c 3','a b 9', 'a b 1')\n",
    "    "
   ]
  },
  {
   "cell_type": "code",
   "execution_count": null,
   "id": "independent-ideal",
   "metadata": {},
   "outputs": [],
   "source": []
  }
 ],
 "metadata": {
  "kernelspec": {
   "display_name": "Python 3",
   "language": "python",
   "name": "python3"
  },
  "language_info": {
   "codemirror_mode": {
    "name": "ipython",
    "version": 3
   },
   "file_extension": ".py",
   "mimetype": "text/x-python",
   "name": "python",
   "nbconvert_exporter": "python",
   "pygments_lexer": "ipython3",
   "version": "3.8.8"
  }
 },
 "nbformat": 4,
 "nbformat_minor": 5
}
