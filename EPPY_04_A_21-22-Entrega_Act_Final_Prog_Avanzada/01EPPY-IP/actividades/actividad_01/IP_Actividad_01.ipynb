{
 "cells": [
  {
   "cell_type": "markdown",
   "id": "sapphire-violation",
   "metadata": {},
   "source": [
    "<img src=\"img/viu_logo.png\" width=\"200\"><img src=\"img/python_logo.png\" width=\"250\"> *Mario Cervera*"
   ]
  },
  {
   "cell_type": "markdown",
   "id": "common-boston",
   "metadata": {},
   "source": [
    "# Introducción a la Programación - Actividad Evaluable 1"
   ]
  },
  {
   "cell_type": "markdown",
   "id": "international-sodium",
   "metadata": {},
   "source": [
    "### 1. Operaciones básicas - 20%"
   ]
  },
  {
   "cell_type": "markdown",
   "id": "progressive-money",
   "metadata": {},
   "source": [
    "1.1. Crear una variable que referencie a un objeto de tipo *float* (número real) y después mostrar el tipo del objeto y su identificador por pantalla."
   ]
  },
  {
   "cell_type": "code",
   "execution_count": 3,
   "id": "1139839d-e678-47fe-b4a6-68249ae95e7a",
   "metadata": {},
   "outputs": [
    {
     "name": "stdin",
     "output_type": "stream",
     "text": [
      "Introduce un numero real >  2.45\n"
     ]
    },
    {
     "name": "stdout",
     "output_type": "stream",
     "text": [
      "Tu número [2.45] es de tipo [<class 'float'>] y su ID de memoria es [1541529405808]\n"
     ]
    }
   ],
   "source": [
    "#Ejercicio 1.1\n",
    "numero_real = float(input (f'Introduce un numero real > '))\n",
    "print(f'Tu número [{numero_real}] es de tipo [{type(numero_real)}] y su ID de memoria es [{id(numero_real)}]')"
   ]
  },
  {
   "cell_type": "markdown",
   "id": "prescription-group",
   "metadata": {},
   "source": [
    "1.2. Crear un diccionario que represente una persona, con su nombre (de tipo *string*) y edad (de tipo *entero*). Después, accediendo al diccionario, imprimir por pantalla el texto: \"X tiene Y años\", donde X es el nombre de la persona e Y es la edad."
   ]
  },
  {
   "cell_type": "code",
   "execution_count": 2,
   "id": "3c8264c0-8b98-46d3-a4fa-b378c3d297ae",
   "metadata": {},
   "outputs": [
    {
     "name": "stdout",
     "output_type": "stream",
     "text": [
      "Os presento a mi familia\n",
      "Carmen tiene 44 años\n",
      "Sofia tiene 12 años\n",
      "David tiene 48 años\n"
     ]
    }
   ],
   "source": [
    "### Ejercicio 1.2 Crear el diccionario de mi familia\n",
    "nombres = ['Carmen', 'Sofia', 'David']\n",
    "edades = [44, 12, 48]\n",
    "familia = dict(zip(nombres,edades))\n",
    "print(f'Os presento a mi familia')\n",
    "for nombre, edad in familia.items():\n",
    "    print(f'{nombre} tiene {edad} años')"
   ]
  },
  {
   "cell_type": "markdown",
   "id": "crude-wagner",
   "metadata": {},
   "source": [
    "1.3. Crear una lista ordenada que contenga los números del 0 al 9. Usando esta lista, mostrar por pantalla otra lista que contenga sólo los números pares. No puedes usar expresiones literales, ni sentencias condicionales ni bucles para resolver este problema."
   ]
  },
  {
   "cell_type": "code",
   "execution_count": 13,
   "id": "10e567c2-8e7e-472b-883e-0e0355382cdd",
   "metadata": {},
   "outputs": [
    {
     "name": "stdout",
     "output_type": "stream",
     "text": [
      "[0, 1, 2, 3, 4, 5, 6, 7, 8, 9]\n",
      "[0, 2, 4, 6, 8]\n"
     ]
    }
   ],
   "source": [
    "#Ejercicio 1.3\n",
    "lista_ordenada = range(10)\n",
    "print(list(lista_ordenada))\n",
    "print(list(lista_ordenada[::2]))"
   ]
  },
  {
   "cell_type": "markdown",
   "id": "friendly-sapphire",
   "metadata": {},
   "source": [
    "1.4. Definir un conjunto que contenga todos los caracteres del alfabeto. Mostrar por pantalla el subconjunto que resulta de eliminar los caracteres de vuestro nombre en dicho conjunto inicial. No podéis usar sentencias condicionales ni bucles para resolver este problema."
   ]
  },
  {
   "cell_type": "code",
   "execution_count": 39,
   "id": "08c2fa61-de0b-47ad-96f2-e0a32f29ffbc",
   "metadata": {},
   "outputs": [
    {
     "name": "stdout",
     "output_type": "stream",
     "text": [
      "{'e', 'ñ', 'o', 'm', 'r', 'j', 'c', 't', 'u', 'y', 'z', 'p', 'k', 'f', 'n', 'h', 'l', 'g', 'b', 's', 'q', 'w', 'x'}\n"
     ]
    }
   ],
   "source": [
    "#Ejercicio 1.4\n",
    "alfabeto = 'abcdefghijklmnñopqrstuvwxyz'\n",
    "nombre ='david'\n",
    "print(set(alfabeto) - set(nombre))"
   ]
  },
  {
   "cell_type": "markdown",
   "id": "sustainable-logic",
   "metadata": {},
   "source": [
    "### 2. Funciones - 40%"
   ]
  },
  {
   "cell_type": "markdown",
   "id": "exterior-homework",
   "metadata": {},
   "source": [
    "2.1. Crear una función que reciba una lista con objetos de diferentes tipos. Por simplificar, para este problema se consideran únicamente números *enteros*, números *decimales* y *strings*. La función debe devolver la suma de los números (enteros y decimales) e ignorar los strings. Ejemplo: el resultado para la lista ['b', 'c', 1, 3.4, 'a', 2] sería 6.4."
   ]
  },
  {
   "cell_type": "code",
   "execution_count": 106,
   "id": "8d4be96e-f6f8-4eb3-ab6d-8db77f8475cb",
   "metadata": {},
   "outputs": [
    {
     "name": "stdout",
     "output_type": "stream",
     "text": [
      "6.4\n"
     ]
    }
   ],
   "source": [
    "#Ejercicio 2.1\n",
    "def suma_lista(mi_lista):\n",
    "    suma = 0\n",
    "    for n in mi_lista:\n",
    "        if type(n) is not str:\n",
    "            suma += n\n",
    "    return suma      \n",
    "\n",
    "mi_lista = ['b', 'c', 1, 3.4, 'a', 2]\n",
    "print(suma_lista(mi_lista))"
   ]
  },
  {
   "cell_type": "markdown",
   "id": "everyday-sailing",
   "metadata": {},
   "source": [
    "2.2. Crear una función que calcule si un año dado es bisiesto o no. Un año es bisiesto si es divisible entre 4, excepto aquellos divisibles entre 100 pero no entre 400. Añadir documentación a la función a través de docstrings. El programa debe usar la función implementada para mostrar una lista con todos los años bisiestos desde 1900 (inclusive) hasta la actualidad. Debéis usar una *list comprehension* para generar esta lista."
   ]
  },
  {
   "cell_type": "code",
   "execution_count": 111,
   "id": "a65a924d-b8be-4592-857c-a13fa5f6e45c",
   "metadata": {},
   "outputs": [
    {
     "name": "stdout",
     "output_type": "stream",
     "text": [
      "[1904, 1908, 1912, 1916, 1920, 1924, 1928, 1932, 1936, 1940, 1944, 1948, 1952, 1956, 1960, 1964, 1968, 1972, 1976, 1980, 1984, 1988, 1992, 1996, 2000, 2004, 2008, 2012, 2016, 2020]\n",
      "Help on function es_bisiesto in module __main__:\n",
      "\n",
      "es_bisiesto(año)\n",
      "    Función que recibe como entrada un año y devuelve True si el año es bisiesto.\n",
      "    \n",
      "    Un año es bisiesto si es divisible entre 4, \n",
      "    excepto aquellos divisibles entre 100 pero no entre 400.\n",
      "\n"
     ]
    }
   ],
   "source": [
    "#Ejercicio 2.2\n",
    "def es_bisiesto(año):\n",
    "    \"\"\"Función que recibe como entrada un año y devuelve True si el año es bisiesto.\n",
    "    \n",
    "    Un año es bisiesto si es divisible entre 4, \n",
    "    excepto aquellos divisibles entre 100 pero no entre 400.\n",
    "    \"\"\"\n",
    "    \n",
    "    if año % 4 == 0 and (not(año % 100 == 0) or año % 400 == 0 ):\n",
    "        return True  \n",
    "años_bisiestos = [ año for año in range(1900, 2021) if es_bisiesto(año) == True]\n",
    "print(años_bisiestos)\n",
    "help(es_bisiesto)"
   ]
  },
  {
   "cell_type": "markdown",
   "id": "stupid-article",
   "metadata": {},
   "source": [
    "### 3. Acceso a fichero - 40%"
   ]
  },
  {
   "cell_type": "markdown",
   "id": "formal-tragedy",
   "metadata": {},
   "source": [
    "En \"*./res/ciudades.csv*\" tenéis un fichero CSV con información acerca de un conjunto de ciudades: nombre de la ciudad, país al que pertenece y número de habitantes."
   ]
  },
  {
   "cell_type": "markdown",
   "id": "alone-remedy",
   "metadata": {
    "tags": []
   },
   "source": [
    "3.1 Escribir un programa que acceda al fichero y obtenga:\n",
    "\n",
    "* Una lista con los nombres de las ciudades españolas que tienen más de 300.000 habitantes.\n",
    "* El número total de ciudades francesas.\n",
    "\n",
    "El programa debe mostrar la lista y el número por pantalla."
   ]
  },
  {
   "cell_type": "code",
   "execution_count": 12,
   "id": "9f19f116-68e5-41e6-a0f8-f581310d1fdc",
   "metadata": {},
   "outputs": [
    {
     "name": "stdout",
     "output_type": "stream",
     "text": [
      "Filtrando el fichero ciudades.csv ...\n",
      "Aquí tienes la lista de ciudades españolas de más de 300.00 habitantes: \n",
      "['Valencia', 'Bilbao', 'Madrid', 'Sevilla', 'Barcelona']\n",
      "Hay un total de 3 ciudades francesas y son: \n",
      "['Marsella', 'Lyon', 'Nantes']\n"
     ]
    }
   ],
   "source": [
    "#Ejercicio 3.1\n",
    "import csv\n",
    "\n",
    "with open(\"res/ciudades.csv\") as mi_fichero:\n",
    "    lectura_fichero = csv.reader(mi_fichero, delimiter='|')\n",
    "    ciudades_españolas = []\n",
    "    ciudades_francesas = []\n",
    "    cont_ciud_francesas = 0\n",
    "    for linea in lectura_fichero:\n",
    "        if linea[1] == 'Espanya' and int(linea[2]) > 300000:\n",
    "            ciudades_españolas.append(linea[0])\n",
    "        if linea[1] == 'Francia':\n",
    "            cont_ciud_francesas += 1\n",
    "            ciudades_francesas.append(linea[0])\n",
    "    print(f'Filtrando el fichero ciudades.csv ...')\n",
    "    #print(f'Aquí tienes la lista de ciudades españolas de más de 300.00 habitantes: \\n{ciudades_españolas}')\n",
    "    #print(f'Hay un total de {cont_ciud_francesas} ciudades francesas y son: \\n{ciudades_francesas}')\n",
    "    print(f'''Aquí tienes la lista de ciudades españolas de más de 300.00 habitantes: \\n{ciudades_españolas}\n",
    "Hay un total de {cont_ciud_francesas} ciudades francesas y son: \\n{ciudades_francesas}''')"
   ]
  },
  {
   "cell_type": "code",
   "execution_count": null,
   "id": "45eee2f4-9fe0-4b78-9214-34f32f65c7de",
   "metadata": {},
   "outputs": [],
   "source": []
  }
 ],
 "metadata": {
  "kernelspec": {
   "display_name": "Python 3",
   "language": "python",
   "name": "python3"
  },
  "language_info": {
   "codemirror_mode": {
    "name": "ipython",
    "version": 3
   },
   "file_extension": ".py",
   "mimetype": "text/x-python",
   "name": "python",
   "nbconvert_exporter": "python",
   "pygments_lexer": "ipython3",
   "version": "3.9.4"
  }
 },
 "nbformat": 4,
 "nbformat_minor": 5
}
