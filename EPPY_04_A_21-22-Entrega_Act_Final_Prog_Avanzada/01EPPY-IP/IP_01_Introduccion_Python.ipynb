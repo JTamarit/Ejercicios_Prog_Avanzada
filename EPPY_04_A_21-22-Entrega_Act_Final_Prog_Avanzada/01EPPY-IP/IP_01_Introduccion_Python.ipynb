{
 "cells": [
  {
   "cell_type": "markdown",
   "id": "indonesian-presentation",
   "metadata": {},
   "source": [
    "<img src=\"img/viu_logo.png\" width=\"200\"><img src=\"img/python_logo.png\" width=\"250\"> *Mario Cervera*"
   ]
  },
  {
   "cell_type": "markdown",
   "id": "formal-capitol",
   "metadata": {},
   "source": [
    "# Introducción a Python"
   ]
  },
  {
   "cell_type": "markdown",
   "id": "related-contributor",
   "metadata": {},
   "source": [
    "### Principales características\n",
    "\n",
    "* Lenguaje de propósito general.\n",
    "* Interpretado, no compilado.\n",
    "* Tipado dinámico.\n",
    "* Fuertemente tipado.\n",
    "* Énfasis en la legibilidad.\n",
    "* Lenguaje de alto nivel.\n",
    "* Gestión automática de memoria. No recomendable cuando el rendimiento es crítico.\n",
    "* Multiparadigma: orientado a objetos, procedural y funcional.\n",
    "* Indentación para delimitar bloques de código."
   ]
  },
  {
   "cell_type": "markdown",
   "id": "vanilla-coupon",
   "metadata": {},
   "source": [
    "### ¿Por qué Python?\n",
    "\n",
    "* Ecosistema amplio con librerías para múltiples áreas y buena documentación.\n",
    "* Calidad: código legible y mantenible.\n",
    "* Incrementa productividad del desarrollador.\n",
    "  * Menos programación. Código más compacto.\n",
    "  * No largas compilaciones.\n",
    "* Portabilidad. Multiplataforma.\n",
    "* Integración con otros lenguajes.\n",
    "\n",
    "[Stack Overflow Developer Survey 2020](https://insights.stackoverflow.com/survey/2020/)\n",
    "\n"
   ]
  },
  {
   "cell_type": "markdown",
   "id": "formed-height",
   "metadata": {},
   "source": [
    "### ¿Qué puedo hacer con Python?\n",
    "\n",
    "* Herramientas shell (administración de sistemas).\n",
    "  * Manipulación de ficheros.\n",
    "  * Ejecución de comandos.\n",
    "* Desarrollo de Interfaces Gráficas de Usuario (GUIs).\n",
    "* Internet scripting.\n",
    "  * Generación y parseado de XML y JSON.\n",
    "  * Recuperación de webs por URL.\n",
    "  * Comunicación a través de sockets.\n",
    "  * Transferencia de ficheros por FTP.\n",
    "* Programación de base de datos.\n",
    "* Computación numérica (NumPy).\n",
    "* Otros.\n",
    "  * Análisis lenguaje natural.\n",
    "  * Aprendizaje automático e inteligencia artificial.\n",
    "  * Programación multimedia.\n",
    "  * ...\n",
    "  "
   ]
  },
  {
   "cell_type": "markdown",
   "id": "single-forestry",
   "metadata": {},
   "source": [
    "### Filosofía Python"
   ]
  },
  {
   "cell_type": "code",
   "execution_count": 6,
   "id": "gentle-defensive",
   "metadata": {},
   "outputs": [
    {
     "name": "stdout",
     "output_type": "stream",
     "text": [
      "The Zen of Python, by Tim Peters\n",
      "\n",
      "Beautiful is better than ugly.\n",
      "Explicit is better than implicit.\n",
      "Simple is better than complex.\n",
      "Complex is better than complicated.\n",
      "Flat is better than nested.\n",
      "Sparse is better than dense.\n",
      "Readability counts.\n",
      "Special cases aren't special enough to break the rules.\n",
      "Although practicality beats purity.\n",
      "Errors should never pass silently.\n",
      "Unless explicitly silenced.\n",
      "In the face of ambiguity, refuse the temptation to guess.\n",
      "There should be one-- and preferably only one --obvious way to do it.\n",
      "Although that way may not be obvious at first unless you're Dutch.\n",
      "Now is better than never.\n",
      "Although never is often better than *right* now.\n",
      "If the implementation is hard to explain, it's a bad idea.\n",
      "If the implementation is easy to explain, it may be a good idea.\n",
      "Namespaces are one honking great idea -- let's do more of those!\n"
     ]
    }
   ],
   "source": [
    "import this"
   ]
  },
  {
   "cell_type": "markdown",
   "id": "african-tobacco",
   "metadata": {},
   "source": [
    "### Documentación\n",
    "\n",
    "* Python Enhancement Proposals (PEP)\n",
    "\n",
    "  * [Index](https://www.python.org/dev/peps/)\n",
    "  * [Purpose and Guidelines](https://www.python.org/dev/peps/pep-0001/)\n",
    "\n",
    "\n",
    "* [Python Style Guide](https://www.python.org/dev/peps/pep-0008/)"
   ]
  }
 ],
 "metadata": {
  "kernelspec": {
   "display_name": "Python 3",
   "language": "python",
   "name": "python3"
  },
  "language_info": {
   "codemirror_mode": {
    "name": "ipython",
    "version": 3
   },
   "file_extension": ".py",
   "mimetype": "text/x-python",
   "name": "python",
   "nbconvert_exporter": "python",
   "pygments_lexer": "ipython3",
   "version": "3.9.2"
  }
 },
 "nbformat": 4,
 "nbformat_minor": 5
}
