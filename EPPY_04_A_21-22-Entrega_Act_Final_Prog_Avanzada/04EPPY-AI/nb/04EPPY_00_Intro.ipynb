{
 "cells": [
  {
   "cell_type": "markdown",
   "id": "eafdb2a4-073c-4871-9fb3-39a18805263b",
   "metadata": {
    "slideshow": {
     "slide_type": "slide"
    }
   },
   "source": [
    "<img src=\"img/viu_logo.png\" width=\"200\">\n",
    "\n",
    "## 04EPPY - Ciencia de Datos e Inteligencia Artificial\n",
    "### Presentación de la asignatura\n",
    "\n",
    "![logo](img/python_logo.png)\n",
    "\n",
    "*Ivan Fuertes*"
   ]
  },
  {
   "cell_type": "markdown",
   "id": "d5f15d5d-78e8-457a-8555-f1366594f554",
   "metadata": {},
   "source": [
    "## Presentación\n",
    "\n",
    "Iván Fuertes, HND in VideoGames Programming\n",
    "\n",
    "- Game Engine Programmer\n",
    "  - Computer Graphics, Rendering\n",
    "  - Low Level Engine Systems\n",
    "  - Video Games\n",
    "  - C++, Python\n",
    "- email - ivan.fuertes@campusviu.es\n",
    "- discord - https://discord.gg/auEkybmQrF"
   ]
  },
  {
   "cell_type": "markdown",
   "id": "a292c777-30b1-4787-a1bd-cdde797548a4",
   "metadata": {},
   "source": [
    "Career\n",
    "- Spectrum + Amiga\n",
    "- Apps 4 Management\n",
    "- MiniRacingOnline\n",
    "- Prototipos AAA\n",
    "- Juegos Educativos\n",
    "- Experiencias Virtual Reality\n",
    "- Casinos Online\n",
    "- Game Engine + Games Augmented Reality (FaceTracking + SLAM)\n",
    "- Indie Scene\n",
    "- Electronic Warfare\n",
    "- Augmented Reality Rendering Engine\n",
    "\n",
    "VIU\n",
    "- Master en Desarrollo de Videojuegos\n",
    "  - Programación Gráfica y Arquitectura de Motores de Videojuegos\n",
    "  - Programación Mulithilo, Multiplayer Online e Inteligencia Artificial para Videojuegos\n",
    "- Grado de Ingeniería Informática\n",
    "  - Programación de Videojuegos\n",
    "- Master Universitario en Inteligencia Artificial\n",
    "  - Programación en Python para Ciencia de Datos e Inteligencia Artificial\n",
    "- Coordinador del Curso de Experto Programación en Python\n",
    "  - Programación Avanzada\n",
    "  - Ciencia de Datos e Inteligencia Artificial"
   ]
  },
  {
   "cell_type": "markdown",
   "id": "37b5d172-5cc1-4061-9ba1-cc54c442b631",
   "metadata": {},
   "source": [
    "## Objetivos\n",
    "- Análisis de Datos\n",
    "- Visualización de Datos\n",
    "- Machine Learning\n",
    "- Deep Learning"
   ]
  },
  {
   "cell_type": "markdown",
   "id": "joint-floor",
   "metadata": {},
   "source": [
    "## Temario"
   ]
  },
  {
   "cell_type": "markdown",
   "id": "focal-general",
   "metadata": {},
   "source": [
    "- Análisis de Datos, Extracción, Preparación, Exploración y Visualización de Datos, Modelado Predictivo (Clasificación, Regresión, Clustering), Validación del Modelo, Análisis Cuantitativo y Cualitativo\n",
    "- NumPy, NdArray, Operaciones, Funciones Matemáticas, Estadística Descriptiva, Algebra Lineal, Filtros, Agregación, Broadcasting, Vectorización, Números Aleatorios, Ficheros\n",
    "- Pandas, Series, DataFrames, Index, Operaciones, Indexing, Slicing, Búsquedas, Ordenación, Ranking, Mapping, Estadística Descriptiva, Agregación, Pivot, Correlaciones, Covarianzas, Ficheros\n",
    "- Visualización de Datos, Matplotlib, DataFrame Graphics, Seaborn, Relaciones de Variables, Distribuciones, Correlaciones\n",
    "- Ciencia de Datos, Join, Merge, Tratamiento de Strings, Transformación de Datos, Calidad de Datos, Limpieza, Duplicados, Discretización\n",
    "- Machine Learning, Scikit Learn, Aprendizaje Supervisado/No Supervisado, Conjuntos de Entrenamiento/Tests, PCA, Clasificación, K-Nearest, SVM, Regresión Lineal, Modelos Lineales\n",
    "- Deep Learning, Redes Neuronales, Computación Paralela en la GPU, TensorFlow, Capa Simple, Capa Multiple\n",
    "- Reconocimiento, de Escritura OCR, de Texto (NLTK), de Imágenes (OpenCV)"
   ]
  },
  {
   "cell_type": "markdown",
   "id": "bb78463a-0bed-4273-8b76-0e238649917c",
   "metadata": {},
   "source": [
    "## Organización\n",
    "\n",
    "- Ciencia de Datos\n",
    "  - NumPy\n",
    "  - Pandas\n",
    "  - Visualización\n",
    "  - Tratamiento de Datos\n",
    "- Inteligencia Artificial\n",
    "  - Machine Learning\n",
    "  - Deep Learning\n",
    "  - Reconocimiento"
   ]
  },
  {
   "cell_type": "markdown",
   "id": "brown-patient",
   "metadata": {},
   "source": [
    "## Metodología\n",
    "\n",
    "- 6ECTS = 150h = 30h Clases + 120h Trabajo Autónomo\n",
    "- Calendario 29/06 -> 29/07\n",
    "- Horario Regular 19.00 a 21.00 CEST\n",
    "\n",
    "* Clases Expositivas Online (Grabaciones) = 15 * 2h = 30h\n",
    "* Ejercicios Autoevaluativos\n",
    "* Trabajo Autónomo"
   ]
  },
  {
   "cell_type": "markdown",
   "id": "27487395-979a-42d4-ba9c-0d28a9af3599",
   "metadata": {},
   "source": [
    "## Sesiones\n",
    "\n",
    "### Horario 19.00 a 21.00 CEST\n",
    "\n",
    "   VC  | Día\n",
    "-------|:----:\n",
    "TC     |  29.06.2021\n",
    "VC00   |  01.07.2021\n",
    "VC01   |  05.07.2021\n",
    "VC02   |  06.07.2021\n",
    "VC03   |  08.07.2021\n",
    "VC04   |  12.07.2021\n",
    "VC05   |  13.07.2021\n",
    "VC06   |  15.07.2021\n",
    "VC07   |  16.07.2021\n",
    "VC08   |  19.07.2021\n",
    "VC09   |  20.07.2021\n",
    "VC10   |  22.07.2021\n",
    "VC11   |  26.07.2021\n",
    "VC12   |  27.07.2021\n",
    "VC13   |  29.07.2021\n",
    "\n",
    "Si hay algún cambio inesperado, se notificará apropiadamente."
   ]
  },
  {
   "cell_type": "markdown",
   "id": "2ed0d1c6-3d59-4c6b-ba85-cf4875321f49",
   "metadata": {},
   "source": [
    "## Recursos de la asignatura\n",
    "\n",
    "- En el aula virtual\n",
    "- Actividades (Descripción y Entregas)\n",
    "- Repositorio GitHub https://github.com/vany-viu/EPPY_04_A_21-22\n",
    "- Enviar usuario de GitHub\n",
    "\n",
    "* Materiales de Clase / Apuntes\n",
    "* Jupyter Notebooks / Markdeep"
   ]
  },
  {
   "cell_type": "markdown",
   "id": "18febce1-d853-4245-828c-d0106a6fecd7",
   "metadata": {},
   "source": [
    "## Actividades y Entregas\n",
    "\n",
    "### Portfolio (Evaluación Continua) - 50%\n",
    "- Actividad 1 - 25%\n",
    "- Actividad 2 - 25%\n",
    "\n",
    "### Actividad Final - 50%\n",
    "\n",
    "### Convocatorias, 1ª = 10/09/21 , 2ª = 06/10/21\n",
    "\n",
    "- Todas las actividades (tanto del portfolio como el ejercicio final) deben estar aprobadas.\n",
    "- Resolver el problema supone aprobar, mejorar nota supone un esfuerzo adicional .\n",
    "| Nota | Evaluación |\n",
    "|:---------|:-----|\n",
    "| x < 5  | Suspendido |\n",
    "| 5 <= x < 7 | Aprobado |\n",
    "| 7 <= x < 9 | Notable |\n",
    "| 9 <= x | Sobresaliente |\n",
    "\n",
    "### Opciones de entrega\n",
    "\n",
    "- Fork + tag, repositorio (privado) para alumnos: https://github.com/vany-viu/EPPY_04_A_21-22\n",
    "- Subir ficheros a la plataforma blackboard de la VIU.\n",
    "- Entrega de actividades a través de las actividades del campus virtual"
   ]
  },
  {
   "cell_type": "markdown",
   "id": "b94508d7-9d3d-49e1-a092-6cadcd177d18",
   "metadata": {
    "slideshow": {
     "slide_type": "subslide"
    }
   },
   "source": [
    "## Instalación local\n",
    "- Python > 3.7\n",
    "- Jupyter Notebook / Jupyter Lab\n",
    "- IDE\n",
    "  - Visual Studio Code\n",
    "  - PyCharm\n",
    "  - Sublime, Atom, Visual Studio, Eclipse(PyDev), IDLE, Thonny, Spyder, Vim, Emacs\n",
    "- Entorno Virtual para cada Proyecto"
   ]
  },
  {
   "cell_type": "markdown",
   "id": "31c9ca94-1d0e-4302-9c48-e6fdb37df0a0",
   "metadata": {},
   "source": [
    "## Entorno de Desarrollo (IDE)\n",
    "- Recomendación VSCode\n",
    "  - https://code.visualstudio.com/\n",
    "  - https://code.visualstudio.com/docs/python/python-tutorial\n",
    "  - https://code.visualstudio.com/docs/languages/python\n",
    "- Extensiones\n",
    "  - Python\n",
    "  - Jupyter"
   ]
  }
 ],
 "metadata": {
  "kernelspec": {
   "display_name": "Python 3 (ipykernel)",
   "language": "python",
   "name": "python3"
  },
  "language_info": {
   "codemirror_mode": {
    "name": "ipython",
    "version": 3
   },
   "file_extension": ".py",
   "mimetype": "text/x-python",
   "name": "python",
   "nbconvert_exporter": "python",
   "pygments_lexer": "ipython3",
   "version": "3.9.6"
  }
 },
 "nbformat": 4,
 "nbformat_minor": 5
}
