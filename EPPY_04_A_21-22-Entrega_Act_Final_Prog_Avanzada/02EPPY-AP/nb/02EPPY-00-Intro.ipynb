{
 "cells": [
  {
   "cell_type": "markdown",
   "id": "naval-diesel",
   "metadata": {
    "slideshow": {
     "slide_type": "slide"
    }
   },
   "source": [
    "<img src=\"img/viu_logo.png\" width=\"200\">\n",
    "\n",
    "## 02EPPY - Programación Avanzada en Python\n",
    "### Presentación de la asignatura\n",
    "\n",
    "![logo](img/python_logo.png)\n",
    "\n",
    "*Ivan Fuertes*"
   ]
  },
  {
   "cell_type": "markdown",
   "id": "hungarian-devon",
   "metadata": {},
   "source": [
    "## Presentación\n",
    "\n",
    "Iván Fuertes, HND in VideoGames Programming\n",
    "\n",
    "- Game Engine Programmer\n",
    "  - Computer Graphics, Rendering\n",
    "  - Low Level Engine Systems\n",
    "  - Video Games\n",
    "  - C++, Python\n",
    "- email - ivan.fuertes@campusviu.es\n",
    "- discord - https://discord.gg/auEkybmQrF"
   ]
  },
  {
   "cell_type": "markdown",
   "id": "retained-month",
   "metadata": {},
   "source": [
    "Career\n",
    "- Spectrum + Amiga\n",
    "- Apps 4 Management\n",
    "- MiniRacingOnline\n",
    "- Prototipos AAA\n",
    "- Juegos Educativos\n",
    "- Experiencias Virtual Reality\n",
    "- Casinos Online\n",
    "- Game Engine + Games Augmented Reality (FaceTracking + SLAM)\n",
    "- Indie Scene\n",
    "- Electronic Warfare\n",
    "- Augmented Reality Rendering Engine\n",
    "\n",
    "VIU\n",
    "- Master en Desarrollo de Videojuegos\n",
    "  - Programación Gráfica y Arquitectura de Motores de Videojuegos\n",
    "  - Programación Mulithilo, Multiplayer Online e Inteligencia Artificial para Videojuegos\n",
    "- Grado de Ingeniería Informática\n",
    "  - Programación de Videojuegos\n",
    "- Master Universitario en Inteligencia Artificial\n",
    "  - Programación en Python para Ciencia de Datos e Inteligencia Artificial\n",
    "- Coordinador del Curso de Experto Programación en Python\n",
    "  - Programación Avanzada\n",
    "  - Ciencia de Datos e Inteligencia Artificial"
   ]
  },
  {
   "cell_type": "markdown",
   "id": "serial-medicare",
   "metadata": {},
   "source": [
    "## Objetivos\n",
    "- Aplicaciones Prácticas\n",
    "- Sistemas de Software Complejos\n",
    "- Web y Redes\n",
    "- Automatización"
   ]
  },
  {
   "cell_type": "markdown",
   "id": "musical-cutting",
   "metadata": {},
   "source": [
    "## Temario"
   ]
  },
  {
   "cell_type": "markdown",
   "id": "smooth-manner",
   "metadata": {},
   "source": [
    "- Programación Funcional, Funciones Puras, Estructuras de Datos Inmutables, Lazy Evaluation, Recursion\n",
    "- Módulos, Paquetes, Namespaces, Uso del Sistema (Paths, Shell, Variables de Entorno, Sys, Os)\n",
    "- Control de Errores y Excepciones\n",
    "- Expresiones Regulares\n",
    "- Concurrencia, Programación Asincrona, Corutinas, Hilos, Sincronización, Bloqueos, Intercomunicación, Datos Compartidos, Pools, Executors, Paralelismo de Procesos\n",
    "- Programación Distribuida, Cliente/Servidor, Multinivel, Aplicaciones Distribuidas (Celery), Objetos Remotos (Pyro4), Cloud Computing (PythonAnywhere), Serverless Computing, Heterogeneous Computing (Cuda, OpenCL)\n",
    "- Interfaces de Usuario, Widgets, Comandos, Callbacks, tkinter, Qt\n",
    "- Desarrollo de Videojuegos, PyGame\n",
    "- Redes e Internet, Sockets, Clients, Servers, HTTP, Email, FTP, WebServer, Web Scraping\n",
    "- Programación web en Backend, Django, Heroku\n",
    "- Programación web en Frontend, JavaScript, DOM+HTML+CSS, React\n",
    "- Interop con C, C++ y Java\n",
    "- Automatización de Tareas, Redimensionamiento/Conversión de Imágenes, Selenium, Automatización de GUI (PyAutoGUI)"
   ]
  },
  {
   "cell_type": "markdown",
   "id": "found-roller",
   "metadata": {},
   "source": [
    "## Organización\n",
    "\n",
    "- Conceptos Avanzados\n",
    "  - Modulos, sistema\n",
    "  - Expresiones Regulares\n",
    "  - Programación Funcional\n",
    "  - Concurrencia\n",
    "  - Programación Distribuida\n",
    "  - Redes / Internet\n",
    "  - Interop\n",
    "- Proyectos\n",
    "  - Videojuegos\n",
    "  - Interfaces de Usuario\n",
    "  - Web BackEnd / FrontEnd\n",
    "  - Automatización"
   ]
  },
  {
   "cell_type": "markdown",
   "id": "hydraulic-cardiff",
   "metadata": {},
   "source": [
    "## Metodología\n",
    "\n",
    "- 6ECTS = 150h = 30h Clases + 120h Trabajo Autónomo\n",
    "- Calendario 25/05 -> 23/06\n",
    "- Horario Regular 19.00 a 21.00 CEST\n",
    "\n",
    "* Clases Expositivas Online (Grabaciones) = 15 * 2h = 30h\n",
    "* Ejercicios Autoevaluativos\n",
    "* Trabajo Autónomo"
   ]
  },
  {
   "cell_type": "markdown",
   "id": "attractive-sandwich",
   "metadata": {},
   "source": [
    "## Sesiones\n",
    "\n",
    "### Horario 19.00 a 21.00 CEST\n",
    "\n",
    "- 25-05-21 - Tutoria Colectiva Presentación\n",
    "- 27-05-21 - VideoConferencia 00\n",
    "- 31-05-21 - VideoConferencia 01\n",
    "- 01-06-21 - VideoConferencia 02\n",
    "- 03-06-21 - VideoConferencia 03\n",
    "- 07-06-21 - VideoConferencia 04\n",
    "- 08-06-21 - VideoConferencia 05\n",
    "- 09-06-21 - VideoConferencia 06\n",
    "- 10-06-21 - VideoConferencia 07\n",
    "- 14-06-21 - VideoConferencia 08\n",
    "- 15-06-21 - VideoConferencia 09\n",
    "- 17-06-21 - VideoConferencia 10\n",
    "- 21-06-21 - VideoConferencia 11\n",
    "- 22-06-21 - VideoConferencia 12\n",
    "- 23-06-21 - VideoConferencia 13\n",
    "\n",
    "Si hay algún cambio inesperado, se notificará apropiadamente."
   ]
  },
  {
   "cell_type": "markdown",
   "id": "variable-clark",
   "metadata": {},
   "source": [
    "## Recursos de la asignatura\n",
    "\n",
    "- En el aula virtual\n",
    "- Actividades (Descripción y Entregas)\n",
    "- Repositorio GitHub https://github.com/vany-viu/EPPY_04_A_21-22\n",
    "- Enviar usuario de GitHub\n",
    "\n",
    "* Materiales de Clase / Apuntes\n",
    "* Jupyter Notebooks / Markdeep"
   ]
  },
  {
   "cell_type": "markdown",
   "id": "growing-refrigerator",
   "metadata": {},
   "source": [
    "## Actividades y Entregas\n",
    "\n",
    "### Portfolio (Evaluación Continua) - 50%\n",
    "- Actividad 1 - 25%\n",
    "- Actividad 2 - 25%\n",
    "\n",
    "### Actividad Final - 50%\n",
    "\n",
    "### Convocatorias, 1ª = 09/07/21 , 2ª = 05/09/21\n",
    "\n",
    "- Todas las actividades (tanto del portfolio como el ejercicio final) deben estar aprobadas.\n",
    "- Resolver el problema supone aprobar, mejorar nota supone un esfuerzo adicional .\n",
    "| Nota | Evaluación |\n",
    "|:---------|:-----|\n",
    "| x < 5  | Suspendido |\n",
    "| 5 <= x < 7 | Aprobado |\n",
    "| 7 <= x < 9 | Notable |\n",
    "| 9 <= x | Sobresaliente |\n",
    "\n",
    "### Opciones de entrega\n",
    "\n",
    "- Fork + tag, repositorio (privado) para alumnos: https://github.com/vany-viu/EPPY_04_A_21-22\n",
    "- Subir ficheros a la plataforma blackboard de la VIU.\n",
    "- Entrega de actividades a través de las actividades del campus virtual"
   ]
  },
  {
   "cell_type": "markdown",
   "id": "fitted-theology",
   "metadata": {
    "slideshow": {
     "slide_type": "subslide"
    }
   },
   "source": [
    "## Instalación local\n",
    "- Python > 3.7\n",
    "- Jupyter Notebook / Jupyter Lab\n",
    "- IDE\n",
    "  - Visual Studio Code\n",
    "  - PyCharm\n",
    "  - Sublime, Atom, Visual Studio, Eclipse(PyDev), IDLE, Thonny, Spyder, Vim, Emacs\n",
    "- Entorno Virtual para cada Proyecto"
   ]
  },
  {
   "cell_type": "markdown",
   "id": "outer-operator",
   "metadata": {},
   "source": [
    "## Entorno de Desarrollo (IDE)\n",
    "- Recomendación VSCode\n",
    "  - https://code.visualstudio.com/\n",
    "  - https://code.visualstudio.com/docs/python/python-tutorial\n",
    "  - https://code.visualstudio.com/docs/languages/python\n",
    "- Extensiones\n",
    "  - Python\n",
    "  - Jupyter"
   ]
  }
 ],
 "metadata": {
  "kernelspec": {
   "display_name": "Python 3",
   "language": "python",
   "name": "python3"
  },
  "language_info": {
   "codemirror_mode": {
    "name": "ipython",
    "version": 3
   },
   "file_extension": ".py",
   "mimetype": "text/x-python",
   "name": "python",
   "nbconvert_exporter": "python",
   "pygments_lexer": "ipython3",
   "version": "3.8.8"
  }
 },
 "nbformat": 4,
 "nbformat_minor": 5
}
