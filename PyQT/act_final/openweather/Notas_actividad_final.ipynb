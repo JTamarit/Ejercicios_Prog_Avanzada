{
 "cells": [
  {
   "cell_type": "code",
   "execution_count": 7,
   "id": "295f57c9-9e1d-44f2-871a-b5788d95b56e",
   "metadata": {},
   "outputs": [],
   "source": [
    "import requests\n",
    "icon=requests.get(\"http://openweathermap.org/img/w/01d.png\")\n"
   ]
  },
  {
   "cell_type": "code",
   "execution_count": 8,
   "id": "7dd8e373-0939-41ee-b165-9b3303dda455",
   "metadata": {},
   "outputs": [
    {
     "data": {
      "text/plain": [
       "<Response [200]>"
      ]
     },
     "execution_count": 8,
     "metadata": {},
     "output_type": "execute_result"
    }
   ],
   "source": []
  },
  {
   "cell_type": "code",
   "execution_count": 7,
   "id": "11221eb9-a953-41c2-985f-f32b66e78148",
   "metadata": {},
   "outputs": [
    {
     "name": "stdout",
     "output_type": "stream",
     "text": [
      "<Response [200]>\n"
     ]
    }
   ],
   "source": [
    "print(icon)"
   ]
  },
  {
   "cell_type": "code",
   "execution_count": 2,
   "id": "0516d6fc-680a-48c8-a322-ebee6e03872f",
   "metadata": {},
   "outputs": [
    {
     "name": "stdout",
     "output_type": "stream",
     "text": [
      "2021-07-08 21:32:21\n",
      "21:32\n"
     ]
    }
   ],
   "source": [
    "import datetime\n",
    "timestamp = datetime.datetime.fromtimestamp(1625772741)\n",
    "print(timestamp.strftime('%Y-%m-%d %H:%M:%S'))\n",
    "print(timestamp.strftime('%H:%M'))\n"
   ]
  },
  {
   "cell_type": "code",
   "execution_count": 5,
   "id": "3ebd6534-3985-4b20-8321-75aa0be4677c",
   "metadata": {},
   "outputs": [
    {
     "name": "stdout",
     "output_type": "stream",
     "text": [
      "2021-07-08 12:53:00\n",
      "12:53\n"
     ]
    }
   ],
   "source": [
    "\n",
    "timestamp = datetime.datetime.fromtimestamp(1625741580)\n",
    "print(timestamp.strftime('%Y-%m-%d %H:%M:%S'))\n",
    "print(timestamp.strftime('%H:%M'))"
   ]
  },
  {
   "cell_type": "code",
   "execution_count": 6,
   "id": "19d37621-8c43-4f6b-94d3-94baa8094f71",
   "metadata": {},
   "outputs": [
    {
     "name": "stdout",
     "output_type": "stream",
     "text": [
      "2021-07-08 13:53:00\n",
      "13:53\n"
     ]
    }
   ],
   "source": [
    "time=1625745180\n",
    "timestamp = datetime.datetime.fromtimestamp(time)\n",
    "print(timestamp.strftime('%Y-%m-%d %H:%M:%S'))\n",
    "print(timestamp.strftime('%H:%M'))\n"
   ]
  },
  {
   "cell_type": "code",
   "execution_count": 7,
   "id": "d5c502cb-7958-4f5e-8dd9-375a0a28a235",
   "metadata": {},
   "outputs": [
    {
     "name": "stdout",
     "output_type": "stream",
     "text": [
      "2021-07-08 16:03:21\n",
      "2021-07-08 14:00:00\n",
      "2021-07-09 14:00:00\n",
      "2021-07-10 14:00:00\n",
      "2021-07-11 14:00:00\n",
      "2021-07-12 14:00:00\n",
      "2021-07-13 14:00:00\n",
      "2021-07-14 14:00:00\n",
      "2021-07-15 14:00:00\n"
     ]
    }
   ],
   "source": [
    "ltime=[1625753001,1625745600,1625832000,1625918400,1626004800,1626091200,1626177600,1626264000,1626350400]\n",
    "for time in ltime:\n",
    "    timestamp = datetime.datetime.fromtimestamp(time)\n",
    "    print(timestamp.strftime('%Y-%m-%d %H:%M:%S'))\n",
    "    \n"
   ]
  },
  {
   "cell_type": "code",
   "execution_count": null,
   "id": "7f69da49-542f-43b3-a19d-66cd3bab4b2f",
   "metadata": {},
   "outputs": [],
   "source": [
    "{\n",
    "    'lat': 39.3333, \n",
    "    'lon': -0.8333, \n",
    "    'timezone': 'Europe/Madrid', \n",
    "    'timezone_offset': 7200, \n",
    "    'current': \n",
    "        {'dt': 1625753001, \n",
    "         'sunrise': 1625719445, \n",
    "         'sunset': 1625772741, \n",
    "         'temp': 299.18, \n",
    "         'feels_like': 299.18, \n",
    "         'pressure': 1020, \n",
    "         'humidity': 33, \n",
    "         'dew_point': 281.68, \n",
    "         'uvi': 7.2, \n",
    "         'clouds': 27, \n",
    "         'visibility': 10000, \n",
    "         'wind_speed': 7.34, \n",
    "         'wind_deg': 105, \n",
    "         'wind_gust': 5.53, \n",
    "         'weather': [{'id': 802, 'main': 'Clouds', 'description': 'scattered clouds', 'icon': '03d'}]}, \n",
    "         'daily': [\n",
    "             {'dt': 1625745600, \n",
    "              'sunrise': 1625719445, \n",
    "              'sunset': 1625772741, \n",
    "              'moonrise': 1625713620, \n",
    "              'moonset': 1625769420, \n",
    "              'moon_phase': 0.95, \n",
    "              'temp': \n",
    "                  {'day': 300.34, \n",
    "                   'min': 291.08, \n",
    "                   'max': 300.34, \n",
    "                   'night': 292.43, \n",
    "                   'eve': 297.35, \n",
    "                   'morn': 293.11}, \n",
    "             'feels_like': {'day': 299.86, 'night': 292.32, 'eve': 297, 'morn': 293.17}, \n",
    "             'pressure': 1020, \n",
    "             'humidity': 34, \n",
    "             'dew_point': 283.13, \n",
    "             'wind_speed': 7.54,\n",
    "             'wind_deg': 105, \n",
    "             'wind_gust': 5.93, \n",
    "             'weather': [{'id': 801, 'main': 'Clouds', 'description': 'few clouds', 'icon': '02d'}], \n",
    "             'clouds': 19, \n",
    "             'pop': 0.16, 'uvi': 9.27},\n",
    "             \n",
    "             {'dt': 1625832000, \n",
    "              'sunrise': 1625805883, \n",
    "              'sunset': 1625859120, \n",
    "              'moonrise': 1625802840, \n",
    "              'moonset': 1625859000, \n",
    "              'moon_phase': 0.98, \n",
    "              'temp': \n",
    "                  {'day': 301.81, \n",
    "                   'min': 291.69, \n",
    "                   'max': 303.37, \n",
    "                   'night': 293.58, \n",
    "                   'eve': 299.3, \n",
    "                   'morn': 293.6}, \n",
    "              'feels_like': {'day': 301.77, 'night': 293.64, 'eve': 299.3, 'morn': 293.71}, \n",
    "              'pressure': 1020, \n",
    "              'humidity': 44, \n",
    "              'dew_point': 287.8, \n",
    "              'wind_speed': 5.74, \n",
    "              'wind_deg': 93, \n",
    "              'wind_gust': 4.26, \n",
    "              'weather': [{'id': 802, 'main': 'Clouds', 'description': 'scattered clouds', 'icon': '03d'}], \n",
    "              'clouds': 29, \n",
    "              'pop': 0, \n",
    "              'uvi': 9.95},\n",
    "             \n",
    "             {'dt': 1625918400, \n",
    "              'sunrise': 1625892323, \n",
    "              'sunset': 1625945497, \n",
    "              'moonrise': 1625892480, \n",
    "              'moonset': 1625948160, \n",
    "              'moon_phase': 0, \n",
    "              'temp': \n",
    "                  {'day': 308.76, \n",
    "                   'min': 290.97, \n",
    "                   'max': 310.29, \n",
    "                   'night': 296.15, \n",
    "                   'eve': 305.08, \n",
    "                   'morn': 293.5}, \n",
    "              'feels_like': {'day': 306.76, 'night': 296.33, 'eve': 304.39, 'morn': 293.39}, \n",
    "              'pressure': 1015, \n",
    "              'humidity': 19, \n",
    "              'dew_point': 281.38, \n",
    "              'wind_speed': 3.32, \n",
    "              'wind_deg': 137, \n",
    "              'wind_gust': 5.26, \n",
    "              'weather': [{'id': 800, 'main': 'Clear', 'description': 'clear sky', 'icon': '01d'}],\n",
    "              'clouds': 2, \n",
    "              'pop': 0.05, \n",
    "              'uvi': 10.12},\n",
    "             \n",
    "             {'dt': 1626004800, \n",
    "              'sunrise': 1625978763, \n",
    "              'sunset': 1626031873, \n",
    "              'moonrise': 1625982480, \n",
    "              'moonset': 1626037080, \n",
    "              'moon_phase': 0.04, \n",
    "              'temp': \n",
    "                  {'day': 308.36, \n",
    "                   'min': 292.5, \n",
    "                   'max': 309.95, \n",
    "                   'night': 298.61, \n",
    "                   'eve': 300.65, \n",
    "                   'morn': 294.04}, \n",
    "              'feels_like': {'day': 308.82, 'night': 298.78, 'eve': 301.54, 'morn': 294.48}, \n",
    "              'pressure': 1015, \n",
    "              'humidity': 33, \n",
    "              'dew_point': 288.95, \n",
    "              'wind_speed': 4.35, \n",
    "              'wind_deg': 112, \n",
    "              'wind_gust': 6.05, \n",
    "              'weather': [{'id': 802, 'main': 'Clouds', 'description': 'scattered clouds', 'icon': '03d'}], \n",
    "              'clouds': 44, \n",
    "              'pop': 0.01, \n",
    "              'uvi': 9.59}, \n",
    "             \n",
    "             {'dt': 1626091200, 'sunrise': 1626065204, 'sunset': 1626118247, 'moonrise': 1626072660, 'moonset': 1626125640, 'moon_phase': 0.08, 'temp': {'day': 314.18, 'min': 295.07, 'max': 314.18, 'night': 295.07, 'eve': 301.84, 'morn': 302.09}, 'feels_like': {'day': 310.95, 'night': 295.69, 'eve': 301.71, 'morn': 300.62}, 'pressure': 1012, 'humidity': 9, 'dew_point': 274.79, 'wind_speed': 10.62, 'wind_deg': 275, 'wind_gust': 13.36, 'weather': [{'id': 802, 'main': 'Clouds', 'description': 'scattered clouds', 'icon': '03d'}], 'clouds': 38, 'pop': 0, 'uvi': 9.61}, \n",
    "             {'dt': 1626177600, 'sunrise': 1626151647, 'sunset': 1626204619, 'moonrise': 1626163020, 'moonset': 0, 'moon_phase': 0.11, 'temp': {'day': 304.43, 'min': 293.37, 'max': 304.43, 'night': 293.37, 'eve': 296.72, 'morn': 294.24}, 'feels_like': {'day': 303.38, 'night': 293.72, 'eve': 296.93, 'morn': 294.57}, 'pressure': 1017, 'humidity': 32, 'dew_point': 285.31, 'wind_speed': 5.36, 'wind_deg': 73, 'wind_gust': 5.92, 'weather': [{'id': 500, 'main': 'Rain', 'description': 'light rain', 'icon': '10d'}], 'clouds': 38, 'pop': 0.32, 'rain': 0.46, 'uvi': 10}, \n",
    "             {'dt': 1626264000, 'sunrise': 1626238090, 'sunset': 1626290989, 'moonrise': 1626253440, 'moonset': 1626213840, 'moon_phase': 0.14, 'temp': {'day': 303.98, 'min': 292.13, 'max': 303.98, 'night': 293.32, 'eve': 297.99, 'morn': 293.59}, 'feels_like': {'day': 303, 'night': 293.51, 'eve': 298.07, 'morn': 293.65}, 'pressure': 1018, 'humidity': 33, 'dew_point': 285.44, 'wind_speed': 7.4, 'wind_deg': 91, 'wind_gust': 4.68, 'weather': [{'id': 801, 'main': 'Clouds', 'description': 'few clouds', 'icon': '02d'}], 'clouds': 22, 'pop': 0, 'uvi': 10}, \n",
    "             {'dt': 1626350400, 'sunrise': 1626324534, 'sunset': 1626377357, 'moonrise': 1626343860, 'moonset': 1626301980, 'moon_phase': 0.18, 'temp': {'day': 302.4, 'min': 291.29, 'max': 302.4, 'night': 293.47, 'eve': 299.38, 'morn': 292.67}, 'feels_like': {'day': 302.21, 'night': 293.59, 'eve': 299.38, 'morn': 292.87}, 'pressure': 1019, 'humidity': 42, 'dew_point': 287.62, 'wind_speed': 5.64, 'wind_deg': 91, 'wind_gust': 3.9, 'weather': [{'id': 800, 'main': 'Clear', 'description': 'clear sky', 'icon': '01d'}], 'clouds': 1, 'pop': 0, 'uvi': 10}]}"
   ]
  },
  {
   "cell_type": "code",
   "execution_count": 6,
   "id": "166352cf-8ea2-4ce0-843e-dcc3be903ace",
   "metadata": {},
   "outputs": [
    {
     "name": "stdout",
     "output_type": "stream",
     "text": [
      "12-07-2021 13:00:00\n",
      "12-07-2021 21:59:59\n"
     ]
    }
   ],
   "source": [
    "ltime=[1626087600,1626119999]\n",
    "for time in ltime:\n",
    "    timestamp = datetime.datetime.fromtimestamp(time)\n",
    "    print(timestamp.strftime('%d-%m-%Y %H:%M:%S'))\n",
    "    \n",
    "\n"
   ]
  },
  {
   "cell_type": "code",
   "execution_count": 1,
   "id": "59f22351-0860-4caa-926f-ffa185076fa0",
   "metadata": {},
   "outputs": [
    {
     "name": "stdout",
     "output_type": "stream",
     "text": [
      "<Response [200]>\n",
      "application/json; charset=utf-8\n",
      "{'lat': 39.3333, 'lon': -0.8333, 'timezone': 'Europe/Madrid', 'timezone_offset': 7200, 'current': {'dt': 1626124181, 'sunrise': 1626065204, 'sunset': 1626118247, 'temp': 23.94, 'feels_like': 23.3, 'pressure': 1014, 'humidity': 35, 'dew_point': 7.56, 'uvi': 0, 'clouds': 3, 'visibility': 10000, 'wind_speed': 0.65, 'wind_deg': 1, 'wind_gust': 1.94, 'weather': [{'id': 800, 'main': 'Clear', 'description': 'clear sky', 'icon': '01n'}]}, 'daily': [{'dt': 1626091200, 'sunrise': 1626065204, 'sunset': 1626118247, 'moonrise': 1626072660, 'moonset': 1626125640, 'moon_phase': 0.08, 'temp': {'day': 36, 'min': 21.3, 'max': 36, 'night': 23.94, 'eve': 28.72, 'morn': 27.61}, 'feels_like': {'day': 33.28, 'night': 23.3, 'eve': 27.37, 'morn': 26.86}, 'pressure': 1009, 'humidity': 11, 'dew_point': 0.58, 'wind_speed': 12.6, 'wind_deg': 273, 'wind_gust': 17.28, 'weather': [{'id': 803, 'main': 'Clouds', 'description': 'broken clouds', 'icon': '04d'}], 'clouds': 67, 'pop': 0, 'uvi': 9.93}, {'dt': 1626177600, 'sunrise': 1626151647, 'sunset': 1626204619, 'moonrise': 1626163020, 'moonset': 0, 'moon_phase': 0.11, 'temp': {'day': 28.51, 'min': 15.49, 'max': 29.93, 'night': 18.71, 'eve': 24.62, 'morn': 17.07}, 'feels_like': {'day': 27.02, 'night': 18.26, 'eve': 24.13, 'morn': 16.22}, 'pressure': 1016, 'humidity': 16, 'dew_point': -0.41, 'wind_speed': 5.67, 'wind_deg': 78, 'wind_gust': 6.22, 'weather': [{'id': 802, 'main': 'Clouds', 'description': 'scattered clouds', 'icon': '03d'}], 'clouds': 34, 'pop': 0, 'uvi': 9.69}, {'dt': 1626264000, 'sunrise': 1626238090, 'sunset': 1626290989, 'moonrise': 1626253440, 'moonset': 1626213840, 'moon_phase': 0.14, 'temp': {'day': 28.95, 'min': 16.21, 'max': 29.5, 'night': 18.48, 'eve': 23.16, 'morn': 18.59}, 'feels_like': {'day': 27.63, 'night': 18.39, 'eve': 22.94, 'morn': 17.81}, 'pressure': 1017, 'humidity': 26, 'dew_point': 6.98, 'wind_speed': 7.17, 'wind_deg': 93, 'wind_gust': 6.16, 'weather': [{'id': 800, 'main': 'Clear', 'description': 'clear sky', 'icon': '01d'}], 'clouds': 5, 'pop': 0, 'uvi': 9.45}, {'dt': 1626350400, 'sunrise': 1626324534, 'sunset': 1626377357, 'moonrise': 1626343860, 'moonset': 1626301980, 'moon_phase': 0.18, 'temp': {'day': 27.93, 'min': 16.34, 'max': 28.2, 'night': 19.6, 'eve': 24.93, 'morn': 18.35}, 'feels_like': {'day': 27.6, 'night': 19.57, 'eve': 24.84, 'morn': 18.17}, 'pressure': 1018, 'humidity': 40, 'dew_point': 12.48, 'wind_speed': 5.63, 'wind_deg': 85, 'wind_gust': 5.32, 'weather': [{'id': 800, 'main': 'Clear', 'description': 'clear sky', 'icon': '01d'}], 'clouds': 0, 'pop': 0.03, 'uvi': 9.21}, {'dt': 1626436800, 'sunrise': 1626410980, 'sunset': 1626463723, 'moonrise': 1626434340, 'moonset': 1626389940, 'moon_phase': 0.21, 'temp': {'day': 32.61, 'min': 17.69, 'max': 32.91, 'night': 20.54, 'eve': 27.1, 'morn': 19.69}, 'feels_like': {'day': 31.28, 'night': 20.76, 'eve': 27.71, 'morn': 19.33}, 'pressure': 1017, 'humidity': 28, 'dew_point': 11.09, 'wind_speed': 4.14, 'wind_deg': 66, 'wind_gust': 4.22, 'weather': [{'id': 800, 'main': 'Clear', 'description': 'clear sky', 'icon': '01d'}], 'clouds': 0, 'pop': 0, 'uvi': 9.36}, {'dt': 1626523200, 'sunrise': 1626497426, 'sunset': 1626550088, 'moonrise': 1626524820, 'moonset': 1626477960, 'moon_phase': 0.25, 'temp': {'day': 34.36, 'min': 20.03, 'max': 34.36, 'night': 20.8, 'eve': 26.62, 'morn': 22.48}, 'feels_like': {'day': 33.26, 'night': 20.97, 'eve': 26.62, 'morn': 22.22}, 'pressure': 1015, 'humidity': 27, 'dew_point': 12.22, 'wind_speed': 6.31, 'wind_deg': 81, 'wind_gust': 5.21, 'weather': [{'id': 800, 'main': 'Clear', 'description': 'clear sky', 'icon': '01d'}], 'clouds': 0, 'pop': 0, 'uvi': 9.54}, {'dt': 1626609600, 'sunrise': 1626583873, 'sunset': 1626636451, 'moonrise': 1626615540, 'moonset': 1626566040, 'moon_phase': 0.29, 'temp': {'day': 36.81, 'min': 19.03, 'max': 36.81, 'night': 20.87, 'eve': 27, 'morn': 21.47}, 'feels_like': {'day': 35.53, 'night': 21.13, 'eve': 27.54, 'morn': 21.42}, 'pressure': 1010, 'humidity': 22, 'dew_point': 11.59, 'wind_speed': 3.99, 'wind_deg': 71, 'wind_gust': 6.23, 'weather': [{'id': 800, 'main': 'Clear', 'description': 'clear sky', 'icon': '01d'}], 'clouds': 0, 'pop': 0, 'uvi': 10}, {'dt': 1626696000, 'sunrise': 1626670321, 'sunset': 1626722812, 'moonrise': 1626706380, 'moonset': 1626654360, 'moon_phase': 0.32, 'temp': {'day': 34.6, 'min': 19.36, 'max': 34.6, 'night': 21.25, 'eve': 26.9, 'morn': 21}, 'feels_like': {'day': 33.25, 'night': 21.41, 'eve': 27.56, 'morn': 21.06}, 'pressure': 1010, 'humidity': 25, 'dew_point': 11.54, 'wind_speed': 4.79, 'wind_deg': 87, 'wind_gust': 4.9, 'weather': [{'id': 800, 'main': 'Clear', 'description': 'clear sky', 'icon': '01d'}], 'clouds': 0, 'pop': 0, 'uvi': 10}]}\n"
     ]
    }
   ],
   "source": [
    "import requests\n",
    "\n",
    "api_key =\"9a16a8e5458b6fdb0d040e46ee221bca\"\n",
    "\n",
    "endpoint=(f\"https://api.openweathermap.org/data/2.5/onecall?lat=39.3333&lon=-0.8333&units=metric&exclude=hourly,minutely&appid={api_key}\")\n",
    "\n",
    "response= requests.get(endpoint)\n",
    "\n",
    "print(response)\n",
    "print(response.headers['Content-Type'])\n",
    "diccionario=response.json()\n",
    "print(diccionario)"
   ]
  },
  {
   "cell_type": "code",
   "execution_count": 6,
   "id": "ad17d833-12e1-45a4-b411-172bd742dafd",
   "metadata": {},
   "outputs": [
    {
     "name": "stdout",
     "output_type": "stream",
     "text": [
      "There are any alerts at the moment\n"
     ]
    }
   ],
   "source": [
    "\n",
    "try:\n",
    "    diccionario['alerts']\n",
    "except KeyError:\n",
    "    print('There are any alerts at the moment')"
   ]
  },
  {
   "cell_type": "code",
   "execution_count": null,
   "id": "2515ca35-ad19-404c-9528-862ff005186e",
   "metadata": {},
   "outputs": [],
   "source": []
  }
 ],
 "metadata": {
  "kernelspec": {
   "display_name": "Python 3 (ipykernel)",
   "language": "python",
   "name": "python3"
  },
  "language_info": {
   "codemirror_mode": {
    "name": "ipython",
    "version": 3
   },
   "file_extension": ".py",
   "mimetype": "text/x-python",
   "name": "python",
   "nbconvert_exporter": "python",
   "pygments_lexer": "ipython3",
   "version": "3.9.6"
  }
 },
 "nbformat": 4,
 "nbformat_minor": 5
}
