{
 "cells": [
  {
   "cell_type": "code",
   "execution_count": 6,
   "id": "295f57c9-9e1d-44f2-871a-b5788d95b56e",
   "metadata": {},
   "outputs": [],
   "source": [
    "import requests\n",
    "icon=requests.get(\"http://openweathermap.org/img/w/01d.png\")\n"
   ]
  },
  {
   "cell_type": "code",
   "execution_count": 7,
   "id": "11221eb9-a953-41c2-985f-f32b66e78148",
   "metadata": {},
   "outputs": [
    {
     "name": "stdout",
     "output_type": "stream",
     "text": [
      "<Response [200]>\n"
     ]
    }
   ],
   "source": [
    "print(icon)"
   ]
  },
  {
   "cell_type": "code",
   "execution_count": null,
   "id": "0516d6fc-680a-48c8-a322-ebee6e03872f",
   "metadata": {},
   "outputs": [],
   "source": []
  }
 ],
 "metadata": {
  "kernelspec": {
   "display_name": "Python 3 (ipykernel)",
   "language": "python",
   "name": "python3"
  },
  "language_info": {
   "codemirror_mode": {
    "name": "ipython",
    "version": 3
   },
   "file_extension": ".py",
   "mimetype": "text/x-python",
   "name": "python",
   "nbconvert_exporter": "python",
   "pygments_lexer": "ipython3",
   "version": "3.9.6"
  }
 },
 "nbformat": 4,
 "nbformat_minor": 5
}
