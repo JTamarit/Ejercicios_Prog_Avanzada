{
 "cells": [
  {
   "cell_type": "code",
   "execution_count": 6,
   "id": "295f57c9-9e1d-44f2-871a-b5788d95b56e",
   "metadata": {},
   "outputs": [],
   "source": [
    "import requests\n",
    "icon=requests.get(\"http://openweathermap.org/img/w/01d.png\")\n"
   ]
  },
  {
   "cell_type": "code",
   "execution_count": null,
   "id": "7dd8e373-0939-41ee-b165-9b3303dda455",
   "metadata": {},
   "outputs": [],
   "source": []
  },
  {
   "cell_type": "code",
   "execution_count": 7,
   "id": "11221eb9-a953-41c2-985f-f32b66e78148",
   "metadata": {},
   "outputs": [
    {
     "name": "stdout",
     "output_type": "stream",
     "text": [
      "<Response [200]>\n"
     ]
    }
   ],
   "source": [
    "print(icon)"
   ]
  },
  {
   "cell_type": "code",
   "execution_count": 2,
   "id": "0516d6fc-680a-48c8-a322-ebee6e03872f",
   "metadata": {},
   "outputs": [
    {
     "name": "stdout",
     "output_type": "stream",
     "text": [
      "2021-07-08 21:32:21\n",
      "21:32\n"
     ]
    }
   ],
   "source": [
    "import datetime\n",
    "timestamp = datetime.datetime.fromtimestamp(1625772741)\n",
    "print(timestamp.strftime('%Y-%m-%d %H:%M:%S'))\n",
    "print(timestamp.strftime('%H:%M'))\n"
   ]
  },
  {
   "cell_type": "code",
   "execution_count": 5,
   "id": "3ebd6534-3985-4b20-8321-75aa0be4677c",
   "metadata": {},
   "outputs": [
    {
     "name": "stdout",
     "output_type": "stream",
     "text": [
      "2021-07-08 12:53:00\n",
      "12:53\n"
     ]
    }
   ],
   "source": [
    "\n",
    "timestamp = datetime.datetime.fromtimestamp(1625741580)\n",
    "print(timestamp.strftime('%Y-%m-%d %H:%M:%S'))\n",
    "print(timestamp.strftime('%H:%M'))"
   ]
  },
  {
   "cell_type": "code",
   "execution_count": 6,
   "id": "19d37621-8c43-4f6b-94d3-94baa8094f71",
   "metadata": {},
   "outputs": [
    {
     "name": "stdout",
     "output_type": "stream",
     "text": [
      "2021-07-08 13:53:00\n",
      "13:53\n"
     ]
    }
   ],
   "source": [
    "time=1625745180\n",
    "timestamp = datetime.datetime.fromtimestamp(time)\n",
    "print(timestamp.strftime('%Y-%m-%d %H:%M:%S'))\n",
    "print(timestamp.strftime('%H:%M'))\n"
   ]
  },
  {
   "cell_type": "code",
   "execution_count": 7,
   "id": "d5c502cb-7958-4f5e-8dd9-375a0a28a235",
   "metadata": {},
   "outputs": [
    {
     "name": "stdout",
     "output_type": "stream",
     "text": [
      "2021-07-08 16:03:21\n",
      "2021-07-08 14:00:00\n",
      "2021-07-09 14:00:00\n",
      "2021-07-10 14:00:00\n",
      "2021-07-11 14:00:00\n",
      "2021-07-12 14:00:00\n",
      "2021-07-13 14:00:00\n",
      "2021-07-14 14:00:00\n",
      "2021-07-15 14:00:00\n"
     ]
    }
   ],
   "source": [
    "ltime=[1625753001,1625745600,1625832000,1625918400,1626004800,1626091200,1626177600,1626264000,1626350400]\n",
    "for time in ltime:\n",
    "    timestamp = datetime.datetime.fromtimestamp(time)\n",
    "    print(timestamp.strftime('%Y-%m-%d %H:%M:%S'))\n",
    "    \n"
   ]
  },
  {
   "cell_type": "code",
   "execution_count": null,
   "id": "7f69da49-542f-43b3-a19d-66cd3bab4b2f",
   "metadata": {},
   "outputs": [],
   "source": [
    "{\n",
    "    'lat': 39.3333, \n",
    "    'lon': -0.8333, \n",
    "    'timezone': 'Europe/Madrid', \n",
    "    'timezone_offset': 7200, \n",
    "    'current': \n",
    "        {'dt': 1625753001, \n",
    "         'sunrise': 1625719445, \n",
    "         'sunset': 1625772741, \n",
    "         'temp': 299.18, \n",
    "         'feels_like': 299.18, \n",
    "         'pressure': 1020, \n",
    "         'humidity': 33, \n",
    "         'dew_point': 281.68, \n",
    "         'uvi': 7.2, \n",
    "         'clouds': 27, \n",
    "         'visibility': 10000, \n",
    "         'wind_speed': 7.34, \n",
    "         'wind_deg': 105, \n",
    "         'wind_gust': 5.53, \n",
    "         'weather': [{'id': 802, 'main': 'Clouds', 'description': 'scattered clouds', 'icon': '03d'}]}, \n",
    "         'daily': [\n",
    "             {'dt': 1625745600, \n",
    "              'sunrise': 1625719445, \n",
    "              'sunset': 1625772741, \n",
    "              'moonrise': 1625713620, \n",
    "              'moonset': 1625769420, \n",
    "              'moon_phase': 0.95, \n",
    "              'temp': \n",
    "                  {'day': 300.34, \n",
    "                   'min': 291.08, \n",
    "                   'max': 300.34, \n",
    "                   'night': 292.43, \n",
    "                   'eve': 297.35, \n",
    "                   'morn': 293.11}, \n",
    "             'feels_like': {'day': 299.86, 'night': 292.32, 'eve': 297, 'morn': 293.17}, \n",
    "             'pressure': 1020, \n",
    "             'humidity': 34, \n",
    "             'dew_point': 283.13, \n",
    "             'wind_speed': 7.54,\n",
    "             'wind_deg': 105, \n",
    "             'wind_gust': 5.93, \n",
    "             'weather': [{'id': 801, 'main': 'Clouds', 'description': 'few clouds', 'icon': '02d'}], \n",
    "             'clouds': 19, \n",
    "             'pop': 0.16, 'uvi': 9.27},\n",
    "             \n",
    "             {'dt': 1625832000, \n",
    "              'sunrise': 1625805883, \n",
    "              'sunset': 1625859120, \n",
    "              'moonrise': 1625802840, \n",
    "              'moonset': 1625859000, \n",
    "              'moon_phase': 0.98, \n",
    "              'temp': \n",
    "                  {'day': 301.81, \n",
    "                   'min': 291.69, \n",
    "                   'max': 303.37, \n",
    "                   'night': 293.58, \n",
    "                   'eve': 299.3, \n",
    "                   'morn': 293.6}, \n",
    "              'feels_like': {'day': 301.77, 'night': 293.64, 'eve': 299.3, 'morn': 293.71}, \n",
    "              'pressure': 1020, \n",
    "              'humidity': 44, \n",
    "              'dew_point': 287.8, \n",
    "              'wind_speed': 5.74, \n",
    "              'wind_deg': 93, \n",
    "              'wind_gust': 4.26, \n",
    "              'weather': [{'id': 802, 'main': 'Clouds', 'description': 'scattered clouds', 'icon': '03d'}], \n",
    "              'clouds': 29, \n",
    "              'pop': 0, \n",
    "              'uvi': 9.95},\n",
    "             \n",
    "             {'dt': 1625918400, \n",
    "              'sunrise': 1625892323, \n",
    "              'sunset': 1625945497, \n",
    "              'moonrise': 1625892480, \n",
    "              'moonset': 1625948160, \n",
    "              'moon_phase': 0, \n",
    "              'temp': \n",
    "                  {'day': 308.76, \n",
    "                   'min': 290.97, \n",
    "                   'max': 310.29, \n",
    "                   'night': 296.15, \n",
    "                   'eve': 305.08, \n",
    "                   'morn': 293.5}, \n",
    "              'feels_like': {'day': 306.76, 'night': 296.33, 'eve': 304.39, 'morn': 293.39}, \n",
    "              'pressure': 1015, \n",
    "              'humidity': 19, \n",
    "              'dew_point': 281.38, \n",
    "              'wind_speed': 3.32, \n",
    "              'wind_deg': 137, \n",
    "              'wind_gust': 5.26, \n",
    "              'weather': [{'id': 800, 'main': 'Clear', 'description': 'clear sky', 'icon': '01d'}],\n",
    "              'clouds': 2, \n",
    "              'pop': 0.05, \n",
    "              'uvi': 10.12},\n",
    "             \n",
    "             {'dt': 1626004800, \n",
    "              'sunrise': 1625978763, \n",
    "              'sunset': 1626031873, \n",
    "              'moonrise': 1625982480, \n",
    "              'moonset': 1626037080, \n",
    "              'moon_phase': 0.04, \n",
    "              'temp': \n",
    "                  {'day': 308.36, \n",
    "                   'min': 292.5, \n",
    "                   'max': 309.95, \n",
    "                   'night': 298.61, \n",
    "                   'eve': 300.65, \n",
    "                   'morn': 294.04}, \n",
    "              'feels_like': {'day': 308.82, 'night': 298.78, 'eve': 301.54, 'morn': 294.48}, \n",
    "              'pressure': 1015, \n",
    "              'humidity': 33, \n",
    "              'dew_point': 288.95, \n",
    "              'wind_speed': 4.35, \n",
    "              'wind_deg': 112, \n",
    "              'wind_gust': 6.05, \n",
    "              'weather': [{'id': 802, 'main': 'Clouds', 'description': 'scattered clouds', 'icon': '03d'}], \n",
    "              'clouds': 44, \n",
    "              'pop': 0.01, \n",
    "              'uvi': 9.59}, \n",
    "             \n",
    "             {'dt': 1626091200, 'sunrise': 1626065204, 'sunset': 1626118247, 'moonrise': 1626072660, 'moonset': 1626125640, 'moon_phase': 0.08, 'temp': {'day': 314.18, 'min': 295.07, 'max': 314.18, 'night': 295.07, 'eve': 301.84, 'morn': 302.09}, 'feels_like': {'day': 310.95, 'night': 295.69, 'eve': 301.71, 'morn': 300.62}, 'pressure': 1012, 'humidity': 9, 'dew_point': 274.79, 'wind_speed': 10.62, 'wind_deg': 275, 'wind_gust': 13.36, 'weather': [{'id': 802, 'main': 'Clouds', 'description': 'scattered clouds', 'icon': '03d'}], 'clouds': 38, 'pop': 0, 'uvi': 9.61}, \n",
    "             {'dt': 1626177600, 'sunrise': 1626151647, 'sunset': 1626204619, 'moonrise': 1626163020, 'moonset': 0, 'moon_phase': 0.11, 'temp': {'day': 304.43, 'min': 293.37, 'max': 304.43, 'night': 293.37, 'eve': 296.72, 'morn': 294.24}, 'feels_like': {'day': 303.38, 'night': 293.72, 'eve': 296.93, 'morn': 294.57}, 'pressure': 1017, 'humidity': 32, 'dew_point': 285.31, 'wind_speed': 5.36, 'wind_deg': 73, 'wind_gust': 5.92, 'weather': [{'id': 500, 'main': 'Rain', 'description': 'light rain', 'icon': '10d'}], 'clouds': 38, 'pop': 0.32, 'rain': 0.46, 'uvi': 10}, \n",
    "             {'dt': 1626264000, 'sunrise': 1626238090, 'sunset': 1626290989, 'moonrise': 1626253440, 'moonset': 1626213840, 'moon_phase': 0.14, 'temp': {'day': 303.98, 'min': 292.13, 'max': 303.98, 'night': 293.32, 'eve': 297.99, 'morn': 293.59}, 'feels_like': {'day': 303, 'night': 293.51, 'eve': 298.07, 'morn': 293.65}, 'pressure': 1018, 'humidity': 33, 'dew_point': 285.44, 'wind_speed': 7.4, 'wind_deg': 91, 'wind_gust': 4.68, 'weather': [{'id': 801, 'main': 'Clouds', 'description': 'few clouds', 'icon': '02d'}], 'clouds': 22, 'pop': 0, 'uvi': 10}, \n",
    "             {'dt': 1626350400, 'sunrise': 1626324534, 'sunset': 1626377357, 'moonrise': 1626343860, 'moonset': 1626301980, 'moon_phase': 0.18, 'temp': {'day': 302.4, 'min': 291.29, 'max': 302.4, 'night': 293.47, 'eve': 299.38, 'morn': 292.67}, 'feels_like': {'day': 302.21, 'night': 293.59, 'eve': 299.38, 'morn': 292.87}, 'pressure': 1019, 'humidity': 42, 'dew_point': 287.62, 'wind_speed': 5.64, 'wind_deg': 91, 'wind_gust': 3.9, 'weather': [{'id': 800, 'main': 'Clear', 'description': 'clear sky', 'icon': '01d'}], 'clouds': 1, 'pop': 0, 'uvi': 10}]}"
   ]
  },
  {
   "cell_type": "code",
   "execution_count": 6,
   "id": "166352cf-8ea2-4ce0-843e-dcc3be903ace",
   "metadata": {},
   "outputs": [
    {
     "name": "stdout",
     "output_type": "stream",
     "text": [
      "12-07-2021 13:00:00\n",
      "12-07-2021 21:59:59\n"
     ]
    }
   ],
   "source": [
    "ltime=[1626087600,1626119999]\n",
    "for time in ltime:\n",
    "    timestamp = datetime.datetime.fromtimestamp(time)\n",
    "    print(timestamp.strftime('%d-%m-%Y %H:%M:%S'))\n",
    "    \n",
    "\n"
   ]
  },
  {
   "cell_type": "code",
   "execution_count": 7,
   "id": "59f22351-0860-4caa-926f-ffa185076fa0",
   "metadata": {},
   "outputs": [
    {
     "name": "stdout",
     "output_type": "stream",
     "text": [
      "<Response [200]>\n",
      "application/json; charset=utf-8\n",
      "{'lat': 39.3333, 'lon': -0.8333, 'timezone': 'Europe/Madrid', 'timezone_offset': 7200, 'current': {'dt': 1625940357, 'sunrise': 1625892323, 'sunset': 1625945497, 'temp': 28.02, 'feels_like': 27.26, 'pressure': 1014, 'humidity': 33, 'dew_point': 10.26, 'uvi': 0.47, 'clouds': 0, 'visibility': 10000, 'wind_speed': 2.37, 'wind_deg': 96, 'wind_gust': 2.93, 'weather': [{'id': 800, 'main': 'Clear', 'description': 'clear sky', 'icon': '01d'}]}, 'daily': [{'dt': 1625918400, 'sunrise': 1625892323, 'sunset': 1625945497, 'moonrise': 1625892480, 'moonset': 1625948160, 'moon_phase': 0, 'temp': {'day': 34.87, 'min': 18.09, 'max': 36.17, 'night': 24.56, 'eve': 28.02, 'morn': 20.44}, 'feels_like': {'day': 33.02, 'night': 24.56, 'eve': 27.26, 'morn': 20.21}, 'pressure': 1016, 'humidity': 21, 'dew_point': 8.65, 'wind_speed': 3.34, 'wind_deg': 131, 'wind_gust': 5.64, 'weather': [{'id': 800, 'main': 'Clear', 'description': 'clear sky', 'icon': '01d'}], 'clouds': 0, 'pop': 0, 'uvi': 10.13}, {'dt': 1626004800, 'sunrise': 1625978763, 'sunset': 1626031873, 'moonrise': 1625982480, 'moonset': 1626037080, 'moon_phase': 0.04, 'temp': {'day': 33.14, 'min': 19.2, 'max': 35.06, 'night': 22.2, 'eve': 29.64, 'morn': 21.02}, 'feels_like': {'day': 33.38, 'night': 22.41, 'eve': 30.25, 'morn': 21.27}, 'pressure': 1015, 'humidity': 37, 'dew_point': 16.02, 'wind_speed': 5.36, 'wind_deg': 107, 'wind_gust': 5.62, 'weather': [{'id': 802, 'main': 'Clouds', 'description': 'scattered clouds', 'icon': '03d'}], 'clouds': 43, 'pop': 0, 'uvi': 10.03}, {'dt': 1626091200, 'sunrise': 1626065204, 'sunset': 1626118247, 'moonrise': 1626072660, 'moonset': 1626125640, 'moon_phase': 0.08, 'temp': {'day': 38.69, 'min': 21.88, 'max': 38.83, 'night': 22.22, 'eve': 34.82, 'morn': 27.56}, 'feels_like': {'day': 36.31, 'night': 22.43, 'eve': 32.2, 'morn': 26.87}, 'pressure': 1009, 'humidity': 14, 'dew_point': 5.99, 'wind_speed': 12.05, 'wind_deg': 275, 'wind_gust': 16.68, 'weather': [{'id': 801, 'main': 'Clouds', 'description': 'few clouds', 'icon': '02d'}], 'clouds': 16, 'pop': 0, 'uvi': 10.21}, {'dt': 1626177600, 'sunrise': 1626151647, 'sunset': 1626204619, 'moonrise': 1626163020, 'moonset': 0, 'moon_phase': 0.11, 'temp': {'day': 29.79, 'min': 17.06, 'max': 30.24, 'night': 19.4, 'eve': 24.35, 'morn': 18.69}, 'feels_like': {'day': 28, 'night': 19.09, 'eve': 24.04, 'morn': 18.13}, 'pressure': 1015, 'humidity': 17, 'dew_point': 1.88, 'wind_speed': 4.73, 'wind_deg': 78, 'wind_gust': 5.7, 'weather': [{'id': 802, 'main': 'Clouds', 'description': 'scattered clouds', 'icon': '03d'}], 'clouds': 28, 'pop': 0, 'uvi': 9.51}, {'dt': 1626264000, 'sunrise': 1626238090, 'sunset': 1626290989, 'moonrise': 1626253440, 'moonset': 1626213840, 'moon_phase': 0.14, 'temp': {'day': 29.04, 'min': 17.48, 'max': 29.29, 'night': 19.89, 'eve': 24.56, 'morn': 18.12}, 'feels_like': {'day': 27.49, 'night': 19.61, 'eve': 24.22, 'morn': 17.37}, 'pressure': 1015, 'humidity': 20, 'dew_point': 3.2, 'wind_speed': 6.27, 'wind_deg': 84, 'wind_gust': 5.35, 'weather': [{'id': 800, 'main': 'Clear', 'description': 'clear sky', 'icon': '01d'}], 'clouds': 0, 'pop': 0.04, 'uvi': 9.17}, {'dt': 1626350400, 'sunrise': 1626324534, 'sunset': 1626377357, 'moonrise': 1626343860, 'moonset': 1626301980, 'moon_phase': 0.18, 'temp': {'day': 28.41, 'min': 16.53, 'max': 28.54, 'night': 19.1, 'eve': 25.12, 'morn': 17.96}, 'feels_like': {'day': 27.4, 'night': 18.89, 'eve': 24.86, 'morn': 17.48}, 'pressure': 1017, 'humidity': 30, 'dew_point': 8.8, 'wind_speed': 5.9, 'wind_deg': 94, 'wind_gust': 4.18, 'weather': [{'id': 801, 'main': 'Clouds', 'description': 'few clouds', 'icon': '02d'}], 'clouds': 16, 'pop': 0.04, 'uvi': 10}, {'dt': 1626436800, 'sunrise': 1626410980, 'sunset': 1626463723, 'moonrise': 1626434340, 'moonset': 1626389940, 'moon_phase': 0.21, 'temp': {'day': 30.6, 'min': 17.53, 'max': 30.6, 'night': 20.24, 'eve': 26.36, 'morn': 19.73}, 'feels_like': {'day': 29.41, 'night': 20.38, 'eve': 26.36, 'morn': 19.3}, 'pressure': 1017, 'humidity': 31, 'dew_point': 11.34, 'wind_speed': 6.31, 'wind_deg': 97, 'wind_gust': 4.87, 'weather': [{'id': 800, 'main': 'Clear', 'description': 'clear sky', 'icon': '01d'}], 'clouds': 0, 'pop': 0, 'uvi': 10}, {'dt': 1626523200, 'sunrise': 1626497426, 'sunset': 1626550088, 'moonrise': 1626524820, 'moonset': 1626477960, 'moon_phase': 0.25, 'temp': {'day': 35.12, 'min': 18.85, 'max': 35.12, 'night': 21.2, 'eve': 30.11, 'morn': 21.29}, 'feels_like': {'day': 33.9, 'night': 21.46, 'eve': 30.06, 'morn': 21.09}, 'pressure': 1013, 'humidity': 25, 'dew_point': 11.59, 'wind_speed': 3.8, 'wind_deg': 96, 'wind_gust': 5.37, 'weather': [{'id': 800, 'main': 'Clear', 'description': 'clear sky', 'icon': '01d'}], 'clouds': 0, 'pop': 0, 'uvi': 10}], 'alerts': [{'sender_name': 'AEMET. Agencia Estatal de Meteorología', 'event': 'Severe high-temperature warning', 'start': 1626087600, 'end': 1626119999, 'description': 'Maximum temperature: 41 ºC. Las temperaturas serán más elevadas en poblaciones alejadas de la costa', 'tags': ['Extreme temperature value']}, {'sender_name': 'AEMET. Agencia Estatal de Meteorología', 'event': 'Extreme high-temperature warning', 'start': 1626087600, 'end': 1626119999, 'description': 'Maximum temperature: 42 ºC. Las temperaturas serán más elevadas en poblaciones alejadas de la costa', 'tags': []}]}\n"
     ]
    }
   ],
   "source": [
    "import requests\n",
    "\n",
    "api_key =\"9a16a8e5458b6fdb0d040e46ee221bca\"\n",
    "\n",
    "endpoint=(f\"https://api.openweathermap.org/data/2.5/onecall?lat=39.3333&lon=-0.8333&units=metric&exclude=hourly,minutely&appid={api_key}\")\n",
    "\n",
    "response= requests.get(endpoint)\n",
    "\n",
    "print(response)\n",
    "print(response.headers['Content-Type'])\n",
    "diccionario=response.json()\n",
    "print(diccionario)"
   ]
  },
  {
   "cell_type": "code",
   "execution_count": 8,
   "id": "ad17d833-12e1-45a4-b411-172bd742dafd",
   "metadata": {},
   "outputs": [
    {
     "name": "stdout",
     "output_type": "stream",
     "text": [
      "[{'sender_name': 'AEMET. Agencia Estatal de Meteorología', 'event': 'Severe high-temperature warning', 'start': 1626087600, 'end': 1626119999, 'description': 'Maximum temperature: 41 ºC. Las temperaturas serán más elevadas en poblaciones alejadas de la costa', 'tags': ['Extreme temperature value']}, {'sender_name': 'AEMET. Agencia Estatal de Meteorología', 'event': 'Extreme high-temperature warning', 'start': 1626087600, 'end': 1626119999, 'description': 'Maximum temperature: 42 ºC. Las temperaturas serán más elevadas en poblaciones alejadas de la costa', 'tags': []}]\n"
     ]
    }
   ],
   "source": [
    "print(diccionario['alerts'])"
   ]
  },
  {
   "cell_type": "code",
   "execution_count": null,
   "id": "2515ca35-ad19-404c-9528-862ff005186e",
   "metadata": {},
   "outputs": [],
   "source": []
  }
 ],
 "metadata": {
  "kernelspec": {
   "display_name": "Python 3 (ipykernel)",
   "language": "python",
   "name": "python3"
  },
  "language_info": {
   "codemirror_mode": {
    "name": "ipython",
    "version": 3
   },
   "file_extension": ".py",
   "mimetype": "text/x-python",
   "name": "python",
   "nbconvert_exporter": "python",
   "pygments_lexer": "ipython3",
   "version": "3.9.6"
  }
 },
 "nbformat": 4,
 "nbformat_minor": 5
}
